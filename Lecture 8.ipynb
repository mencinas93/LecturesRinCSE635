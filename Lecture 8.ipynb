{
 "cells": [
  {
   "cell_type": "markdown",
   "id": "copyrighted-substance",
   "metadata": {},
   "source": [
    "# Cluster Analysis"
   ]
  },
  {
   "cell_type": "markdown",
   "id": "experimental-portal",
   "metadata": {},
   "source": [
    "A cluster is defined as a group of observations that are more similar to each other than they are to the observations in other groups.\n",
    "> Cluster analysis is widely used in the biological and behavioral sciences, marketing, and medical research."
   ]
  },
  {
   "cell_type": "markdown",
   "id": "cosmetic-career",
   "metadata": {},
   "source": [
    "Examples:\n",
    "* Psychological researcher might cluster data on the symptoms and demographics of depressed patients\n",
    "* Marketing researchers use cluster analysis as a customer-segmentation strategy\n",
    "* Medical researchers use cluster analysis to help catalog gene-expression patterns obtained from DNA microarray data"
   ]
  },
  {
   "cell_type": "markdown",
   "id": "continuing-indication",
   "metadata": {},
   "source": [
    "## Most popular clustering approaches\n",
    "Hierarchical agglomerative clustering\n",
    "> Each observation starts as its own cluster. Clusters are then combined, two at a time, until all clusters are merged into a single cluster.\n",
    "\n",
    "Some Examples:\n",
    "* Single linkage\n",
    "* Complete linkage\n",
    "* Average linkage\n",
    "* Centroid\n",
    "* Ward’s method"
   ]
  },
  {
   "cell_type": "markdown",
   "id": "eastern-peninsula",
   "metadata": {},
   "source": [
    "Partitioning clustering\n",
    "> You specify K: the number of clusters sought. Observations are then randomly divided into K groups and reshuffled to form cohesive clusters\n",
    "\n",
    "Some Examples:\n",
    "* k-means\n",
    "* Partitioning around medoids"
   ]
  },
  {
   "cell_type": "markdown",
   "id": "forced-approval",
   "metadata": {},
   "source": [
    "# Examples Setup"
   ]
  },
  {
   "cell_type": "markdown",
   "id": "second-harvard",
   "metadata": {},
   "source": [
    "Hierarchical clustering is applied to the nutrient dataset contained in the ```flexclust``` package to answer the following questions:\n",
    "* What are the similarities and differences among 27 types of fish, fowl, and meat, based on 5 nutrient measures?\n",
    "* Is there a smaller number of groups into which these foods can be meaningfully clustered?"
   ]
  },
  {
   "cell_type": "markdown",
   "id": "loving-assignment",
   "metadata": {},
   "source": [
    "Partitioning methods will be used to evaluate 13 chemical analyses of 178 Italian wine samples. The data are contained in the wine dataset available with the ```rattle``` package. Here, the questions are as follows:\n",
    "* Are there subtypes of wine in the data?\n",
    "* If so, how many subtypes are there, and what are their characteristics?"
   ]
  },
  {
   "cell_type": "markdown",
   "id": "grave-crime",
   "metadata": {},
   "source": [
    "# Common steps in cluster analysis"
   ]
  },
  {
   "cell_type": "markdown",
   "id": "annoying-twenty",
   "metadata": {},
   "source": [
    "1. **Choose appropriate attributes.** The first (and perhaps most important) step is to select variables that you feel may be important for identifying and understanding differences among groups of observations within the data.\n",
    "\n",
    "For example, in a study of depression, you might want to assess one or more of the following:\n",
    "* Psychological symptoms\n",
    "* Physical symptoms\n",
    "* Age at onset\n",
    "* Number, duration and timing of episodes\n",
    "* Number of hospitalization\n",
    "* ...\n",
    "\n",
    "A sophisticated cluster analysis can’t compensate for a poor choice of variables."
   ]
  },
  {
   "cell_type": "markdown",
   "id": "polar-imperial",
   "metadata": {},
   "source": [
    "2. **Scale the data.** If the variables in the analysis vary in range, the variables with the largest range will have the greatest impact on the results. This is often undesirable, and analysts scale the data before continuing."
   ]
  },
  {
   "cell_type": "markdown",
   "id": "reduced-jefferson",
   "metadata": {},
   "source": [
    "3. **Screen for outliers.** Many clustering techniques are sensitive to outliers, distorting the cluster solutions obtained. You can screen for (and remove) univariate outliers using functions from the ```outliers``` package. The ```mvoutlier``` package contains functions that can be used to identify multivariate outliers."
   ]
  },
  {
   "cell_type": "markdown",
   "id": "bronze-overhead",
   "metadata": {},
   "source": [
    "4. **Calculate distances.** Although clustering algorithms vary widely, they typically require a measure of the distance among the entities to be clustered. The most popular measure of the distance between two observations is the Euclidean distance, but the Manhattan, Canberra, asymmetric binary, maximum, and Minkowski distance measures are also available"
   ]
  },
  {
   "cell_type": "markdown",
   "id": "assured-apartment",
   "metadata": {},
   "source": [
    "5. **Select a clustering algorithm.** Next, you select a method of clustering the data. Hierarchical clustering is useful for smaller problems (say, 150 observations or less) and where a nested hierarchy of groupings is desired. The partitioning method can handle much larger problems but requires that the number of clusters be specified in advance.\n",
    "> 6- **Obtain one or more cluster solutions.**"
   ]
  },
  {
   "cell_type": "markdown",
   "id": "concrete-candy",
   "metadata": {},
   "source": [
    "7. **Determine the number of clusters present.** In order to obtain a final cluster solution, you must decide how many clusters are present in the data. This is a thorny problem, and many approaches have been proposed. It usually involves extracting various numbers of clusters (say, 2 to K) and comparing the quality of the solutions. The ```NbClust()``` function provides 30 different indices to help you make this decision\n"
   ]
  },
  {
   "cell_type": "markdown",
   "id": "ready-bidding",
   "metadata": {},
   "source": [
    "8. **Obtain a final clustering solution.** Once the number of clusters has been determined, a final clustering is performed to extract that number of subgroups."
   ]
  },
  {
   "cell_type": "markdown",
   "id": "domestic-parliament",
   "metadata": {},
   "source": [
    "9. **Visualize the results.** Visualization can help you determine the meaning and usefulness of the cluster solution. The results of a hierarchical clustering are usually presented as a dendrogram. Partitioning results are typically visualized using a bivariate cluster plot."
   ]
  },
  {
   "cell_type": "markdown",
   "id": "entitled-jacksonville",
   "metadata": {},
   "source": [
    "10. **Interpret the clusters.** Once a cluster solution has been obtained, you must interpret (and possibly name) the clusters. What do the observations in a cluster have in common? How do they differ from the observations in other clusters?"
   ]
  },
  {
   "cell_type": "markdown",
   "id": "decreased-rebel",
   "metadata": {},
   "source": [
    "11. **Validate the results.** Validating the cluster solution involves asking the question, “Are these groupings in some sense real, and not a manifestation of unique aspects of this dataset or statistical technique?” If a different cluster method or different sample is employed, would the same clusters be obtained?"
   ]
  },
  {
   "cell_type": "markdown",
   "id": "tropical-hardwood",
   "metadata": {},
   "source": [
    "# Calculating distances - Probably the most important"
   ]
  },
  {
   "cell_type": "markdown",
   "id": "floppy-amateur",
   "metadata": {},
   "source": [
    "Every cluster analysis begins with the calculation of a distance, dissimilarity, or proximity between each entity to be clustered. The Euclidean distance between two observations is given by:\n",
    "\n",
    "#### $ d_{ij}=\\sqrt{\\sum_{p=1}^{p}\\left(x_{ip}-x_{jp}\\right)^{2}}$\n",
    "\n",
    "where $i$ and $j$ are observations and $P$ is the number of variables."
   ]
  },
  {
   "cell_type": "code",
   "execution_count": 3,
   "id": "competitive-justice",
   "metadata": {},
   "outputs": [
    {
     "name": "stdout",
     "output_type": "stream",
     "text": [
      "package 'flexclust' successfully unpacked and MD5 sums checked\n",
      "\n",
      "The downloaded binary packages are in\n",
      "\tC:\\Users\\Nemo\\AppData\\Local\\Temp\\RtmpAX4wJ2\\downloaded_packages\n"
     ]
    }
   ],
   "source": [
    "install.packages('flexclust')"
   ]
  },
  {
   "cell_type": "code",
   "execution_count": 4,
   "id": "advisory-government",
   "metadata": {},
   "outputs": [],
   "source": [
    "data(nutrient, package=\"flexclust\")"
   ]
  },
  {
   "cell_type": "code",
   "execution_count": 5,
   "id": "handmade-terminology",
   "metadata": {},
   "outputs": [
    {
     "data": {
      "text/html": [
       "<table>\n",
       "<thead><tr><th></th><th scope=col>energy</th><th scope=col>protein</th><th scope=col>fat</th><th scope=col>calcium</th><th scope=col>iron</th></tr></thead>\n",
       "<tbody>\n",
       "\t<tr><th scope=row>BEEF BRAISED</th><td>340</td><td>20 </td><td>28 </td><td>9  </td><td>2.6</td></tr>\n",
       "\t<tr><th scope=row>HAMBURGER</th><td>245</td><td>21 </td><td>17 </td><td>9  </td><td>2.7</td></tr>\n",
       "\t<tr><th scope=row>BEEF ROAST</th><td>420</td><td>15 </td><td>39 </td><td>7  </td><td>2.0</td></tr>\n",
       "\t<tr><th scope=row>BEEF STEAK</th><td>375</td><td>19 </td><td>32 </td><td>9  </td><td>2.6</td></tr>\n",
       "</tbody>\n",
       "</table>\n"
      ],
      "text/latex": [
       "\\begin{tabular}{r|lllll}\n",
       "  & energy & protein & fat & calcium & iron\\\\\n",
       "\\hline\n",
       "\tBEEF BRAISED & 340 & 20  & 28  & 9   & 2.6\\\\\n",
       "\tHAMBURGER & 245 & 21  & 17  & 9   & 2.7\\\\\n",
       "\tBEEF ROAST & 420 & 15  & 39  & 7   & 2.0\\\\\n",
       "\tBEEF STEAK & 375 & 19  & 32  & 9   & 2.6\\\\\n",
       "\\end{tabular}\n"
      ],
      "text/markdown": [
       "\n",
       "| <!--/--> | energy | protein | fat | calcium | iron |\n",
       "|---|---|---|---|---|---|\n",
       "| BEEF BRAISED | 340 | 20  | 28  | 9   | 2.6 |\n",
       "| HAMBURGER | 245 | 21  | 17  | 9   | 2.7 |\n",
       "| BEEF ROAST | 420 | 15  | 39  | 7   | 2.0 |\n",
       "| BEEF STEAK | 375 | 19  | 32  | 9   | 2.6 |\n",
       "\n"
      ],
      "text/plain": [
       "             energy protein fat calcium iron\n",
       "BEEF BRAISED 340    20      28  9       2.6 \n",
       "HAMBURGER    245    21      17  9       2.7 \n",
       "BEEF ROAST   420    15      39  7       2.0 \n",
       "BEEF STEAK   375    19      32  9       2.6 "
      ]
     },
     "metadata": {},
     "output_type": "display_data"
    }
   ],
   "source": [
    "head(nutrient, 4)"
   ]
  },
  {
   "cell_type": "markdown",
   "id": "vital-nudist",
   "metadata": {},
   "source": [
    "The ```dist()``` function in the base R installation can be used to calculate the distances between all rows (observations) of a matrix or data frame. The format is ```dist(x,method=)```, where x is the input data and ```method=\"euclidean\"``` by default"
   ]
  },
  {
   "cell_type": "code",
   "execution_count": 6,
   "id": "seven-romance",
   "metadata": {},
   "outputs": [
    {
     "data": {
      "text/html": [
       "<table>\n",
       "<thead><tr><th></th><th scope=col>BEEF BRAISED</th><th scope=col>HAMBURGER</th><th scope=col>BEEF ROAST</th><th scope=col>BEEF STEAK</th></tr></thead>\n",
       "<tbody>\n",
       "\t<tr><th scope=row>BEEF BRAISED</th><td> 0.00000 </td><td> 95.6400 </td><td> 80.93429</td><td> 35.24202</td></tr>\n",
       "\t<tr><th scope=row>HAMBURGER</th><td>95.64000 </td><td>  0.0000 </td><td>176.49218</td><td>130.87784</td></tr>\n",
       "\t<tr><th scope=row>BEEF ROAST</th><td>80.93429 </td><td>176.4922 </td><td>  0.00000</td><td> 45.76418</td></tr>\n",
       "\t<tr><th scope=row>BEEF STEAK</th><td>35.24202 </td><td>130.8778 </td><td> 45.76418</td><td>  0.00000</td></tr>\n",
       "</tbody>\n",
       "</table>\n"
      ],
      "text/latex": [
       "\\begin{tabular}{r|llll}\n",
       "  & BEEF BRAISED & HAMBURGER & BEEF ROAST & BEEF STEAK\\\\\n",
       "\\hline\n",
       "\tBEEF BRAISED &  0.00000  &  95.6400  &  80.93429 &  35.24202\\\\\n",
       "\tHAMBURGER & 95.64000  &   0.0000  & 176.49218 & 130.87784\\\\\n",
       "\tBEEF ROAST & 80.93429  & 176.4922  &   0.00000 &  45.76418\\\\\n",
       "\tBEEF STEAK & 35.24202  & 130.8778  &  45.76418 &   0.00000\\\\\n",
       "\\end{tabular}\n"
      ],
      "text/markdown": [
       "\n",
       "| <!--/--> | BEEF BRAISED | HAMBURGER | BEEF ROAST | BEEF STEAK |\n",
       "|---|---|---|---|---|\n",
       "| BEEF BRAISED |  0.00000  |  95.6400  |  80.93429 |  35.24202 |\n",
       "| HAMBURGER | 95.64000  |   0.0000  | 176.49218 | 130.87784 |\n",
       "| BEEF ROAST | 80.93429  | 176.4922  |   0.00000 |  45.76418 |\n",
       "| BEEF STEAK | 35.24202  | 130.8778  |  45.76418 |   0.00000 |\n",
       "\n"
      ],
      "text/plain": [
       "             BEEF BRAISED HAMBURGER BEEF ROAST BEEF STEAK\n",
       "BEEF BRAISED  0.00000      95.6400   80.93429   35.24202 \n",
       "HAMBURGER    95.64000       0.0000  176.49218  130.87784 \n",
       "BEEF ROAST   80.93429     176.4922    0.00000   45.76418 \n",
       "BEEF STEAK   35.24202     130.8778   45.76418    0.00000 "
      ]
     },
     "metadata": {},
     "output_type": "display_data"
    }
   ],
   "source": [
    "d <- dist(nutrient)\n",
    "as.matrix(d)[1:4,1:4]"
   ]
  },
  {
   "cell_type": "markdown",
   "id": "small-paste",
   "metadata": {},
   "source": [
    "> Euclidean distances are usually the distance measure of choice for continuous data. But if other variable types are present, alternative dissimilarity measures are required. You can use the daisy() function in the cluster package to obtain a dissimilarity matrix among observations that have any combination of binary, nominal, ordinal, and continuous attributes."
   ]
  },
  {
   "cell_type": "markdown",
   "id": "thousand-trouble",
   "metadata": {},
   "source": [
    "# Hierarchical cluster analysis\n",
    "Remember: In agglomerative hierarchical clustering, each case or observation starts as its own cluster. Clusters are then combined two at a time until all clusters are\n",
    "merged into a single cluster."
   ]
  },
  {
   "cell_type": "markdown",
   "id": "nonprofit-brick",
   "metadata": {},
   "source": [
    "![](fig1.png)"
   ]
  },
  {
   "cell_type": "markdown",
   "id": "informative-cable",
   "metadata": {},
   "source": [
    "* **Single-linkage clustering** tends to find elongated, cigar-shaped clusters. It also commonly displays a phenomenon called chaining—dissimilar observations are joined into the same cluster because they’re similar to intermediate observations between them.\n",
    "* **Complete-linkage clustering** tends to find compact clusters of approximately equal diameter. It can also be sensitive to outliers.\n",
    "* **Average-linkage clustering** offers a compromise between the two. It’s less likely to chain and is less susceptible to outliers. It also has a tendency to join clusters with small variances.\n",
    "* **Ward’s method** tends to join clusters with small numbers of observations and tends to produce clusters with roughly equal numbers of observations. It can also be sensitive to outliers.\n",
    "* **The centroid method** offers an attractive alternative due to its simple and easily understood definition of cluster distances. It’s also less sensitive to outliers than other hierarchical methods. But it may not perform as well as the averagelinkage or Ward method."
   ]
  },
  {
   "cell_type": "markdown",
   "id": "dietary-kingdom",
   "metadata": {},
   "source": [
    "1. Define each observation (row, case) as a cluster.\n",
    "2. Calculate the distances between every cluster and every other cluster.\n",
    "3. Combine the two clusters that have the smallest distance. This reduces the number of clusters by one.\n",
    "4. Repeat steps 2 and 3 until all clusters have been merged into a single cluster containing all observations."
   ]
  },
  {
   "cell_type": "markdown",
   "id": "reliable-elements",
   "metadata": {},
   "source": [
    "Hierarchical clustering can be accomplished with the```hclust()``` function. The format is ```hclust(d, method=)```, where d is a distance matrix produced by the ```dist()``` function and methods include ```\"single\"```, ```\"complete\"```, ```\"average\"```, ```\"centroid\"```, and ```\"ward\"```."
   ]
  },
  {
   "cell_type": "markdown",
   "id": "waiting-history",
   "metadata": {},
   "source": [
    "1. First the data are imported, and the row names are set to lowercase \n",
    "2. Variables are standardizedto a mean of 0 and a standard deviation of 1.\n",
    "3. Euclidean distances between each of the 27 food types are calculated, and an average-linkage clustering is performed.\n",
    "4. Finally, the results are plotted as a dendrogram"
   ]
  },
  {
   "cell_type": "code",
   "execution_count": 7,
   "id": "single-bronze",
   "metadata": {},
   "outputs": [
    {
     "data": {
      "image/png": "[encoded data removed]",
      "text/plain": [
       "Plot with title \"Average Linkage Clustering\""
      ]
     },
     "metadata": {},
     "output_type": "display_data"
    }
   ],
   "source": [
    "data(nutrient, package=\"flexclust\")\n",
    "row.names(nutrient) <- tolower(row.names(nutrient))\n",
    "nutrient.scaled <- scale(nutrient)\n",
    "d <- dist(nutrient.scaled)\n",
    "fit.average <- hclust(d, method=\"average\")\n",
    "plot(fit.average, hang=-1, cex=.8, main=\"Average Linkage Clustering\")"
   ]
  },
  {
   "cell_type": "markdown",
   "id": "ongoing-preservation",
   "metadata": {},
   "source": [
    "* The dendrogram displays how items are combined into clusters and is read from the bottom up. Each observation starts as its own cluster. Then the two observations that are closest (beef braised and smoked ham) are combined. Next, pork roast and pork simmered are combined, followed by chicken canned and tuna canned.\n",
    "* The height dimension indicates the criterion value at which clusters are joined. For average-linkage clustering, this criterion is the average distance between each point in one cluster and each point in the other cluster."
   ]
  },
  {
   "cell_type": "markdown",
   "id": "subtle-customer",
   "metadata": {},
   "source": [
    "The ```NbClust``` package offers numerous indices for determining the best number of clusters in a cluster analysis."
   ]
  },
  {
   "cell_type": "code",
   "execution_count": 9,
   "id": "rental-environment",
   "metadata": {},
   "outputs": [
    {
     "name": "stdout",
     "output_type": "stream",
     "text": [
      "package 'NbClust' successfully unpacked and MD5 sums checked\n",
      "\n",
      "The downloaded binary packages are in\n",
      "\tC:\\Users\\Nemo\\AppData\\Local\\Temp\\RtmpAX4wJ2\\downloaded_packages\n"
     ]
    }
   ],
   "source": [
    "install.packages('NbClust')"
   ]
  },
  {
   "cell_type": "code",
   "execution_count": 10,
   "id": "widespread-interval",
   "metadata": {},
   "outputs": [
    {
     "name": "stderr",
     "output_type": "stream",
     "text": [
      "Warning message in pf(beale, pp, df2):\n",
      "\"NaNs produced\"Warning message in pf(beale, pp, df2):\n",
      "\"NaNs produced\""
     ]
    },
    {
     "name": "stdout",
     "output_type": "stream",
     "text": [
      "*** : The Hubert index is a graphical method of determining the number of clusters.\n",
      "                In the plot of Hubert index, we seek a significant knee that corresponds to a \n",
      "                significant increase of the value of the measure i.e the significant peak in Hubert\n",
      "                index second differences plot. \n",
      " \n"
     ]
    },
    {
     "data": {
      "image/png": "[encoded data removed]",
      "text/plain": [
       "plot without title"
      ]
     },
     "metadata": {},
     "output_type": "display_data"
    },
    {
     "name": "stdout",
     "output_type": "stream",
     "text": [
      "*** : The D index is a graphical method of determining the number of clusters. \n",
      "                In the plot of D index, we seek a significant knee (the significant peak in Dindex\n",
      "                second differences plot) that corresponds to a significant increase of the value of\n",
      "                the measure. \n",
      " \n",
      "******************************************************************* \n",
      "* Among all indices:                                                \n",
      "* 4 proposed 2 as the best number of clusters \n",
      "* 4 proposed 3 as the best number of clusters \n",
      "* 2 proposed 4 as the best number of clusters \n",
      "* 4 proposed 5 as the best number of clusters \n",
      "* 1 proposed 9 as the best number of clusters \n",
      "* 1 proposed 10 as the best number of clusters \n",
      "* 2 proposed 13 as the best number of clusters \n",
      "* 1 proposed 14 as the best number of clusters \n",
      "* 4 proposed 15 as the best number of clusters \n",
      "\n",
      "                   ***** Conclusion *****                            \n",
      " \n",
      "* According to the majority rule, the best number of clusters is  2 \n",
      " \n",
      " \n",
      "******************************************************************* \n"
     ]
    },
    {
     "data": {
      "text/plain": [
       "\n",
       " 0  1  2  3  4  5  9 10 13 14 15 \n",
       " 2  1  4  4  2  4  1  1  2  1  4 "
      ]
     },
     "metadata": {},
     "output_type": "display_data"
    },
    {
     "data": {
      "image/png": "[encoded data removed]",
      "text/plain": [
       "plot without title"
      ]
     },
     "metadata": {},
     "output_type": "display_data"
    }
   ],
   "source": [
    "library(NbClust)\n",
    "devAskNewPage(ask=TRUE)\n",
    "nc <- NbClust(nutrient.scaled, distance=\"euclidean\", min.nc=2, max.nc=15, method=\"average\")\n",
    "table(nc$Best.n[1,])"
   ]
  },
  {
   "cell_type": "code",
   "execution_count": 11,
   "id": "chronic-supplier",
   "metadata": {},
   "outputs": [
    {
     "data": {
      "image/png": "[encoded data removed]",
      "text/plain": [
       "Plot with title \"Number of Clusters Chosen by 26 Criteria\""
      ]
     },
     "metadata": {},
     "output_type": "display_data"
    }
   ],
   "source": [
    "barplot(table(nc$Best.n[1,]),\n",
    "xlab=\"Numer of Clusters\", ylab=\"Number of Criteria\",\n",
    "main=\"Number of Clusters Chosen by 26 Criteria\")"
   ]
  },
  {
   "cell_type": "markdown",
   "id": "egyptian-county",
   "metadata": {},
   "source": [
    "You could try the number of clusters (2, 3, 5, and 15) with the most “votes” and select the one that makes the most interpretive sense."
   ]
  },
  {
   "cell_type": "markdown",
   "id": "generic-information",
   "metadata": {},
   "source": [
    "## Obtaining the final cluster solution"
   ]
  },
  {
   "cell_type": "code",
   "execution_count": 12,
   "id": "inclusive-sharing",
   "metadata": {},
   "outputs": [
    {
     "data": {
      "text/plain": [
       "clusters\n",
       " 1  2  3  4  5 \n",
       " 7 16  1  2  1 "
      ]
     },
     "metadata": {},
     "output_type": "display_data"
    }
   ],
   "source": [
    "# Assigns Cases\n",
    "clusters <- cutree(fit.average, k=5)\n",
    "table(clusters)"
   ]
  },
  {
   "cell_type": "code",
   "execution_count": 13,
   "id": "environmental-tissue",
   "metadata": {},
   "outputs": [
    {
     "data": {
      "text/html": [
       "<table>\n",
       "<thead><tr><th scope=col>cluster</th><th scope=col>energy</th><th scope=col>protein</th><th scope=col>fat</th><th scope=col>calcium</th><th scope=col>iron</th></tr></thead>\n",
       "<tbody>\n",
       "\t<tr><td>1    </td><td>340.0</td><td>19   </td><td>29   </td><td>  9  </td><td>2.50 </td></tr>\n",
       "\t<tr><td>2    </td><td>170.0</td><td>20   </td><td> 8   </td><td> 13  </td><td>1.45 </td></tr>\n",
       "\t<tr><td>3    </td><td>160.0</td><td>26   </td><td> 5   </td><td> 14  </td><td>5.90 </td></tr>\n",
       "\t<tr><td>4    </td><td> 57.5</td><td> 9   </td><td> 1   </td><td> 78  </td><td>5.70 </td></tr>\n",
       "\t<tr><td>5    </td><td>180.0</td><td>22   </td><td> 9   </td><td>367  </td><td>2.50 </td></tr>\n",
       "</tbody>\n",
       "</table>\n"
      ],
      "text/latex": [
       "\\begin{tabular}{r|llllll}\n",
       " cluster & energy & protein & fat & calcium & iron\\\\\n",
       "\\hline\n",
       "\t 1     & 340.0 & 19    & 29    &   9   & 2.50 \\\\\n",
       "\t 2     & 170.0 & 20    &  8    &  13   & 1.45 \\\\\n",
       "\t 3     & 160.0 & 26    &  5    &  14   & 5.90 \\\\\n",
       "\t 4     &  57.5 &  9    &  1    &  78   & 5.70 \\\\\n",
       "\t 5     & 180.0 & 22    &  9    & 367   & 2.50 \\\\\n",
       "\\end{tabular}\n"
      ],
      "text/markdown": [
       "\n",
       "| cluster | energy | protein | fat | calcium | iron |\n",
       "|---|---|---|---|---|---|\n",
       "| 1     | 340.0 | 19    | 29    |   9   | 2.50  |\n",
       "| 2     | 170.0 | 20    |  8    |  13   | 1.45  |\n",
       "| 3     | 160.0 | 26    |  5    |  14   | 5.90  |\n",
       "| 4     |  57.5 |  9    |  1    |  78   | 5.70  |\n",
       "| 5     | 180.0 | 22    |  9    | 367   | 2.50  |\n",
       "\n"
      ],
      "text/plain": [
       "  cluster energy protein fat calcium iron\n",
       "1 1       340.0  19      29    9     2.50\n",
       "2 2       170.0  20       8   13     1.45\n",
       "3 3       160.0  26       5   14     5.90\n",
       "4 4        57.5   9       1   78     5.70\n",
       "5 5       180.0  22       9  367     2.50"
      ]
     },
     "metadata": {},
     "output_type": "display_data"
    }
   ],
   "source": [
    "# Describe Clusters\n",
    "aggregate(nutrient, by=list(cluster=clusters), median)"
   ]
  },
  {
   "cell_type": "code",
   "execution_count": 14,
   "id": "postal-trigger",
   "metadata": {},
   "outputs": [
    {
     "data": {
      "text/html": [
       "<table>\n",
       "<thead><tr><th scope=col>cluster</th><th scope=col>energy</th><th scope=col>protein</th><th scope=col>fat</th><th scope=col>calcium</th><th scope=col>iron</th></tr></thead>\n",
       "<tbody>\n",
       "\t<tr><td>1          </td><td> 1.3101024 </td><td> 0.0000000 </td><td> 1.3785620 </td><td>-0.4480464 </td><td> 0.08110456</td></tr>\n",
       "\t<tr><td>2          </td><td>-0.3696099 </td><td> 0.2352002 </td><td>-0.4869384 </td><td>-0.3967868 </td><td>-0.63743114</td></tr>\n",
       "\t<tr><td>3          </td><td>-0.4684165 </td><td> 1.6464016 </td><td>-0.7534384 </td><td>-0.3839719 </td><td> 2.40779157</td></tr>\n",
       "\t<tr><td>4          </td><td>-1.4811842 </td><td>-2.3520023 </td><td>-1.1087718 </td><td> 0.4361807 </td><td> 2.27092763</td></tr>\n",
       "\t<tr><td>5          </td><td>-0.2708033 </td><td> 0.7056007 </td><td>-0.3981050 </td><td> 4.1396825 </td><td> 0.08110456</td></tr>\n",
       "</tbody>\n",
       "</table>\n"
      ],
      "text/latex": [
       "\\begin{tabular}{r|llllll}\n",
       " cluster & energy & protein & fat & calcium & iron\\\\\n",
       "\\hline\n",
       "\t 1           &  1.3101024  &  0.0000000  &  1.3785620  & -0.4480464  &  0.08110456\\\\\n",
       "\t 2           & -0.3696099  &  0.2352002  & -0.4869384  & -0.3967868  & -0.63743114\\\\\n",
       "\t 3           & -0.4684165  &  1.6464016  & -0.7534384  & -0.3839719  &  2.40779157\\\\\n",
       "\t 4           & -1.4811842  & -2.3520023  & -1.1087718  &  0.4361807  &  2.27092763\\\\\n",
       "\t 5           & -0.2708033  &  0.7056007  & -0.3981050  &  4.1396825  &  0.08110456\\\\\n",
       "\\end{tabular}\n"
      ],
      "text/markdown": [
       "\n",
       "| cluster | energy | protein | fat | calcium | iron |\n",
       "|---|---|---|---|---|---|\n",
       "| 1           |  1.3101024  |  0.0000000  |  1.3785620  | -0.4480464  |  0.08110456 |\n",
       "| 2           | -0.3696099  |  0.2352002  | -0.4869384  | -0.3967868  | -0.63743114 |\n",
       "| 3           | -0.4684165  |  1.6464016  | -0.7534384  | -0.3839719  |  2.40779157 |\n",
       "| 4           | -1.4811842  | -2.3520023  | -1.1087718  |  0.4361807  |  2.27092763 |\n",
       "| 5           | -0.2708033  |  0.7056007  | -0.3981050  |  4.1396825  |  0.08110456 |\n",
       "\n"
      ],
      "text/plain": [
       "  cluster energy     protein    fat        calcium    iron       \n",
       "1 1        1.3101024  0.0000000  1.3785620 -0.4480464  0.08110456\n",
       "2 2       -0.3696099  0.2352002 -0.4869384 -0.3967868 -0.63743114\n",
       "3 3       -0.4684165  1.6464016 -0.7534384 -0.3839719  2.40779157\n",
       "4 4       -1.4811842 -2.3520023 -1.1087718  0.4361807  2.27092763\n",
       "5 5       -0.2708033  0.7056007 -0.3981050  4.1396825  0.08110456"
      ]
     },
     "metadata": {},
     "output_type": "display_data"
    }
   ],
   "source": [
    "aggregate(as.data.frame(nutrient.scaled), by=list(cluster=clusters), median)"
   ]
  },
  {
   "cell_type": "code",
   "execution_count": 15,
   "id": "civic-ethnic",
   "metadata": {},
   "outputs": [
    {
     "data": {
      "image/png": "[encoded data removed]",
      "text/plain": [
       "Plot with title \"Average Linkage Clustering\n",
       "5 Cluster Solution\""
      ]
     },
     "metadata": {},
     "output_type": "display_data"
    }
   ],
   "source": [
    "plot(fit.average, hang=-1, cex=.8, main=\"Average Linkage Clustering\\n5 Cluster Solution\")\n",
    "rect.hclust(fit.average, k=5)"
   ]
  },
  {
   "cell_type": "markdown",
   "id": "attempted-version",
   "metadata": {},
   "source": [
    "Sardines form their own cluster and are much higher in calcium than the other food groups. Beef heart is also a singleton and is high in protein and iron. The clam\n",
    "cluster is low in protein and high in iron. The items in the cluster containing beef roast to pork simmered are high in energy and fat. Finally, the largest group (mackerel to bluefish) is relatively low in iron."
   ]
  },
  {
   "cell_type": "markdown",
   "id": "informative-appliance",
   "metadata": {},
   "source": [
    "# Partitioning cluster analysis\n",
    "Observations are divided into K groups and reshuffled to form the most cohesive clusters possible according to a given criterion."
   ]
  },
  {
   "cell_type": "markdown",
   "id": "continued-trail",
   "metadata": {},
   "source": [
    "## K-means clustering"
   ]
  },
  {
   "cell_type": "markdown",
   "id": "empirical-plane",
   "metadata": {},
   "source": [
    "1. Select K centroids (K rows chosen at random).\n",
    "2. Assign each data point to its closest centroid.\n",
    "3. Recalculate the centroids as the average of all data points in a cluster (that is, the centroids are p-length mean vectors, where p is the number of variables).\n",
    "4. Assign data points to their closest centroids.\n",
    "5. Continue steps 3 and 4 until the observations aren’t reassigned or the maximum number of iterations (R uses 10 as a default) is reached."
   ]
  },
  {
   "cell_type": "markdown",
   "id": "signal-holiday",
   "metadata": {},
   "source": [
    "R uses an efficient algorithm by Hartigan and Wong (1979) that partitions the observations into k groups such that the sum of squares of the observations to their\n",
    "assigned cluster centers is a minimum. This means, in steps 2 and 4, each observation is assigned to the cluster with the smallest value of\n",
    "\n",
    "$ss(k) = \\sum_{i=1}^{n}\\sum_{j=0}^{p}\\left(x_{ij}-\\bar{x}_{kj}\\right)^{2}$\n",
    "\n",
    "where $k$ is the cluster, $x_{ij}$ is the value of the $j^{th}$ variable for the $i^{th}$ observation, $\\bar{x}_{kj}$ is the mean of the $j^{th}$ variable for the $k^{th}$ cluster, and $p$ is the number of variables."
   ]
  },
  {
   "cell_type": "markdown",
   "id": "removed-death",
   "metadata": {},
   "source": [
    "K-means clustering can handle larger datasets than hierarchical cluster approaches. Additionally, observations aren’t permanently committed to a cluster. They’re moved when doing so improves the overall solution. But the use of means implies that all variables must be continuous, and the approach can be severely affected by outliers."
   ]
  },
  {
   "cell_type": "markdown",
   "id": "fitted-relationship",
   "metadata": {},
   "source": [
    "Because k-means cluster analysis starts with k randomly chosen centroids, a different solution can be obtained each time the function is invoked. Use the ```set.seed()``` function to guarantee that the results are reproducible."
   ]
  },
  {
   "cell_type": "markdown",
   "id": "special-frontier",
   "metadata": {},
   "source": [
    "Let’s apply k-means clustering to a dataset containing 13 chemical measurements\n",
    "on 178 Italian wine samples. The data originally come from the UCI Machine Learning\n",
    "Repository (www.ics.uci.edu/~mlearn/MLRepository.html)"
   ]
  },
  {
   "cell_type": "code",
   "execution_count": 17,
   "id": "applied-somewhere",
   "metadata": {},
   "outputs": [
    {
     "name": "stdout",
     "output_type": "stream",
     "text": [
      "package 'rattle' successfully unpacked and MD5 sums checked\n",
      "\n",
      "The downloaded binary packages are in\n",
      "\tC:\\Users\\Nemo\\AppData\\Local\\Temp\\RtmpAX4wJ2\\downloaded_packages\n"
     ]
    }
   ],
   "source": [
    "install.packages(\"rattle\")"
   ]
  },
  {
   "cell_type": "code",
   "execution_count": 18,
   "id": "naked-living",
   "metadata": {},
   "outputs": [
    {
     "data": {
      "text/html": [
       "<table>\n",
       "<thead><tr><th scope=col>Type</th><th scope=col>Alcohol</th><th scope=col>Malic</th><th scope=col>Ash</th><th scope=col>Alcalinity</th><th scope=col>Magnesium</th><th scope=col>Phenols</th><th scope=col>Flavanoids</th><th scope=col>Nonflavanoids</th><th scope=col>Proanthocyanins</th><th scope=col>Color</th><th scope=col>Hue</th><th scope=col>Dilution</th><th scope=col>Proline</th></tr></thead>\n",
       "<tbody>\n",
       "\t<tr><td>1    </td><td>14.23</td><td>1.71 </td><td>2.43 </td><td>15.6 </td><td>127  </td><td>2.80 </td><td>3.06 </td><td>0.28 </td><td>2.29 </td><td>5.64 </td><td>1.04 </td><td>3.92 </td><td>1065 </td></tr>\n",
       "\t<tr><td>1    </td><td>13.20</td><td>1.78 </td><td>2.14 </td><td>11.2 </td><td>100  </td><td>2.65 </td><td>2.76 </td><td>0.26 </td><td>1.28 </td><td>4.38 </td><td>1.05 </td><td>3.40 </td><td>1050 </td></tr>\n",
       "\t<tr><td>1    </td><td>13.16</td><td>2.36 </td><td>2.67 </td><td>18.6 </td><td>101  </td><td>2.80 </td><td>3.24 </td><td>0.30 </td><td>2.81 </td><td>5.68 </td><td>1.03 </td><td>3.17 </td><td>1185 </td></tr>\n",
       "\t<tr><td>1    </td><td>14.37</td><td>1.95 </td><td>2.50 </td><td>16.8 </td><td>113  </td><td>3.85 </td><td>3.49 </td><td>0.24 </td><td>2.18 </td><td>7.80 </td><td>0.86 </td><td>3.45 </td><td>1480 </td></tr>\n",
       "\t<tr><td>1    </td><td>13.24</td><td>2.59 </td><td>2.87 </td><td>21.0 </td><td>118  </td><td>2.80 </td><td>2.69 </td><td>0.39 </td><td>1.82 </td><td>4.32 </td><td>1.04 </td><td>2.93 </td><td> 735 </td></tr>\n",
       "\t<tr><td>1    </td><td>14.20</td><td>1.76 </td><td>2.45 </td><td>15.2 </td><td>112  </td><td>3.27 </td><td>3.39 </td><td>0.34 </td><td>1.97 </td><td>6.75 </td><td>1.05 </td><td>2.85 </td><td>1450 </td></tr>\n",
       "</tbody>\n",
       "</table>\n"
      ],
      "text/latex": [
       "\\begin{tabular}{r|llllllllllllll}\n",
       " Type & Alcohol & Malic & Ash & Alcalinity & Magnesium & Phenols & Flavanoids & Nonflavanoids & Proanthocyanins & Color & Hue & Dilution & Proline\\\\\n",
       "\\hline\n",
       "\t 1     & 14.23 & 1.71  & 2.43  & 15.6  & 127   & 2.80  & 3.06  & 0.28  & 2.29  & 5.64  & 1.04  & 3.92  & 1065 \\\\\n",
       "\t 1     & 13.20 & 1.78  & 2.14  & 11.2  & 100   & 2.65  & 2.76  & 0.26  & 1.28  & 4.38  & 1.05  & 3.40  & 1050 \\\\\n",
       "\t 1     & 13.16 & 2.36  & 2.67  & 18.6  & 101   & 2.80  & 3.24  & 0.30  & 2.81  & 5.68  & 1.03  & 3.17  & 1185 \\\\\n",
       "\t 1     & 14.37 & 1.95  & 2.50  & 16.8  & 113   & 3.85  & 3.49  & 0.24  & 2.18  & 7.80  & 0.86  & 3.45  & 1480 \\\\\n",
       "\t 1     & 13.24 & 2.59  & 2.87  & 21.0  & 118   & 2.80  & 2.69  & 0.39  & 1.82  & 4.32  & 1.04  & 2.93  &  735 \\\\\n",
       "\t 1     & 14.20 & 1.76  & 2.45  & 15.2  & 112   & 3.27  & 3.39  & 0.34  & 1.97  & 6.75  & 1.05  & 2.85  & 1450 \\\\\n",
       "\\end{tabular}\n"
      ],
      "text/markdown": [
       "\n",
       "| Type | Alcohol | Malic | Ash | Alcalinity | Magnesium | Phenols | Flavanoids | Nonflavanoids | Proanthocyanins | Color | Hue | Dilution | Proline |\n",
       "|---|---|---|---|---|---|---|---|---|---|---|---|---|---|\n",
       "| 1     | 14.23 | 1.71  | 2.43  | 15.6  | 127   | 2.80  | 3.06  | 0.28  | 2.29  | 5.64  | 1.04  | 3.92  | 1065  |\n",
       "| 1     | 13.20 | 1.78  | 2.14  | 11.2  | 100   | 2.65  | 2.76  | 0.26  | 1.28  | 4.38  | 1.05  | 3.40  | 1050  |\n",
       "| 1     | 13.16 | 2.36  | 2.67  | 18.6  | 101   | 2.80  | 3.24  | 0.30  | 2.81  | 5.68  | 1.03  | 3.17  | 1185  |\n",
       "| 1     | 14.37 | 1.95  | 2.50  | 16.8  | 113   | 3.85  | 3.49  | 0.24  | 2.18  | 7.80  | 0.86  | 3.45  | 1480  |\n",
       "| 1     | 13.24 | 2.59  | 2.87  | 21.0  | 118   | 2.80  | 2.69  | 0.39  | 1.82  | 4.32  | 1.04  | 2.93  |  735  |\n",
       "| 1     | 14.20 | 1.76  | 2.45  | 15.2  | 112   | 3.27  | 3.39  | 0.34  | 1.97  | 6.75  | 1.05  | 2.85  | 1450  |\n",
       "\n"
      ],
      "text/plain": [
       "  Type Alcohol Malic Ash  Alcalinity Magnesium Phenols Flavanoids Nonflavanoids\n",
       "1 1    14.23   1.71  2.43 15.6       127       2.80    3.06       0.28         \n",
       "2 1    13.20   1.78  2.14 11.2       100       2.65    2.76       0.26         \n",
       "3 1    13.16   2.36  2.67 18.6       101       2.80    3.24       0.30         \n",
       "4 1    14.37   1.95  2.50 16.8       113       3.85    3.49       0.24         \n",
       "5 1    13.24   2.59  2.87 21.0       118       2.80    2.69       0.39         \n",
       "6 1    14.20   1.76  2.45 15.2       112       3.27    3.39       0.34         \n",
       "  Proanthocyanins Color Hue  Dilution Proline\n",
       "1 2.29            5.64  1.04 3.92     1065   \n",
       "2 1.28            4.38  1.05 3.40     1050   \n",
       "3 2.81            5.68  1.03 3.17     1185   \n",
       "4 2.18            7.80  0.86 3.45     1480   \n",
       "5 1.82            4.32  1.04 2.93      735   \n",
       "6 1.97            6.75  1.05 2.85     1450   "
      ]
     },
     "metadata": {},
     "output_type": "display_data"
    }
   ],
   "source": [
    "data(wine, package=\"rattle\")\n",
    "head(wine)"
   ]
  },
  {
   "cell_type": "code",
   "execution_count": 20,
   "id": "legal-proceeding",
   "metadata": {},
   "outputs": [],
   "source": [
    "df <- scale(wine[-1]) # Scale the data"
   ]
  },
  {
   "cell_type": "code",
   "execution_count": 22,
   "id": "wrong-laugh",
   "metadata": {},
   "outputs": [
    {
     "data": {
      "image/png": "[encoded data removed]",
      "text/plain": [
       "plot without title"
      ]
     },
     "metadata": {},
     "output_type": "display_data"
    }
   ],
   "source": [
    "# Plot the results -\n",
    "wssplot <- function(data, nc=15, seed=1234){\n",
    "    wss <- (nrow(data)-1)*sum(apply(data,2,var))\n",
    "    for (i in 2:nc){\n",
    "        set.seed(seed)\n",
    "        wss[i] <- sum(kmeans(data, centers=i)$withinss)}\n",
    "    plot(1:nc, wss, type=\"b\", xlab=\"Number of Clusters\",\n",
    "        ylab=\"Within groups sum of squares\")}    \n",
    "wssplot(df)"
   ]
  },
  {
   "cell_type": "code",
   "execution_count": 23,
   "id": "innovative-destination",
   "metadata": {},
   "outputs": [
    {
     "name": "stdout",
     "output_type": "stream",
     "text": [
      "*** : The Hubert index is a graphical method of determining the number of clusters.\n",
      "                In the plot of Hubert index, we seek a significant knee that corresponds to a \n",
      "                significant increase of the value of the measure i.e the significant peak in Hubert\n",
      "                index second differences plot. \n",
      " \n"
     ]
    },
    {
     "data": {
      "image/png": "[encoded data removed]",
      "text/plain": [
       "plot without title"
      ]
     },
     "metadata": {},
     "output_type": "display_data"
    },
    {
     "name": "stdout",
     "output_type": "stream",
     "text": [
      "*** : The D index is a graphical method of determining the number of clusters. \n",
      "                In the plot of D index, we seek a significant knee (the significant peak in Dindex\n",
      "                second differences plot) that corresponds to a significant increase of the value of\n",
      "                the measure. \n",
      " \n",
      "******************************************************************* \n",
      "* Among all indices:                                                \n",
      "* 2 proposed 2 as the best number of clusters \n",
      "* 19 proposed 3 as the best number of clusters \n",
      "* 1 proposed 14 as the best number of clusters \n",
      "* 1 proposed 15 as the best number of clusters \n",
      "\n",
      "                   ***** Conclusion *****                            \n",
      " \n",
      "* According to the majority rule, the best number of clusters is  3 \n",
      " \n",
      " \n",
      "******************************************************************* \n"
     ]
    },
    {
     "data": {
      "text/plain": [
       "\n",
       " 0  1  2  3 14 15 \n",
       " 2  1  2 19  1  1 "
      ]
     },
     "metadata": {},
     "output_type": "display_data"
    },
    {
     "data": {
      "image/png": "[encoded data removed]",
      "text/plain": [
       "plot without title"
      ]
     },
     "metadata": {},
     "output_type": "display_data"
    }
   ],
   "source": [
    "# Determine the number of clusters\n",
    "library(NbClust)\n",
    "set.seed(1234)\n",
    "devAskNewPage(ask=TRUE)\n",
    "nc <- NbClust(df, min.nc=2, max.nc=15, method=\"kmeans\")\n",
    "table(nc$Best.n[1,])\n"
   ]
  },
  {
   "cell_type": "code",
   "execution_count": 24,
   "id": "banned-fireplace",
   "metadata": {},
   "outputs": [
    {
     "data": {
      "image/png": "[encoded data removed]",
      "text/plain": [
       "Plot with title \"Number of Clusters Chosen by 26 Criteria\""
      ]
     },
     "metadata": {},
     "output_type": "display_data"
    }
   ],
   "source": [
    "barplot(table(nc$Best.n[1,]),\n",
    "xlab=\"Number of Clusters\", ylab=\"Number of Criteria\",\n",
    "main=\"Number of Clusters Chosen by 26 Criteria\")\n"
   ]
  },
  {
   "cell_type": "code",
   "execution_count": 25,
   "id": "paperback-capitol",
   "metadata": {},
   "outputs": [],
   "source": [
    "set.seed(1234)"
   ]
  },
  {
   "cell_type": "code",
   "execution_count": 26,
   "id": "silent-passport",
   "metadata": {},
   "outputs": [
    {
     "data": {
      "text/html": [
       "<ol class=list-inline>\n",
       "\t<li>62</li>\n",
       "\t<li>65</li>\n",
       "\t<li>51</li>\n",
       "</ol>\n"
      ],
      "text/latex": [
       "\\begin{enumerate*}\n",
       "\\item 62\n",
       "\\item 65\n",
       "\\item 51\n",
       "\\end{enumerate*}\n"
      ],
      "text/markdown": [
       "1. 62\n",
       "2. 65\n",
       "3. 51\n",
       "\n",
       "\n"
      ],
      "text/plain": [
       "[1] 62 65 51"
      ]
     },
     "metadata": {},
     "output_type": "display_data"
    }
   ],
   "source": [
    "# Perform the k-means cluster analysis\n",
    "fit.km <- kmeans(df, 3, nstart=25)\n",
    "fit.km$size"
   ]
  },
  {
   "cell_type": "code",
   "execution_count": 27,
   "id": "continued-reaction",
   "metadata": {},
   "outputs": [
    {
     "data": {
      "text/html": [
       "<table>\n",
       "<thead><tr><th scope=col>Alcohol</th><th scope=col>Malic</th><th scope=col>Ash</th><th scope=col>Alcalinity</th><th scope=col>Magnesium</th><th scope=col>Phenols</th><th scope=col>Flavanoids</th><th scope=col>Nonflavanoids</th><th scope=col>Proanthocyanins</th><th scope=col>Color</th><th scope=col>Hue</th><th scope=col>Dilution</th><th scope=col>Proline</th></tr></thead>\n",
       "<tbody>\n",
       "\t<tr><td> 0.8328826 </td><td>-0.3029551 </td><td> 0.3636801 </td><td>-0.6084749 </td><td> 0.57596208</td><td> 0.88274724</td><td> 0.97506900</td><td>-0.56050853</td><td> 0.57865427</td><td> 0.1705823 </td><td> 0.4726504 </td><td> 0.7770551 </td><td> 1.1220202 </td></tr>\n",
       "\t<tr><td>-0.9234669 </td><td>-0.3929331 </td><td>-0.4931257 </td><td> 0.1701220 </td><td>-0.49032869</td><td>-0.07576891</td><td> 0.02075402</td><td>-0.03343924</td><td> 0.05810161</td><td>-0.8993770 </td><td> 0.4605046 </td><td> 0.2700025 </td><td>-0.7517257 </td></tr>\n",
       "\t<tr><td> 0.1644436 </td><td> 0.8690954 </td><td> 0.1863726 </td><td> 0.5228924 </td><td>-0.07526047</td><td>-0.97657548</td><td>-1.21182921</td><td> 0.72402116</td><td>-0.77751312</td><td> 0.9388902 </td><td>-1.1615122 </td><td>-1.2887761 </td><td>-0.4059428 </td></tr>\n",
       "</tbody>\n",
       "</table>\n"
      ],
      "text/latex": [
       "\\begin{tabular}{r|lllllllllllll}\n",
       " Alcohol & Malic & Ash & Alcalinity & Magnesium & Phenols & Flavanoids & Nonflavanoids & Proanthocyanins & Color & Hue & Dilution & Proline\\\\\n",
       "\\hline\n",
       "\t  0.8328826  & -0.3029551  &  0.3636801  & -0.6084749  &  0.57596208 &  0.88274724 &  0.97506900 & -0.56050853 &  0.57865427 &  0.1705823  &  0.4726504  &  0.7770551  &  1.1220202 \\\\\n",
       "\t -0.9234669  & -0.3929331  & -0.4931257  &  0.1701220  & -0.49032869 & -0.07576891 &  0.02075402 & -0.03343924 &  0.05810161 & -0.8993770  &  0.4605046  &  0.2700025  & -0.7517257 \\\\\n",
       "\t  0.1644436  &  0.8690954  &  0.1863726  &  0.5228924  & -0.07526047 & -0.97657548 & -1.21182921 &  0.72402116 & -0.77751312 &  0.9388902  & -1.1615122  & -1.2887761  & -0.4059428 \\\\\n",
       "\\end{tabular}\n"
      ],
      "text/markdown": [
       "\n",
       "| Alcohol | Malic | Ash | Alcalinity | Magnesium | Phenols | Flavanoids | Nonflavanoids | Proanthocyanins | Color | Hue | Dilution | Proline |\n",
       "|---|---|---|---|---|---|---|---|---|---|---|---|---|\n",
       "|  0.8328826  | -0.3029551  |  0.3636801  | -0.6084749  |  0.57596208 |  0.88274724 |  0.97506900 | -0.56050853 |  0.57865427 |  0.1705823  |  0.4726504  |  0.7770551  |  1.1220202  |\n",
       "| -0.9234669  | -0.3929331  | -0.4931257  |  0.1701220  | -0.49032869 | -0.07576891 |  0.02075402 | -0.03343924 |  0.05810161 | -0.8993770  |  0.4605046  |  0.2700025  | -0.7517257  |\n",
       "|  0.1644436  |  0.8690954  |  0.1863726  |  0.5228924  | -0.07526047 | -0.97657548 | -1.21182921 |  0.72402116 | -0.77751312 |  0.9388902  | -1.1615122  | -1.2887761  | -0.4059428  |\n",
       "\n"
      ],
      "text/plain": [
       "  Alcohol    Malic      Ash        Alcalinity Magnesium   Phenols    \n",
       "1  0.8328826 -0.3029551  0.3636801 -0.6084749  0.57596208  0.88274724\n",
       "2 -0.9234669 -0.3929331 -0.4931257  0.1701220 -0.49032869 -0.07576891\n",
       "3  0.1644436  0.8690954  0.1863726  0.5228924 -0.07526047 -0.97657548\n",
       "  Flavanoids  Nonflavanoids Proanthocyanins Color      Hue        Dilution  \n",
       "1  0.97506900 -0.56050853    0.57865427      0.1705823  0.4726504  0.7770551\n",
       "2  0.02075402 -0.03343924    0.05810161     -0.8993770  0.4605046  0.2700025\n",
       "3 -1.21182921  0.72402116   -0.77751312      0.9388902 -1.1615122 -1.2887761\n",
       "  Proline   \n",
       "1  1.1220202\n",
       "2 -0.7517257\n",
       "3 -0.4059428"
      ]
     },
     "metadata": {},
     "output_type": "display_data"
    }
   ],
   "source": [
    "fit.km$centers"
   ]
  },
  {
   "cell_type": "code",
   "execution_count": 28,
   "id": "ranking-tract",
   "metadata": {},
   "outputs": [
    {
     "data": {
      "text/html": [
       "<table>\n",
       "<thead><tr><th scope=col>cluster</th><th scope=col>Alcohol</th><th scope=col>Malic</th><th scope=col>Ash</th><th scope=col>Alcalinity</th><th scope=col>Magnesium</th><th scope=col>Phenols</th><th scope=col>Flavanoids</th><th scope=col>Nonflavanoids</th><th scope=col>Proanthocyanins</th><th scope=col>Color</th><th scope=col>Hue</th><th scope=col>Dilution</th><th scope=col>Proline</th></tr></thead>\n",
       "<tbody>\n",
       "\t<tr><td>1        </td><td>13.67677 </td><td>1.997903 </td><td>2.466290 </td><td>17.46290 </td><td>107.96774</td><td>2.847581 </td><td>3.0032258</td><td>0.2920968</td><td>1.922097 </td><td>5.453548 </td><td>1.0654839</td><td>3.163387 </td><td>1100.2258</td></tr>\n",
       "\t<tr><td>2        </td><td>12.25092 </td><td>1.897385 </td><td>2.231231 </td><td>20.06308 </td><td> 92.73846</td><td>2.247692 </td><td>2.0500000</td><td>0.3576923</td><td>1.624154 </td><td>2.973077 </td><td>1.0627077</td><td>2.803385 </td><td> 510.1692</td></tr>\n",
       "\t<tr><td>3        </td><td>13.13412 </td><td>3.307255 </td><td>2.417647 </td><td>21.24118 </td><td> 98.66667</td><td>1.683922 </td><td>0.8188235</td><td>0.4519608</td><td>1.145882 </td><td>7.234706 </td><td>0.6919608</td><td>1.696667 </td><td> 619.0588</td></tr>\n",
       "</tbody>\n",
       "</table>\n"
      ],
      "text/latex": [
       "\\begin{tabular}{r|llllllllllllll}\n",
       " cluster & Alcohol & Malic & Ash & Alcalinity & Magnesium & Phenols & Flavanoids & Nonflavanoids & Proanthocyanins & Color & Hue & Dilution & Proline\\\\\n",
       "\\hline\n",
       "\t 1         & 13.67677  & 1.997903  & 2.466290  & 17.46290  & 107.96774 & 2.847581  & 3.0032258 & 0.2920968 & 1.922097  & 5.453548  & 1.0654839 & 3.163387  & 1100.2258\\\\\n",
       "\t 2         & 12.25092  & 1.897385  & 2.231231  & 20.06308  &  92.73846 & 2.247692  & 2.0500000 & 0.3576923 & 1.624154  & 2.973077  & 1.0627077 & 2.803385  &  510.1692\\\\\n",
       "\t 3         & 13.13412  & 3.307255  & 2.417647  & 21.24118  &  98.66667 & 1.683922  & 0.8188235 & 0.4519608 & 1.145882  & 7.234706  & 0.6919608 & 1.696667  &  619.0588\\\\\n",
       "\\end{tabular}\n"
      ],
      "text/markdown": [
       "\n",
       "| cluster | Alcohol | Malic | Ash | Alcalinity | Magnesium | Phenols | Flavanoids | Nonflavanoids | Proanthocyanins | Color | Hue | Dilution | Proline |\n",
       "|---|---|---|---|---|---|---|---|---|---|---|---|---|---|\n",
       "| 1         | 13.67677  | 1.997903  | 2.466290  | 17.46290  | 107.96774 | 2.847581  | 3.0032258 | 0.2920968 | 1.922097  | 5.453548  | 1.0654839 | 3.163387  | 1100.2258 |\n",
       "| 2         | 12.25092  | 1.897385  | 2.231231  | 20.06308  |  92.73846 | 2.247692  | 2.0500000 | 0.3576923 | 1.624154  | 2.973077  | 1.0627077 | 2.803385  |  510.1692 |\n",
       "| 3         | 13.13412  | 3.307255  | 2.417647  | 21.24118  |  98.66667 | 1.683922  | 0.8188235 | 0.4519608 | 1.145882  | 7.234706  | 0.6919608 | 1.696667  |  619.0588 |\n",
       "\n"
      ],
      "text/plain": [
       "  cluster Alcohol  Malic    Ash      Alcalinity Magnesium Phenols  Flavanoids\n",
       "1 1       13.67677 1.997903 2.466290 17.46290   107.96774 2.847581 3.0032258 \n",
       "2 2       12.25092 1.897385 2.231231 20.06308    92.73846 2.247692 2.0500000 \n",
       "3 3       13.13412 3.307255 2.417647 21.24118    98.66667 1.683922 0.8188235 \n",
       "  Nonflavanoids Proanthocyanins Color    Hue       Dilution Proline  \n",
       "1 0.2920968     1.922097        5.453548 1.0654839 3.163387 1100.2258\n",
       "2 0.3576923     1.624154        2.973077 1.0627077 2.803385  510.1692\n",
       "3 0.4519608     1.145882        7.234706 0.6919608 1.696667  619.0588"
      ]
     },
     "metadata": {},
     "output_type": "display_data"
    }
   ],
   "source": [
    "aggregate(wine[-1], by=list(cluster=fit.km$cluster), mean)"
   ]
  },
  {
   "cell_type": "markdown",
   "id": "direct-princeton",
   "metadata": {},
   "source": [
    "* Because the variables vary in range, they’re standardized prior to clustering. \n",
    "* The number of clusters is determined using the ```wssplot()``` and ```NbClust()``` functions.\n",
    "* Figures indicates that there is a distinct drop in the within-groups sum of squares when moving from one to three clusters. After three clusters, this decreasedrops off, suggesting that a three-cluster solution may be a good fit to the data. \n",
    "* A final cluster solution is obtained with the ```kmeans()``` function, and the cluster centroids are printed. \n",
    "* Because the centroids provided by the function are based on standardized data, the ```aggregate()``` function is used along with the cluster memberships to determine variable means for each cluster in the original metric."
   ]
  },
  {
   "cell_type": "markdown",
   "id": "august-texture",
   "metadata": {},
   "source": [
    "How well did k-means clustering uncover the actual structure of the data contained in the Type variable? A cross-tabulation of Type (wine varietal) and cluster membership is given by:"
   ]
  },
  {
   "cell_type": "code",
   "execution_count": 29,
   "id": "suitable-minister",
   "metadata": {},
   "outputs": [
    {
     "data": {
      "text/plain": [
       "   \n",
       "     1  2  3\n",
       "  1 59  0  0\n",
       "  2  3 65  3\n",
       "  3  0  0 48"
      ]
     },
     "metadata": {},
     "output_type": "display_data"
    }
   ],
   "source": [
    "ct.km <- table(wine$Type, fit.km$cluster)\n",
    "ct.km"
   ]
  },
  {
   "cell_type": "code",
   "execution_count": 30,
   "id": "tropical-detection",
   "metadata": {},
   "outputs": [
    {
     "name": "stderr",
     "output_type": "stream",
     "text": [
      "Loading required package: grid\n",
      "Loading required package: lattice\n",
      "Loading required package: modeltools\n",
      "Loading required package: stats4\n"
     ]
    },
    {
     "data": {
      "text/html": [
       "<strong>ARI:</strong> 0.897494981509321"
      ],
      "text/latex": [
       "\\textbf{ARI:} 0.897494981509321"
      ],
      "text/markdown": [
       "**ARI:** 0.897494981509321"
      ],
      "text/plain": [
       "     ARI \n",
       "0.897495 "
      ]
     },
     "metadata": {},
     "output_type": "display_data"
    }
   ],
   "source": [
    "library(flexclust)\n",
    "randIndex(ct.km)"
   ]
  },
  {
   "cell_type": "markdown",
   "id": "furnished-outline",
   "metadata": {},
   "source": [
    "# Partitioning around medoids\n",
    "Because it’s based on means, the k-means clustering approach can be sensitive to outliers.\n",
    "A more robust solution is provided by partitioning around medoids (PAM).\n",
    "Rather than representing each cluster using a centroid (a vector of variable means),\n",
    "each cluster is identified by its most representative observation (called a medoid)."
   ]
  },
  {
   "cell_type": "markdown",
   "id": "criminal-virtue",
   "metadata": {},
   "source": [
    "1. Randomly select K observations (call each a medoid).\n",
    "2. Calculate the distance/dissimilarity of every observation to each medoid.\n",
    "3. Assign each observation to its closest medoid.\n",
    "4. Calculate the sum of the distances of each observation from its medoid (total cost).\n",
    "5. Select a point that isn’t a medoid, and swap it with its medoid.\n",
    "6. Reassign every point to its closest medoid.\n",
    "7. Calculate the total cost.\n",
    "8. If this total cost is smaller, keep the new point as a medoid.\n",
    "9. Repeat steps 5–8 until the medoids don’t change."
   ]
  },
  {
   "cell_type": "code",
   "execution_count": 31,
   "id": "alike-correlation",
   "metadata": {},
   "outputs": [
    {
     "data": {
      "text/html": [
       "<table>\n",
       "<thead><tr><th scope=col>Alcohol</th><th scope=col>Malic</th><th scope=col>Ash</th><th scope=col>Alcalinity</th><th scope=col>Magnesium</th><th scope=col>Phenols</th><th scope=col>Flavanoids</th><th scope=col>Nonflavanoids</th><th scope=col>Proanthocyanins</th><th scope=col>Color</th><th scope=col>Hue</th><th scope=col>Dilution</th><th scope=col>Proline</th></tr></thead>\n",
       "<tbody>\n",
       "\t<tr><td>13.48</td><td>1.81 </td><td>2.41 </td><td>20.5 </td><td>100  </td><td>2.70 </td><td>2.98 </td><td>0.26 </td><td>1.86 </td><td>5.1  </td><td>1.04 </td><td>3.47 </td><td>920  </td></tr>\n",
       "\t<tr><td>12.25</td><td>1.73 </td><td>2.12 </td><td>19.0 </td><td> 80  </td><td>1.65 </td><td>2.03 </td><td>0.37 </td><td>1.63 </td><td>3.4  </td><td>1.00 </td><td>3.17 </td><td>510  </td></tr>\n",
       "\t<tr><td>13.40</td><td>3.91 </td><td>2.48 </td><td>23.0 </td><td>102  </td><td>1.80 </td><td>0.75 </td><td>0.43 </td><td>1.41 </td><td>7.3  </td><td>0.70 </td><td>1.56 </td><td>750  </td></tr>\n",
       "</tbody>\n",
       "</table>\n"
      ],
      "text/latex": [
       "\\begin{tabular}{lllllllllllll}\n",
       " Alcohol & Malic & Ash & Alcalinity & Magnesium & Phenols & Flavanoids & Nonflavanoids & Proanthocyanins & Color & Hue & Dilution & Proline\\\\\n",
       "\\hline\n",
       "\t 13.48 & 1.81  & 2.41  & 20.5  & 100   & 2.70  & 2.98  & 0.26  & 1.86  & 5.1   & 1.04  & 3.47  & 920  \\\\\n",
       "\t 12.25 & 1.73  & 2.12  & 19.0  &  80   & 1.65  & 2.03  & 0.37  & 1.63  & 3.4   & 1.00  & 3.17  & 510  \\\\\n",
       "\t 13.40 & 3.91  & 2.48  & 23.0  & 102   & 1.80  & 0.75  & 0.43  & 1.41  & 7.3   & 0.70  & 1.56  & 750  \\\\\n",
       "\\end{tabular}\n"
      ],
      "text/markdown": [
       "\n",
       "| Alcohol | Malic | Ash | Alcalinity | Magnesium | Phenols | Flavanoids | Nonflavanoids | Proanthocyanins | Color | Hue | Dilution | Proline |\n",
       "|---|---|---|---|---|---|---|---|---|---|---|---|---|\n",
       "| 13.48 | 1.81  | 2.41  | 20.5  | 100   | 2.70  | 2.98  | 0.26  | 1.86  | 5.1   | 1.04  | 3.47  | 920   |\n",
       "| 12.25 | 1.73  | 2.12  | 19.0  |  80   | 1.65  | 2.03  | 0.37  | 1.63  | 3.4   | 1.00  | 3.17  | 510   |\n",
       "| 13.40 | 3.91  | 2.48  | 23.0  | 102   | 1.80  | 0.75  | 0.43  | 1.41  | 7.3   | 0.70  | 1.56  | 750   |\n",
       "\n"
      ],
      "text/plain": [
       "     Alcohol Malic Ash  Alcalinity Magnesium Phenols Flavanoids Nonflavanoids\n",
       "[1,] 13.48   1.81  2.41 20.5       100       2.70    2.98       0.26         \n",
       "[2,] 12.25   1.73  2.12 19.0        80       1.65    2.03       0.37         \n",
       "[3,] 13.40   3.91  2.48 23.0       102       1.80    0.75       0.43         \n",
       "     Proanthocyanins Color Hue  Dilution Proline\n",
       "[1,] 1.86            5.1   1.04 3.47     920    \n",
       "[2,] 1.63            3.4   1.00 3.17     510    \n",
       "[3,] 1.41            7.3   0.70 1.56     750    "
      ]
     },
     "metadata": {},
     "output_type": "display_data"
    }
   ],
   "source": [
    "library(cluster)\n",
    "set.seed(1234)\n",
    "fit.pam <- pam(wine[-1], k=3, stand=TRUE)\n",
    "fit.pam$medoids"
   ]
  },
  {
   "cell_type": "code",
   "execution_count": 32,
   "id": "waiting-police",
   "metadata": {},
   "outputs": [
    {
     "data": {
      "image/png": "[encoded data removed]",
      "text/plain": [
       "Plot with title \"Bivariate Cluster Plot\""
      ]
     },
     "metadata": {},
     "output_type": "display_data"
    }
   ],
   "source": [
    "clusplot(fit.pam, main=\"Bivariate Cluster Plot\")"
   ]
  },
  {
   "cell_type": "markdown",
   "id": "comparative-volunteer",
   "metadata": {},
   "source": [
    "# Avoiding nonexistent clusters"
   ]
  },
  {
   "cell_type": "markdown",
   "id": "unlikely-anderson",
   "metadata": {},
   "source": [
    "Cluster analysis is a methodology\n",
    "designed to identify cohesive subgroups in a dataset. It’s very good at doing\n",
    "this. In fact, it’s so good, it can find clusters where none exist."
   ]
  },
  {
   "cell_type": "code",
   "execution_count": 35,
   "id": "tamil-latest",
   "metadata": {},
   "outputs": [
    {
     "name": "stderr",
     "output_type": "stream",
     "text": [
      "also installing the dependencies 'gss', 'stabledist', 'timeSeries', 'fBasics', 'cubature', 'sn'\n",
      "\n"
     ]
    },
    {
     "name": "stdout",
     "output_type": "stream",
     "text": [
      "package 'gss' successfully unpacked and MD5 sums checked\n",
      "package 'stabledist' successfully unpacked and MD5 sums checked\n",
      "package 'timeSeries' successfully unpacked and MD5 sums checked\n",
      "package 'fBasics' successfully unpacked and MD5 sums checked\n",
      "package 'cubature' successfully unpacked and MD5 sums checked\n",
      "package 'sn' successfully unpacked and MD5 sums checked\n",
      "package 'fMultivar' successfully unpacked and MD5 sums checked\n",
      "\n",
      "The downloaded binary packages are in\n",
      "\tC:\\Users\\Nemo\\AppData\\Local\\Temp\\RtmpAX4wJ2\\downloaded_packages\n"
     ]
    }
   ],
   "source": [
    "install.packages(\"fMultivar\")"
   ]
  },
  {
   "cell_type": "code",
   "execution_count": 36,
   "id": "fleet-medline",
   "metadata": {},
   "outputs": [
    {
     "name": "stderr",
     "output_type": "stream",
     "text": [
      "Loading required package: timeDate\n",
      "Loading required package: timeSeries\n",
      "Loading required package: fBasics\n",
      "\n",
      "Attaching package: 'fBasics'\n",
      "\n",
      "The following object is masked from 'package:flexclust':\n",
      "\n",
      "    getModel\n",
      "\n",
      "The following object is masked from 'package:modeltools':\n",
      "\n",
      "    getModel\n",
      "\n"
     ]
    },
    {
     "data": {
      "image/png": "[encoded data removed]",
      "text/plain": [
       "Plot with title \"Bivariate Normal Distribution with rho=0.5\""
      ]
     },
     "metadata": {},
     "output_type": "display_data"
    }
   ],
   "source": [
    "library(fMultivar)\n",
    "set.seed(1234)\n",
    "df <- rnorm2d(1000, rho=.5)\n",
    "df <- as.data.frame(df)\n",
    "plot(df, main=\"Bivariate Normal Distribution with rho=0.5\")"
   ]
  },
  {
   "cell_type": "markdown",
   "id": "pretty-italy",
   "metadata": {},
   "source": [
    "The rnorm2d() function in the fMultivar package is used to sample 1,000 observations\n",
    "from a bivariate normal distribution with a correlation of 0.5."
   ]
  },
  {
   "cell_type": "code",
   "execution_count": 37,
   "id": "personal-concord",
   "metadata": {},
   "outputs": [
    {
     "data": {
      "image/png": "[encoded data removed]",
      "text/plain": [
       "plot without title"
      ]
     },
     "metadata": {},
     "output_type": "display_data"
    },
    {
     "name": "stdout",
     "output_type": "stream",
     "text": [
      "*** : The Hubert index is a graphical method of determining the number of clusters.\n",
      "                In the plot of Hubert index, we seek a significant knee that corresponds to a \n",
      "                significant increase of the value of the measure i.e the significant peak in Hubert\n",
      "                index second differences plot. \n",
      " \n"
     ]
    },
    {
     "data": {
      "image/png": "[encoded data removed]",
      "text/plain": [
       "plot without title"
      ]
     },
     "metadata": {},
     "output_type": "display_data"
    },
    {
     "name": "stdout",
     "output_type": "stream",
     "text": [
      "*** : The D index is a graphical method of determining the number of clusters. \n",
      "                In the plot of D index, we seek a significant knee (the significant peak in Dindex\n",
      "                second differences plot) that corresponds to a significant increase of the value of\n",
      "                the measure. \n",
      " \n",
      "******************************************************************* \n",
      "* Among all indices:                                                \n",
      "* 8 proposed 2 as the best number of clusters \n",
      "* 4 proposed 3 as the best number of clusters \n",
      "* 1 proposed 4 as the best number of clusters \n",
      "* 1 proposed 5 as the best number of clusters \n",
      "* 4 proposed 9 as the best number of clusters \n",
      "* 1 proposed 10 as the best number of clusters \n",
      "* 1 proposed 13 as the best number of clusters \n",
      "* 3 proposed 15 as the best number of clusters \n",
      "\n",
      "                   ***** Conclusion *****                            \n",
      " \n",
      "* According to the majority rule, the best number of clusters is  2 \n",
      " \n",
      " \n",
      "******************************************************************* \n"
     ]
    },
    {
     "data": {
      "image/png": "[encoded data removed]",
      "text/plain": [
       "plot without title"
      ]
     },
     "metadata": {},
     "output_type": "display_data"
    }
   ],
   "source": [
    "wssplot(df)\n",
    "library(NbClust)\n",
    "nc <- NbClust(df, min.nc=2, max.nc=15, method=\"kmeans\")\n",
    "dev.new()\n",
    "barplot(table(nc$Best.n[1,]),\n",
    "xlab=\"Number of Clusters\", ylab=\"Number of Criteria\",\n",
    "main=\"Number of Clusters Chosen by 26 Criteria\")"
   ]
  },
  {
   "cell_type": "markdown",
   "id": "mediterranean-engagement",
   "metadata": {},
   "source": [
    "The ```wssplot()``` function suggest that there are three clusters, whereas many of the criteria\n",
    "returned by ```NbClust()``` suggest between two and three clusters. If you carry out a\n",
    "two-cluster analysis with PAM"
   ]
  },
  {
   "cell_type": "code",
   "execution_count": 40,
   "id": "sorted-lesson",
   "metadata": {},
   "outputs": [
    {
     "data": {
      "image/png": "[encoded data removed]",
      "text/plain": [
       "plot without title"
      ]
     },
     "metadata": {},
     "output_type": "display_data"
    }
   ],
   "source": [
    "library(ggplot2)\n",
    "library(cluster)\n",
    "fit <- pam(df, k=2)\n",
    "df$clustering <- factor(fit$clustering)\n",
    "ggplot(data=df, aes(x=V1, y=V2, color=clustering, shape=clustering)) +\n",
    "geom_point() + ggtitle(\"Clustering of Bivariate Normal Data\")"
   ]
  },
  {
   "cell_type": "markdown",
   "id": "fuzzy-elimination",
   "metadata": {},
   "source": [
    "Clearly the partitioning is artificial. There are no real clusters here. How can you\n",
    "avoid this mistake? Although it isn’t foolproof, I have found that the Cubic Cluster\n",
    "Criteria (CCC) reported by NbClust can often help to uncover situations where no\n",
    "structure exists."
   ]
  },
  {
   "cell_type": "code",
   "execution_count": 39,
   "id": "defined-means",
   "metadata": {},
   "outputs": [
    {
     "data": {
      "image/png": "[encoded data removed]",
      "text/plain": [
       "plot without title"
      ]
     },
     "metadata": {},
     "output_type": "display_data"
    }
   ],
   "source": [
    "plot(nc$All.index[,4], type=\"o\", ylab=\"CCC\", xlab=\"Number of clusters\", col=\"blue\")"
   ]
  },
  {
   "cell_type": "markdown",
   "id": "beautiful-character",
   "metadata": {},
   "source": [
    "When the CCC values are all negative and decreasing for two or more clusters, the distribution is typically unimodal."
   ]
  },
  {
   "cell_type": "code",
   "execution_count": null,
   "id": "exempt-chart",
   "metadata": {},
   "outputs": [],
   "source": []
  }
 ],
 "metadata": {
  "kernelspec": {
   "display_name": "R",
   "language": "R",
   "name": "ir"
  },
  "language_info": {
   "codemirror_mode": "r",
   "file_extension": ".r",
   "mimetype": "text/x-r-source",
   "name": "R",
   "pygments_lexer": "r",
   "version": "3.6.3"
  }
 },
 "nbformat": 4,
 "nbformat_minor": 5
}
