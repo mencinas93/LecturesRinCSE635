{
 "cells": [
  {
   "cell_type": "markdown",
   "id": "atlantic-participant",
   "metadata": {
    "slideshow": {
     "slide_type": "slide"
    }
   },
   "source": [
    "# <center> Basic Statistics </center>"
   ]
  },
  {
   "cell_type": "markdown",
   "id": "critical-floor",
   "metadata": {
    "slideshow": {
     "slide_type": "slide"
    }
   },
   "source": [
    "## <center> Measures of Central Tendency, Variability, and Distribution Shape for continuous variables </center>\n",
    "### <center> Motor Trend Car Road Tests </center>"
   ]
  },
  {
   "cell_type": "markdown",
   "id": "velvet-designer",
   "metadata": {
    "slideshow": {
     "slide_type": "slide"
    }
   },
   "source": [
    "# The data"
   ]
  },
  {
   "cell_type": "markdown",
   "id": "adult-drove",
   "metadata": {},
   "source": [
    "* **mpg**\tMiles/(US) gallon\n",
    "* **cyl**\tNumber of cylinders\n",
    "* **disp**\tDisplacement (cu.in.)\n",
    "* **hp**\tGross horsepower\n",
    "* **drat**\tRear axle ratio\n",
    "* **wt**\tWeight (1000 lbs)\n",
    "* **qsec**\t1/4 mile time\n",
    "* **vs**\tEngine (0 = V-shaped, 1 = straight)\n",
    "* **am**\tTransmission (0 = automatic, 1 = manual)\n",
    "* **gear**\tNumber of forward gears\n",
    "* **carb**\tNumber of carburetors"
   ]
  },
  {
   "cell_type": "code",
   "execution_count": 4,
   "id": "turned-terrorism",
   "metadata": {
    "slideshow": {
     "slide_type": "slide"
    },
    "tags": []
   },
   "outputs": [
    {
     "data": {
      "text/html": [
       "<table class=\"dataframe\">\n",
       "<caption>A data.frame: 6 × 3</caption>\n",
       "<thead>\n",
       "\t<tr><th></th><th scope=col>mpg</th><th scope=col>hp</th><th scope=col>wt</th></tr>\n",
       "\t<tr><th></th><th scope=col>&lt;dbl&gt;</th><th scope=col>&lt;dbl&gt;</th><th scope=col>&lt;dbl&gt;</th></tr>\n",
       "</thead>\n",
       "<tbody>\n",
       "\t<tr><th scope=row>Mazda RX4</th><td>21.0</td><td>110</td><td>2.620</td></tr>\n",
       "\t<tr><th scope=row>Mazda RX4 Wag</th><td>21.0</td><td>110</td><td>2.875</td></tr>\n",
       "\t<tr><th scope=row>Datsun 710</th><td>22.8</td><td> 93</td><td>2.320</td></tr>\n",
       "\t<tr><th scope=row>Hornet 4 Drive</th><td>21.4</td><td>110</td><td>3.215</td></tr>\n",
       "\t<tr><th scope=row>Hornet Sportabout</th><td>18.7</td><td>175</td><td>3.440</td></tr>\n",
       "\t<tr><th scope=row>Valiant</th><td>18.1</td><td>105</td><td>3.460</td></tr>\n",
       "</tbody>\n",
       "</table>\n"
      ],
      "text/latex": [
       "A data.frame: 6 × 3\n",
       "\\begin{tabular}{r|lll}\n",
       "  & mpg & hp & wt\\\\\n",
       "  & <dbl> & <dbl> & <dbl>\\\\\n",
       "\\hline\n",
       "\tMazda RX4 & 21.0 & 110 & 2.620\\\\\n",
       "\tMazda RX4 Wag & 21.0 & 110 & 2.875\\\\\n",
       "\tDatsun 710 & 22.8 &  93 & 2.320\\\\\n",
       "\tHornet 4 Drive & 21.4 & 110 & 3.215\\\\\n",
       "\tHornet Sportabout & 18.7 & 175 & 3.440\\\\\n",
       "\tValiant & 18.1 & 105 & 3.460\\\\\n",
       "\\end{tabular}\n"
      ],
      "text/markdown": [
       "\n",
       "A data.frame: 6 × 3\n",
       "\n",
       "| <!--/--> | mpg &lt;dbl&gt; | hp &lt;dbl&gt; | wt &lt;dbl&gt; |\n",
       "|---|---|---|---|\n",
       "| Mazda RX4 | 21.0 | 110 | 2.620 |\n",
       "| Mazda RX4 Wag | 21.0 | 110 | 2.875 |\n",
       "| Datsun 710 | 22.8 |  93 | 2.320 |\n",
       "| Hornet 4 Drive | 21.4 | 110 | 3.215 |\n",
       "| Hornet Sportabout | 18.7 | 175 | 3.440 |\n",
       "| Valiant | 18.1 | 105 | 3.460 |\n",
       "\n"
      ],
      "text/plain": [
       "                  mpg  hp  wt   \n",
       "Mazda RX4         21.0 110 2.620\n",
       "Mazda RX4 Wag     21.0 110 2.875\n",
       "Datsun 710        22.8  93 2.320\n",
       "Hornet 4 Drive    21.4 110 3.215\n",
       "Hornet Sportabout 18.7 175 3.440\n",
       "Valiant           18.1 105 3.460"
      ]
     },
     "metadata": {},
     "output_type": "display_data"
    }
   ],
   "source": [
    "myvars <- c(\"mpg\", \"hp\", \"wt\")\n",
    "head(mtcars[myvars])"
   ]
  },
  {
   "cell_type": "markdown",
   "id": "peaceful-decrease",
   "metadata": {
    "slideshow": {
     "slide_type": "slide"
    }
   },
   "source": [
    "# Descriptive Statistics"
   ]
  },
  {
   "cell_type": "code",
   "execution_count": 6,
   "id": "nominated-establishment",
   "metadata": {
    "slideshow": {
     "slide_type": "slide"
    },
    "tags": []
   },
   "outputs": [
    {
     "data": {
      "text/plain": [
       "      mpg              hp              wt       \n",
       " Min.   :10.40   Min.   : 52.0   Min.   :1.513  \n",
       " 1st Qu.:15.43   1st Qu.: 96.5   1st Qu.:2.581  \n",
       " Median :19.20   Median :123.0   Median :3.325  \n",
       " Mean   :20.09   Mean   :146.7   Mean   :3.217  \n",
       " 3rd Qu.:22.80   3rd Qu.:180.0   3rd Qu.:3.610  \n",
       " Max.   :33.90   Max.   :335.0   Max.   :5.424  "
      ]
     },
     "metadata": {},
     "output_type": "display_data"
    }
   ],
   "source": [
    "summary(mtcars[myvars])"
   ]
  },
  {
   "cell_type": "markdown",
   "id": "selective-supplement",
   "metadata": {
    "slideshow": {
     "slide_type": "slide"
    }
   },
   "source": [
    "# Defining your own Statistics with ```sapply()```"
   ]
  },
  {
   "cell_type": "code",
   "execution_count": 3,
   "id": "sticky-wealth",
   "metadata": {},
   "outputs": [],
   "source": [
    "# Create a function\n",
    "mystats <- function(x, na.omit=FALSE){\n",
    "if (na.omit)\n",
    "x <- x[!is.na(x)]\n",
    "m <- mean(x)\n",
    "n <- length(x)\n",
    "s <- sd(x)\n",
    "skew <- sum((x-m)^3/s^3)/n\n",
    "kurt <- sum((x-m)^4/s^4)/n - 3\n",
    "return(c(n=n, mean=m, stdev=s, skew=skew, kurtosis=kurt))\n",
    "}"
   ]
  },
  {
   "cell_type": "markdown",
   "id": "diagnostic-garbage",
   "metadata": {
    "slideshow": {
     "slide_type": "slide"
    }
   },
   "source": [
    "**Skewness** is a measure of the asymmetry of the probability distribution of a real-valued random variable about its mean\n",
    "\n",
    "![](skew.png)"
   ]
  },
  {
   "cell_type": "markdown",
   "id": "laden-notion",
   "metadata": {
    "slideshow": {
     "slide_type": "slide"
    }
   },
   "source": [
    "**Kurtosis** is a statistical measure that defines how heavily the tails of a distribution differ from the tails of a normal distribution. In other words, kurtosis identifies whether the tails of a given distribution contain extreme values.\n",
    "\n",
    "![](kurt.png)"
   ]
  },
  {
   "cell_type": "code",
   "execution_count": 4,
   "id": "abstract-publisher",
   "metadata": {
    "slideshow": {
     "slide_type": "slide"
    }
   },
   "outputs": [
    {
     "data": {
      "text/html": [
       "<table class=\"dataframe\">\n",
       "<caption>A matrix: 5 × 3 of type dbl</caption>\n",
       "<thead>\n",
       "\t<tr><th></th><th scope=col>mpg</th><th scope=col>hp</th><th scope=col>wt</th></tr>\n",
       "</thead>\n",
       "<tbody>\n",
       "\t<tr><th scope=row>n</th><td>32.000000</td><td> 32.0000000</td><td>32.00000000</td></tr>\n",
       "\t<tr><th scope=row>mean</th><td>20.090625</td><td>146.6875000</td><td> 3.21725000</td></tr>\n",
       "\t<tr><th scope=row>stdev</th><td> 6.026948</td><td> 68.5628685</td><td> 0.97845744</td></tr>\n",
       "\t<tr><th scope=row>skew</th><td> 0.610655</td><td>  0.7260237</td><td> 0.42314646</td></tr>\n",
       "\t<tr><th scope=row>kurtosis</th><td>-0.372766</td><td> -0.1355511</td><td>-0.02271075</td></tr>\n",
       "</tbody>\n",
       "</table>\n"
      ],
      "text/latex": [
       "A matrix: 5 × 3 of type dbl\n",
       "\\begin{tabular}{r|lll}\n",
       "  & mpg & hp & wt\\\\\n",
       "\\hline\n",
       "\tn & 32.000000 &  32.0000000 & 32.00000000\\\\\n",
       "\tmean & 20.090625 & 146.6875000 &  3.21725000\\\\\n",
       "\tstdev &  6.026948 &  68.5628685 &  0.97845744\\\\\n",
       "\tskew &  0.610655 &   0.7260237 &  0.42314646\\\\\n",
       "\tkurtosis & -0.372766 &  -0.1355511 & -0.02271075\\\\\n",
       "\\end{tabular}\n"
      ],
      "text/markdown": [
       "\n",
       "A matrix: 5 × 3 of type dbl\n",
       "\n",
       "| <!--/--> | mpg | hp | wt |\n",
       "|---|---|---|---|\n",
       "| n | 32.000000 |  32.0000000 | 32.00000000 |\n",
       "| mean | 20.090625 | 146.6875000 |  3.21725000 |\n",
       "| stdev |  6.026948 |  68.5628685 |  0.97845744 |\n",
       "| skew |  0.610655 |   0.7260237 |  0.42314646 |\n",
       "| kurtosis | -0.372766 |  -0.1355511 | -0.02271075 |\n",
       "\n"
      ],
      "text/plain": [
       "         mpg       hp          wt         \n",
       "n        32.000000  32.0000000 32.00000000\n",
       "mean     20.090625 146.6875000  3.21725000\n",
       "stdev     6.026948  68.5628685  0.97845744\n",
       "skew      0.610655   0.7260237  0.42314646\n",
       "kurtosis -0.372766  -0.1355511 -0.02271075"
      ]
     },
     "metadata": {},
     "output_type": "display_data"
    }
   ],
   "source": [
    "# Apply the function\n",
    "sapply(mtcars[myvars], mystats)"
   ]
  },
  {
   "cell_type": "markdown",
   "id": "nasty-vaccine",
   "metadata": {
    "slideshow": {
     "slide_type": "slide"
    }
   },
   "source": [
    "# Methods Comming from User-contributed libraries"
   ]
  },
  {
   "cell_type": "code",
   "execution_count": 5,
   "id": "exciting-handling",
   "metadata": {
    "slideshow": {
     "slide_type": "skip"
    }
   },
   "outputs": [
    {
     "name": "stderr",
     "output_type": "stream",
     "text": [
      "also installing the dependencies 'deldir', 'RcppEigen', 'png', 'jpeg', 'interp', 'checkmate', 'Formula', 'latticeExtra', 'gridExtra', 'htmlTable', 'viridis'\n",
      "\n",
      "\n"
     ]
    },
    {
     "name": "stdout",
     "output_type": "stream",
     "text": [
      "package 'deldir' successfully unpacked and MD5 sums checked\n",
      "package 'RcppEigen' successfully unpacked and MD5 sums checked\n",
      "package 'png' successfully unpacked and MD5 sums checked\n",
      "package 'jpeg' successfully unpacked and MD5 sums checked\n",
      "package 'interp' successfully unpacked and MD5 sums checked\n",
      "package 'checkmate' successfully unpacked and MD5 sums checked\n",
      "package 'Formula' successfully unpacked and MD5 sums checked\n",
      "package 'latticeExtra' successfully unpacked and MD5 sums checked\n",
      "package 'gridExtra' successfully unpacked and MD5 sums checked\n",
      "package 'htmlTable' successfully unpacked and MD5 sums checked\n",
      "package 'viridis' successfully unpacked and MD5 sums checked\n",
      "package 'Hmisc' successfully unpacked and MD5 sums checked\n",
      "\n",
      "The downloaded binary packages are in\n",
      "\tC:\\Users\\Nemo\\AppData\\Local\\Temp\\Rtmp8gI1y5\\downloaded_packages\n"
     ]
    }
   ],
   "source": [
    "install.packages('Hmisc')"
   ]
  },
  {
   "cell_type": "code",
   "execution_count": 6,
   "id": "binary-arrival",
   "metadata": {
    "slideshow": {
     "slide_type": "skip"
    }
   },
   "outputs": [
    {
     "name": "stderr",
     "output_type": "stream",
     "text": [
      "Loading required package: lattice\n",
      "\n",
      "Loading required package: survival\n",
      "\n",
      "Loading required package: Formula\n",
      "\n",
      "Loading required package: ggplot2\n",
      "\n",
      "\n",
      "Attaching package: 'Hmisc'\n",
      "\n",
      "\n",
      "The following objects are masked from 'package:base':\n",
      "\n",
      "    format.pval, units\n",
      "\n",
      "\n"
     ]
    }
   ],
   "source": [
    "library(Hmisc)"
   ]
  },
  {
   "cell_type": "code",
   "execution_count": 7,
   "id": "adjusted-stream",
   "metadata": {
    "slideshow": {
     "slide_type": "slide"
    }
   },
   "outputs": [
    {
     "data": {
      "text/plain": [
       "mtcars[myvars] \n",
       "\n",
       " 3  Variables      32  Observations\n",
       "--------------------------------------------------------------------------------\n",
       "mpg \n",
       "       n  missing distinct     Info     Mean      Gmd      .05      .10 \n",
       "      32        0       25    0.999    20.09    6.796    12.00    14.34 \n",
       "     .25      .50      .75      .90      .95 \n",
       "   15.43    19.20    22.80    30.09    31.30 \n",
       "\n",
       "lowest : 10.4 13.3 14.3 14.7 15.0, highest: 26.0 27.3 30.4 32.4 33.9\n",
       "--------------------------------------------------------------------------------\n",
       "hp \n",
       "       n  missing distinct     Info     Mean      Gmd      .05      .10 \n",
       "      32        0       22    0.997    146.7    77.04    63.65    66.00 \n",
       "     .25      .50      .75      .90      .95 \n",
       "   96.50   123.00   180.00   243.50   253.55 \n",
       "\n",
       "lowest :  52  62  65  66  91, highest: 215 230 245 264 335\n",
       "--------------------------------------------------------------------------------\n",
       "wt \n",
       "       n  missing distinct     Info     Mean      Gmd      .05      .10 \n",
       "      32        0       29    0.999    3.217    1.089    1.736    1.956 \n",
       "     .25      .50      .75      .90      .95 \n",
       "   2.581    3.325    3.610    4.048    5.293 \n",
       "\n",
       "lowest : 1.513 1.615 1.835 1.935 2.140, highest: 3.845 4.070 5.250 5.345 5.424\n",
       "--------------------------------------------------------------------------------"
      ]
     },
     "metadata": {},
     "output_type": "display_data"
    }
   ],
   "source": [
    "describe(mtcars[myvars]) # Gmd Gini's mean difference: mean absolute difference between any two elements"
   ]
  },
  {
   "cell_type": "code",
   "execution_count": 8,
   "id": "accomplished-prayer",
   "metadata": {
    "slideshow": {
     "slide_type": "skip"
    }
   },
   "outputs": [
    {
     "name": "stdout",
     "output_type": "stream",
     "text": [
      "package 'pastecs' successfully unpacked and MD5 sums checked\n",
      "\n",
      "The downloaded binary packages are in\n",
      "\tC:\\Users\\Nemo\\AppData\\Local\\Temp\\Rtmp8gI1y5\\downloaded_packages\n"
     ]
    }
   ],
   "source": [
    "install.packages('pastecs')"
   ]
  },
  {
   "cell_type": "code",
   "execution_count": 9,
   "id": "polished-remove",
   "metadata": {
    "slideshow": {
     "slide_type": "skip"
    }
   },
   "outputs": [],
   "source": [
    "library(pastecs)"
   ]
  },
  {
   "cell_type": "code",
   "execution_count": 10,
   "id": "joint-shark",
   "metadata": {
    "slideshow": {
     "slide_type": "slide"
    }
   },
   "outputs": [
    {
     "data": {
      "text/html": [
       "<table class=\"dataframe\">\n",
       "<caption>A data.frame: 14 × 3</caption>\n",
       "<thead>\n",
       "\t<tr><th></th><th scope=col>mpg</th><th scope=col>hp</th><th scope=col>wt</th></tr>\n",
       "\t<tr><th></th><th scope=col>&lt;dbl&gt;</th><th scope=col>&lt;dbl&gt;</th><th scope=col>&lt;dbl&gt;</th></tr>\n",
       "</thead>\n",
       "<tbody>\n",
       "\t<tr><th scope=row>nbr.val</th><td> 32.0000000</td><td>  32.0000000</td><td> 32.0000000</td></tr>\n",
       "\t<tr><th scope=row>nbr.null</th><td>  0.0000000</td><td>   0.0000000</td><td>  0.0000000</td></tr>\n",
       "\t<tr><th scope=row>nbr.na</th><td>  0.0000000</td><td>   0.0000000</td><td>  0.0000000</td></tr>\n",
       "\t<tr><th scope=row>min</th><td> 10.4000000</td><td>  52.0000000</td><td>  1.5130000</td></tr>\n",
       "\t<tr><th scope=row>max</th><td> 33.9000000</td><td> 335.0000000</td><td>  5.4240000</td></tr>\n",
       "\t<tr><th scope=row>range</th><td> 23.5000000</td><td> 283.0000000</td><td>  3.9110000</td></tr>\n",
       "\t<tr><th scope=row>sum</th><td>642.9000000</td><td>4694.0000000</td><td>102.9520000</td></tr>\n",
       "\t<tr><th scope=row>median</th><td> 19.2000000</td><td> 123.0000000</td><td>  3.3250000</td></tr>\n",
       "\t<tr><th scope=row>mean</th><td> 20.0906250</td><td> 146.6875000</td><td>  3.2172500</td></tr>\n",
       "\t<tr><th scope=row>SE.mean</th><td>  1.0654240</td><td>  12.1203173</td><td>  0.1729685</td></tr>\n",
       "\t<tr><th scope=row>CI.mean.0.95</th><td>  2.1729465</td><td>  24.7195501</td><td>  0.3527715</td></tr>\n",
       "\t<tr><th scope=row>var</th><td> 36.3241028</td><td>4700.8669355</td><td>  0.9573790</td></tr>\n",
       "\t<tr><th scope=row>std.dev</th><td>  6.0269481</td><td>  68.5628685</td><td>  0.9784574</td></tr>\n",
       "\t<tr><th scope=row>coef.var</th><td>  0.2999881</td><td>   0.4674077</td><td>  0.3041285</td></tr>\n",
       "</tbody>\n",
       "</table>\n"
      ],
      "text/latex": [
       "A data.frame: 14 × 3\n",
       "\\begin{tabular}{r|lll}\n",
       "  & mpg & hp & wt\\\\\n",
       "  & <dbl> & <dbl> & <dbl>\\\\\n",
       "\\hline\n",
       "\tnbr.val &  32.0000000 &   32.0000000 &  32.0000000\\\\\n",
       "\tnbr.null &   0.0000000 &    0.0000000 &   0.0000000\\\\\n",
       "\tnbr.na &   0.0000000 &    0.0000000 &   0.0000000\\\\\n",
       "\tmin &  10.4000000 &   52.0000000 &   1.5130000\\\\\n",
       "\tmax &  33.9000000 &  335.0000000 &   5.4240000\\\\\n",
       "\trange &  23.5000000 &  283.0000000 &   3.9110000\\\\\n",
       "\tsum & 642.9000000 & 4694.0000000 & 102.9520000\\\\\n",
       "\tmedian &  19.2000000 &  123.0000000 &   3.3250000\\\\\n",
       "\tmean &  20.0906250 &  146.6875000 &   3.2172500\\\\\n",
       "\tSE.mean &   1.0654240 &   12.1203173 &   0.1729685\\\\\n",
       "\tCI.mean.0.95 &   2.1729465 &   24.7195501 &   0.3527715\\\\\n",
       "\tvar &  36.3241028 & 4700.8669355 &   0.9573790\\\\\n",
       "\tstd.dev &   6.0269481 &   68.5628685 &   0.9784574\\\\\n",
       "\tcoef.var &   0.2999881 &    0.4674077 &   0.3041285\\\\\n",
       "\\end{tabular}\n"
      ],
      "text/markdown": [
       "\n",
       "A data.frame: 14 × 3\n",
       "\n",
       "| <!--/--> | mpg &lt;dbl&gt; | hp &lt;dbl&gt; | wt &lt;dbl&gt; |\n",
       "|---|---|---|---|\n",
       "| nbr.val |  32.0000000 |   32.0000000 |  32.0000000 |\n",
       "| nbr.null |   0.0000000 |    0.0000000 |   0.0000000 |\n",
       "| nbr.na |   0.0000000 |    0.0000000 |   0.0000000 |\n",
       "| min |  10.4000000 |   52.0000000 |   1.5130000 |\n",
       "| max |  33.9000000 |  335.0000000 |   5.4240000 |\n",
       "| range |  23.5000000 |  283.0000000 |   3.9110000 |\n",
       "| sum | 642.9000000 | 4694.0000000 | 102.9520000 |\n",
       "| median |  19.2000000 |  123.0000000 |   3.3250000 |\n",
       "| mean |  20.0906250 |  146.6875000 |   3.2172500 |\n",
       "| SE.mean |   1.0654240 |   12.1203173 |   0.1729685 |\n",
       "| CI.mean.0.95 |   2.1729465 |   24.7195501 |   0.3527715 |\n",
       "| var |  36.3241028 | 4700.8669355 |   0.9573790 |\n",
       "| std.dev |   6.0269481 |   68.5628685 |   0.9784574 |\n",
       "| coef.var |   0.2999881 |    0.4674077 |   0.3041285 |\n",
       "\n"
      ],
      "text/plain": [
       "             mpg         hp           wt         \n",
       "nbr.val       32.0000000   32.0000000  32.0000000\n",
       "nbr.null       0.0000000    0.0000000   0.0000000\n",
       "nbr.na         0.0000000    0.0000000   0.0000000\n",
       "min           10.4000000   52.0000000   1.5130000\n",
       "max           33.9000000  335.0000000   5.4240000\n",
       "range         23.5000000  283.0000000   3.9110000\n",
       "sum          642.9000000 4694.0000000 102.9520000\n",
       "median        19.2000000  123.0000000   3.3250000\n",
       "mean          20.0906250  146.6875000   3.2172500\n",
       "SE.mean        1.0654240   12.1203173   0.1729685\n",
       "CI.mean.0.95   2.1729465   24.7195501   0.3527715\n",
       "var           36.3241028 4700.8669355   0.9573790\n",
       "std.dev        6.0269481   68.5628685   0.9784574\n",
       "coef.var       0.2999881    0.4674077   0.3041285"
      ]
     },
     "metadata": {},
     "output_type": "display_data"
    }
   ],
   "source": [
    "stat.desc(mtcars[myvars])"
   ]
  },
  {
   "cell_type": "code",
   "execution_count": 11,
   "id": "contrary-bearing",
   "metadata": {
    "slideshow": {
     "slide_type": "skip"
    }
   },
   "outputs": [
    {
     "name": "stderr",
     "output_type": "stream",
     "text": [
      "also installing the dependency 'mnormt'\n",
      "\n",
      "\n"
     ]
    },
    {
     "name": "stdout",
     "output_type": "stream",
     "text": [
      "package 'mnormt' successfully unpacked and MD5 sums checked\n",
      "package 'psych' successfully unpacked and MD5 sums checked\n",
      "\n",
      "The downloaded binary packages are in\n",
      "\tC:\\Users\\Nemo\\AppData\\Local\\Temp\\Rtmp8gI1y5\\downloaded_packages\n"
     ]
    }
   ],
   "source": [
    "install.packages('psych')"
   ]
  },
  {
   "cell_type": "code",
   "execution_count": 12,
   "id": "flexible-backup",
   "metadata": {
    "slideshow": {
     "slide_type": "skip"
    }
   },
   "outputs": [
    {
     "name": "stderr",
     "output_type": "stream",
     "text": [
      "\n",
      "Attaching package: 'psych'\n",
      "\n",
      "\n",
      "The following object is masked from 'package:Hmisc':\n",
      "\n",
      "    describe\n",
      "\n",
      "\n",
      "The following objects are masked from 'package:ggplot2':\n",
      "\n",
      "    %+%, alpha\n",
      "\n",
      "\n"
     ]
    }
   ],
   "source": [
    "library(psych)"
   ]
  },
  {
   "cell_type": "code",
   "execution_count": 13,
   "id": "signed-borough",
   "metadata": {
    "slideshow": {
     "slide_type": "slide"
    }
   },
   "outputs": [
    {
     "data": {
      "text/html": [
       "<table class=\"dataframe\">\n",
       "<caption>A psych: 3 × 13</caption>\n",
       "<thead>\n",
       "\t<tr><th></th><th scope=col>vars</th><th scope=col>n</th><th scope=col>mean</th><th scope=col>sd</th><th scope=col>median</th><th scope=col>trimmed</th><th scope=col>mad</th><th scope=col>min</th><th scope=col>max</th><th scope=col>range</th><th scope=col>skew</th><th scope=col>kurtosis</th><th scope=col>se</th></tr>\n",
       "\t<tr><th></th><th scope=col>&lt;int&gt;</th><th scope=col>&lt;dbl&gt;</th><th scope=col>&lt;dbl&gt;</th><th scope=col>&lt;dbl&gt;</th><th scope=col>&lt;dbl&gt;</th><th scope=col>&lt;dbl&gt;</th><th scope=col>&lt;dbl&gt;</th><th scope=col>&lt;dbl&gt;</th><th scope=col>&lt;dbl&gt;</th><th scope=col>&lt;dbl&gt;</th><th scope=col>&lt;dbl&gt;</th><th scope=col>&lt;dbl&gt;</th><th scope=col>&lt;dbl&gt;</th></tr>\n",
       "</thead>\n",
       "<tbody>\n",
       "\t<tr><th scope=row>mpg</th><td>1</td><td>32</td><td> 20.09062</td><td> 6.0269481</td><td> 19.200</td><td> 19.696154</td><td> 5.4114900</td><td>10.400</td><td> 33.900</td><td> 23.500</td><td>0.6106550</td><td>-0.37276603</td><td> 1.0654240</td></tr>\n",
       "\t<tr><th scope=row>hp</th><td>2</td><td>32</td><td>146.68750</td><td>68.5628685</td><td>123.000</td><td>141.192308</td><td>77.0952000</td><td>52.000</td><td>335.000</td><td>283.000</td><td>0.7260237</td><td>-0.13555112</td><td>12.1203173</td></tr>\n",
       "\t<tr><th scope=row>wt</th><td>3</td><td>32</td><td>  3.21725</td><td> 0.9784574</td><td>  3.325</td><td>  3.152692</td><td> 0.7672455</td><td> 1.513</td><td>  5.424</td><td>  3.911</td><td>0.4231465</td><td>-0.02271075</td><td> 0.1729685</td></tr>\n",
       "</tbody>\n",
       "</table>\n"
      ],
      "text/latex": [
       "A psych: 3 × 13\n",
       "\\begin{tabular}{r|lllllllllllll}\n",
       "  & vars & n & mean & sd & median & trimmed & mad & min & max & range & skew & kurtosis & se\\\\\n",
       "  & <int> & <dbl> & <dbl> & <dbl> & <dbl> & <dbl> & <dbl> & <dbl> & <dbl> & <dbl> & <dbl> & <dbl> & <dbl>\\\\\n",
       "\\hline\n",
       "\tmpg & 1 & 32 &  20.09062 &  6.0269481 &  19.200 &  19.696154 &  5.4114900 & 10.400 &  33.900 &  23.500 & 0.6106550 & -0.37276603 &  1.0654240\\\\\n",
       "\thp & 2 & 32 & 146.68750 & 68.5628685 & 123.000 & 141.192308 & 77.0952000 & 52.000 & 335.000 & 283.000 & 0.7260237 & -0.13555112 & 12.1203173\\\\\n",
       "\twt & 3 & 32 &   3.21725 &  0.9784574 &   3.325 &   3.152692 &  0.7672455 &  1.513 &   5.424 &   3.911 & 0.4231465 & -0.02271075 &  0.1729685\\\\\n",
       "\\end{tabular}\n"
      ],
      "text/markdown": [
       "\n",
       "A psych: 3 × 13\n",
       "\n",
       "| <!--/--> | vars &lt;int&gt; | n &lt;dbl&gt; | mean &lt;dbl&gt; | sd &lt;dbl&gt; | median &lt;dbl&gt; | trimmed &lt;dbl&gt; | mad &lt;dbl&gt; | min &lt;dbl&gt; | max &lt;dbl&gt; | range &lt;dbl&gt; | skew &lt;dbl&gt; | kurtosis &lt;dbl&gt; | se &lt;dbl&gt; |\n",
       "|---|---|---|---|---|---|---|---|---|---|---|---|---|---|\n",
       "| mpg | 1 | 32 |  20.09062 |  6.0269481 |  19.200 |  19.696154 |  5.4114900 | 10.400 |  33.900 |  23.500 | 0.6106550 | -0.37276603 |  1.0654240 |\n",
       "| hp | 2 | 32 | 146.68750 | 68.5628685 | 123.000 | 141.192308 | 77.0952000 | 52.000 | 335.000 | 283.000 | 0.7260237 | -0.13555112 | 12.1203173 |\n",
       "| wt | 3 | 32 |   3.21725 |  0.9784574 |   3.325 |   3.152692 |  0.7672455 |  1.513 |   5.424 |   3.911 | 0.4231465 | -0.02271075 |  0.1729685 |\n",
       "\n"
      ],
      "text/plain": [
       "    vars n  mean      sd         median  trimmed    mad        min    max    \n",
       "mpg 1    32  20.09062  6.0269481  19.200  19.696154  5.4114900 10.400  33.900\n",
       "hp  2    32 146.68750 68.5628685 123.000 141.192308 77.0952000 52.000 335.000\n",
       "wt  3    32   3.21725  0.9784574   3.325   3.152692  0.7672455  1.513   5.424\n",
       "    range   skew      kurtosis    se        \n",
       "mpg  23.500 0.6106550 -0.37276603  1.0654240\n",
       "hp  283.000 0.7260237 -0.13555112 12.1203173\n",
       "wt    3.911 0.4231465 -0.02271075  0.1729685"
      ]
     },
     "metadata": {},
     "output_type": "display_data"
    }
   ],
   "source": [
    "describe(mtcars[myvars])"
   ]
  },
  {
   "cell_type": "markdown",
   "id": "warming-coast",
   "metadata": {
    "slideshow": {
     "slide_type": "slide"
    }
   },
   "source": [
    "# Descriptive Statistics by Group ```aggregate()```"
   ]
  },
  {
   "cell_type": "code",
   "execution_count": 14,
   "id": "third-denial",
   "metadata": {},
   "outputs": [],
   "source": [
    "myvars <- c(\"mpg\", \"hp\", \"wt\")"
   ]
  },
  {
   "cell_type": "code",
   "execution_count": 15,
   "id": "geological-little",
   "metadata": {},
   "outputs": [
    {
     "data": {
      "text/html": [
       "<table class=\"dataframe\">\n",
       "<caption>A data.frame: 2 × 4</caption>\n",
       "<thead>\n",
       "\t<tr><th scope=col>am</th><th scope=col>mpg</th><th scope=col>hp</th><th scope=col>wt</th></tr>\n",
       "\t<tr><th scope=col>&lt;dbl&gt;</th><th scope=col>&lt;dbl&gt;</th><th scope=col>&lt;dbl&gt;</th><th scope=col>&lt;dbl&gt;</th></tr>\n",
       "</thead>\n",
       "<tbody>\n",
       "\t<tr><td>0</td><td>17.14737</td><td>160.2632</td><td>3.768895</td></tr>\n",
       "\t<tr><td>1</td><td>24.39231</td><td>126.8462</td><td>2.411000</td></tr>\n",
       "</tbody>\n",
       "</table>\n"
      ],
      "text/latex": [
       "A data.frame: 2 × 4\n",
       "\\begin{tabular}{llll}\n",
       " am & mpg & hp & wt\\\\\n",
       " <dbl> & <dbl> & <dbl> & <dbl>\\\\\n",
       "\\hline\n",
       "\t 0 & 17.14737 & 160.2632 & 3.768895\\\\\n",
       "\t 1 & 24.39231 & 126.8462 & 2.411000\\\\\n",
       "\\end{tabular}\n"
      ],
      "text/markdown": [
       "\n",
       "A data.frame: 2 × 4\n",
       "\n",
       "| am &lt;dbl&gt; | mpg &lt;dbl&gt; | hp &lt;dbl&gt; | wt &lt;dbl&gt; |\n",
       "|---|---|---|---|\n",
       "| 0 | 17.14737 | 160.2632 | 3.768895 |\n",
       "| 1 | 24.39231 | 126.8462 | 2.411000 |\n",
       "\n"
      ],
      "text/plain": [
       "  am mpg      hp       wt      \n",
       "1 0  17.14737 160.2632 3.768895\n",
       "2 1  24.39231 126.8462 2.411000"
      ]
     },
     "metadata": {},
     "output_type": "display_data"
    }
   ],
   "source": [
    "aggregate(mtcars[myvars], by=list(am=mtcars$am), mean)"
   ]
  },
  {
   "cell_type": "code",
   "execution_count": 16,
   "id": "eastern-conclusion",
   "metadata": {},
   "outputs": [
    {
     "data": {
      "text/html": [
       "<table class=\"dataframe\">\n",
       "<caption>A data.frame: 2 × 4</caption>\n",
       "<thead>\n",
       "\t<tr><th scope=col>am</th><th scope=col>mpg</th><th scope=col>hp</th><th scope=col>wt</th></tr>\n",
       "\t<tr><th scope=col>&lt;dbl&gt;</th><th scope=col>&lt;dbl&gt;</th><th scope=col>&lt;dbl&gt;</th><th scope=col>&lt;dbl&gt;</th></tr>\n",
       "</thead>\n",
       "<tbody>\n",
       "\t<tr><td>0</td><td>3.833966</td><td>53.90820</td><td>0.7774001</td></tr>\n",
       "\t<tr><td>1</td><td>6.166504</td><td>84.06232</td><td>0.6169816</td></tr>\n",
       "</tbody>\n",
       "</table>\n"
      ],
      "text/latex": [
       "A data.frame: 2 × 4\n",
       "\\begin{tabular}{llll}\n",
       " am & mpg & hp & wt\\\\\n",
       " <dbl> & <dbl> & <dbl> & <dbl>\\\\\n",
       "\\hline\n",
       "\t 0 & 3.833966 & 53.90820 & 0.7774001\\\\\n",
       "\t 1 & 6.166504 & 84.06232 & 0.6169816\\\\\n",
       "\\end{tabular}\n"
      ],
      "text/markdown": [
       "\n",
       "A data.frame: 2 × 4\n",
       "\n",
       "| am &lt;dbl&gt; | mpg &lt;dbl&gt; | hp &lt;dbl&gt; | wt &lt;dbl&gt; |\n",
       "|---|---|---|---|\n",
       "| 0 | 3.833966 | 53.90820 | 0.7774001 |\n",
       "| 1 | 6.166504 | 84.06232 | 0.6169816 |\n",
       "\n"
      ],
      "text/plain": [
       "  am mpg      hp       wt       \n",
       "1 0  3.833966 53.90820 0.7774001\n",
       "2 1  6.166504 84.06232 0.6169816"
      ]
     },
     "metadata": {},
     "output_type": "display_data"
    }
   ],
   "source": [
    "aggregate(mtcars[myvars], by=list(am=mtcars$am), sd)"
   ]
  },
  {
   "cell_type": "markdown",
   "id": "graphic-bowling",
   "metadata": {
    "slideshow": {
     "slide_type": "slide"
    }
   },
   "source": [
    "# Descriptive Statistics by Group ```by()```"
   ]
  },
  {
   "cell_type": "markdown",
   "id": "thousand-moral",
   "metadata": {},
   "source": [
    "```by(data, INDICES, FUN)```"
   ]
  },
  {
   "cell_type": "markdown",
   "id": "upper-handling",
   "metadata": {
    "slideshow": {
     "slide_type": "slide"
    }
   },
   "source": [
    "Remember the stats\n",
    "``` Python\n",
    "mystats <- function(x, na.omit=FALSE){\n",
    "if (na.omit)\n",
    "x <- x[!is.na(x)]\n",
    "m <- mean(x)\n",
    "n <- length(x)\n",
    "s <- sd(x)\n",
    "skew <- sum((x-m)^3/s^3)/n\n",
    "kurt <- sum((x-m)^4/s^4)/n - 3\n",
    "return(c(n=n, mean=m, stdev=s, skew=skew, kurtosis=kurt))\n",
    "}\n",
    "```"
   ]
  },
  {
   "cell_type": "code",
   "execution_count": 17,
   "id": "varied-creation",
   "metadata": {
    "slideshow": {
     "slide_type": "slide"
    }
   },
   "outputs": [],
   "source": [
    "dstats <- function(x)sapply(x, mystats)"
   ]
  },
  {
   "cell_type": "code",
   "execution_count": 18,
   "id": "indie-orange",
   "metadata": {},
   "outputs": [],
   "source": [
    "myvars <- c(\"mpg\", \"hp\", \"wt\")"
   ]
  },
  {
   "cell_type": "code",
   "execution_count": 19,
   "id": "aquatic-growth",
   "metadata": {},
   "outputs": [
    {
     "data": {
      "text/plain": [
       "mtcars$am: 0\n",
       "                 mpg           hp         wt\n",
       "n        19.00000000  19.00000000 19.0000000\n",
       "mean     17.14736842 160.26315789  3.7688947\n",
       "stdev     3.83396639  53.90819573  0.7774001\n",
       "skew      0.01395038  -0.01422519  0.9759294\n",
       "kurtosis -0.80317826  -1.20969733  0.1415676\n",
       "------------------------------------------------------------ \n",
       "mtcars$am: 1\n",
       "                 mpg          hp         wt\n",
       "n        13.00000000  13.0000000 13.0000000\n",
       "mean     24.39230769 126.8461538  2.4110000\n",
       "stdev     6.16650381  84.0623243  0.6169816\n",
       "skew      0.05256118   1.3598859  0.2103128\n",
       "kurtosis -1.45535200   0.5634635 -1.1737358"
      ]
     },
     "metadata": {},
     "output_type": "display_data"
    }
   ],
   "source": [
    "by(mtcars[myvars], mtcars$am, dstats)"
   ]
  },
  {
   "cell_type": "markdown",
   "id": "accompanied-western",
   "metadata": {
    "slideshow": {
     "slide_type": "slide"
    }
   },
   "source": [
    "# Summary Statistics by Group using ```summaryBy()```"
   ]
  },
  {
   "cell_type": "code",
   "execution_count": 20,
   "id": "pretty-circular",
   "metadata": {
    "slideshow": {
     "slide_type": "skip"
    }
   },
   "outputs": [
    {
     "name": "stderr",
     "output_type": "stream",
     "text": [
      "also installing the dependencies 'rprojroot', 'diffobj', 'brio', 'desc', 'pkgload', 'praise', 'waldo', 'testthat', 'minqa', 'nloptr', 'lme4', 'Deriv', 'microbenchmark', 'pbkrtest'\n",
      "\n",
      "\n"
     ]
    },
    {
     "name": "stdout",
     "output_type": "stream",
     "text": [
      "package 'rprojroot' successfully unpacked and MD5 sums checked\n",
      "package 'diffobj' successfully unpacked and MD5 sums checked\n",
      "package 'brio' successfully unpacked and MD5 sums checked\n",
      "package 'desc' successfully unpacked and MD5 sums checked\n",
      "package 'pkgload' successfully unpacked and MD5 sums checked\n",
      "package 'praise' successfully unpacked and MD5 sums checked\n",
      "package 'waldo' successfully unpacked and MD5 sums checked\n",
      "package 'testthat' successfully unpacked and MD5 sums checked\n",
      "package 'minqa' successfully unpacked and MD5 sums checked\n",
      "package 'nloptr' successfully unpacked and MD5 sums checked\n",
      "package 'lme4' successfully unpacked and MD5 sums checked\n",
      "package 'Deriv' successfully unpacked and MD5 sums checked\n",
      "package 'microbenchmark' successfully unpacked and MD5 sums checked\n",
      "package 'pbkrtest' successfully unpacked and MD5 sums checked\n",
      "package 'doBy' successfully unpacked and MD5 sums checked\n",
      "\n",
      "The downloaded binary packages are in\n",
      "\tC:\\Users\\Nemo\\AppData\\Local\\Temp\\Rtmp8gI1y5\\downloaded_packages\n"
     ]
    }
   ],
   "source": [
    "install.packages('doBy')\n",
    "library(doBy)"
   ]
  },
  {
   "cell_type": "markdown",
   "id": "medium-spirituality",
   "metadata": {
    "slideshow": {
     "slide_type": "slide"
    }
   },
   "source": [
    "Variables on the left of the ~ are the numeric variables to be analyzed, and variables on the right are categorical grouping variables.\n",
    "\n",
    "```summaryBy(formula, data=dataframe, FUN=function)```\n",
    "\n",
    "$var1 + var2 + var3 + ... + varN ~ groupvar1 + groupvar2 + ... + groupvarN$"
   ]
  },
  {
   "cell_type": "code",
   "execution_count": 21,
   "id": "polish-embassy",
   "metadata": {},
   "outputs": [
    {
     "data": {
      "text/html": [
       "<table class=\"dataframe\">\n",
       "<caption>A data.frame: 2 × 16</caption>\n",
       "<thead>\n",
       "\t<tr><th></th><th scope=col>am</th><th scope=col>mpg.n</th><th scope=col>mpg.mean</th><th scope=col>mpg.stdev</th><th scope=col>mpg.skew</th><th scope=col>mpg.kurtosis</th><th scope=col>hp.n</th><th scope=col>hp.mean</th><th scope=col>hp.stdev</th><th scope=col>hp.skew</th><th scope=col>hp.kurtosis</th><th scope=col>wt.n</th><th scope=col>wt.mean</th><th scope=col>wt.stdev</th><th scope=col>wt.skew</th><th scope=col>wt.kurtosis</th></tr>\n",
       "\t<tr><th></th><th scope=col>&lt;dbl&gt;</th><th scope=col>&lt;dbl&gt;</th><th scope=col>&lt;dbl&gt;</th><th scope=col>&lt;dbl&gt;</th><th scope=col>&lt;dbl&gt;</th><th scope=col>&lt;dbl&gt;</th><th scope=col>&lt;dbl&gt;</th><th scope=col>&lt;dbl&gt;</th><th scope=col>&lt;dbl&gt;</th><th scope=col>&lt;dbl&gt;</th><th scope=col>&lt;dbl&gt;</th><th scope=col>&lt;dbl&gt;</th><th scope=col>&lt;dbl&gt;</th><th scope=col>&lt;dbl&gt;</th><th scope=col>&lt;dbl&gt;</th><th scope=col>&lt;dbl&gt;</th></tr>\n",
       "</thead>\n",
       "<tbody>\n",
       "\t<tr><th scope=row>1</th><td>0</td><td>19</td><td>17.14737</td><td>3.833966</td><td>0.01395038</td><td>-0.8031783</td><td>19</td><td>160.2632</td><td>53.90820</td><td>-0.01422519</td><td>-1.2096973</td><td>19</td><td>3.768895</td><td>0.7774001</td><td>0.9759294</td><td> 0.1415676</td></tr>\n",
       "\t<tr><th scope=row>2</th><td>1</td><td>13</td><td>24.39231</td><td>6.166504</td><td>0.05256118</td><td>-1.4553520</td><td>13</td><td>126.8462</td><td>84.06232</td><td> 1.35988586</td><td> 0.5634635</td><td>13</td><td>2.411000</td><td>0.6169816</td><td>0.2103128</td><td>-1.1737358</td></tr>\n",
       "</tbody>\n",
       "</table>\n"
      ],
      "text/latex": [
       "A data.frame: 2 × 16\n",
       "\\begin{tabular}{r|llllllllllllllll}\n",
       "  & am & mpg.n & mpg.mean & mpg.stdev & mpg.skew & mpg.kurtosis & hp.n & hp.mean & hp.stdev & hp.skew & hp.kurtosis & wt.n & wt.mean & wt.stdev & wt.skew & wt.kurtosis\\\\\n",
       "  & <dbl> & <dbl> & <dbl> & <dbl> & <dbl> & <dbl> & <dbl> & <dbl> & <dbl> & <dbl> & <dbl> & <dbl> & <dbl> & <dbl> & <dbl> & <dbl>\\\\\n",
       "\\hline\n",
       "\t1 & 0 & 19 & 17.14737 & 3.833966 & 0.01395038 & -0.8031783 & 19 & 160.2632 & 53.90820 & -0.01422519 & -1.2096973 & 19 & 3.768895 & 0.7774001 & 0.9759294 &  0.1415676\\\\\n",
       "\t2 & 1 & 13 & 24.39231 & 6.166504 & 0.05256118 & -1.4553520 & 13 & 126.8462 & 84.06232 &  1.35988586 &  0.5634635 & 13 & 2.411000 & 0.6169816 & 0.2103128 & -1.1737358\\\\\n",
       "\\end{tabular}\n"
      ],
      "text/markdown": [
       "\n",
       "A data.frame: 2 × 16\n",
       "\n",
       "| <!--/--> | am &lt;dbl&gt; | mpg.n &lt;dbl&gt; | mpg.mean &lt;dbl&gt; | mpg.stdev &lt;dbl&gt; | mpg.skew &lt;dbl&gt; | mpg.kurtosis &lt;dbl&gt; | hp.n &lt;dbl&gt; | hp.mean &lt;dbl&gt; | hp.stdev &lt;dbl&gt; | hp.skew &lt;dbl&gt; | hp.kurtosis &lt;dbl&gt; | wt.n &lt;dbl&gt; | wt.mean &lt;dbl&gt; | wt.stdev &lt;dbl&gt; | wt.skew &lt;dbl&gt; | wt.kurtosis &lt;dbl&gt; |\n",
       "|---|---|---|---|---|---|---|---|---|---|---|---|---|---|---|---|---|\n",
       "| 1 | 0 | 19 | 17.14737 | 3.833966 | 0.01395038 | -0.8031783 | 19 | 160.2632 | 53.90820 | -0.01422519 | -1.2096973 | 19 | 3.768895 | 0.7774001 | 0.9759294 |  0.1415676 |\n",
       "| 2 | 1 | 13 | 24.39231 | 6.166504 | 0.05256118 | -1.4553520 | 13 | 126.8462 | 84.06232 |  1.35988586 |  0.5634635 | 13 | 2.411000 | 0.6169816 | 0.2103128 | -1.1737358 |\n",
       "\n"
      ],
      "text/plain": [
       "  am mpg.n mpg.mean mpg.stdev mpg.skew   mpg.kurtosis hp.n hp.mean  hp.stdev\n",
       "1 0  19    17.14737 3.833966  0.01395038 -0.8031783   19   160.2632 53.90820\n",
       "2 1  13    24.39231 6.166504  0.05256118 -1.4553520   13   126.8462 84.06232\n",
       "  hp.skew     hp.kurtosis wt.n wt.mean  wt.stdev  wt.skew   wt.kurtosis\n",
       "1 -0.01422519 -1.2096973  19   3.768895 0.7774001 0.9759294  0.1415676 \n",
       "2  1.35988586  0.5634635  13   2.411000 0.6169816 0.2103128 -1.1737358 "
      ]
     },
     "metadata": {},
     "output_type": "display_data"
    }
   ],
   "source": [
    "summaryBy(mpg+hp+wt~am, data=mtcars, FUN=mystats)"
   ]
  },
  {
   "cell_type": "markdown",
   "id": "major-slide",
   "metadata": {
    "slideshow": {
     "slide_type": "slide"
    }
   },
   "source": [
    "# Frequency and Contingency Tables"
   ]
  },
  {
   "cell_type": "code",
   "execution_count": 22,
   "id": "impossible-trader",
   "metadata": {
    "slideshow": {
     "slide_type": "skip"
    }
   },
   "outputs": [
    {
     "name": "stderr",
     "output_type": "stream",
     "text": [
      "also installing the dependency 'lmtest'\n",
      "\n",
      "\n"
     ]
    },
    {
     "name": "stdout",
     "output_type": "stream",
     "text": [
      "package 'lmtest' successfully unpacked and MD5 sums checked\n",
      "package 'vcd' successfully unpacked and MD5 sums checked\n",
      "\n",
      "The downloaded binary packages are in\n",
      "\tC:\\Users\\Nemo\\AppData\\Local\\Temp\\Rtmp8gI1y5\\downloaded_packages\n"
     ]
    },
    {
     "name": "stderr",
     "output_type": "stream",
     "text": [
      "Loading required package: grid\n",
      "\n"
     ]
    }
   ],
   "source": [
    "install.packages('vcd')\n",
    "library(vcd)"
   ]
  },
  {
   "cell_type": "code",
   "execution_count": 23,
   "id": "provincial-tribune",
   "metadata": {
    "slideshow": {
     "slide_type": "slide"
    }
   },
   "outputs": [
    {
     "data": {
      "text/html": [
       "<table class=\"dataframe\">\n",
       "<caption>A data.frame: 6 × 5</caption>\n",
       "<thead>\n",
       "\t<tr><th></th><th scope=col>ID</th><th scope=col>Treatment</th><th scope=col>Sex</th><th scope=col>Age</th><th scope=col>Improved</th></tr>\n",
       "\t<tr><th></th><th scope=col>&lt;int&gt;</th><th scope=col>&lt;fct&gt;</th><th scope=col>&lt;fct&gt;</th><th scope=col>&lt;int&gt;</th><th scope=col>&lt;ord&gt;</th></tr>\n",
       "</thead>\n",
       "<tbody>\n",
       "\t<tr><th scope=row>1</th><td>57</td><td>Treated</td><td>Male</td><td>27</td><td>Some  </td></tr>\n",
       "\t<tr><th scope=row>2</th><td>46</td><td>Treated</td><td>Male</td><td>29</td><td>None  </td></tr>\n",
       "\t<tr><th scope=row>3</th><td>77</td><td>Treated</td><td>Male</td><td>30</td><td>None  </td></tr>\n",
       "\t<tr><th scope=row>4</th><td>17</td><td>Treated</td><td>Male</td><td>32</td><td>Marked</td></tr>\n",
       "\t<tr><th scope=row>5</th><td>36</td><td>Treated</td><td>Male</td><td>46</td><td>Marked</td></tr>\n",
       "\t<tr><th scope=row>6</th><td>23</td><td>Treated</td><td>Male</td><td>58</td><td>Marked</td></tr>\n",
       "</tbody>\n",
       "</table>\n"
      ],
      "text/latex": [
       "A data.frame: 6 × 5\n",
       "\\begin{tabular}{r|lllll}\n",
       "  & ID & Treatment & Sex & Age & Improved\\\\\n",
       "  & <int> & <fct> & <fct> & <int> & <ord>\\\\\n",
       "\\hline\n",
       "\t1 & 57 & Treated & Male & 27 & Some  \\\\\n",
       "\t2 & 46 & Treated & Male & 29 & None  \\\\\n",
       "\t3 & 77 & Treated & Male & 30 & None  \\\\\n",
       "\t4 & 17 & Treated & Male & 32 & Marked\\\\\n",
       "\t5 & 36 & Treated & Male & 46 & Marked\\\\\n",
       "\t6 & 23 & Treated & Male & 58 & Marked\\\\\n",
       "\\end{tabular}\n"
      ],
      "text/markdown": [
       "\n",
       "A data.frame: 6 × 5\n",
       "\n",
       "| <!--/--> | ID &lt;int&gt; | Treatment &lt;fct&gt; | Sex &lt;fct&gt; | Age &lt;int&gt; | Improved &lt;ord&gt; |\n",
       "|---|---|---|---|---|---|\n",
       "| 1 | 57 | Treated | Male | 27 | Some   |\n",
       "| 2 | 46 | Treated | Male | 29 | None   |\n",
       "| 3 | 77 | Treated | Male | 30 | None   |\n",
       "| 4 | 17 | Treated | Male | 32 | Marked |\n",
       "| 5 | 36 | Treated | Male | 46 | Marked |\n",
       "| 6 | 23 | Treated | Male | 58 | Marked |\n",
       "\n"
      ],
      "text/plain": [
       "  ID Treatment Sex  Age Improved\n",
       "1 57 Treated   Male 27  Some    \n",
       "2 46 Treated   Male 29  None    \n",
       "3 77 Treated   Male 30  None    \n",
       "4 17 Treated   Male 32  Marked  \n",
       "5 36 Treated   Male 46  Marked  \n",
       "6 23 Treated   Male 58  Marked  "
      ]
     },
     "metadata": {},
     "output_type": "display_data"
    }
   ],
   "source": [
    "head(Arthritis)"
   ]
  },
  {
   "cell_type": "markdown",
   "id": "fundamental-program",
   "metadata": {},
   "source": [
    "* Treatment (Placebo, Treated)\n",
    "* Sex (Male, Female)\n",
    "* Improved (None, Some, Marked)"
   ]
  },
  {
   "cell_type": "markdown",
   "id": "gentle-living",
   "metadata": {
    "slideshow": {
     "slide_type": "slide"
    }
   },
   "source": [
    "![](table_tables.png)"
   ]
  },
  {
   "cell_type": "code",
   "execution_count": 24,
   "id": "informational-usage",
   "metadata": {
    "slideshow": {
     "slide_type": "slide"
    }
   },
   "outputs": [
    {
     "data": {
      "text/plain": [
       "Improved\n",
       "  None   Some Marked \n",
       "    42     14     28 "
      ]
     },
     "metadata": {},
     "output_type": "display_data"
    }
   ],
   "source": [
    "mytable <- with(Arthritis, table(Improved))\n",
    "mytable"
   ]
  },
  {
   "cell_type": "code",
   "execution_count": 25,
   "id": "killing-crossing",
   "metadata": {},
   "outputs": [
    {
     "data": {
      "text/plain": [
       "Improved\n",
       "     None      Some    Marked \n",
       "0.5000000 0.1666667 0.3333333 "
      ]
     },
     "metadata": {},
     "output_type": "display_data"
    }
   ],
   "source": [
    "prop.table(mytable)"
   ]
  },
  {
   "cell_type": "markdown",
   "id": "marked-domestic",
   "metadata": {
    "slideshow": {
     "slide_type": "slide"
    }
   },
   "source": [
    "# Two way Tables"
   ]
  },
  {
   "cell_type": "markdown",
   "id": "forty-spain",
   "metadata": {
    "slideshow": {
     "slide_type": "slide"
    }
   },
   "source": [
    "the ```xtabs()``` function allows you to create a contingency table using formula-style input. The format is\n",
    "\n",
    "```mytable <- xtabs(~ A + B, data=mydata)```\n",
    "\n",
    "where mydata is a matrix or data frame. In general, the variables to be cross-classified\n",
    "appear on the right of the formula (that is, to the right of the ~) separated by + signs."
   ]
  },
  {
   "cell_type": "code",
   "execution_count": 26,
   "id": "italian-custom",
   "metadata": {},
   "outputs": [
    {
     "data": {
      "text/plain": [
       "         Improved\n",
       "Treatment None Some Marked\n",
       "  Placebo   29    7      7\n",
       "  Treated   13    7     21"
      ]
     },
     "metadata": {},
     "output_type": "display_data"
    }
   ],
   "source": [
    "mytable <- xtabs(~ Treatment+Improved, data=Arthritis)\n",
    "mytable"
   ]
  },
  {
   "cell_type": "code",
   "execution_count": 27,
   "id": "inner-database",
   "metadata": {
    "slideshow": {
     "slide_type": "slide"
    }
   },
   "outputs": [
    {
     "data": {
      "text/plain": [
       "Treatment\n",
       "Placebo Treated \n",
       "     43      41 "
      ]
     },
     "metadata": {},
     "output_type": "display_data"
    }
   ],
   "source": [
    "# Marginal frequency\n",
    "margin.table(mytable, 1)"
   ]
  },
  {
   "cell_type": "code",
   "execution_count": 28,
   "id": "single-child",
   "metadata": {},
   "outputs": [
    {
     "data": {
      "text/plain": [
       "         Improved\n",
       "Treatment      None      Some    Marked\n",
       "  Placebo 0.6744186 0.1627907 0.1627907\n",
       "  Treated 0.3170732 0.1707317 0.5121951"
      ]
     },
     "metadata": {},
     "output_type": "display_data"
    }
   ],
   "source": [
    "# Proportions Tables\n",
    "prop.table(mytable, 1)"
   ]
  },
  {
   "cell_type": "markdown",
   "id": "controversial-sugar",
   "metadata": {},
   "source": [
    "The index (1) refers to the first variable in the ```table()``` statement. Looking at the\n",
    "table, you can see that $51\\%$ of treated individuals had marked improvement, compared\n",
    "to $16\\%$ of those receiving a placebo."
   ]
  },
  {
   "cell_type": "code",
   "execution_count": 29,
   "id": "conventional-leave",
   "metadata": {
    "slideshow": {
     "slide_type": "slide"
    }
   },
   "outputs": [
    {
     "data": {
      "text/plain": [
       "Improved\n",
       "  None   Some Marked \n",
       "    42     14     28 "
      ]
     },
     "metadata": {},
     "output_type": "display_data"
    }
   ],
   "source": [
    "margin.table(mytable, 2)"
   ]
  },
  {
   "cell_type": "code",
   "execution_count": 30,
   "id": "separated-toronto",
   "metadata": {},
   "outputs": [
    {
     "data": {
      "text/plain": [
       "         Improved\n",
       "Treatment      None      Some    Marked\n",
       "  Placebo 0.6904762 0.5000000 0.2500000\n",
       "  Treated 0.3095238 0.5000000 0.7500000"
      ]
     },
     "metadata": {},
     "output_type": "display_data"
    }
   ],
   "source": [
    "prop.table(mytable, 2)"
   ]
  },
  {
   "cell_type": "markdown",
   "id": "hungarian-helen",
   "metadata": {},
   "source": [
    "Here, the index (2) refers to the second variable in the table() statement."
   ]
  },
  {
   "cell_type": "markdown",
   "id": "southern-retirement",
   "metadata": {
    "slideshow": {
     "slide_type": "slide"
    }
   },
   "source": [
    "You can use the ```addmargins()``` function to add marginal sums to these tables."
   ]
  },
  {
   "cell_type": "code",
   "execution_count": 56,
   "id": "indirect-wrestling",
   "metadata": {},
   "outputs": [
    {
     "data": {
      "text/html": [
       "<table>\n",
       "<thead><tr><th></th><th scope=col>None</th><th scope=col>Some</th><th scope=col>Marked</th><th scope=col>Sum</th></tr></thead>\n",
       "<tbody>\n",
       "\t<tr><th scope=row>Placebo</th><td>29</td><td> 7</td><td> 7</td><td>43</td></tr>\n",
       "\t<tr><th scope=row>Treated</th><td>13</td><td> 7</td><td>21</td><td>41</td></tr>\n",
       "\t<tr><th scope=row>Sum</th><td>42</td><td>14</td><td>28</td><td>84</td></tr>\n",
       "</tbody>\n",
       "</table>\n"
      ],
      "text/latex": [
       "\\begin{tabular}{r|llll}\n",
       "  & None & Some & Marked & Sum\\\\\n",
       "\\hline\n",
       "\tPlacebo & 29 &  7 &  7 & 43\\\\\n",
       "\tTreated & 13 &  7 & 21 & 41\\\\\n",
       "\tSum & 42 & 14 & 28 & 84\\\\\n",
       "\\end{tabular}\n"
      ],
      "text/markdown": [
       "\n",
       "| <!--/--> | None | Some | Marked | Sum |\n",
       "|---|---|---|---|---|\n",
       "| Placebo | 29 |  7 |  7 | 43 |\n",
       "| Treated | 13 |  7 | 21 | 41 |\n",
       "| Sum | 42 | 14 | 28 | 84 |\n",
       "\n"
      ],
      "text/plain": [
       "         Improved\n",
       "Treatment None Some Marked Sum\n",
       "  Placebo 29    7    7     43 \n",
       "  Treated 13    7   21     41 \n",
       "  Sum     42   14   28     84 "
      ]
     },
     "metadata": {},
     "output_type": "display_data"
    }
   ],
   "source": [
    "addmargins(mytable)"
   ]
  },
  {
   "cell_type": "code",
   "execution_count": 57,
   "id": "heated-dragon",
   "metadata": {},
   "outputs": [
    {
     "data": {
      "text/html": [
       "<table>\n",
       "<thead><tr><th></th><th scope=col>None</th><th scope=col>Some</th><th scope=col>Marked</th><th scope=col>Sum</th></tr></thead>\n",
       "<tbody>\n",
       "\t<tr><th scope=row>Placebo</th><td>0.3452381 </td><td>0.08333333</td><td>0.08333333</td><td>0.5119048 </td></tr>\n",
       "\t<tr><th scope=row>Treated</th><td>0.1547619 </td><td>0.08333333</td><td>0.25000000</td><td>0.4880952 </td></tr>\n",
       "\t<tr><th scope=row>Sum</th><td>0.5000000 </td><td>0.16666667</td><td>0.33333333</td><td>1.0000000 </td></tr>\n",
       "</tbody>\n",
       "</table>\n"
      ],
      "text/latex": [
       "\\begin{tabular}{r|llll}\n",
       "  & None & Some & Marked & Sum\\\\\n",
       "\\hline\n",
       "\tPlacebo & 0.3452381  & 0.08333333 & 0.08333333 & 0.5119048 \\\\\n",
       "\tTreated & 0.1547619  & 0.08333333 & 0.25000000 & 0.4880952 \\\\\n",
       "\tSum & 0.5000000  & 0.16666667 & 0.33333333 & 1.0000000 \\\\\n",
       "\\end{tabular}\n"
      ],
      "text/markdown": [
       "\n",
       "| <!--/--> | None | Some | Marked | Sum |\n",
       "|---|---|---|---|---|\n",
       "| Placebo | 0.3452381  | 0.08333333 | 0.08333333 | 0.5119048  |\n",
       "| Treated | 0.1547619  | 0.08333333 | 0.25000000 | 0.4880952  |\n",
       "| Sum | 0.5000000  | 0.16666667 | 0.33333333 | 1.0000000  |\n",
       "\n"
      ],
      "text/plain": [
       "         Improved\n",
       "Treatment None      Some       Marked     Sum      \n",
       "  Placebo 0.3452381 0.08333333 0.08333333 0.5119048\n",
       "  Treated 0.1547619 0.08333333 0.25000000 0.4880952\n",
       "  Sum     0.5000000 0.16666667 0.33333333 1.0000000"
      ]
     },
     "metadata": {},
     "output_type": "display_data"
    }
   ],
   "source": [
    "addmargins(prop.table(mytable))"
   ]
  },
  {
   "cell_type": "markdown",
   "id": "studied-nightlife",
   "metadata": {
    "slideshow": {
     "slide_type": "slide"
    }
   },
   "source": [
    "# Two-way table using ```CrossTable```"
   ]
  },
  {
   "cell_type": "code",
   "execution_count": 59,
   "id": "bearing-roulette",
   "metadata": {
    "slideshow": {
     "slide_type": "slide"
    }
   },
   "outputs": [
    {
     "name": "stderr",
     "output_type": "stream",
     "text": [
      "Warning message:\n",
      "\"package 'gmodels' was built under R version 3.6.3\""
     ]
    },
    {
     "name": "stdout",
     "output_type": "stream",
     "text": [
      "\n",
      " \n",
      "   Cell Contents\n",
      "|-------------------------|\n",
      "|                       N |\n",
      "| Chi-square contribution |\n",
      "|           N / Row Total |\n",
      "|           N / Col Total |\n",
      "|         N / Table Total |\n",
      "|-------------------------|\n",
      "\n",
      " \n",
      "Total Observations in Table:  84 \n",
      "\n",
      " \n",
      "                    | Arthritis$Improved \n",
      "Arthritis$Treatment |      None |      Some |    Marked | Row Total | \n",
      "--------------------|-----------|-----------|-----------|-----------|\n",
      "            Placebo |        29 |         7 |         7 |        43 | \n",
      "                    |     2.616 |     0.004 |     3.752 |           | \n",
      "                    |     0.674 |     0.163 |     0.163 |     0.512 | \n",
      "                    |     0.690 |     0.500 |     0.250 |           | \n",
      "                    |     0.345 |     0.083 |     0.083 |           | \n",
      "--------------------|-----------|-----------|-----------|-----------|\n",
      "            Treated |        13 |         7 |        21 |        41 | \n",
      "                    |     2.744 |     0.004 |     3.935 |           | \n",
      "                    |     0.317 |     0.171 |     0.512 |     0.488 | \n",
      "                    |     0.310 |     0.500 |     0.750 |           | \n",
      "                    |     0.155 |     0.083 |     0.250 |           | \n",
      "--------------------|-----------|-----------|-----------|-----------|\n",
      "       Column Total |        42 |        14 |        28 |        84 | \n",
      "                    |     0.500 |     0.167 |     0.333 |           | \n",
      "--------------------|-----------|-----------|-----------|-----------|\n",
      "\n",
      " \n"
     ]
    }
   ],
   "source": [
    "library(gmodels)\n",
    "CrossTable(Arthritis$Treatment, Arthritis$Improved)"
   ]
  },
  {
   "cell_type": "markdown",
   "id": "skilled-opening",
   "metadata": {
    "slideshow": {
     "slide_type": "slide"
    }
   },
   "source": [
    "# Three-way contingency table "
   ]
  },
  {
   "cell_type": "code",
   "execution_count": 62,
   "id": "received-chaos",
   "metadata": {},
   "outputs": [
    {
     "data": {
      "text/plain": [
       ", , Improved = None\n",
       "\n",
       "         Sex\n",
       "Treatment Female Male\n",
       "  Placebo     19   10\n",
       "  Treated      6    7\n",
       "\n",
       ", , Improved = Some\n",
       "\n",
       "         Sex\n",
       "Treatment Female Male\n",
       "  Placebo      7    0\n",
       "  Treated      5    2\n",
       "\n",
       ", , Improved = Marked\n",
       "\n",
       "         Sex\n",
       "Treatment Female Male\n",
       "  Placebo      6    1\n",
       "  Treated     16    5\n"
      ]
     },
     "metadata": {},
     "output_type": "display_data"
    }
   ],
   "source": [
    "mytable <- xtabs(~ Treatment+Sex+Improved, data=Arthritis)\n",
    "mytable"
   ]
  },
  {
   "cell_type": "markdown",
   "id": "sufficient-jaguar",
   "metadata": {
    "slideshow": {
     "slide_type": "slide"
    }
   },
   "source": [
    "# print in a more convenient way"
   ]
  },
  {
   "cell_type": "code",
   "execution_count": 64,
   "id": "dynamic-pattern",
   "metadata": {},
   "outputs": [
    {
     "data": {
      "text/plain": [
       "                 Improved None Some Marked\n",
       "Treatment Sex                             \n",
       "Placebo   Female            19    7      6\n",
       "          Male              10    0      1\n",
       "Treated   Female             6    5     16\n",
       "          Male               7    2      5"
      ]
     },
     "metadata": {},
     "output_type": "display_data"
    }
   ],
   "source": [
    "ftable(mytable)"
   ]
  },
  {
   "cell_type": "code",
   "execution_count": 65,
   "id": "touched-thomson",
   "metadata": {
    "slideshow": {
     "slide_type": "slide"
    }
   },
   "outputs": [
    {
     "data": {
      "text/plain": [
       "Treatment\n",
       "Placebo Treated \n",
       "     43      41 "
      ]
     },
     "metadata": {},
     "output_type": "display_data"
    }
   ],
   "source": [
    "# Marginal Frequencies\n",
    "margin.table(mytable, 1) # or 2 or 3"
   ]
  },
  {
   "cell_type": "code",
   "execution_count": 66,
   "id": "paperback-landing",
   "metadata": {},
   "outputs": [
    {
     "data": {
      "text/plain": [
       "         Improved\n",
       "Treatment None Some Marked\n",
       "  Placebo   29    7      7\n",
       "  Treated   13    7     21"
      ]
     },
     "metadata": {},
     "output_type": "display_data"
    }
   ],
   "source": [
    "margin.table(mytable, c(1, 3))"
   ]
  },
  {
   "cell_type": "code",
   "execution_count": 67,
   "id": "italian-cisco",
   "metadata": {
    "slideshow": {
     "slide_type": "slide"
    }
   },
   "outputs": [
    {
     "data": {
      "text/plain": [
       "                 Improved       None       Some     Marked\n",
       "Treatment Sex                                             \n",
       "Placebo   Female          0.59375000 0.21875000 0.18750000\n",
       "          Male            0.90909091 0.00000000 0.09090909\n",
       "Treated   Female          0.22222222 0.18518519 0.59259259\n",
       "          Male            0.50000000 0.14285714 0.35714286"
      ]
     },
     "metadata": {},
     "output_type": "display_data"
    }
   ],
   "source": [
    "ftable(prop.table(mytable, c(1, 2)))"
   ]
  },
  {
   "cell_type": "code",
   "execution_count": 68,
   "id": "thorough-overall",
   "metadata": {},
   "outputs": [
    {
     "data": {
      "text/plain": [
       "                 Improved       None       Some     Marked        Sum\n",
       "Treatment Sex                                                        \n",
       "Placebo   Female          0.59375000 0.21875000 0.18750000 1.00000000\n",
       "          Male            0.90909091 0.00000000 0.09090909 1.00000000\n",
       "Treated   Female          0.22222222 0.18518519 0.59259259 1.00000000\n",
       "          Male            0.50000000 0.14285714 0.35714286 1.00000000"
      ]
     },
     "metadata": {},
     "output_type": "display_data"
    }
   ],
   "source": [
    "ftable(addmargins(prop.table(mytable, c(1, 2)), 3))"
   ]
  },
  {
   "cell_type": "markdown",
   "id": "urban-interstate",
   "metadata": {
    "slideshow": {
     "slide_type": "slide"
    }
   },
   "source": [
    "# Test of Independence"
   ]
  },
  {
   "cell_type": "markdown",
   "id": "personalized-guidance",
   "metadata": {
    "slideshow": {
     "slide_type": "slide"
    }
   },
   "source": [
    "# Chi-square Test\n",
    "Chi-square test of independence\n",
    "It tests to see whether distributions of categorical variables differ from each another.\n",
    "\n",
    "* A very small chi square test statistic means that your observed data fits your expected data extremely well. In other words, there is a relationship.\n",
    "* A very large chi square test statistic means that the data does not fit very well. In other words, there isn’t a relationship.\n",
    "\n",
    "The p-values are the probability of obtaining the sampled results, assuming independence of the row and column variables in the population"
   ]
  },
  {
   "cell_type": "code",
   "execution_count": 71,
   "id": "pregnant-evening",
   "metadata": {
    "slideshow": {
     "slide_type": "slide"
    }
   },
   "outputs": [
    {
     "data": {
      "text/plain": [
       "\n",
       "\tPearson's Chi-squared test\n",
       "\n",
       "data:  mytable\n",
       "X-squared = 13.055, df = 2, p-value = 0.001463\n"
      ]
     },
     "metadata": {},
     "output_type": "display_data"
    }
   ],
   "source": [
    "# Dependent \n",
    "library(vcd)\n",
    "mytable <- xtabs(~Treatment+Improved, data=Arthritis)\n",
    "chisq.test(mytable)"
   ]
  },
  {
   "cell_type": "code",
   "execution_count": 73,
   "id": "confidential-manchester",
   "metadata": {
    "slideshow": {
     "slide_type": "slide"
    }
   },
   "outputs": [
    {
     "name": "stderr",
     "output_type": "stream",
     "text": [
      "Warning message in chisq.test(mytable):\n",
      "\"Chi-squared approximation may be incorrect\""
     ]
    },
    {
     "data": {
      "text/plain": [
       "\n",
       "\tPearson's Chi-squared test\n",
       "\n",
       "data:  mytable\n",
       "X-squared = 4.8407, df = 2, p-value = 0.08889\n"
      ]
     },
     "metadata": {},
     "output_type": "display_data"
    }
   ],
   "source": [
    "# Independent \n",
    "mytable <- xtabs(~Improved+Sex, data=Arthritis)\n",
    "chisq.test(mytable)"
   ]
  },
  {
   "cell_type": "markdown",
   "id": "ranging-discovery",
   "metadata": {
    "slideshow": {
     "slide_type": "slide"
    }
   },
   "source": [
    "# Fisher's Exact Test\n",
    "Like the chi-square test for fourfold (2 by 2) tables, Fisher's exact test examines the relationship between the two dimensions of the table (classification into rows vs. classification into columns). The null hypothesis is that these two classifications are not different."
   ]
  },
  {
   "cell_type": "code",
   "execution_count": 74,
   "id": "japanese-madagascar",
   "metadata": {
    "slideshow": {
     "slide_type": "slide"
    }
   },
   "outputs": [
    {
     "data": {
      "text/plain": [
       "\n",
       "\tFisher's Exact Test for Count Data\n",
       "\n",
       "data:  mytable\n",
       "p-value = 0.001393\n",
       "alternative hypothesis: two.sided\n"
      ]
     },
     "metadata": {},
     "output_type": "display_data"
    }
   ],
   "source": [
    "# Dependent\n",
    "mytable <- xtabs(~Treatment+Improved, data=Arthritis)\n",
    "fisher.test(mytable)"
   ]
  },
  {
   "cell_type": "code",
   "execution_count": 75,
   "id": "promotional-titanium",
   "metadata": {
    "slideshow": {
     "slide_type": "slide"
    }
   },
   "outputs": [
    {
     "data": {
      "text/plain": [
       "\n",
       "\tFisher's Exact Test for Count Data\n",
       "\n",
       "data:  mytable\n",
       "p-value = 0.1094\n",
       "alternative hypothesis: two.sided\n"
      ]
     },
     "metadata": {},
     "output_type": "display_data"
    }
   ],
   "source": [
    "# Independent \n",
    "mytable <- xtabs(~Improved+Sex, data=Arthritis)\n",
    "fisher.test(mytable)"
   ]
  },
  {
   "cell_type": "markdown",
   "id": "complicated-bones",
   "metadata": {
    "slideshow": {
     "slide_type": "slide"
    }
   },
   "source": [
    "# COCHRAN–MANTEL–HAENSZEL TEST\n",
    "The ```mantelhaen.test()``` function provides a Cochran–Mantel–Haenszel chi-square\n",
    "test of the null hypothesis that two nominal variables are conditionally independent in\n",
    "each stratum of a third variable. The following code tests the hypothesis that the\n",
    "Treatment and Improved variables are independent within each level for Sex. The test\n",
    "assumes that there’s no three-way (Treatment × Improved × Sex) interaction:"
   ]
  },
  {
   "cell_type": "code",
   "execution_count": 77,
   "id": "homeless-bracket",
   "metadata": {
    "slideshow": {
     "slide_type": "slide"
    }
   },
   "outputs": [
    {
     "data": {
      "text/plain": [
       "\n",
       "\tCochran-Mantel-Haenszel test\n",
       "\n",
       "data:  mytable\n",
       "Cochran-Mantel-Haenszel M^2 = 14.632, df = 2, p-value = 0.0006647\n"
      ]
     },
     "metadata": {},
     "output_type": "display_data"
    }
   ],
   "source": [
    "mytable <- xtabs(~Treatment+Improved+Sex, data=Arthritis)\n",
    "mantelhaen.test(mytable)"
   ]
  },
  {
   "cell_type": "markdown",
   "id": "interesting-contrast",
   "metadata": {},
   "source": [
    "The results suggest that the treatment received and the improvement reported aren’t\n",
    "independent within each level of Sex (that is, treated individuals improved more than\n",
    "those receiving placebos when controlling for sex).\n",
    "#### <center> We have many more test that we could conduct </center>"
   ]
  },
  {
   "cell_type": "markdown",
   "id": "historic-limitation",
   "metadata": {
    "slideshow": {
     "slide_type": "slide"
    }
   },
   "source": [
    "![](null.jpg)"
   ]
  },
  {
   "cell_type": "markdown",
   "id": "flexible-christmas",
   "metadata": {
    "slideshow": {
     "slide_type": "slide"
    }
   },
   "source": [
    "# Types of Correlation\n",
    "## PEARSON, SPEARMAN, AND KENDALL CORRELATIONS\n",
    "The Pearson product-moment correlation assesses the degree of linear relationship\n",
    "between two quantitative variables. Spearman’s rank-order correlation coefficient assesses the degree of relationship between two rank-ordered variables. Kendall’s tau\n",
    "is also a nonparametric measure of rank correlation.\n",
    "\n",
    "![](corr.png)"
   ]
  },
  {
   "cell_type": "markdown",
   "id": "catholic-offset",
   "metadata": {
    "slideshow": {
     "slide_type": "slide"
    }
   },
   "source": [
    "The ```cor()``` function produces all three correlation coefficients, whereas the ```cov()```\n",
    "function provides covariances. There are many options, but a simplified format for\n",
    "producing correlations is\n",
    "\n",
    "```cor(x, use= , method= )```"
   ]
  },
  {
   "cell_type": "code",
   "execution_count": 78,
   "id": "ultimate-freight",
   "metadata": {
    "slideshow": {
     "slide_type": "skip"
    }
   },
   "outputs": [],
   "source": [
    "states<- state.x77[,1:6]"
   ]
  },
  {
   "cell_type": "code",
   "execution_count": 79,
   "id": "instrumental-oakland",
   "metadata": {
    "slideshow": {
     "slide_type": "slide"
    }
   },
   "outputs": [
    {
     "data": {
      "text/html": [
       "<table>\n",
       "<thead><tr><th></th><th scope=col>Population</th><th scope=col>Income</th><th scope=col>Illiteracy</th><th scope=col>Life Exp</th><th scope=col>Murder</th><th scope=col>HS Grad</th></tr></thead>\n",
       "<tbody>\n",
       "\t<tr><th scope=row>Population</th><td>19931683.7588</td><td>571229.7796  </td><td> 292.8679592 </td><td>-407.8424612 </td><td>5663.523714  </td><td>-3551.509551 </td></tr>\n",
       "\t<tr><th scope=row>Income</th><td>  571229.7796</td><td>377573.3061  </td><td>-163.7020408 </td><td> 280.6631837 </td><td>-521.894286  </td><td> 3076.768980 </td></tr>\n",
       "\t<tr><th scope=row>Illiteracy</th><td>     292.8680</td><td>  -163.7020  </td><td>   0.3715306 </td><td>  -0.4815122 </td><td>   1.581776  </td><td>   -3.235469 </td></tr>\n",
       "\t<tr><th scope=row>Life Exp</th><td>    -407.8425</td><td>   280.6632  </td><td>  -0.4815122 </td><td>   1.8020204 </td><td>  -3.869480  </td><td>    6.312685 </td></tr>\n",
       "\t<tr><th scope=row>Murder</th><td>    5663.5237</td><td>  -521.8943  </td><td>   1.5817755 </td><td>  -3.8694804 </td><td>  13.627465  </td><td>  -14.549616 </td></tr>\n",
       "\t<tr><th scope=row>HS Grad</th><td>   -3551.5096</td><td>  3076.7690  </td><td>  -3.2354694 </td><td>   6.3126849 </td><td> -14.549616  </td><td>   65.237894 </td></tr>\n",
       "</tbody>\n",
       "</table>\n"
      ],
      "text/latex": [
       "\\begin{tabular}{r|llllll}\n",
       "  & Population & Income & Illiteracy & Life Exp & Murder & HS Grad\\\\\n",
       "\\hline\n",
       "\tPopulation & 19931683.7588 & 571229.7796   &  292.8679592  & -407.8424612  & 5663.523714   & -3551.509551 \\\\\n",
       "\tIncome &   571229.7796 & 377573.3061   & -163.7020408  &  280.6631837  & -521.894286   &  3076.768980 \\\\\n",
       "\tIlliteracy &      292.8680 &   -163.7020   &    0.3715306  &   -0.4815122  &    1.581776   &    -3.235469 \\\\\n",
       "\tLife Exp &     -407.8425 &    280.6632   &   -0.4815122  &    1.8020204  &   -3.869480   &     6.312685 \\\\\n",
       "\tMurder &     5663.5237 &   -521.8943   &    1.5817755  &   -3.8694804  &   13.627465   &   -14.549616 \\\\\n",
       "\tHS Grad &    -3551.5096 &   3076.7690   &   -3.2354694  &    6.3126849  &  -14.549616   &    65.237894 \\\\\n",
       "\\end{tabular}\n"
      ],
      "text/markdown": [
       "\n",
       "| <!--/--> | Population | Income | Illiteracy | Life Exp | Murder | HS Grad |\n",
       "|---|---|---|---|---|---|---|\n",
       "| Population | 19931683.7588 | 571229.7796   |  292.8679592  | -407.8424612  | 5663.523714   | -3551.509551  |\n",
       "| Income |   571229.7796 | 377573.3061   | -163.7020408  |  280.6631837  | -521.894286   |  3076.768980  |\n",
       "| Illiteracy |      292.8680 |   -163.7020   |    0.3715306  |   -0.4815122  |    1.581776   |    -3.235469  |\n",
       "| Life Exp |     -407.8425 |    280.6632   |   -0.4815122  |    1.8020204  |   -3.869480   |     6.312685  |\n",
       "| Murder |     5663.5237 |   -521.8943   |    1.5817755  |   -3.8694804  |   13.627465   |   -14.549616  |\n",
       "| HS Grad |    -3551.5096 |   3076.7690   |   -3.2354694  |    6.3126849  |  -14.549616   |    65.237894  |\n",
       "\n"
      ],
      "text/plain": [
       "           Population    Income      Illiteracy   Life Exp     Murder     \n",
       "Population 19931683.7588 571229.7796  292.8679592 -407.8424612 5663.523714\n",
       "Income       571229.7796 377573.3061 -163.7020408  280.6631837 -521.894286\n",
       "Illiteracy      292.8680   -163.7020    0.3715306   -0.4815122    1.581776\n",
       "Life Exp       -407.8425    280.6632   -0.4815122    1.8020204   -3.869480\n",
       "Murder         5663.5237   -521.8943    1.5817755   -3.8694804   13.627465\n",
       "HS Grad       -3551.5096   3076.7690   -3.2354694    6.3126849  -14.549616\n",
       "           HS Grad     \n",
       "Population -3551.509551\n",
       "Income      3076.768980\n",
       "Illiteracy    -3.235469\n",
       "Life Exp       6.312685\n",
       "Murder       -14.549616\n",
       "HS Grad       65.237894"
      ]
     },
     "metadata": {},
     "output_type": "display_data"
    }
   ],
   "source": [
    "cov(states)"
   ]
  },
  {
   "cell_type": "code",
   "execution_count": 80,
   "id": "executive-phrase",
   "metadata": {
    "slideshow": {
     "slide_type": "slide"
    }
   },
   "outputs": [
    {
     "data": {
      "text/html": [
       "<table>\n",
       "<thead><tr><th></th><th scope=col>Population</th><th scope=col>Income</th><th scope=col>Illiteracy</th><th scope=col>Life Exp</th><th scope=col>Murder</th><th scope=col>HS Grad</th></tr></thead>\n",
       "<tbody>\n",
       "\t<tr><th scope=row>Population</th><td> 1.00000000</td><td> 0.2082276 </td><td> 0.1076224 </td><td>-0.06805195</td><td> 0.3436428 </td><td>-0.09848975</td></tr>\n",
       "\t<tr><th scope=row>Income</th><td> 0.20822756</td><td> 1.0000000 </td><td>-0.4370752 </td><td> 0.34025534</td><td>-0.2300776 </td><td> 0.61993232</td></tr>\n",
       "\t<tr><th scope=row>Illiteracy</th><td> 0.10762237</td><td>-0.4370752 </td><td> 1.0000000 </td><td>-0.58847793</td><td> 0.7029752 </td><td>-0.65718861</td></tr>\n",
       "\t<tr><th scope=row>Life Exp</th><td>-0.06805195</td><td> 0.3402553 </td><td>-0.5884779 </td><td> 1.00000000</td><td>-0.7808458 </td><td> 0.58221620</td></tr>\n",
       "\t<tr><th scope=row>Murder</th><td> 0.34364275</td><td>-0.2300776 </td><td> 0.7029752 </td><td>-0.78084575</td><td> 1.0000000 </td><td>-0.48797102</td></tr>\n",
       "\t<tr><th scope=row>HS Grad</th><td>-0.09848975</td><td> 0.6199323 </td><td>-0.6571886 </td><td> 0.58221620</td><td>-0.4879710 </td><td> 1.00000000</td></tr>\n",
       "</tbody>\n",
       "</table>\n"
      ],
      "text/latex": [
       "\\begin{tabular}{r|llllll}\n",
       "  & Population & Income & Illiteracy & Life Exp & Murder & HS Grad\\\\\n",
       "\\hline\n",
       "\tPopulation &  1.00000000 &  0.2082276  &  0.1076224  & -0.06805195 &  0.3436428  & -0.09848975\\\\\n",
       "\tIncome &  0.20822756 &  1.0000000  & -0.4370752  &  0.34025534 & -0.2300776  &  0.61993232\\\\\n",
       "\tIlliteracy &  0.10762237 & -0.4370752  &  1.0000000  & -0.58847793 &  0.7029752  & -0.65718861\\\\\n",
       "\tLife Exp & -0.06805195 &  0.3402553  & -0.5884779  &  1.00000000 & -0.7808458  &  0.58221620\\\\\n",
       "\tMurder &  0.34364275 & -0.2300776  &  0.7029752  & -0.78084575 &  1.0000000  & -0.48797102\\\\\n",
       "\tHS Grad & -0.09848975 &  0.6199323  & -0.6571886  &  0.58221620 & -0.4879710  &  1.00000000\\\\\n",
       "\\end{tabular}\n"
      ],
      "text/markdown": [
       "\n",
       "| <!--/--> | Population | Income | Illiteracy | Life Exp | Murder | HS Grad |\n",
       "|---|---|---|---|---|---|---|\n",
       "| Population |  1.00000000 |  0.2082276  |  0.1076224  | -0.06805195 |  0.3436428  | -0.09848975 |\n",
       "| Income |  0.20822756 |  1.0000000  | -0.4370752  |  0.34025534 | -0.2300776  |  0.61993232 |\n",
       "| Illiteracy |  0.10762237 | -0.4370752  |  1.0000000  | -0.58847793 |  0.7029752  | -0.65718861 |\n",
       "| Life Exp | -0.06805195 |  0.3402553  | -0.5884779  |  1.00000000 | -0.7808458  |  0.58221620 |\n",
       "| Murder |  0.34364275 | -0.2300776  |  0.7029752  | -0.78084575 |  1.0000000  | -0.48797102 |\n",
       "| HS Grad | -0.09848975 |  0.6199323  | -0.6571886  |  0.58221620 | -0.4879710  |  1.00000000 |\n",
       "\n"
      ],
      "text/plain": [
       "           Population  Income     Illiteracy Life Exp    Murder     HS Grad    \n",
       "Population  1.00000000  0.2082276  0.1076224 -0.06805195  0.3436428 -0.09848975\n",
       "Income      0.20822756  1.0000000 -0.4370752  0.34025534 -0.2300776  0.61993232\n",
       "Illiteracy  0.10762237 -0.4370752  1.0000000 -0.58847793  0.7029752 -0.65718861\n",
       "Life Exp   -0.06805195  0.3402553 -0.5884779  1.00000000 -0.7808458  0.58221620\n",
       "Murder      0.34364275 -0.2300776  0.7029752 -0.78084575  1.0000000 -0.48797102\n",
       "HS Grad    -0.09848975  0.6199323 -0.6571886  0.58221620 -0.4879710  1.00000000"
      ]
     },
     "metadata": {},
     "output_type": "display_data"
    }
   ],
   "source": [
    "cor(states)"
   ]
  },
  {
   "cell_type": "markdown",
   "id": "brave-librarian",
   "metadata": {
    "slideshow": {
     "slide_type": "slide"
    }
   },
   "source": [
    "# T-test\n",
    "The most common activity in research is the comparison of two groups. Do patients receiving a new drug show greater improvement than patients using an existing medication?\n",
    "\n",
    "We’ll use the UScrime dataset distributed with the MASS package.\n",
    "It contains information about the effect of punishment regimes on crime rates in\n",
    "47 US states in 1960. The outcome variables of interest will be Prob (the probability of\n",
    "imprisonment), U1 (the unemployment rate for urban males ages 14–24), and U2 (the\n",
    "unemployment rate for urban males ages 35–39). The categorical variable So (an indicator\n",
    "variable for Southern states) will serve as the grouping variable."
   ]
  },
  {
   "cell_type": "markdown",
   "id": "protecting-american",
   "metadata": {
    "slideshow": {
     "slide_type": "slide"
    }
   },
   "source": [
    "# Independent T-test\n",
    "Are you more likely to be imprisoned if you commit a crime in the South? The comparison\n",
    "of interest is Southern versus non-Southern states, and the dependent variable\n",
    "is the probability of incarceration.\n",
    "\n",
    "A two-group independent t-test can be used to\n",
    "test the hypothesis that the two population means are equal. Here, you assume that\n",
    "the two groups are independent and that the data is sampled from normal populations.\n"
   ]
  },
  {
   "cell_type": "code",
   "execution_count": 82,
   "id": "anonymous-conspiracy",
   "metadata": {
    "slideshow": {
     "slide_type": "skip"
    }
   },
   "outputs": [],
   "source": [
    "library(MASS)"
   ]
  },
  {
   "cell_type": "code",
   "execution_count": 83,
   "id": "adult-illness",
   "metadata": {
    "slideshow": {
     "slide_type": "slide"
    }
   },
   "outputs": [
    {
     "data": {
      "text/plain": [
       "\n",
       "\tWelch Two Sample t-test\n",
       "\n",
       "data:  Prob by So\n",
       "t = -3.8954, df = 24.925, p-value = 0.0006506\n",
       "alternative hypothesis: true difference in means is not equal to 0\n",
       "95 percent confidence interval:\n",
       " -0.03852569 -0.01187439\n",
       "sample estimates:\n",
       "mean in group 0 mean in group 1 \n",
       "     0.03851265      0.06371269 \n"
      ]
     },
     "metadata": {},
     "output_type": "display_data"
    }
   ],
   "source": [
    "t.test(Prob ~ So, data=UScrime)"
   ]
  },
  {
   "cell_type": "markdown",
   "id": "dying-thought",
   "metadata": {},
   "source": [
    "You can reject the hypothesis that Southern states and non-Southern states have equal\n",
    "probabilities of imprisonment $(p < .001)$."
   ]
  },
  {
   "cell_type": "markdown",
   "id": "executive-cursor",
   "metadata": {
    "slideshow": {
     "slide_type": "slide"
    }
   },
   "source": [
    "# Dependent T-test\n",
    "As a second example, you might ask if the unemployment rate for younger males (14–\n",
    "24) is greater than for older males (35–39). In this case, the two groups aren’t independent.\n",
    "You wouldn’t expect the unemployment rate for younger and older males in\n",
    "Alabama to be unrelated. When observations in the two groups are related, you have a\n",
    "dependent-groups design. Pre-post or repeated-measures designs also produce dependent\n",
    "groups."
   ]
  },
  {
   "cell_type": "code",
   "execution_count": 84,
   "id": "quiet-florence",
   "metadata": {
    "slideshow": {
     "slide_type": "slide"
    }
   },
   "outputs": [
    {
     "data": {
      "text/html": [
       "<table>\n",
       "<thead><tr><th></th><th scope=col>U1</th><th scope=col>U2</th></tr></thead>\n",
       "<tbody>\n",
       "\t<tr><th scope=row>mean</th><td>95.46809</td><td>33.97872</td></tr>\n",
       "\t<tr><th scope=row>sd</th><td>18.02878</td><td> 8.44545</td></tr>\n",
       "</tbody>\n",
       "</table>\n"
      ],
      "text/latex": [
       "\\begin{tabular}{r|ll}\n",
       "  & U1 & U2\\\\\n",
       "\\hline\n",
       "\tmean & 95.46809 & 33.97872\\\\\n",
       "\tsd & 18.02878 &  8.44545\\\\\n",
       "\\end{tabular}\n"
      ],
      "text/markdown": [
       "\n",
       "| <!--/--> | U1 | U2 |\n",
       "|---|---|---|\n",
       "| mean | 95.46809 | 33.97872 |\n",
       "| sd | 18.02878 |  8.44545 |\n",
       "\n"
      ],
      "text/plain": [
       "     U1       U2      \n",
       "mean 95.46809 33.97872\n",
       "sd   18.02878  8.44545"
      ]
     },
     "metadata": {},
     "output_type": "display_data"
    }
   ],
   "source": [
    "library(MASS)\n",
    "sapply(UScrime[c(\"U1\",\"U2\")], function(x)(c(mean=mean(x),sd=sd(x))))"
   ]
  },
  {
   "cell_type": "code",
   "execution_count": 85,
   "id": "alone-tradition",
   "metadata": {
    "slideshow": {
     "slide_type": "slide"
    }
   },
   "outputs": [
    {
     "data": {
      "text/plain": [
       "\n",
       "\tPaired t-test\n",
       "\n",
       "data:  U1 and U2\n",
       "t = 32.407, df = 46, p-value < 2.2e-16\n",
       "alternative hypothesis: true difference in means is not equal to 0\n",
       "95 percent confidence interval:\n",
       " 57.67003 65.30870\n",
       "sample estimates:\n",
       "mean of the differences \n",
       "               61.48936 \n"
      ]
     },
     "metadata": {},
     "output_type": "display_data"
    }
   ],
   "source": [
    "with(UScrime, t.test(U1, U2, paired=TRUE))"
   ]
  },
  {
   "cell_type": "markdown",
   "id": "invalid-advantage",
   "metadata": {
    "slideshow": {
     "slide_type": "slide"
    }
   },
   "source": [
    "The mean difference (61.5) is large enough to warrant rejection of the hypothesis\n",
    "that the mean unemployment rate for older and younger males is the same. Younger\n",
    "males have a higher rate. In fact, the probability of obtaining a sample difference this\n",
    "large if the population means are equal is less than 0.00000000000000022 (that is,\n",
    "2.2e–16)."
   ]
  },
  {
   "cell_type": "markdown",
   "id": "median-powder",
   "metadata": {
    "slideshow": {
     "slide_type": "slide"
    }
   },
   "source": [
    "# Nonparametric tests of group differences\n",
    "If the two groups are independent, you can use the Wilcoxon rank sum test (more\n",
    "popularly known as the Mann–Whitney U test) to assess whether the observations are\n",
    "sampled from the same probability distribution (that is, whether the probability of\n",
    "obtaining higher scores is greater in one population than the other)"
   ]
  },
  {
   "cell_type": "code",
   "execution_count": 87,
   "id": "scenic-auditor",
   "metadata": {
    "slideshow": {
     "slide_type": "slide"
    }
   },
   "outputs": [
    {
     "data": {
      "text/plain": [
       "So: 0\n",
       "[1] 0.038201\n",
       "------------------------------------------------------------ \n",
       "So: 1\n",
       "[1] 0.055552"
      ]
     },
     "metadata": {},
     "output_type": "display_data"
    }
   ],
   "source": [
    "with(UScrime, by(Prob, So, median))"
   ]
  },
  {
   "cell_type": "code",
   "execution_count": 88,
   "id": "choice-ordering",
   "metadata": {
    "slideshow": {
     "slide_type": "slide"
    }
   },
   "outputs": [
    {
     "data": {
      "text/plain": [
       "\n",
       "\tWilcoxon rank sum test\n",
       "\n",
       "data:  Prob by So\n",
       "W = 81, p-value = 8.488e-05\n",
       "alternative hypothesis: true location shift is not equal to 0\n"
      ]
     },
     "metadata": {},
     "output_type": "display_data"
    }
   ],
   "source": [
    "wilcox.test(Prob ~ So, data=UScrime)"
   ]
  },
  {
   "cell_type": "markdown",
   "id": "sufficient-insertion",
   "metadata": {},
   "source": [
    "Again, you can reject the hypothesis that incarceration rates are the same in Southern\n",
    "and non-Southern states (p < .001).\n",
    "The Wilcoxon signed rank test provides a nonparametric alternative to the dependent\n",
    "sample t-test. It’s appropriate in situations where the groups are paired and the\n",
    "assumption of normality is unwarranted."
   ]
  },
  {
   "cell_type": "code",
   "execution_count": null,
   "id": "million-barcelona",
   "metadata": {},
   "outputs": [],
   "source": []
  }
 ],
 "metadata": {
  "celltoolbar": "Slideshow",
  "kernelspec": {
   "display_name": "R",
   "language": "R",
   "name": "ir"
  },
  "language_info": {
   "codemirror_mode": "r",
   "file_extension": ".r",
   "mimetype": "text/x-r-source",
   "name": "R",
   "pygments_lexer": "r",
   "version": "4.4.0"
  }
 },
 "nbformat": 4,
 "nbformat_minor": 5
}
