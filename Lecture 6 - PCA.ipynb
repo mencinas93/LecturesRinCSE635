{
 "cells": [
  {
   "cell_type": "markdown",
   "id": "dietary-caribbean",
   "metadata": {
    "slideshow": {
     "slide_type": "slide"
    }
   },
   "source": [
    "# Principal Component Analysis - PCA\n",
    "Data-reduction technique that transforms a larger number of correlated variables into a much smaller set of uncorrelated variables called principal components.\n",
    "\n",
    "PCA is a type of linear transformation on a given data set that has values for a certain number of variables (coordinates) for a certain amount of spaces. This linear transformation fits this dataset to a new coordinate system in such a way that the most significant variance is found on the first coordinate, and each subsequent coordinate is orthogonal to the last and has a lesser variance. "
   ]
  },
  {
   "cell_type": "markdown",
   "id": "treated-recording",
   "metadata": {
    "slideshow": {
     "slide_type": "slide"
    }
   },
   "source": [
    "\n",
    "# Exploratory Factor Analysis - EFA\n",
    "Collection of methods designed to uncover the latent structure in a given set of variables. It looks for a smaller set of underlying or latent constructs that can explain the relationships among the observed or manifest variables"
   ]
  },
  {
   "cell_type": "markdown",
   "id": "acoustic-cyprus",
   "metadata": {
    "slideshow": {
     "slide_type": "slide"
    }
   },
   "source": [
    "## Differences between the PCA and EFA \n",
    "\n",
    "<img src=\"fig1.png\" alt=\"drawing\" width=\"500\"/>\n"
   ]
  },
  {
   "cell_type": "markdown",
   "id": "equivalent-council",
   "metadata": {
    "slideshow": {
     "slide_type": "slide"
    }
   },
   "source": [
    "* Principal components (PC1 and PC2) are linear combinations of the observed variables (X1 to X5). The weights used to form the linear composites are chosen to maximize the variance each principal component accounts for, while keeping the components uncorrelated.\n",
    "* Factors (F1 and F2) are assumed to underlie or “cause” the observed variables, rather than being linear combinations of them. The errors (e1 to e5) represent the variance in the observed variables unexplained by the factors. The circles indicate that the factors and errors aren’t directly observable but are inferred from the correlations among the variables. In this example, the curved arrow between the factors indicates that they’re correlated."
   ]
  },
  {
   "cell_type": "markdown",
   "id": "hawaiian-header",
   "metadata": {
    "slideshow": {
     "slide_type": "slide"
    }
   },
   "source": [
    "The most common steps are as follows:\n",
    "\n"
   ]
  },
  {
   "cell_type": "markdown",
   "id": "palestinian-adult",
   "metadata": {
    "slideshow": {
     "slide_type": "slide"
    }
   },
   "source": [
    "1. Prepare the data. Both PCA and EFA derive their solutions from the correlations among the observed variables. You can input either the raw data matrix or the correlation matrix to the ```principal()``` and ```fa()``` functions. If raw data is input, the correlation matrix is automatically calculated. Be sure to screen the data for missing values before proceeding.\n"
   ]
  },
  {
   "cell_type": "markdown",
   "id": "inclusive-algorithm",
   "metadata": {
    "slideshow": {
     "slide_type": "slide"
    }
   },
   "source": [
    "2. Select a factor model. Decide whether PCA (data reduction) or EFA (uncovering latent structure) is a better fit for your research goals. If you select an EFA approach, you’ll also need to choose a specific factoring method (for example, maximum likelihood).\n"
   ]
  },
  {
   "cell_type": "markdown",
   "id": "careful-administration",
   "metadata": {
    "slideshow": {
     "slide_type": "slide"
    }
   },
   "source": [
    "3. Decide how many components/factors to extract.\n"
   ]
  },
  {
   "cell_type": "markdown",
   "id": "changing-sound",
   "metadata": {
    "slideshow": {
     "slide_type": "slide"
    }
   },
   "source": [
    "4. Extract the components/factors.\n"
   ]
  },
  {
   "cell_type": "markdown",
   "id": "proud-investor",
   "metadata": {
    "slideshow": {
     "slide_type": "slide"
    }
   },
   "source": [
    "5. Rotate the components/factors.\n"
   ]
  },
  {
   "cell_type": "markdown",
   "id": "communist-quarter",
   "metadata": {
    "slideshow": {
     "slide_type": "slide"
    }
   },
   "source": [
    "6. Interpret the results.\n"
   ]
  },
  {
   "cell_type": "markdown",
   "id": "spare-louisville",
   "metadata": {
    "slideshow": {
     "slide_type": "slide"
    }
   },
   "source": [
    "7. Compute component or factor scores."
   ]
  },
  {
   "cell_type": "markdown",
   "id": "historical-technical",
   "metadata": {
    "slideshow": {
     "slide_type": "slide"
    }
   },
   "source": [
    "# Principal Components\n",
    "The goal of PCA is to replace a large number of correlated variables with a smaller number of uncorrelated variables while capturing as much information in the original variables as possible.\n"
   ]
  },
  {
   "cell_type": "markdown",
   "id": "proper-enough",
   "metadata": {
    "slideshow": {
     "slide_type": "slide"
    }
   },
   "source": [
    "\n",
    "These derived variables, called principal components, are linear combinations of the observed variables. Specifically, the first principal component:\n",
    "\n",
    "#### $PC_{1} = a_{1}X_{1} + a_{2}X_{2} + ... + a_{k}X_{k}$\n",
    "\n",
    "is the weighted combination of the k observed variables that accounts for the most\n",
    "variance in the original set of variables\n"
   ]
  },
  {
   "cell_type": "markdown",
   "id": "overall-phenomenon",
   "metadata": {
    "slideshow": {
     "slide_type": "slide"
    }
   },
   "source": [
    "* The second principal component is the linear combination that accounts for the most variance in the original variables, under the constraint that it’s orthogonal (uncorrelated) to the first principal component.\n",
    "* Each subsequent component maximizes the variance accounted for, while at the same time remaining uncorrelated with all previous components.\n",
    "\n"
   ]
  },
  {
   "cell_type": "markdown",
   "id": "expensive-furniture",
   "metadata": {
    "slideshow": {
     "slide_type": "slide"
    }
   },
   "source": [
    "### You hope that you can approximate the full set of variables with a much smaller set of components."
   ]
  },
  {
   "cell_type": "markdown",
   "id": "intended-simple",
   "metadata": {
    "slideshow": {
     "slide_type": "slide"
    }
   },
   "source": [
    "# Example\n",
    "The dataset USJudgeRatings contains lawyers’ ratings of state judges in the US Superior Court. The data frame contains 43 observations on 12 numeric variables. 11 evaluative ratings (INTG to RTEN)\n",
    "\n",
    "![](fig2.png)\n"
   ]
  },
  {
   "cell_type": "markdown",
   "id": "available-barrel",
   "metadata": {
    "slideshow": {
     "slide_type": "slide"
    }
   },
   "source": [
    "Several criteria are available for deciding how many components to retain in a PCA.\n",
    "They include\n",
    "* Basing the number of components on prior experience and theory\n",
    "* Selecting the number of components needed to account for some threshold cumulative amount of variance in the variables (for example, 80%)\n",
    "* Selecting the number of components to retain by examining the eigenvalues of the k × k correlation matrix among the variables\n",
    "The first PC is associated with the largest eigenvalue, the second PC with the second-largest eigenvalue, and so on."
   ]
  },
  {
   "cell_type": "markdown",
   "id": "harmful-google",
   "metadata": {
    "slideshow": {
     "slide_type": "slide"
    }
   },
   "source": [
    "You can assess all three eigenvalue criteria at the same time via the ```fa.parallel()``` function.\n",
    "\n",
    "The scree plot is used to determine the number of factors to retain in an exploratory factor analysis (FA) or principal components to keep in a principal component analysis (PCA). The plot displays the scree test based on the observed eigenvalues (as straightline segments and x’s), the mean eigenvalues derived from 100 random data matrices (as dashed lines), and the eigenvalues greater than 1 criteria (as a horizontal line at y=1)."
   ]
  },
  {
   "cell_type": "code",
   "execution_count": 3,
   "id": "talented-rochester",
   "metadata": {
    "scrolled": true,
    "slideshow": {
     "slide_type": "slide"
    }
   },
   "outputs": [
    {
     "name": "stderr",
     "output_type": "stream",
     "text": [
      "Warning message in fa.stats(r = r, f = f, phi = phi, n.obs = n.obs, np.obs = np.obs, :\n",
      "\"The estimated weights for the factor scores are probably incorrect.  Try a different factor score estimation method.\""
     ]
    },
    {
     "name": "stdout",
     "output_type": "stream",
     "text": [
      "Parallel analysis suggests that the number of factors =  NA  and the number of components =  1 \n"
     ]
    },
    {
     "data": {
      "image/png": "[encoded data removed]",
      "text/plain": [
       "Plot with title \"Scree plot with parallel analysis\""
      ]
     },
     "metadata": {},
     "output_type": "display_data"
    }
   ],
   "source": [
    "library(psych)\n",
    "fa.parallel(USJudgeRatings[,-1], fa=\"pc\", n.iter=100,\n",
    "show.legend=FALSE, main=\"Scree plot with parallel analysis\")"
   ]
  },
  {
   "cell_type": "markdown",
   "id": "removed-charger",
   "metadata": {
    "slideshow": {
     "slide_type": "slide"
    }
   },
   "source": [
    "All criteria suggest that a single component is appropriate for summarizing this dataset. Extract the principal component using the ```principal()``` function\n",
    "\n",
    "```principal(r, nfactors=, rotate=, scores=)```\n",
    "\n",
    "* r is a correlation matrix or a raw data matrix.\n",
    "* nfactors specifies the number of principal components to extract (1 by default).\n",
    "* rotate indicates the rotation to be applied (Rotations are a set of mathematical techniques for transforming the component loading matrix into one that’s more interpretable).\n",
    "* scores specifies whether to calculate principal-component scores (false by default)."
   ]
  },
  {
   "cell_type": "code",
   "execution_count": 4,
   "id": "atmospheric-marijuana",
   "metadata": {
    "scrolled": true,
    "slideshow": {
     "slide_type": "slide"
    }
   },
   "outputs": [
    {
     "data": {
      "text/plain": [
       "Principal Components Analysis\n",
       "Call: principal(r = USJudgeRatings[, -1], nfactors = 1)\n",
       "Standardized loadings (pattern matrix) based upon correlation matrix\n",
       "      PC1   h2     u2 com\n",
       "INTG 0.92 0.84 0.1565   1\n",
       "DMNR 0.91 0.83 0.1663   1\n",
       "DILG 0.97 0.94 0.0613   1\n",
       "CFMG 0.96 0.93 0.0720   1\n",
       "DECI 0.96 0.92 0.0763   1\n",
       "PREP 0.98 0.97 0.0299   1\n",
       "FAMI 0.98 0.95 0.0469   1\n",
       "ORAL 1.00 0.99 0.0091   1\n",
       "WRIT 0.99 0.98 0.0196   1\n",
       "PHYS 0.89 0.80 0.2013   1\n",
       "RTEN 0.99 0.97 0.0275   1\n",
       "\n",
       "                 PC1\n",
       "SS loadings    10.13\n",
       "Proportion Var  0.92\n",
       "\n",
       "Mean item complexity =  1\n",
       "Test of the hypothesis that 1 component is sufficient.\n",
       "\n",
       "The root mean square of the residuals (RMSR) is  0.04 \n",
       " with the empirical chi square  6.21  with prob <  1 \n",
       "\n",
       "Fit based upon off diagonal values = 1"
      ]
     },
     "metadata": {},
     "output_type": "display_data"
    }
   ],
   "source": [
    "library(psych)\n",
    "pc <- principal(USJudgeRatings[,-1], nfactors=1)\n",
    "pc"
   ]
  },
  {
   "cell_type": "markdown",
   "id": "complex-depression",
   "metadata": {
    "slideshow": {
     "slide_type": "slide"
    }
   },
   "source": [
    "* The column labeled ```PC1``` contains the component loadings, which are the correlations of the observed variables with the principal component(s). If you extracted more than one principal component, there would be columns for PC2, PC3, and so on.\n",
    "\n",
    "* Component loadings are used to interpret the meaning of components. You can see that each variable correlates highly with the first component (PC1). It therefore appears to be a general evaluative dimension.\n"
   ]
  },
  {
   "cell_type": "markdown",
   "id": "boring-airfare",
   "metadata": {
    "slideshow": {
     "slide_type": "slide"
    }
   },
   "source": [
    "* The column labeled h2 contains the component communalities—the amount of variance in each variable explained by the components.\n",
    "\n",
    "* The u2 column contains the component uniquenesses—the amount of variance not accounted for by the components (or 1 – h2).\n",
    "    * For example, 80% of the variance in physical ability (PHYS) ratings is accounted for by the first PC, and 20% isn’t. PHYS is the variable least well represented by a one-component solution.\n",
    "\n",
    "\n"
   ]
  },
  {
   "cell_type": "markdown",
   "id": "differential-emerald",
   "metadata": {
    "slideshow": {
     "slide_type": "slide"
    }
   },
   "source": [
    "* The row labeled SS Loadings contains the eigenvalues associated with the components.\n",
    "\n",
    "* The eigenvalues are the standardized variance associated with a particular component (in this case, the value for the first component is 10). Finally, the row labeled Proportion Var represents the amount of variance accounted for by each component."
   ]
  },
  {
   "cell_type": "markdown",
   "id": "electrical-preservation",
   "metadata": {
    "slideshow": {
     "slide_type": "slide"
    }
   },
   "source": [
    "## Here you see that the first principal component accounts for 92% of the variance in the 11 variables."
   ]
  },
  {
   "cell_type": "markdown",
   "id": "alleged-sight",
   "metadata": {
    "slideshow": {
     "slide_type": "slide"
    }
   },
   "source": [
    "# Example 2: More than 1 PC\n",
    "The dataset Harman23.cor contains data on 8 body measurements for 305 girls. In this case, the dataset consists of the correlations among the variables\n",
    "rather than the original data\n",
    "\n",
    "![](fig3.png)"
   ]
  },
  {
   "cell_type": "markdown",
   "id": "modular-marble",
   "metadata": {
    "slideshow": {
     "slide_type": "slide"
    }
   },
   "source": [
    "In this case, you need to identify the correlation matrix (the cov component of the Harman23.cor object) and specify the sample size (n.obs). You can see from the plot that a two-component solution is suggested. As in the first example, the Kaiser–Harris criteria, scree test, and parallel analysis agree. This\n",
    "won’t always be the case, and you may need to extract different numbers of components and select the solution that appears most useful"
   ]
  },
  {
   "cell_type": "markdown",
   "id": "geological-blame",
   "metadata": {
    "slideshow": {
     "slide_type": "slide"
    }
   },
   "source": [
    "In the Cattell Scree test, the eigenvalues are plotted against their component\n",
    "numbers. Such plots typically demonstrate a bend or elbow, and the components\n",
    "above this sharp break are retained."
   ]
  },
  {
   "cell_type": "code",
   "execution_count": 6,
   "id": "allied-police",
   "metadata": {
    "scrolled": true,
    "slideshow": {
     "slide_type": "slide"
    }
   },
   "outputs": [
    {
     "name": "stdout",
     "output_type": "stream",
     "text": [
      "Parallel analysis suggests that the number of factors =  NA  and the number of components =  2 \n"
     ]
    },
    {
     "data": {
      "image/png": "[encoded data removed]",
      "text/plain": [
       "Plot with title \"Scree plot with parallel analysis\""
      ]
     },
     "metadata": {},
     "output_type": "display_data"
    }
   ],
   "source": [
    "library(psych)\n",
    "fa.parallel(Harman23.cor$cov, n.obs=302, fa=\"pc\", n.iter=100,\n",
    "show.legend=FALSE, main=\"Scree plot with parallel analysis\")"
   ]
  },
  {
   "cell_type": "code",
   "execution_count": 8,
   "id": "younger-china",
   "metadata": {
    "scrolled": true,
    "slideshow": {
     "slide_type": "slide"
    }
   },
   "outputs": [
    {
     "data": {
      "text/plain": [
       "Principal Components Analysis\n",
       "Call: principal(r = Harman23.cor$cov, nfactors = 2, rotate = \"none\")\n",
       "Standardized loadings (pattern matrix) based upon correlation matrix\n",
       "                PC1   PC2   h2    u2 com\n",
       "height         0.86 -0.37 0.88 0.123 1.4\n",
       "arm.span       0.84 -0.44 0.90 0.097 1.5\n",
       "forearm        0.81 -0.46 0.87 0.128 1.6\n",
       "lower.leg      0.84 -0.40 0.86 0.139 1.4\n",
       "weight         0.76  0.52 0.85 0.150 1.8\n",
       "bitro.diameter 0.67  0.53 0.74 0.261 1.9\n",
       "chest.girth    0.62  0.58 0.72 0.283 2.0\n",
       "chest.width    0.67  0.42 0.62 0.375 1.7\n",
       "\n",
       "                       PC1  PC2\n",
       "SS loadings           4.67 1.77\n",
       "Proportion Var        0.58 0.22\n",
       "Cumulative Var        0.58 0.81\n",
       "Proportion Explained  0.73 0.27\n",
       "Cumulative Proportion 0.73 1.00\n",
       "\n",
       "Mean item complexity =  1.7\n",
       "Test of the hypothesis that 2 components are sufficient.\n",
       "\n",
       "The root mean square of the residuals (RMSR) is  0.05 \n",
       "\n",
       "Fit based upon off diagonal values = 0.99"
      ]
     },
     "metadata": {},
     "output_type": "display_data"
    }
   ],
   "source": [
    "library(psych)\n",
    "pc <- principal(Harman23.cor$cov, nfactors=2, rotate=\"none\")\n",
    "pc"
   ]
  },
  {
   "cell_type": "markdown",
   "id": "unauthorized-montgomery",
   "metadata": {
    "slideshow": {
     "slide_type": "slide"
    }
   },
   "source": [
    "You see that the first component\n",
    "accounts for 58% of the variance in the physical measurements, whereas the second\n",
    "component accounts for 22%. Together, the two components account for 81% of\n",
    "the variance."
   ]
  },
  {
   "cell_type": "markdown",
   "id": "pending-tongue",
   "metadata": {
    "slideshow": {
     "slide_type": "slide"
    }
   },
   "source": [
    "# Rotations\n",
    "* They “purifying” the components as much as possible. \n",
    "* Rotation methods differ with regard to whether the resulting components remain uncorrelated (orthogonal rotation) or are allowed to correlate (oblique rotation).\n",
    "* They also differ in their definition of purifying. \n",
    "* The most popular orthogonal rotation is the varimax rotation, which attempts to purify the columns of the loading matrix, so that each component is defined by a limited set of variables (that is, each column has a few large loadings and many very small loadings)."
   ]
  },
  {
   "cell_type": "code",
   "execution_count": 10,
   "id": "iraqi-thomas",
   "metadata": {
    "scrolled": true,
    "slideshow": {
     "slide_type": "slide"
    }
   },
   "outputs": [
    {
     "data": {
      "text/plain": [
       "Principal Components Analysis\n",
       "Call: principal(r = Harman23.cor$cov, nfactors = 2, rotate = \"varimax\")\n",
       "Standardized loadings (pattern matrix) based upon correlation matrix\n",
       "                RC1  RC2   h2    u2 com\n",
       "height         0.90 0.25 0.88 0.123 1.2\n",
       "arm.span       0.93 0.19 0.90 0.097 1.1\n",
       "forearm        0.92 0.16 0.87 0.128 1.1\n",
       "lower.leg      0.90 0.22 0.86 0.139 1.1\n",
       "weight         0.26 0.88 0.85 0.150 1.2\n",
       "bitro.diameter 0.19 0.84 0.74 0.261 1.1\n",
       "chest.girth    0.11 0.84 0.72 0.283 1.0\n",
       "chest.width    0.26 0.75 0.62 0.375 1.2\n",
       "\n",
       "                       RC1  RC2\n",
       "SS loadings           3.52 2.92\n",
       "Proportion Var        0.44 0.37\n",
       "Cumulative Var        0.44 0.81\n",
       "Proportion Explained  0.55 0.45\n",
       "Cumulative Proportion 0.55 1.00\n",
       "\n",
       "Mean item complexity =  1.1\n",
       "Test of the hypothesis that 2 components are sufficient.\n",
       "\n",
       "The root mean square of the residuals (RMSR) is  0.05 \n",
       "\n",
       "Fit based upon off diagonal values = 0.99"
      ]
     },
     "metadata": {},
     "output_type": "display_data"
    }
   ],
   "source": [
    "rc <- principal(Harman23.cor$cov, nfactors=2, rotate=\"varimax\")\n",
    "rc"
   ]
  },
  {
   "cell_type": "markdown",
   "id": "selective-potential",
   "metadata": {
    "slideshow": {
     "slide_type": "slide"
    }
   },
   "source": [
    "* Looking at the loadings in column RC1, you see that the first component is primarily defined by the first four variables (length variables).\n",
    "* The loadings in the column RC2 indicate that the second component is primarily defined by variables 5 through 8 (volume variables) \n",
    "* Note that the two components are still uncorrelated and that together, they still explain the variables equally well"
   ]
  },
  {
   "cell_type": "markdown",
   "id": "painful-conditions",
   "metadata": {
    "slideshow": {
     "slide_type": "slide"
    }
   },
   "source": [
    "---"
   ]
  },
  {
   "cell_type": "markdown",
   "id": "usual-verse",
   "metadata": {},
   "source": [
    "## The ultimate goal is to replace a larger set of correlated variables with a smaller set of derived variables."
   ]
  },
  {
   "cell_type": "markdown",
   "id": "congressional-strength",
   "metadata": {},
   "source": [
    "---"
   ]
  },
  {
   "cell_type": "markdown",
   "id": "explicit-improvement",
   "metadata": {
    "slideshow": {
     "slide_type": "slide"
    }
   },
   "source": [
    "USJudgeRatings example, you extracted a single principal component from\n",
    "the raw data describing lawyers’ ratings on 11 variables. The ```principal()``` function\n",
    "makes it easy to obtain scores for each participant on this derived variable"
   ]
  },
  {
   "cell_type": "code",
   "execution_count": 11,
   "id": "major-canberra",
   "metadata": {},
   "outputs": [
    {
     "data": {
      "text/html": [
       "<table>\n",
       "<thead><tr><th></th><th scope=col>PC1</th></tr></thead>\n",
       "<tbody>\n",
       "\t<tr><th scope=row>AARONSON,L.H.</th><td>-0.1857981</td></tr>\n",
       "\t<tr><th scope=row>ALEXANDER,J.M.</th><td> 0.7469865</td></tr>\n",
       "\t<tr><th scope=row>ARMENTANO,A.J.</th><td> 0.0704772</td></tr>\n",
       "\t<tr><th scope=row>BERDON,R.I.</th><td> 1.1358765</td></tr>\n",
       "\t<tr><th scope=row>BRACKEN,J.J.</th><td>-2.1586211</td></tr>\n",
       "\t<tr><th scope=row>BURNS,E.B.</th><td> 0.7669406</td></tr>\n",
       "</tbody>\n",
       "</table>\n"
      ],
      "text/latex": [
       "\\begin{tabular}{r|l}\n",
       "  & PC1\\\\\n",
       "\\hline\n",
       "\tAARONSON,L.H. & -0.1857981\\\\\n",
       "\tALEXANDER,J.M. &  0.7469865\\\\\n",
       "\tARMENTANO,A.J. &  0.0704772\\\\\n",
       "\tBERDON,R.I. &  1.1358765\\\\\n",
       "\tBRACKEN,J.J. & -2.1586211\\\\\n",
       "\tBURNS,E.B. &  0.7669406\\\\\n",
       "\\end{tabular}\n"
      ],
      "text/markdown": [
       "\n",
       "| <!--/--> | PC1 |\n",
       "|---|---|\n",
       "| AARONSON,L.H. | -0.1857981 |\n",
       "| ALEXANDER,J.M. |  0.7469865 |\n",
       "| ARMENTANO,A.J. |  0.0704772 |\n",
       "| BERDON,R.I. |  1.1358765 |\n",
       "| BRACKEN,J.J. | -2.1586211 |\n",
       "| BURNS,E.B. |  0.7669406 |\n",
       "\n"
      ],
      "text/plain": [
       "               PC1       \n",
       "AARONSON,L.H.  -0.1857981\n",
       "ALEXANDER,J.M.  0.7469865\n",
       "ARMENTANO,A.J.  0.0704772\n",
       "BERDON,R.I.     1.1358765\n",
       "BRACKEN,J.J.   -2.1586211\n",
       "BURNS,E.B.      0.7669406"
      ]
     },
     "metadata": {},
     "output_type": "display_data"
    }
   ],
   "source": [
    "library(psych)\n",
    "pc <- principal(USJudgeRatings[,-1], nfactors=1, score=TRUE)\n",
    "head(pc$scores)"
   ]
  },
  {
   "cell_type": "markdown",
   "id": "virgin-drill",
   "metadata": {
    "slideshow": {
     "slide_type": "slide"
    }
   },
   "source": [
    "The principal component scores are saved in the scores element of the object returned by the ```principal()``` function when the option scores=TRUE."
   ]
  },
  {
   "cell_type": "markdown",
   "id": "better-plaza",
   "metadata": {},
   "source": [
    "If you wanted, you could now get the correlation between the number of contacts occurring between a lawyer and a judge and their evaluation of the judge using. "
   ]
  },
  {
   "cell_type": "code",
   "execution_count": 13,
   "id": "european-disclosure",
   "metadata": {},
   "outputs": [
    {
     "data": {
      "text/html": [
       "<table>\n",
       "<thead><tr><th scope=col>PC1</th></tr></thead>\n",
       "<tbody>\n",
       "\t<tr><td>-0.008815895</td></tr>\n",
       "</tbody>\n",
       "</table>\n"
      ],
      "text/latex": [
       "\\begin{tabular}{l}\n",
       " PC1\\\\\n",
       "\\hline\n",
       "\t -0.008815895\\\\\n",
       "\\end{tabular}\n"
      ],
      "text/markdown": [
       "\n",
       "| PC1 |\n",
       "|---|\n",
       "| -0.008815895 |\n",
       "\n"
      ],
      "text/plain": [
       "     PC1         \n",
       "[1,] -0.008815895"
      ]
     },
     "metadata": {},
     "output_type": "display_data"
    }
   ],
   "source": [
    "cor(USJudgeRatings$CONT, pc$score)"
   ]
  },
  {
   "cell_type": "markdown",
   "id": "verbal-female",
   "metadata": {},
   "source": [
    "Apparently, there’s no relationship between the lawyer’s familiarity and their opinions!"
   ]
  },
  {
   "cell_type": "markdown",
   "id": "subsequent-wheat",
   "metadata": {
    "slideshow": {
     "slide_type": "slide"
    }
   },
   "source": [
    "When the principal components analysis is based on a correlation matrix and the\n",
    "raw data aren’t available, getting principal component scores for each observation is\n",
    "clearly not possible. But you can get the coefficients used to calculate the principal\n",
    "components.\n",
    "\n",
    "i.e: In the body measurement data, you have correlations among body measurements,\n",
    "but you don’t have the individual measurements for these 305 girls."
   ]
  },
  {
   "cell_type": "code",
   "execution_count": 14,
   "id": "skilled-variety",
   "metadata": {
    "slideshow": {
     "slide_type": "slide"
    }
   },
   "outputs": [
    {
     "data": {
      "text/html": [
       "<table>\n",
       "<thead><tr><th></th><th scope=col>RC1</th><th scope=col>RC2</th></tr></thead>\n",
       "<tbody>\n",
       "\t<tr><th scope=row>height</th><td> 0.28</td><td>-0.05</td></tr>\n",
       "\t<tr><th scope=row>arm.span</th><td> 0.30</td><td>-0.08</td></tr>\n",
       "\t<tr><th scope=row>forearm</th><td> 0.30</td><td>-0.09</td></tr>\n",
       "\t<tr><th scope=row>lower.leg</th><td> 0.28</td><td>-0.06</td></tr>\n",
       "\t<tr><th scope=row>weight</th><td>-0.06</td><td> 0.33</td></tr>\n",
       "\t<tr><th scope=row>bitro.diameter</th><td>-0.08</td><td> 0.32</td></tr>\n",
       "\t<tr><th scope=row>chest.girth</th><td>-0.10</td><td> 0.34</td></tr>\n",
       "\t<tr><th scope=row>chest.width</th><td>-0.04</td><td> 0.27</td></tr>\n",
       "</tbody>\n",
       "</table>\n"
      ],
      "text/latex": [
       "\\begin{tabular}{r|ll}\n",
       "  & RC1 & RC2\\\\\n",
       "\\hline\n",
       "\theight &  0.28 & -0.05\\\\\n",
       "\tarm.span &  0.30 & -0.08\\\\\n",
       "\tforearm &  0.30 & -0.09\\\\\n",
       "\tlower.leg &  0.28 & -0.06\\\\\n",
       "\tweight & -0.06 &  0.33\\\\\n",
       "\tbitro.diameter & -0.08 &  0.32\\\\\n",
       "\tchest.girth & -0.10 &  0.34\\\\\n",
       "\tchest.width & -0.04 &  0.27\\\\\n",
       "\\end{tabular}\n"
      ],
      "text/markdown": [
       "\n",
       "| <!--/--> | RC1 | RC2 |\n",
       "|---|---|---|\n",
       "| height |  0.28 | -0.05 |\n",
       "| arm.span |  0.30 | -0.08 |\n",
       "| forearm |  0.30 | -0.09 |\n",
       "| lower.leg |  0.28 | -0.06 |\n",
       "| weight | -0.06 |  0.33 |\n",
       "| bitro.diameter | -0.08 |  0.32 |\n",
       "| chest.girth | -0.10 |  0.34 |\n",
       "| chest.width | -0.04 |  0.27 |\n",
       "\n"
      ],
      "text/plain": [
       "               RC1   RC2  \n",
       "height          0.28 -0.05\n",
       "arm.span        0.30 -0.08\n",
       "forearm         0.30 -0.09\n",
       "lower.leg       0.28 -0.06\n",
       "weight         -0.06  0.33\n",
       "bitro.diameter -0.08  0.32\n",
       "chest.girth    -0.10  0.34\n",
       "chest.width    -0.04  0.27"
      ]
     },
     "metadata": {},
     "output_type": "display_data"
    }
   ],
   "source": [
    "library(psych)\n",
    "rc <- principal(Harman23.cor$cov, nfactors=2, rotate=\"varimax\")\n",
    "round(unclass(rc$weights), 2)"
   ]
  },
  {
   "cell_type": "markdown",
   "id": "unknown-stranger",
   "metadata": {
    "slideshow": {
     "slide_type": "slide"
    }
   },
   "source": [
    "The component scores are obtained using the formulas\n",
    "$PC1 = 0.28*height + 0.30*arm.span + 0.30*forearm + 0.29*lower.leg -\n",
    "0.06*weight - 0.08*bitro.diameter - 0.10*chest.girth -\n",
    "0.04*chest.width$\n",
    "\n",
    "and\n",
    "\n",
    "$PC2 = -0.05*height - 0.08*arm.span - 0.09*forearm - 0.06*lower.leg +\n",
    "0.33*weight + 0.32*bitro.diameter + 0.34*chest.girth +\n",
    "0.27*chest.width$\n",
    "\n",
    "These equations assume that the physical measurements have been standardized\n",
    "(mean = 0, sd = 1)."
   ]
  },
  {
   "cell_type": "markdown",
   "id": "spoken-jason",
   "metadata": {
    "slideshow": {
     "slide_type": "slide"
    }
   },
   "source": [
    "# Exploratory factor analysis\n",
    "\n",
    "The goal of EFA is to explain the correlations among a set of observed variables by uncovering a smaller set of more fundamental unobserved variables underlying the data. These hypothetical, unobserved variables are called factors. (Each factor is assumed to explain the variance shared among two or more observed variables, so technically, they’re called common factors.) "
   ]
  },
  {
   "cell_type": "markdown",
   "id": "adult-gibson",
   "metadata": {
    "slideshow": {
     "slide_type": "slide"
    }
   },
   "source": [
    "The model can be represented as\n",
    "#### $X_{i} = a_{1}F_{1} + a_{2}F_{2} + \\cdot\\cdot\\cdot + a_{p}F_{p} + U_{i}$\n",
    "\n",
    "where $X_{i}$ is the ith observed variable $(i = 1\\cdot\\cdot\\cdot k)$, $F_{j}$ are the common factors $(j = 1\\cdot\\cdot\\cdot p)$, and $p < k$. $U_{i}$ is the portion of variable $X_{i}$ unique to that variable (not explained by the common factors). The $a_{i}$ can be thought of as the degree to which each factor contributes to the composition of an observed variable.\n",
    "> If we go back to the ```Harman74.cor``` example, we’d say that an individual’s scores on each of the 24 observed psychological tests is due to a weighted combination of their ability on 4 underlying psychological constructs."
   ]
  },
  {
   "cell_type": "markdown",
   "id": "extensive-gardening",
   "metadata": {
    "slideshow": {
     "slide_type": "slide"
    }
   },
   "source": [
    "# Example\n",
    "You’ll apply EFA to the correlations among six psychological tests. One hundred twelve individuals were given six tests, including a nonverbal measure of\n",
    "general intelligence (general), a picture-completion test (picture), a block design test (blocks), a maze test (maze), a reading comprehension test (reading), and a vocabulary test (vocab). Can you explain the participants’ scores on these tests with a smaller number of underlying or latent psychological constructs?\n",
    "\n",
    "The covariance matrix among the variables is provided in the dataset ```ability.cov```. You can transform this into a correlation matrix using the cov2cor() function:"
   ]
  },
  {
   "cell_type": "code",
   "execution_count": 15,
   "id": "unavailable-scenario",
   "metadata": {
    "slideshow": {
     "slide_type": "slide"
    }
   },
   "outputs": [
    {
     "data": {
      "text/html": [
       "<table>\n",
       "<thead><tr><th></th><th scope=col>general</th><th scope=col>picture</th><th scope=col>blocks</th><th scope=col>maze</th><th scope=col>reading</th><th scope=col>vocab</th></tr></thead>\n",
       "<tbody>\n",
       "\t<tr><th scope=row>general</th><td>1.00</td><td>0.47</td><td>0.55</td><td>0.34</td><td>0.58</td><td>0.51</td></tr>\n",
       "\t<tr><th scope=row>picture</th><td>0.47</td><td>1.00</td><td>0.57</td><td>0.19</td><td>0.26</td><td>0.24</td></tr>\n",
       "\t<tr><th scope=row>blocks</th><td>0.55</td><td>0.57</td><td>1.00</td><td>0.45</td><td>0.35</td><td>0.36</td></tr>\n",
       "\t<tr><th scope=row>maze</th><td>0.34</td><td>0.19</td><td>0.45</td><td>1.00</td><td>0.18</td><td>0.22</td></tr>\n",
       "\t<tr><th scope=row>reading</th><td>0.58</td><td>0.26</td><td>0.35</td><td>0.18</td><td>1.00</td><td>0.79</td></tr>\n",
       "\t<tr><th scope=row>vocab</th><td>0.51</td><td>0.24</td><td>0.36</td><td>0.22</td><td>0.79</td><td>1.00</td></tr>\n",
       "</tbody>\n",
       "</table>\n"
      ],
      "text/latex": [
       "\\begin{tabular}{r|llllll}\n",
       "  & general & picture & blocks & maze & reading & vocab\\\\\n",
       "\\hline\n",
       "\tgeneral & 1.00 & 0.47 & 0.55 & 0.34 & 0.58 & 0.51\\\\\n",
       "\tpicture & 0.47 & 1.00 & 0.57 & 0.19 & 0.26 & 0.24\\\\\n",
       "\tblocks & 0.55 & 0.57 & 1.00 & 0.45 & 0.35 & 0.36\\\\\n",
       "\tmaze & 0.34 & 0.19 & 0.45 & 1.00 & 0.18 & 0.22\\\\\n",
       "\treading & 0.58 & 0.26 & 0.35 & 0.18 & 1.00 & 0.79\\\\\n",
       "\tvocab & 0.51 & 0.24 & 0.36 & 0.22 & 0.79 & 1.00\\\\\n",
       "\\end{tabular}\n"
      ],
      "text/markdown": [
       "\n",
       "| <!--/--> | general | picture | blocks | maze | reading | vocab |\n",
       "|---|---|---|---|---|---|---|\n",
       "| general | 1.00 | 0.47 | 0.55 | 0.34 | 0.58 | 0.51 |\n",
       "| picture | 0.47 | 1.00 | 0.57 | 0.19 | 0.26 | 0.24 |\n",
       "| blocks | 0.55 | 0.57 | 1.00 | 0.45 | 0.35 | 0.36 |\n",
       "| maze | 0.34 | 0.19 | 0.45 | 1.00 | 0.18 | 0.22 |\n",
       "| reading | 0.58 | 0.26 | 0.35 | 0.18 | 1.00 | 0.79 |\n",
       "| vocab | 0.51 | 0.24 | 0.36 | 0.22 | 0.79 | 1.00 |\n",
       "\n"
      ],
      "text/plain": [
       "        general picture blocks maze reading vocab\n",
       "general 1.00    0.47    0.55   0.34 0.58    0.51 \n",
       "picture 0.47    1.00    0.57   0.19 0.26    0.24 \n",
       "blocks  0.55    0.57    1.00   0.45 0.35    0.36 \n",
       "maze    0.34    0.19    0.45   1.00 0.18    0.22 \n",
       "reading 0.58    0.26    0.35   0.18 1.00    0.79 \n",
       "vocab   0.51    0.24    0.36   0.22 0.79    1.00 "
      ]
     },
     "metadata": {},
     "output_type": "display_data"
    }
   ],
   "source": [
    "options(digits=2)\n",
    "covariances <- ability.cov$cov\n",
    "correlations <- cov2cor(covariances)\n",
    "correlations"
   ]
  },
  {
   "cell_type": "markdown",
   "id": "saved-ground",
   "metadata": {
    "slideshow": {
     "slide_type": "slide"
    }
   },
   "source": [
    "## Deciding how many common factors to extract"
   ]
  },
  {
   "cell_type": "code",
   "execution_count": 16,
   "id": "choice-barcelona",
   "metadata": {
    "scrolled": true,
    "slideshow": {
     "slide_type": "slide"
    }
   },
   "outputs": [
    {
     "name": "stderr",
     "output_type": "stream",
     "text": [
      "Warning message in fa.stats(r = r, f = f, phi = phi, n.obs = n.obs, np.obs = np.obs, :\n",
      "\"The estimated weights for the factor scores are probably incorrect.  Try a different factor score estimation method.\"Warning message in fa.stats(r = r, f = f, phi = phi, n.obs = n.obs, np.obs = np.obs, :\n",
      "\"The estimated weights for the factor scores are probably incorrect.  Try a different factor score estimation method.\"Warning message in fac(r = r, nfactors = nfactors, n.obs = n.obs, rotate = rotate, :\n",
      "\"An ultra-Heywood case was detected.  Examine the results carefully\"Warning message in fa.stats(r = r, f = f, phi = phi, n.obs = n.obs, np.obs = np.obs, :\n",
      "\"The estimated weights for the factor scores are probably incorrect.  Try a different factor score estimation method.\"Warning message in fac(r = r, nfactors = nfactors, n.obs = n.obs, rotate = rotate, :\n",
      "\"An ultra-Heywood case was detected.  Examine the results carefully\"Warning message in fa.stats(r = r, f = f, phi = phi, n.obs = n.obs, np.obs = np.obs, :\n",
      "\"The estimated weights for the factor scores are probably incorrect.  Try a different factor score estimation method.\"Warning message in fac(r = r, nfactors = nfactors, n.obs = n.obs, rotate = rotate, :\n",
      "\"An ultra-Heywood case was detected.  Examine the results carefully\"Warning message in fa.stats(r = r, f = f, phi = phi, n.obs = n.obs, np.obs = np.obs, :\n",
      "\"The estimated weights for the factor scores are probably incorrect.  Try a different factor score estimation method.\"Warning message in fac(r = r, nfactors = nfactors, n.obs = n.obs, rotate = rotate, :\n",
      "\"An ultra-Heywood case was detected.  Examine the results carefully\"Warning message in fa.stats(r = r, f = f, phi = phi, n.obs = n.obs, np.obs = np.obs, :\n",
      "\"The estimated weights for the factor scores are probably incorrect.  Try a different factor score estimation method.\"Warning message in fac(r = r, nfactors = nfactors, n.obs = n.obs, rotate = rotate, :\n",
      "\"An ultra-Heywood case was detected.  Examine the results carefully\"Warning message in fa.stats(r = r, f = f, phi = phi, n.obs = n.obs, np.obs = np.obs, :\n",
      "\"The estimated weights for the factor scores are probably incorrect.  Try a different factor score estimation method.\""
     ]
    },
    {
     "name": "stdout",
     "output_type": "stream",
     "text": [
      "Parallel analysis suggests that the number of factors =  2  and the number of components =  1 \n"
     ]
    },
    {
     "data": {
      "image/png": "[encoded data removed]",
      "text/plain": [
       "Plot with title \"Scree plots with parallel analysis\""
      ]
     },
     "metadata": {},
     "output_type": "display_data"
    }
   ],
   "source": [
    "covariances <- ability.cov$cov\n",
    "correlations <- cov2cor(covariances)\n",
    "fa.parallel(correlations, n.obs=112, fa=\"both\", n.iter=100, main=\"Scree plots with parallel analysis\")"
   ]
  },
  {
   "cell_type": "markdown",
   "id": "fresh-honolulu",
   "metadata": {
    "slideshow": {
     "slide_type": "slide"
    }
   },
   "source": [
    "Looking at the EFA results, a two-factor solution is clearly indicated. The first two\n",
    "eigenvalues (triangles) are above the bend in the scree test and also above the mean\n",
    "eigenvalues based on 100 simulated data matrices. For EFA, the Kaiser–Harris criterion\n",
    "is number of eigenvalues above 0, rather than 1."
   ]
  },
  {
   "cell_type": "markdown",
   "id": "interesting-tampa",
   "metadata": {
    "slideshow": {
     "slide_type": "slide"
    }
   },
   "source": [
    "# Extracting common factors\n",
    "\n"
   ]
  },
  {
   "cell_type": "markdown",
   "id": "fitting-detector",
   "metadata": {
    "slideshow": {
     "slide_type": "slide"
    }
   },
   "source": [
    "#### ```fa(r, nfactors=, n.obs=, rotate=, scores=, fm=)```\n",
    "where\n",
    "* r is a correlation matrix or a raw data matrix.\n",
    "* nfactors specifies the number of factors to extract (1 by default).\n",
    "* n.obs is the number of observations (if a correlation matrix is input).\n",
    "* rotate indicates the rotation to be applied (oblimin by default).\n",
    "* scores specifies whether or not to calculate factor scores (false by default).\n",
    "* fm specifies the factoring method (minres by default).\n",
    "\n"
   ]
  },
  {
   "cell_type": "markdown",
   "id": "combined-dollar",
   "metadata": {
    "slideshow": {
     "slide_type": "slide"
    }
   },
   "source": [
    "Unlike PCA, there are many methods of extracting common factors including: \n",
    "* maximum likelihood (ml)\n",
    "* iterated principal axis (pa)\n",
    "* weighted least square (wls)\n",
    "* generalized weighted least squares (gls)\n",
    "* minimum residual (minres)."
   ]
  },
  {
   "cell_type": "markdown",
   "id": "remarkable-accreditation",
   "metadata": {
    "slideshow": {
     "slide_type": "slide"
    }
   },
   "source": [
    "For this example, you’ll extract the unrotated factors using the iterated principal axis (fm = \"pa\") approach"
   ]
  },
  {
   "cell_type": "code",
   "execution_count": 17,
   "id": "corrected-carter",
   "metadata": {
    "scrolled": true
   },
   "outputs": [
    {
     "data": {
      "text/plain": [
       "Factor Analysis using method =  pa\n",
       "Call: fa(r = correlations, nfactors = 2, rotate = \"none\", fm = \"pa\")\n",
       "Standardized loadings (pattern matrix) based upon correlation matrix\n",
       "         PA1   PA2   h2    u2 com\n",
       "general 0.75  0.07 0.57 0.432 1.0\n",
       "picture 0.52  0.32 0.38 0.623 1.7\n",
       "blocks  0.75  0.52 0.83 0.166 1.8\n",
       "maze    0.39  0.22 0.20 0.798 1.6\n",
       "reading 0.81 -0.51 0.91 0.089 1.7\n",
       "vocab   0.73 -0.39 0.69 0.313 1.5\n",
       "\n",
       "                       PA1  PA2\n",
       "SS loadings           2.75 0.83\n",
       "Proportion Var        0.46 0.14\n",
       "Cumulative Var        0.46 0.60\n",
       "Proportion Explained  0.77 0.23\n",
       "Cumulative Proportion 0.77 1.00\n",
       "\n",
       "Mean item complexity =  1.5\n",
       "Test of the hypothesis that 2 factors are sufficient.\n",
       "\n",
       "The degrees of freedom for the null model are  15  and the objective function was  2.5\n",
       "The degrees of freedom for the model are 4  and the objective function was  0.07 \n",
       "\n",
       "The root mean square of the residuals (RMSR) is  0.03 \n",
       "The df corrected root mean square of the residuals is  0.06 \n",
       "\n",
       "Fit based upon off diagonal values = 0.99\n",
       "Measures of factor score adequacy             \n",
       "                                                   PA1  PA2\n",
       "Correlation of (regression) scores with factors   0.96 0.92\n",
       "Multiple R square of scores with factors          0.93 0.84\n",
       "Minimum correlation of possible factor scores     0.86 0.68"
      ]
     },
     "metadata": {},
     "output_type": "display_data"
    }
   ],
   "source": [
    "fa <- fa(correlations, nfactors=2, rotate=\"none\", fm=\"pa\")\n",
    "fa"
   ]
  },
  {
   "cell_type": "markdown",
   "id": "biological-inquiry",
   "metadata": {
    "slideshow": {
     "slide_type": "slide"
    }
   },
   "source": [
    "# Factor extraction with orthogonal rotation"
   ]
  },
  {
   "cell_type": "code",
   "execution_count": 18,
   "id": "pointed-cable",
   "metadata": {
    "scrolled": true,
    "slideshow": {
     "slide_type": "slide"
    }
   },
   "outputs": [
    {
     "data": {
      "text/plain": [
       "Factor Analysis using method =  pa\n",
       "Call: fa(r = correlations, nfactors = 2, rotate = \"varimax\", fm = \"pa\")\n",
       "Standardized loadings (pattern matrix) based upon correlation matrix\n",
       "         PA1  PA2   h2    u2 com\n",
       "general 0.49 0.57 0.57 0.432 2.0\n",
       "picture 0.16 0.59 0.38 0.623 1.1\n",
       "blocks  0.18 0.89 0.83 0.166 1.1\n",
       "maze    0.13 0.43 0.20 0.798 1.2\n",
       "reading 0.93 0.20 0.91 0.089 1.1\n",
       "vocab   0.80 0.23 0.69 0.313 1.2\n",
       "\n",
       "                       PA1  PA2\n",
       "SS loadings           1.83 1.75\n",
       "Proportion Var        0.30 0.29\n",
       "Cumulative Var        0.30 0.60\n",
       "Proportion Explained  0.51 0.49\n",
       "Cumulative Proportion 0.51 1.00\n",
       "\n",
       "Mean item complexity =  1.3\n",
       "Test of the hypothesis that 2 factors are sufficient.\n",
       "\n",
       "The degrees of freedom for the null model are  15  and the objective function was  2.5\n",
       "The degrees of freedom for the model are 4  and the objective function was  0.07 \n",
       "\n",
       "The root mean square of the residuals (RMSR) is  0.03 \n",
       "The df corrected root mean square of the residuals is  0.06 \n",
       "\n",
       "Fit based upon off diagonal values = 0.99\n",
       "Measures of factor score adequacy             \n",
       "                                                   PA1  PA2\n",
       "Correlation of (regression) scores with factors   0.96 0.92\n",
       "Multiple R square of scores with factors          0.91 0.85\n",
       "Minimum correlation of possible factor scores     0.82 0.71"
      ]
     },
     "metadata": {},
     "output_type": "display_data"
    }
   ],
   "source": [
    "fa.varimax <- fa(correlations, nfactors=2, rotate=\"varimax\", fm=\"pa\")\n",
    "fa.varimax"
   ]
  },
  {
   "cell_type": "markdown",
   "id": "atlantic-threat",
   "metadata": {
    "slideshow": {
     "slide_type": "slide"
    }
   },
   "source": [
    "Reading and vocabulary load on the first factor; and picture completion, block design, and mazes load on the second factor. The general nonverbal intelligence measure loads on both factors. This may indicate a verbal intelligence factor and a nonverbal intelligence factor.\n",
    "\n"
   ]
  },
  {
   "cell_type": "markdown",
   "id": "nutritional-immigration",
   "metadata": {
    "slideshow": {
     "slide_type": "slide"
    }
   },
   "source": [
    "# Factor extraction with oblique rotation \n",
    "\n",
    "By using an orthogonal rotation, you artificially force the two factors to be uncorrelated.\n",
    "What would you find if you allowed the two factors to correlate? You can try an oblique rotation such as promax"
   ]
  },
  {
   "cell_type": "code",
   "execution_count": 21,
   "id": "subtle-apartment",
   "metadata": {
    "slideshow": {
     "slide_type": "skip"
    }
   },
   "outputs": [
    {
     "name": "stdout",
     "output_type": "stream",
     "text": [
      "package 'GPArotation' successfully unpacked and MD5 sums checked\n",
      "\n",
      "The downloaded binary packages are in\n",
      "\tC:\\Users\\Nemo\\AppData\\Local\\Temp\\Rtmp2h7nTl\\downloaded_packages\n"
     ]
    }
   ],
   "source": [
    "install.packages(\"GPArotation\")"
   ]
  },
  {
   "cell_type": "code",
   "execution_count": 22,
   "id": "advisory-cincinnati",
   "metadata": {
    "scrolled": true,
    "slideshow": {
     "slide_type": "slide"
    }
   },
   "outputs": [
    {
     "data": {
      "text/plain": [
       "Factor Analysis using method =  pa\n",
       "Call: fa(r = correlations, nfactors = 2, rotate = \"promax\", fm = \"pa\")\n",
       "Standardized loadings (pattern matrix) based upon correlation matrix\n",
       "          PA1   PA2   h2    u2 com\n",
       "general  0.37  0.48 0.57 0.432 1.9\n",
       "picture -0.03  0.63 0.38 0.623 1.0\n",
       "blocks  -0.10  0.97 0.83 0.166 1.0\n",
       "maze     0.00  0.45 0.20 0.798 1.0\n",
       "reading  1.00 -0.09 0.91 0.089 1.0\n",
       "vocab    0.84 -0.01 0.69 0.313 1.0\n",
       "\n",
       "                       PA1  PA2\n",
       "SS loadings           1.83 1.75\n",
       "Proportion Var        0.30 0.29\n",
       "Cumulative Var        0.30 0.60\n",
       "Proportion Explained  0.51 0.49\n",
       "Cumulative Proportion 0.51 1.00\n",
       "\n",
       " With factor correlations of \n",
       "     PA1  PA2\n",
       "PA1 1.00 0.55\n",
       "PA2 0.55 1.00\n",
       "\n",
       "Mean item complexity =  1.2\n",
       "Test of the hypothesis that 2 factors are sufficient.\n",
       "\n",
       "The degrees of freedom for the null model are  15  and the objective function was  2.5\n",
       "The degrees of freedom for the model are 4  and the objective function was  0.07 \n",
       "\n",
       "The root mean square of the residuals (RMSR) is  0.03 \n",
       "The df corrected root mean square of the residuals is  0.06 \n",
       "\n",
       "Fit based upon off diagonal values = 0.99\n",
       "Measures of factor score adequacy             \n",
       "                                                   PA1  PA2\n",
       "Correlation of (regression) scores with factors   0.97 0.94\n",
       "Multiple R square of scores with factors          0.93 0.88\n",
       "Minimum correlation of possible factor scores     0.86 0.77"
      ]
     },
     "metadata": {},
     "output_type": "display_data"
    }
   ],
   "source": [
    "library(GPArotation)\n",
    "fa.promax<- fa(correlations, nfactors=2, rotate=\"promax\", fm=\"pa\")\n",
    "fa.promax"
   ]
  },
  {
   "cell_type": "markdown",
   "id": "legendary-hartford",
   "metadata": {
    "slideshow": {
     "slide_type": "slide"
    }
   },
   "source": [
    "Several differences exist between the orthogonal and oblique solutions:\n",
    "* In an orthogonal solution, attention focuses on the factor structure matrix (the correlations of the variables with the factors). \n",
    "* In an oblique solution, there are three matrices to consider: the factor structure matrix, the factor pattern matrix, and the factor intercorrelation matrix.\n",
    "    * The factor pattern matrix is a matrix of standardized regression coefficients. They give the weights for predicting the variables from the factors. \n",
    "    * The factor intercorrelation matrix gives the correlations among the factors.\n",
    "\n",
    "\n"
   ]
  },
  {
   "cell_type": "markdown",
   "id": "color-excerpt",
   "metadata": {
    "slideshow": {
     "slide_type": "slide"
    }
   },
   "source": [
    "> The values in the ```PA1``` and ```PA2``` columns constitute the factor pattern matrix. They’re standardized regression coefficients rather than correlations. Examination of the columns of this matrix is still used to name the factors.\n",
    "\n",
    "> The factor intercorrelation matrix indicates that the correlation between the two factors is 0.57. This is a hefty correlation. If the factor intercorrelations had been low, you might have gone back to an orthogonal solution to keep things simple.\n",
    "\n",
    "> The factor structure matrix (or factor loading matrix) isn’t provided. But you can easily calculate it using the formula $F = P*Phi$, where $F$ is the factor loading matrix, $P$ is the factor pattern matrix, and $Phi$ is the factor intercorrelation matrix.\n"
   ]
  },
  {
   "cell_type": "code",
   "execution_count": 23,
   "id": "realistic-cradle",
   "metadata": {
    "slideshow": {
     "slide_type": "slide"
    }
   },
   "outputs": [],
   "source": [
    "fsm <- function(oblique) {\n",
    "if (class(oblique)[2]==\"fa\" & is.null(oblique$Phi)) {\n",
    "warning(\"Object doesn't look like oblique EFA\")\n",
    "} else {\n",
    "P <- unclass(oblique$loading)\n",
    "F <- P %*% oblique$Phi\n",
    "colnames(F) <- c(\"PA1\", \"PA2\")\n",
    "return(F)\n",
    "}\n",
    "}"
   ]
  },
  {
   "cell_type": "code",
   "execution_count": 24,
   "id": "hungarian-federation",
   "metadata": {
    "slideshow": {
     "slide_type": "slide"
    }
   },
   "outputs": [
    {
     "data": {
      "text/html": [
       "<table>\n",
       "<thead><tr><th></th><th scope=col>PA1</th><th scope=col>PA2</th></tr></thead>\n",
       "<tbody>\n",
       "\t<tr><th scope=row>general</th><td>0.64</td><td>0.69</td></tr>\n",
       "\t<tr><th scope=row>picture</th><td>0.32</td><td>0.61</td></tr>\n",
       "\t<tr><th scope=row>blocks</th><td>0.43</td><td>0.91</td></tr>\n",
       "\t<tr><th scope=row>maze</th><td>0.25</td><td>0.45</td></tr>\n",
       "\t<tr><th scope=row>reading</th><td>0.95</td><td>0.46</td></tr>\n",
       "\t<tr><th scope=row>vocab</th><td>0.83</td><td>0.45</td></tr>\n",
       "</tbody>\n",
       "</table>\n"
      ],
      "text/latex": [
       "\\begin{tabular}{r|ll}\n",
       "  & PA1 & PA2\\\\\n",
       "\\hline\n",
       "\tgeneral & 0.64 & 0.69\\\\\n",
       "\tpicture & 0.32 & 0.61\\\\\n",
       "\tblocks & 0.43 & 0.91\\\\\n",
       "\tmaze & 0.25 & 0.45\\\\\n",
       "\treading & 0.95 & 0.46\\\\\n",
       "\tvocab & 0.83 & 0.45\\\\\n",
       "\\end{tabular}\n"
      ],
      "text/markdown": [
       "\n",
       "| <!--/--> | PA1 | PA2 |\n",
       "|---|---|---|\n",
       "| general | 0.64 | 0.69 |\n",
       "| picture | 0.32 | 0.61 |\n",
       "| blocks | 0.43 | 0.91 |\n",
       "| maze | 0.25 | 0.45 |\n",
       "| reading | 0.95 | 0.46 |\n",
       "| vocab | 0.83 | 0.45 |\n",
       "\n"
      ],
      "text/plain": [
       "        PA1  PA2 \n",
       "general 0.64 0.69\n",
       "picture 0.32 0.61\n",
       "blocks  0.43 0.91\n",
       "maze    0.25 0.45\n",
       "reading 0.95 0.46\n",
       "vocab   0.83 0.45"
      ]
     },
     "metadata": {},
     "output_type": "display_data"
    }
   ],
   "source": [
    "fsm(fa.promax)"
   ]
  },
  {
   "cell_type": "markdown",
   "id": "tamil-occasion",
   "metadata": {
    "slideshow": {
     "slide_type": "slide"
    }
   },
   "source": [
    "Now you can review the correlations between the variables and the factors. Comparing them to the factor loading matrix in the orthogonal solution, you see that these columns aren’t as pure. This is because you’ve allowed the underlying factors to be correlated."
   ]
  },
  {
   "cell_type": "code",
   "execution_count": 25,
   "id": "atomic-directory",
   "metadata": {
    "scrolled": true,
    "slideshow": {
     "slide_type": "slide"
    }
   },
   "outputs": [
    {
     "data": {
      "image/png": "[encoded data removed]",
      "text/plain": [
       "Plot with title \"Factor Analysis\""
      ]
     },
     "metadata": {},
     "output_type": "display_data"
    }
   ],
   "source": [
    "factor.plot(fa.promax, labels=rownames(fa.promax$loadings))"
   ]
  },
  {
   "cell_type": "code",
   "execution_count": 26,
   "id": "tough-trance",
   "metadata": {
    "slideshow": {
     "slide_type": "slide"
    }
   },
   "outputs": [
    {
     "data": {
      "image/png": "[encoded data removed]",
      "text/plain": [
       "Plot with title \"Factor Analysis\""
      ]
     },
     "metadata": {},
     "output_type": "display_data"
    }
   ],
   "source": [
    "fa.diagram(fa.promax, simple=FALSE)"
   ]
  },
  {
   "cell_type": "markdown",
   "id": "cooperative-dayton",
   "metadata": {
    "slideshow": {
     "slide_type": "slide"
    }
   },
   "source": [
    "# Factor scores\n",
    "Compared with PCA, the goal of EFA is much less likely to be the calculation of factor scores. But these scores are easily obtained from the fa() function by including the ```score = TRUE``` option (when raw data are available). Additionally, the scoring coefficients (standardized regression weights) are available in the weights element of the object returned."
   ]
  },
  {
   "cell_type": "code",
   "execution_count": 27,
   "id": "chicken-arctic",
   "metadata": {
    "slideshow": {
     "slide_type": "slide"
    }
   },
   "outputs": [
    {
     "data": {
      "text/html": [
       "<table>\n",
       "<thead><tr><th></th><th scope=col>PA1</th><th scope=col>PA2</th></tr></thead>\n",
       "<tbody>\n",
       "\t<tr><th scope=row>general</th><td>0.078</td><td>0.211</td></tr>\n",
       "\t<tr><th scope=row>picture</th><td>0.020</td><td>0.090</td></tr>\n",
       "\t<tr><th scope=row>blocks</th><td>0.037</td><td>0.702</td></tr>\n",
       "\t<tr><th scope=row>maze</th><td>0.027</td><td>0.035</td></tr>\n",
       "\t<tr><th scope=row>reading</th><td>0.743</td><td>0.030</td></tr>\n",
       "\t<tr><th scope=row>vocab</th><td>0.177</td><td>0.036</td></tr>\n",
       "</tbody>\n",
       "</table>\n"
      ],
      "text/latex": [
       "\\begin{tabular}{r|ll}\n",
       "  & PA1 & PA2\\\\\n",
       "\\hline\n",
       "\tgeneral & 0.078 & 0.211\\\\\n",
       "\tpicture & 0.020 & 0.090\\\\\n",
       "\tblocks & 0.037 & 0.702\\\\\n",
       "\tmaze & 0.027 & 0.035\\\\\n",
       "\treading & 0.743 & 0.030\\\\\n",
       "\tvocab & 0.177 & 0.036\\\\\n",
       "\\end{tabular}\n"
      ],
      "text/markdown": [
       "\n",
       "| <!--/--> | PA1 | PA2 |\n",
       "|---|---|---|\n",
       "| general | 0.078 | 0.211 |\n",
       "| picture | 0.020 | 0.090 |\n",
       "| blocks | 0.037 | 0.702 |\n",
       "| maze | 0.027 | 0.035 |\n",
       "| reading | 0.743 | 0.030 |\n",
       "| vocab | 0.177 | 0.036 |\n",
       "\n"
      ],
      "text/plain": [
       "        PA1   PA2  \n",
       "general 0.078 0.211\n",
       "picture 0.020 0.090\n",
       "blocks  0.037 0.702\n",
       "maze    0.027 0.035\n",
       "reading 0.743 0.030\n",
       "vocab   0.177 0.036"
      ]
     },
     "metadata": {},
     "output_type": "display_data"
    }
   ],
   "source": [
    "fa.promax$weights"
   ]
  },
  {
   "cell_type": "markdown",
   "id": "confused-compensation",
   "metadata": {
    "slideshow": {
     "slide_type": "slide"
    }
   },
   "source": [
    "Unlike component scores, which are calculated exactly, factor scores can only be estimated."
   ]
  },
  {
   "cell_type": "markdown",
   "id": "fifth-oakland",
   "metadata": {
    "slideshow": {
     "slide_type": "slide"
    }
   },
   "source": [
    "![](fig4.png)"
   ]
  },
  {
   "cell_type": "markdown",
   "id": "multiple-california",
   "metadata": {
    "slideshow": {
     "slide_type": "slide"
    }
   },
   "source": [
    "# One Example of PCA from Datacamp\n",
    "https://www.datacamp.com/community/tutorials/pca-analysis-r"
   ]
  },
  {
   "cell_type": "markdown",
   "id": "coastal-packet",
   "metadata": {},
   "source": [
    "In this section, you will try a PCA using a simple and easy to understand dataset. You will use the mtcars dataset, which is built into R. This dataset consists of data on 32 models of car, taken from an American motoring magazine (1974 Motor Trend magazine). For each car, you have 11 features, expressed in varying units (US units), They are as follows:\n",
    "\n",
    "* mpg: Fuel consumption (Miles per (US) gallon): more powerful and heavier cars tend to consume more fuel.\n",
    "* cyl: Number of cylinders: more powerful cars often have more cylinders\n",
    "* disp: Displacement (cu.in.): the combined volume of the engine's cylinders\n",
    "* hp: Gross horsepower: this is a measure of the power generated by the car\n",
    "* drat: Rear axle ratio: this describes how a turn of the drive shaft corresponds to a turn of the wheels. Higher values will decrease fuel efficiency.\n",
    "* wt: Weight (1000 lbs): pretty self-explanatory!\n",
    "* qsec: 1/4 mile time: the cars speed and acceleration\n",
    "* vs: Engine block: this denotes whether the vehicle's engine is shaped like a \"V\", or is a more common straight shape.\n",
    "* am: Transmission: this denotes whether the car's transmission is automatic (0) or manual (1).\n",
    "* gear: Number of forward gears: sports cars tend to have more gears.\n",
    "* carb: Number of carburetors: associated with more powerful engines"
   ]
  },
  {
   "cell_type": "markdown",
   "id": "spiritual-cursor",
   "metadata": {},
   "source": [
    "## Compute the Principal Components\n",
    "Because PCA works best with numerical data, you'll exclude the two categorical variables (```vs``` and ```am```). You are left with a matrix of 9 columns and 32 rows, which you pass to the ```prcomp()``` function, assigning your output to ```mtcars.pca```"
   ]
  },
  {
   "cell_type": "code",
   "execution_count": 2,
   "id": "rubber-projector",
   "metadata": {},
   "outputs": [
    {
     "data": {
      "text/plain": [
       "Importance of components:\n",
       "                          PC1    PC2     PC3     PC4     PC5     PC6     PC7\n",
       "Standard deviation     2.3782 1.4429 0.71008 0.51481 0.42797 0.35184 0.32413\n",
       "Proportion of Variance 0.6284 0.2313 0.05602 0.02945 0.02035 0.01375 0.01167\n",
       "Cumulative Proportion  0.6284 0.8598 0.91581 0.94525 0.96560 0.97936 0.99103\n",
       "                          PC8     PC9\n",
       "Standard deviation     0.2419 0.14896\n",
       "Proportion of Variance 0.0065 0.00247\n",
       "Cumulative Proportion  0.9975 1.00000"
      ]
     },
     "metadata": {},
     "output_type": "display_data"
    }
   ],
   "source": [
    "mtcars.pca <- prcomp(mtcars[,c(1:7,10,11)], center = TRUE,scale. = TRUE)\n",
    "summary(mtcars.pca)"
   ]
  },
  {
   "cell_type": "markdown",
   "id": "wrong-management",
   "metadata": {},
   "source": [
    "You obtain 9 principal components, which you call PC1-9. Each of these explains a percentage of the total variation in the dataset. That is to say: PC1 explains 63% of the total variance, which means that nearly two-thirds of the information in the dataset (9 variables) can be encapsulated by just that one Principal Component. PC2 explains 23% of the variance. So, by knowing the position of a sample in relation to just PC1 and PC2, you can get a very accurate view on where it stands in relation to other samples, as just PC1 and PC2 can explain 86% of the variance."
   ]
  },
  {
   "cell_type": "code",
   "execution_count": 3,
   "id": "adverse-tumor",
   "metadata": {},
   "outputs": [
    {
     "name": "stdout",
     "output_type": "stream",
     "text": [
      "List of 5\n",
      " $ sdev    : num [1:9] 2.378 1.443 0.71 0.515 0.428 ...\n",
      " $ rotation: num [1:9, 1:9] -0.393 0.403 0.397 0.367 -0.312 ...\n",
      "  ..- attr(*, \"dimnames\")=List of 2\n",
      "  .. ..$ : chr [1:9] \"mpg\" \"cyl\" \"disp\" \"hp\" ...\n",
      "  .. ..$ : chr [1:9] \"PC1\" \"PC2\" \"PC3\" \"PC4\" ...\n",
      " $ center  : Named num [1:9] 20.09 6.19 230.72 146.69 3.6 ...\n",
      "  ..- attr(*, \"names\")= chr [1:9] \"mpg\" \"cyl\" \"disp\" \"hp\" ...\n",
      " $ scale   : Named num [1:9] 6.027 1.786 123.939 68.563 0.535 ...\n",
      "  ..- attr(*, \"names\")= chr [1:9] \"mpg\" \"cyl\" \"disp\" \"hp\" ...\n",
      " $ x       : num [1:32, 1:9] -0.664 -0.637 -2.3 -0.215 1.587 ...\n",
      "  ..- attr(*, \"dimnames\")=List of 2\n",
      "  .. ..$ : chr [1:32] \"Mazda RX4\" \"Mazda RX4 Wag\" \"Datsun 710\" \"Hornet 4 Drive\" ...\n",
      "  .. ..$ : chr [1:9] \"PC1\" \"PC2\" \"PC3\" \"PC4\" ...\n",
      " - attr(*, \"class\")= chr \"prcomp\"\n"
     ]
    }
   ],
   "source": [
    "str(mtcars.pca)"
   ]
  },
  {
   "cell_type": "markdown",
   "id": "still-hunger",
   "metadata": {},
   "source": [
    "* The center point ($\\$center$), scaling ($\\$scale$), standard deviation(sdev) of each principal component\n",
    "* The relationship (correlation or anticorrelation, etc) between the initial variables and the principal components ($\\$rotation$)\n",
    "* The values of each sample in terms of the principal components ($\\$x$)"
   ]
  },
  {
   "cell_type": "markdown",
   "id": "mechanical-movement",
   "metadata": {},
   "source": [
    "# Plotting PCA\n",
    "Now it's time to plot your PCA. You will make a biplot, which includes both the position of each sample in terms of PC1 and PC2 and also will show you how the initial variables map onto this. You will use the ggbiplot package, which offers a user-friendly and pretty function to plot biplots. A biplot is a type of plot that will allow you to visualize how the samples relate to one another in our PCA (which samples are similar and which are different) and will simultaneously reveal how each variable contributes to each principal component."
   ]
  },
  {
   "cell_type": "code",
   "execution_count": 1,
   "id": "satisfactory-payroll",
   "metadata": {},
   "outputs": [
    {
     "name": "stderr",
     "output_type": "stream",
     "text": [
      "Loading required package: usethis\n",
      "Downloading GitHub repo vqv/ggbiplot@HEAD\n"
     ]
    },
    {
     "name": "stdout",
     "output_type": "stream",
     "text": [
      "colorspace (1.4-1 -> 2.0-0) [CRAN]\n",
      "utf8       (1.1.4 -> 1.2.1) [CRAN]\n",
      "vctrs      (0.3.6 -> 0.3.7) [CRAN]\n",
      "fansi      (0.4.0 -> 0.4.2) [CRAN]\n",
      "tibble     (3.0.6 -> 3.1.0) [CRAN]\n",
      "scales     (1.0.0 -> 1.1.1) [CRAN]\n"
     ]
    },
    {
     "name": "stderr",
     "output_type": "stream",
     "text": [
      "Installing 6 packages: colorspace, utf8, vctrs, fansi, tibble, scales\n"
     ]
    },
    {
     "name": "stdout",
     "output_type": "stream",
     "text": [
      "package 'colorspace' successfully unpacked and MD5 sums checked\n",
      "package 'utf8' successfully unpacked and MD5 sums checked\n",
      "package 'vctrs' successfully unpacked and MD5 sums checked\n",
      "package 'fansi' successfully unpacked and MD5 sums checked\n",
      "package 'tibble' successfully unpacked and MD5 sums checked\n",
      "package 'scales' successfully unpacked and MD5 sums checked\n",
      "\n",
      "The downloaded binary packages are in\n",
      "\tC:\\Users\\Nemo\\AppData\\Local\\Temp\\Rtmpo9dpqT\\downloaded_packages\n",
      "\u001b[32mv\u001b[39m  \u001b[38;5;247mchecking for file 'C:\\Users\\Nemo\\AppData\\Local\\Temp\\Rtmpo9dpqT\\remotes24879175dd2\\vqv-ggbiplot-7325e88/DESCRIPTION'\u001b[39m\u001b[36m\u001b[36m (401ms)\u001b[36m\u001b[39m\n",
      "\u001b[38;5;247m-\u001b[39m\u001b[38;5;247m  \u001b[39m\u001b[38;5;247mpreparing 'ggbiplot':\u001b[39m\u001b[36m\u001b[39m\n",
      "\u001b[32mv\u001b[39m  \u001b[38;5;247mchecking DESCRIPTION meta-information\u001b[39m\u001b[36m\u001b[39m\n",
      "\u001b[38;5;247m-\u001b[39m\u001b[38;5;247m  \u001b[39m\u001b[38;5;247mchecking for LF line-endings in source and make files and shell scripts\u001b[39m\u001b[36m\u001b[39m\n",
      "\u001b[38;5;247m-\u001b[39m\u001b[38;5;247m  \u001b[39m\u001b[38;5;247mchecking for empty or unneeded directories\u001b[39m\u001b[36m\u001b[39m\n",
      "\u001b[38;5;247m-\u001b[39m\u001b[38;5;247m  \u001b[39m\u001b[38;5;247mlooking to see if a 'data/datalist' file should be added\u001b[39m\u001b[36m\u001b[39m\n",
      "\u001b[38;5;247m-\u001b[39m\u001b[38;5;247m  \u001b[39m\u001b[38;5;247mbuilding 'ggbiplot_0.55.tar.gz'\u001b[39m\u001b[36m\u001b[39m\n",
      "   \n",
      "\r"
     ]
    }
   ],
   "source": [
    "library(devtools)\n",
    "install_github(\"vqv/ggbiplot\")"
   ]
  },
  {
   "cell_type": "code",
   "execution_count": 4,
   "id": "cellular-slovenia",
   "metadata": {},
   "outputs": [
    {
     "name": "stderr",
     "output_type": "stream",
     "text": [
      "Loading required package: ggplot2\n",
      "Loading required package: plyr\n",
      "Loading required package: scales\n",
      "Loading required package: grid\n"
     ]
    },
    {
     "data": {
      "image/png": "[encoded data removed]",
      "text/plain": [
       "plot without title"
      ]
     },
     "metadata": {},
     "output_type": "display_data"
    }
   ],
   "source": [
    "library(ggbiplot)\n",
    "ggbiplot(mtcars.pca)"
   ]
  },
  {
   "cell_type": "markdown",
   "id": "further-postage",
   "metadata": {},
   "source": [
    "The axes are seen as arrows originating from the center point. Here, you see that the variables hp, cyl, and disp all contribute to PC1, with higher values in those variables moving the samples to the right on this plot. This lets you see how the data points relate to the axes, but it's not very informative without knowing which point corresponds to which sample (car)."
   ]
  },
  {
   "cell_type": "code",
   "execution_count": 5,
   "id": "earned-toner",
   "metadata": {},
   "outputs": [
    {
     "data": {
      "image/png": "[encoded data removed]",
      "text/plain": [
       "plot without title"
      ]
     },
     "metadata": {},
     "output_type": "display_data"
    }
   ],
   "source": [
    "ggbiplot(mtcars.pca, labels=rownames(mtcars))"
   ]
  },
  {
   "cell_type": "markdown",
   "id": "silver-incident",
   "metadata": {},
   "source": [
    "# Interpreting the results\n",
    "Maybe if you look at the origin of each of the cars. You'll put them into one of three categories (cartegories?), one each for the US, Japanese and European cars. You make a list for this info, then pass it to the groups argument of ggbiplot. You'll also set the ellipse argument to be TRUE, which will draw an ellipse around each group."
   ]
  },
  {
   "cell_type": "code",
   "execution_count": 6,
   "id": "operational-hypothetical",
   "metadata": {},
   "outputs": [
    {
     "data": {
      "image/png": "[encoded data removed]",
      "text/plain": [
       "plot without title"
      ]
     },
     "metadata": {},
     "output_type": "display_data"
    }
   ],
   "source": [
    "mtcars.country <- c(rep(\"Japan\", 3), rep(\"US\",4), rep(\"Europe\", 7),rep(\"US\",3), \"Europe\", rep(\"Japan\", 3), rep(\"US\",4), rep(\"Europe\", 3), \"US\", rep(\"Europe\", 3))\n",
    "ggbiplot(mtcars.pca,ellipse=TRUE,  labels=rownames(mtcars), groups=mtcars.country)"
   ]
  },
  {
   "cell_type": "markdown",
   "id": "indoor-vatican",
   "metadata": {},
   "source": [
    "Now you see something interesting: the American cars form a distinct cluster to the right. Looking at the axes, you see that the American cars are characterized by high values for cyl, disp, and wt. Japanese cars, on the other hand, are characterized by high mpg. European cars are somewhat in the middle and less tightly clustered than either group.\n",
    "\n",
    "Of course, you have many principal components available, each of which map differently to the original variables. You can also ask ggbiplot to plot these other components, by using the choices argument.\n",
    "\n",
    "Let's have a look at PC3 and PC4:"
   ]
  },
  {
   "cell_type": "code",
   "execution_count": 7,
   "id": "tight-magnitude",
   "metadata": {},
   "outputs": [
    {
     "data": {
      "image/png": "[encoded data removed]",
      "text/plain": [
       "plot without title"
      ]
     },
     "metadata": {},
     "output_type": "display_data"
    }
   ],
   "source": [
    "ggbiplot(mtcars.pca,ellipse=TRUE,choices=c(3,4),   labels=rownames(mtcars), groups=mtcars.country)\n"
   ]
  },
  {
   "cell_type": "markdown",
   "id": "industrial-provision",
   "metadata": {},
   "source": [
    "You don't see much here, but this isn't too surprising. PC3 and PC4 explain very small percentages of the total variation, so it would be surprising if you found that they were very informative and separated the groups or revealed apparent patterns."
   ]
  },
  {
   "cell_type": "markdown",
   "id": "vulnerable-bumper",
   "metadata": {},
   "source": [
    "Let's take a moment to recap: having performed a PCA using the mtcars dataset, we can see a clear separation between American and Japanese cars along a principal component that is closely correlated to cyl, disp, wt, and mpg. This provides us with some clues for future analyses; if we were to try to build a classification model to identify the origin of a car, these variables might be useful.\n",
    "\n",
    "You can also remove the arrows altogether, using var.axes."
   ]
  },
  {
   "cell_type": "code",
   "execution_count": 8,
   "id": "reserved-illness",
   "metadata": {},
   "outputs": [
    {
     "data": {
      "image/png": "[encoded data removed]",
      "text/plain": [
       "plot without title"
      ]
     },
     "metadata": {},
     "output_type": "display_data"
    }
   ],
   "source": [
    "ggbiplot(mtcars.pca,ellipse=TRUE,var.axes=FALSE,   labels=rownames(mtcars), groups=mtcars.country)"
   ]
  },
  {
   "cell_type": "code",
   "execution_count": null,
   "id": "arbitrary-divide",
   "metadata": {},
   "outputs": [],
   "source": []
  }
 ],
 "metadata": {
  "celltoolbar": "Slideshow",
  "kernelspec": {
   "display_name": "Python 3 (ipykernel)",
   "language": "python",
   "name": "python3"
  },
  "language_info": {
   "codemirror_mode": {
    "name": "ipython",
    "version": 3
   },
   "file_extension": ".py",
   "mimetype": "text/x-python",
   "name": "python",
   "nbconvert_exporter": "python",
   "pygments_lexer": "ipython3",
   "version": "3.11.7"
  }
 },
 "nbformat": 4,
 "nbformat_minor": 5
}
