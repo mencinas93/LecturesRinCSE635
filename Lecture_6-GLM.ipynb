{
 "cells": [
  {
   "cell_type": "markdown",
   "id": "hungry-metadata",
   "metadata": {
    "slideshow": {
     "slide_type": "slide"
    }
   },
   "source": [
    "# Generalized Linear Models\n",
    "Extend the linear-model framework to include dependent variables that are decidedly non-normal"
   ]
  },
  {
   "cell_type": "markdown",
   "id": "voluntary-burton",
   "metadata": {
    "slideshow": {
     "slide_type": "slide"
    }
   },
   "source": [
    "You fit models of the form:\n",
    "\n",
    "#### $g(\\mu_{Y})=\\beta_{0}+\\sum_{j=1}^{p}\\beta_{j}X_{j}$\n",
    "\n",
    "* $g(\\mu_{Y})$ is a function of the conditional mean (called the link function)\n",
    "* You assume that Y follows a distribution that’s a member of the exponential family\n",
    "* You specify the link function and the probability distribution, and the parameters are derived through an iterative maximum-likelihood-estimation procedure."
   ]
  },
  {
   "cell_type": "markdown",
   "id": "packed-elephant",
   "metadata": {
    "slideshow": {
     "slide_type": "slide"
    }
   },
   "source": [
    "#### ```glm(formula, family=family(link=function), data=)```\n",
    "![](fig5.png)"
   ]
  },
  {
   "cell_type": "markdown",
   "id": "immediate-shade",
   "metadata": {
    "slideshow": {
     "slide_type": "slide"
    }
   },
   "source": [
    "* Logistic regression is applied to situations in which the response variable is dichotomous (0 or 1). The model assumes that Y follows a binomial distribution and that you can fit a linear model\n",
    "\n",
    "     ![](fig6.png)\n",
    "\n",
    "* Poisson regression is applied to situations in which the response variable is the number of events to occur in a given period of time. The Poisson regression model assumes that Y follows a Poisson distribution and that you can fit a linear model\n",
    "\n",
    "    ![](fig7.png)"
   ]
  },
  {
   "cell_type": "markdown",
   "id": "possible-iraqi",
   "metadata": {
    "slideshow": {
     "slide_type": "slide"
    }
   },
   "source": [
    "# Example: Logistic regression\n",
    "The infidelity data, known as Fair’s Affairs, is based on a cross-sectional survey conducted by Psychology Today in 1969 and is described in Greene (2003) and Fair (1978). It contains 9 variables collected on 601 participants and includes how often the respondent engaged in extramarital sexual intercourse during the past year, as well as their gender, age, years married, whether they had children, their religiousness (on a 5-point scale from 1=anti to 5=very), education, occupation (Hollingshead 7-point classification with reverse numbering), and a numeric self-rating of their marriage (from 1=very unhappy to 5=very happy)."
   ]
  },
  {
   "cell_type": "code",
   "execution_count": 22,
   "id": "detected-timing",
   "metadata": {
    "slideshow": {
     "slide_type": "skip"
    }
   },
   "outputs": [
    {
     "name": "stdout",
     "output_type": "stream",
     "text": [
      "package 'AER' successfully unpacked and MD5 sums checked\n",
      "\n",
      "The downloaded binary packages are in\n",
      "\tC:\\Users\\Nemo\\AppData\\Local\\Temp\\Rtmp0MnHvW\\downloaded_packages\n"
     ]
    }
   ],
   "source": [
    "install.packages(\"AER\")"
   ]
  },
  {
   "cell_type": "code",
   "execution_count": 23,
   "id": "major-signature",
   "metadata": {
    "slideshow": {
     "slide_type": "slide"
    }
   },
   "outputs": [
    {
     "data": {
      "text/plain": [
       "    affairs          gender         age         yearsmarried    children \n",
       " Min.   : 0.000   female:315   Min.   :17.50   Min.   : 0.125   no :171  \n",
       " 1st Qu.: 0.000   male  :286   1st Qu.:27.00   1st Qu.: 4.000   yes:430  \n",
       " Median : 0.000                Median :32.00   Median : 7.000            \n",
       " Mean   : 1.456                Mean   :32.49   Mean   : 8.178            \n",
       " 3rd Qu.: 0.000                3rd Qu.:37.00   3rd Qu.:15.000            \n",
       " Max.   :12.000                Max.   :57.00   Max.   :15.000            \n",
       " religiousness     education       occupation        rating     \n",
       " Min.   :1.000   Min.   : 9.00   Min.   :1.000   Min.   :1.000  \n",
       " 1st Qu.:2.000   1st Qu.:14.00   1st Qu.:3.000   1st Qu.:3.000  \n",
       " Median :3.000   Median :16.00   Median :5.000   Median :4.000  \n",
       " Mean   :3.116   Mean   :16.17   Mean   :4.195   Mean   :3.932  \n",
       " 3rd Qu.:4.000   3rd Qu.:18.00   3rd Qu.:6.000   3rd Qu.:5.000  \n",
       " Max.   :5.000   Max.   :20.00   Max.   :7.000   Max.   :5.000  "
      ]
     },
     "metadata": {},
     "output_type": "display_data"
    }
   ],
   "source": [
    "data(Affairs, package=\"AER\")\n",
    "summary(Affairs)"
   ]
  },
  {
   "cell_type": "code",
   "execution_count": 24,
   "id": "recovered-airfare",
   "metadata": {
    "slideshow": {
     "slide_type": "slide"
    }
   },
   "outputs": [
    {
     "data": {
      "text/plain": [
       "\n",
       "  0   1   2   3   7  12 \n",
       "451  34  17  19  42  38 "
      ]
     },
     "metadata": {},
     "output_type": "display_data"
    }
   ],
   "source": [
    "table(Affairs$affairs)"
   ]
  },
  {
   "cell_type": "markdown",
   "id": "determined-split",
   "metadata": {
    "slideshow": {
     "slide_type": "slide"
    }
   },
   "source": [
    "You can see that that 52% of respondents were female, that 72% had children, and that the median age for the sample was 32 years. With regard to the response variable, 75% of respondents reported not engaging in an infidelity in the past year (451/601). The largest number of encounters reported was 12 (6%).\n",
    "\n",
    "Although the number of indiscretions was recorded, your interest here is in the binary outcome (had an affair/didn’t have an affair)."
   ]
  },
  {
   "cell_type": "code",
   "execution_count": 25,
   "id": "understood-ivory",
   "metadata": {},
   "outputs": [],
   "source": [
    "Affairs$ynaffair[Affairs$affairs > 0] <- 1\n",
    "Affairs$ynaffair[Affairs$affairs == 0] <- 0"
   ]
  },
  {
   "cell_type": "code",
   "execution_count": 26,
   "id": "green-commissioner",
   "metadata": {
    "slideshow": {
     "slide_type": "slide"
    }
   },
   "outputs": [],
   "source": [
    "Affairs$ynaffair <- factor(Affairs$ynaffair,\n",
    "levels=c(0,1),\n",
    "labels=c(\"No\",\"Yes\"))"
   ]
  },
  {
   "cell_type": "code",
   "execution_count": 27,
   "id": "greenhouse-retention",
   "metadata": {},
   "outputs": [
    {
     "data": {
      "text/plain": [
       "\n",
       " No Yes \n",
       "451 150 "
      ]
     },
     "metadata": {},
     "output_type": "display_data"
    }
   ],
   "source": [
    "table(Affairs$ynaffair)"
   ]
  },
  {
   "cell_type": "code",
   "execution_count": 28,
   "id": "working-suspect",
   "metadata": {
    "slideshow": {
     "slide_type": "slide"
    }
   },
   "outputs": [],
   "source": [
    "fit.full <- glm(ynaffair ~ gender + age + yearsmarried + children +\n",
    "religiousness + education + occupation +rating,\n",
    "data=Affairs, family=binomial())"
   ]
  },
  {
   "cell_type": "code",
   "execution_count": 29,
   "id": "inclusive-giving",
   "metadata": {
    "scrolled": true,
    "slideshow": {
     "slide_type": "slide"
    }
   },
   "outputs": [
    {
     "data": {
      "text/plain": [
       "\n",
       "Call:\n",
       "glm(formula = ynaffair ~ gender + age + yearsmarried + children + \n",
       "    religiousness + education + occupation + rating, family = binomial(), \n",
       "    data = Affairs)\n",
       "\n",
       "Deviance Residuals: \n",
       "    Min       1Q   Median       3Q      Max  \n",
       "-1.5713  -0.7499  -0.5690  -0.2539   2.5191  \n",
       "\n",
       "Coefficients:\n",
       "              Estimate Std. Error z value Pr(>|z|)    \n",
       "(Intercept)    1.37726    0.88776   1.551 0.120807    \n",
       "gendermale     0.28029    0.23909   1.172 0.241083    \n",
       "age           -0.04426    0.01825  -2.425 0.015301 *  \n",
       "yearsmarried   0.09477    0.03221   2.942 0.003262 ** \n",
       "childrenyes    0.39767    0.29151   1.364 0.172508    \n",
       "religiousness -0.32472    0.08975  -3.618 0.000297 ***\n",
       "education      0.02105    0.05051   0.417 0.676851    \n",
       "occupation     0.03092    0.07178   0.431 0.666630    \n",
       "rating        -0.46845    0.09091  -5.153 2.56e-07 ***\n",
       "---\n",
       "Signif. codes:  0 '***' 0.001 '**' 0.01 '*' 0.05 '.' 0.1 ' ' 1\n",
       "\n",
       "(Dispersion parameter for binomial family taken to be 1)\n",
       "\n",
       "    Null deviance: 675.38  on 600  degrees of freedom\n",
       "Residual deviance: 609.51  on 592  degrees of freedom\n",
       "AIC: 627.51\n",
       "\n",
       "Number of Fisher Scoring iterations: 4\n"
      ]
     },
     "metadata": {},
     "output_type": "display_data"
    }
   ],
   "source": [
    "summary(fit.full)"
   ]
  },
  {
   "cell_type": "markdown",
   "id": "competent-recruitment",
   "metadata": {
    "slideshow": {
     "slide_type": "slide"
    }
   },
   "source": [
    "From the p-values for the regression coefficients (last column), you can see that gender, presence of children, education, and occupation may not make a significant contribution to the equation (you can’t reject the hypothesis that the parameters are 0). \n",
    "\n",
    "Let’s fit a second equation without them and test whether this reduced model fits the data as well:"
   ]
  },
  {
   "cell_type": "code",
   "execution_count": 30,
   "id": "reliable-shield",
   "metadata": {
    "scrolled": true,
    "slideshow": {
     "slide_type": "slide"
    }
   },
   "outputs": [
    {
     "data": {
      "text/plain": [
       "\n",
       "Call:\n",
       "glm(formula = ynaffair ~ age + yearsmarried + religiousness + \n",
       "    rating, family = binomial(), data = Affairs)\n",
       "\n",
       "Deviance Residuals: \n",
       "    Min       1Q   Median       3Q      Max  \n",
       "-1.6278  -0.7550  -0.5701  -0.2624   2.3998  \n",
       "\n",
       "Coefficients:\n",
       "              Estimate Std. Error z value Pr(>|z|)    \n",
       "(Intercept)    1.93083    0.61032   3.164 0.001558 ** \n",
       "age           -0.03527    0.01736  -2.032 0.042127 *  \n",
       "yearsmarried   0.10062    0.02921   3.445 0.000571 ***\n",
       "religiousness -0.32902    0.08945  -3.678 0.000235 ***\n",
       "rating        -0.46136    0.08884  -5.193 2.06e-07 ***\n",
       "---\n",
       "Signif. codes:  0 '***' 0.001 '**' 0.01 '*' 0.05 '.' 0.1 ' ' 1\n",
       "\n",
       "(Dispersion parameter for binomial family taken to be 1)\n",
       "\n",
       "    Null deviance: 675.38  on 600  degrees of freedom\n",
       "Residual deviance: 615.36  on 596  degrees of freedom\n",
       "AIC: 625.36\n",
       "\n",
       "Number of Fisher Scoring iterations: 4\n"
      ]
     },
     "metadata": {},
     "output_type": "display_data"
    }
   ],
   "source": [
    "fit.reduced <- glm(ynaffair ~ age + yearsmarried + religiousness + rating, data=Affairs, family=binomial())\n",
    "summary(fit.reduced)"
   ]
  },
  {
   "cell_type": "markdown",
   "id": "manual-integrity",
   "metadata": {
    "slideshow": {
     "slide_type": "slide"
    }
   },
   "source": [
    "Each regression coefficient in the reduced model is statistically significant (p < .05). Because the two models are nested (fit.reduced is a subset of fit.full), you can use the anova() function to compare them. For generalized linear models, you’ll want a chi-square version of this test:"
   ]
  },
  {
   "cell_type": "code",
   "execution_count": 31,
   "id": "municipal-queens",
   "metadata": {
    "slideshow": {
     "slide_type": "slide"
    }
   },
   "outputs": [
    {
     "data": {
      "text/html": [
       "<table>\n",
       "<thead><tr><th scope=col>Resid. Df</th><th scope=col>Resid. Dev</th><th scope=col>Df</th><th scope=col>Deviance</th><th scope=col>Pr(&gt;Chi)</th></tr></thead>\n",
       "<tbody>\n",
       "\t<tr><td>596      </td><td>615.3578 </td><td>NA       </td><td>      NA </td><td>       NA</td></tr>\n",
       "\t<tr><td>592      </td><td>609.5104 </td><td> 4       </td><td>5.847418 </td><td>0.2108367</td></tr>\n",
       "</tbody>\n",
       "</table>\n"
      ],
      "text/latex": [
       "\\begin{tabular}{r|lllll}\n",
       " Resid. Df & Resid. Dev & Df & Deviance & Pr(>Chi)\\\\\n",
       "\\hline\n",
       "\t 596       & 615.3578  & NA        &       NA  &        NA\\\\\n",
       "\t 592       & 609.5104  &  4        & 5.847418  & 0.2108367\\\\\n",
       "\\end{tabular}\n"
      ],
      "text/markdown": [
       "\n",
       "| Resid. Df | Resid. Dev | Df | Deviance | Pr(>Chi) |\n",
       "|---|---|---|---|---|\n",
       "| 596       | 615.3578  | NA        |       NA  |        NA |\n",
       "| 592       | 609.5104  |  4        | 5.847418  | 0.2108367 |\n",
       "\n"
      ],
      "text/plain": [
       "  Resid. Df Resid. Dev Df Deviance Pr(>Chi) \n",
       "1 596       615.3578   NA       NA        NA\n",
       "2 592       609.5104    4 5.847418 0.2108367"
      ]
     },
     "metadata": {},
     "output_type": "display_data"
    }
   ],
   "source": [
    "anova(fit.reduced, fit.full, test=\"Chisq\")"
   ]
  },
  {
   "cell_type": "markdown",
   "id": "available-coating",
   "metadata": {
    "slideshow": {
     "slide_type": "slide"
    }
   },
   "source": [
    "The nonsignificant chi-square value (p = 0.21) suggests that the reduced model with four predictors fits as well as the full model with nine predictors, reinforcing your belief that gender, children, education, and occupation don’t add significantly to the prediction above and beyond the other variables in the equation."
   ]
  },
  {
   "cell_type": "markdown",
   "id": "palestinian-commercial",
   "metadata": {
    "slideshow": {
     "slide_type": "slide"
    }
   },
   "source": [
    "# Interpreting the model parameters"
   ]
  },
  {
   "cell_type": "code",
   "execution_count": 32,
   "id": "quick-leonard",
   "metadata": {
    "slideshow": {
     "slide_type": "slide"
    }
   },
   "outputs": [
    {
     "data": {
      "text/html": [
       "<dl class=dl-horizontal>\n",
       "\t<dt>(Intercept)</dt>\n",
       "\t\t<dd>1.93083017492467</dd>\n",
       "\t<dt>age</dt>\n",
       "\t\t<dd>-0.0352711169267396</dd>\n",
       "\t<dt>yearsmarried</dt>\n",
       "\t\t<dd>0.100622738089974</dd>\n",
       "\t<dt>religiousness</dt>\n",
       "\t\t<dd>-0.329023855056451</dd>\n",
       "\t<dt>rating</dt>\n",
       "\t\t<dd>-0.461361443466654</dd>\n",
       "</dl>\n"
      ],
      "text/latex": [
       "\\begin{description*}\n",
       "\\item[(Intercept)] 1.93083017492467\n",
       "\\item[age] -0.0352711169267396\n",
       "\\item[yearsmarried] 0.100622738089974\n",
       "\\item[religiousness] -0.329023855056451\n",
       "\\item[rating] -0.461361443466654\n",
       "\\end{description*}\n"
      ],
      "text/markdown": [
       "(Intercept)\n",
       ":   1.93083017492467age\n",
       ":   -0.0352711169267396yearsmarried\n",
       ":   0.100622738089974religiousness\n",
       ":   -0.329023855056451rating\n",
       ":   -0.461361443466654\n",
       "\n"
      ],
      "text/plain": [
       "  (Intercept)           age  yearsmarried religiousness        rating \n",
       "   1.93083017   -0.03527112    0.10062274   -0.32902386   -0.46136144 "
      ]
     },
     "metadata": {},
     "output_type": "display_data"
    }
   ],
   "source": [
    "coef(fit.reduced)"
   ]
  },
  {
   "cell_type": "markdown",
   "id": "public-tribe",
   "metadata": {},
   "source": [
    "In a logistic regression, the response being modeled is the log(odds) that Y = 1. The regression coefficients give the change in log(odds) in the response for a unit change in the predictor variable, holding all other predictor variables constant. Because log(odds) are difficult to interpret, you can exponentiate them to put the results on an odds scale:"
   ]
  },
  {
   "cell_type": "code",
   "execution_count": 33,
   "id": "viral-ontario",
   "metadata": {
    "slideshow": {
     "slide_type": "slide"
    }
   },
   "outputs": [
    {
     "data": {
      "text/html": [
       "<dl class=dl-horizontal>\n",
       "\t<dt>(Intercept)</dt>\n",
       "\t\t<dd>6.89523211497641</dd>\n",
       "\t<dt>age</dt>\n",
       "\t\t<dd>0.965343659769578</dd>\n",
       "\t<dt>yearsmarried</dt>\n",
       "\t\t<dd>1.1058593644409</dd>\n",
       "\t<dt>religiousness</dt>\n",
       "\t\t<dd>0.719625849827046</dd>\n",
       "\t<dt>rating</dt>\n",
       "\t\t<dd>0.630424773297786</dd>\n",
       "</dl>\n"
      ],
      "text/latex": [
       "\\begin{description*}\n",
       "\\item[(Intercept)] 6.89523211497641\n",
       "\\item[age] 0.965343659769578\n",
       "\\item[yearsmarried] 1.1058593644409\n",
       "\\item[religiousness] 0.719625849827046\n",
       "\\item[rating] 0.630424773297786\n",
       "\\end{description*}\n"
      ],
      "text/markdown": [
       "(Intercept)\n",
       ":   6.89523211497641age\n",
       ":   0.965343659769578yearsmarried\n",
       ":   1.1058593644409religiousness\n",
       ":   0.719625849827046rating\n",
       ":   0.630424773297786\n",
       "\n"
      ],
      "text/plain": [
       "  (Intercept)           age  yearsmarried religiousness        rating \n",
       "    6.8952321     0.9653437     1.1058594     0.7196258     0.6304248 "
      ]
     },
     "metadata": {},
     "output_type": "display_data"
    }
   ],
   "source": [
    "exp(coef(fit.reduced))"
   ]
  },
  {
   "cell_type": "markdown",
   "id": "applied-plaza",
   "metadata": {
    "slideshow": {
     "slide_type": "slide"
    }
   },
   "source": [
    "* Now you can see that the odds of an extramarital encounter are increased by a factor of 1.106 for a one-year increase in years married (holding age, religiousness, and marital rating constant).\n",
    "* If a one year increase in years married multiplies the odds of an affair by 1.106, a 10-year increase would increase the odds by a factor of 1.106^10, or 2.7, holding the other predictor variables constant.\n",
    "* The odds of an extramarital affair are multiplied by a factor of 0.965 for every year increase in age.\n",
    "* The odds of an extramarital affair increase with years married and decrease with age, religiousness, and marital rating.\n",
    "* Because the predictor variables can’t equal 0, the intercept isn’t meaningful in this case."
   ]
  },
  {
   "cell_type": "markdown",
   "id": "veterinary-olympus",
   "metadata": {
    "slideshow": {
     "slide_type": "slide"
    }
   },
   "source": [
    "# Assessing the impact of predictors on the probability of an outcome \n",
    "You can use the ```predict()``` function to observe the impact of varying the levels of a predictor variable on the probability of the outcome.\n",
    "> The first step is to create an artificial dataset containing\n",
    "the values of the predictor variables you’re interested in. Then you can use\n",
    "this artificial dataset with the ```predict()``` function to predict the probabilities of the\n",
    "outcome event occurring for these values."
   ]
  },
  {
   "cell_type": "markdown",
   "id": "cellular-matrix",
   "metadata": {
    "slideshow": {
     "slide_type": "slide"
    }
   },
   "source": [
    "**First, create an artificial dataset where age, years married, and religiousness are set to their means, and marital rating varies from 1 to 5:**"
   ]
  },
  {
   "cell_type": "code",
   "execution_count": 34,
   "id": "strong-toolbox",
   "metadata": {},
   "outputs": [
    {
     "data": {
      "text/html": [
       "<table>\n",
       "<thead><tr><th scope=col>rating</th><th scope=col>age</th><th scope=col>yearsmarried</th><th scope=col>religiousness</th></tr></thead>\n",
       "<tbody>\n",
       "\t<tr><td>1       </td><td>32.48752</td><td>8.177696</td><td>3.116473</td></tr>\n",
       "\t<tr><td>2       </td><td>32.48752</td><td>8.177696</td><td>3.116473</td></tr>\n",
       "\t<tr><td>3       </td><td>32.48752</td><td>8.177696</td><td>3.116473</td></tr>\n",
       "\t<tr><td>4       </td><td>32.48752</td><td>8.177696</td><td>3.116473</td></tr>\n",
       "\t<tr><td>5       </td><td>32.48752</td><td>8.177696</td><td>3.116473</td></tr>\n",
       "</tbody>\n",
       "</table>\n"
      ],
      "text/latex": [
       "\\begin{tabular}{r|llll}\n",
       " rating & age & yearsmarried & religiousness\\\\\n",
       "\\hline\n",
       "\t 1        & 32.48752 & 8.177696 & 3.116473\\\\\n",
       "\t 2        & 32.48752 & 8.177696 & 3.116473\\\\\n",
       "\t 3        & 32.48752 & 8.177696 & 3.116473\\\\\n",
       "\t 4        & 32.48752 & 8.177696 & 3.116473\\\\\n",
       "\t 5        & 32.48752 & 8.177696 & 3.116473\\\\\n",
       "\\end{tabular}\n"
      ],
      "text/markdown": [
       "\n",
       "| rating | age | yearsmarried | religiousness |\n",
       "|---|---|---|---|\n",
       "| 1        | 32.48752 | 8.177696 | 3.116473 |\n",
       "| 2        | 32.48752 | 8.177696 | 3.116473 |\n",
       "| 3        | 32.48752 | 8.177696 | 3.116473 |\n",
       "| 4        | 32.48752 | 8.177696 | 3.116473 |\n",
       "| 5        | 32.48752 | 8.177696 | 3.116473 |\n",
       "\n"
      ],
      "text/plain": [
       "  rating age      yearsmarried religiousness\n",
       "1 1      32.48752 8.177696     3.116473     \n",
       "2 2      32.48752 8.177696     3.116473     \n",
       "3 3      32.48752 8.177696     3.116473     \n",
       "4 4      32.48752 8.177696     3.116473     \n",
       "5 5      32.48752 8.177696     3.116473     "
      ]
     },
     "metadata": {},
     "output_type": "display_data"
    }
   ],
   "source": [
    "testdata <- data.frame(rating=c(1, 2, 3, 4, 5), age=mean(Affairs$age),\n",
    "yearsmarried=mean(Affairs$yearsmarried),\n",
    "religiousness=mean(Affairs$religiousness))\n",
    "testdata"
   ]
  },
  {
   "cell_type": "markdown",
   "id": "pediatric-treat",
   "metadata": {
    "slideshow": {
     "slide_type": "slide"
    }
   },
   "source": [
    "**Next, use the test dataset and prediction equation to obtain probabilities:**"
   ]
  },
  {
   "cell_type": "code",
   "execution_count": 35,
   "id": "exclusive-twins",
   "metadata": {},
   "outputs": [
    {
     "data": {
      "text/html": [
       "<table>\n",
       "<thead><tr><th scope=col>rating</th><th scope=col>age</th><th scope=col>yearsmarried</th><th scope=col>religiousness</th><th scope=col>prob</th></tr></thead>\n",
       "<tbody>\n",
       "\t<tr><td>1        </td><td>32.48752 </td><td>8.177696 </td><td>3.116473 </td><td>0.5302296</td></tr>\n",
       "\t<tr><td>2        </td><td>32.48752 </td><td>8.177696 </td><td>3.116473 </td><td>0.4157377</td></tr>\n",
       "\t<tr><td>3        </td><td>32.48752 </td><td>8.177696 </td><td>3.116473 </td><td>0.3096712</td></tr>\n",
       "\t<tr><td>4        </td><td>32.48752 </td><td>8.177696 </td><td>3.116473 </td><td>0.2204547</td></tr>\n",
       "\t<tr><td>5        </td><td>32.48752 </td><td>8.177696 </td><td>3.116473 </td><td>0.1513079</td></tr>\n",
       "</tbody>\n",
       "</table>\n"
      ],
      "text/latex": [
       "\\begin{tabular}{r|lllll}\n",
       " rating & age & yearsmarried & religiousness & prob\\\\\n",
       "\\hline\n",
       "\t 1         & 32.48752  & 8.177696  & 3.116473  & 0.5302296\\\\\n",
       "\t 2         & 32.48752  & 8.177696  & 3.116473  & 0.4157377\\\\\n",
       "\t 3         & 32.48752  & 8.177696  & 3.116473  & 0.3096712\\\\\n",
       "\t 4         & 32.48752  & 8.177696  & 3.116473  & 0.2204547\\\\\n",
       "\t 5         & 32.48752  & 8.177696  & 3.116473  & 0.1513079\\\\\n",
       "\\end{tabular}\n"
      ],
      "text/markdown": [
       "\n",
       "| rating | age | yearsmarried | religiousness | prob |\n",
       "|---|---|---|---|---|\n",
       "| 1         | 32.48752  | 8.177696  | 3.116473  | 0.5302296 |\n",
       "| 2         | 32.48752  | 8.177696  | 3.116473  | 0.4157377 |\n",
       "| 3         | 32.48752  | 8.177696  | 3.116473  | 0.3096712 |\n",
       "| 4         | 32.48752  | 8.177696  | 3.116473  | 0.2204547 |\n",
       "| 5         | 32.48752  | 8.177696  | 3.116473  | 0.1513079 |\n",
       "\n"
      ],
      "text/plain": [
       "  rating age      yearsmarried religiousness prob     \n",
       "1 1      32.48752 8.177696     3.116473      0.5302296\n",
       "2 2      32.48752 8.177696     3.116473      0.4157377\n",
       "3 3      32.48752 8.177696     3.116473      0.3096712\n",
       "4 4      32.48752 8.177696     3.116473      0.2204547\n",
       "5 5      32.48752 8.177696     3.116473      0.1513079"
      ]
     },
     "metadata": {},
     "output_type": "display_data"
    }
   ],
   "source": [
    "testdata$prob <- predict(fit.reduced, newdata=testdata, type=\"response\")\n",
    "testdata"
   ]
  },
  {
   "cell_type": "markdown",
   "id": "passive-aurora",
   "metadata": {
    "slideshow": {
     "slide_type": "-"
    }
   },
   "source": [
    "From these results, you see that the probability of an extramarital affair decreases from 0.53 when the marriage is rated 1=very unhappy to 0.15 when the marriage is rated 5=very happy (holding age, years married, and religiousness constant)."
   ]
  },
  {
   "cell_type": "markdown",
   "id": "imposed-forth",
   "metadata": {
    "slideshow": {
     "slide_type": "slide"
    }
   },
   "source": [
    "**Now look at the impact of age:**"
   ]
  },
  {
   "cell_type": "code",
   "execution_count": 36,
   "id": "nonprofit-search",
   "metadata": {},
   "outputs": [
    {
     "data": {
      "text/html": [
       "<table>\n",
       "<thead><tr><th scope=col>rating</th><th scope=col>age</th><th scope=col>yearsmarried</th><th scope=col>religiousness</th></tr></thead>\n",
       "<tbody>\n",
       "\t<tr><td>3.93178 </td><td>17      </td><td>8.177696</td><td>3.116473</td></tr>\n",
       "\t<tr><td>3.93178 </td><td>27      </td><td>8.177696</td><td>3.116473</td></tr>\n",
       "\t<tr><td>3.93178 </td><td>37      </td><td>8.177696</td><td>3.116473</td></tr>\n",
       "\t<tr><td>3.93178 </td><td>47      </td><td>8.177696</td><td>3.116473</td></tr>\n",
       "\t<tr><td>3.93178 </td><td>57      </td><td>8.177696</td><td>3.116473</td></tr>\n",
       "</tbody>\n",
       "</table>\n"
      ],
      "text/latex": [
       "\\begin{tabular}{r|llll}\n",
       " rating & age & yearsmarried & religiousness\\\\\n",
       "\\hline\n",
       "\t 3.93178  & 17       & 8.177696 & 3.116473\\\\\n",
       "\t 3.93178  & 27       & 8.177696 & 3.116473\\\\\n",
       "\t 3.93178  & 37       & 8.177696 & 3.116473\\\\\n",
       "\t 3.93178  & 47       & 8.177696 & 3.116473\\\\\n",
       "\t 3.93178  & 57       & 8.177696 & 3.116473\\\\\n",
       "\\end{tabular}\n"
      ],
      "text/markdown": [
       "\n",
       "| rating | age | yearsmarried | religiousness |\n",
       "|---|---|---|---|\n",
       "| 3.93178  | 17       | 8.177696 | 3.116473 |\n",
       "| 3.93178  | 27       | 8.177696 | 3.116473 |\n",
       "| 3.93178  | 37       | 8.177696 | 3.116473 |\n",
       "| 3.93178  | 47       | 8.177696 | 3.116473 |\n",
       "| 3.93178  | 57       | 8.177696 | 3.116473 |\n",
       "\n"
      ],
      "text/plain": [
       "  rating  age yearsmarried religiousness\n",
       "1 3.93178 17  8.177696     3.116473     \n",
       "2 3.93178 27  8.177696     3.116473     \n",
       "3 3.93178 37  8.177696     3.116473     \n",
       "4 3.93178 47  8.177696     3.116473     \n",
       "5 3.93178 57  8.177696     3.116473     "
      ]
     },
     "metadata": {},
     "output_type": "display_data"
    }
   ],
   "source": [
    "testdata <- data.frame(rating=mean(Affairs$rating),\n",
    "age=seq(17, 57, 10),\n",
    "yearsmarried=mean(Affairs$yearsmarried),\n",
    "religiousness=mean(Affairs$religiousness))\n",
    "testdata"
   ]
  },
  {
   "cell_type": "code",
   "execution_count": 37,
   "id": "ancient-afghanistan",
   "metadata": {
    "slideshow": {
     "slide_type": "slide"
    }
   },
   "outputs": [
    {
     "data": {
      "text/html": [
       "<table>\n",
       "<thead><tr><th scope=col>rating</th><th scope=col>age</th><th scope=col>yearsmarried</th><th scope=col>religiousness</th><th scope=col>prob</th></tr></thead>\n",
       "<tbody>\n",
       "\t<tr><td>3.93178  </td><td>17       </td><td>8.177696 </td><td>3.116473 </td><td>0.3350834</td></tr>\n",
       "\t<tr><td>3.93178  </td><td>27       </td><td>8.177696 </td><td>3.116473 </td><td>0.2615373</td></tr>\n",
       "\t<tr><td>3.93178  </td><td>37       </td><td>8.177696 </td><td>3.116473 </td><td>0.1992953</td></tr>\n",
       "\t<tr><td>3.93178  </td><td>47       </td><td>8.177696 </td><td>3.116473 </td><td>0.1488796</td></tr>\n",
       "\t<tr><td>3.93178  </td><td>57       </td><td>8.177696 </td><td>3.116473 </td><td>0.1094738</td></tr>\n",
       "</tbody>\n",
       "</table>\n"
      ],
      "text/latex": [
       "\\begin{tabular}{r|lllll}\n",
       " rating & age & yearsmarried & religiousness & prob\\\\\n",
       "\\hline\n",
       "\t 3.93178   & 17        & 8.177696  & 3.116473  & 0.3350834\\\\\n",
       "\t 3.93178   & 27        & 8.177696  & 3.116473  & 0.2615373\\\\\n",
       "\t 3.93178   & 37        & 8.177696  & 3.116473  & 0.1992953\\\\\n",
       "\t 3.93178   & 47        & 8.177696  & 3.116473  & 0.1488796\\\\\n",
       "\t 3.93178   & 57        & 8.177696  & 3.116473  & 0.1094738\\\\\n",
       "\\end{tabular}\n"
      ],
      "text/markdown": [
       "\n",
       "| rating | age | yearsmarried | religiousness | prob |\n",
       "|---|---|---|---|---|\n",
       "| 3.93178   | 17        | 8.177696  | 3.116473  | 0.3350834 |\n",
       "| 3.93178   | 27        | 8.177696  | 3.116473  | 0.2615373 |\n",
       "| 3.93178   | 37        | 8.177696  | 3.116473  | 0.1992953 |\n",
       "| 3.93178   | 47        | 8.177696  | 3.116473  | 0.1488796 |\n",
       "| 3.93178   | 57        | 8.177696  | 3.116473  | 0.1094738 |\n",
       "\n"
      ],
      "text/plain": [
       "  rating  age yearsmarried religiousness prob     \n",
       "1 3.93178 17  8.177696     3.116473      0.3350834\n",
       "2 3.93178 27  8.177696     3.116473      0.2615373\n",
       "3 3.93178 37  8.177696     3.116473      0.1992953\n",
       "4 3.93178 47  8.177696     3.116473      0.1488796\n",
       "5 3.93178 57  8.177696     3.116473      0.1094738"
      ]
     },
     "metadata": {},
     "output_type": "display_data"
    }
   ],
   "source": [
    "testdata$prob <- predict(fit.reduced, newdata=testdata, type=\"response\")\n",
    "testdata"
   ]
  },
  {
   "cell_type": "markdown",
   "id": "historic-plant",
   "metadata": {
    "slideshow": {
     "slide_type": "slide"
    }
   },
   "source": [
    "> *Note:* There is a phenomenon known as Overdispersion that occurs when the observed variance of the response variable is larger than what would be expected from a binomial distribution. Overdispersion can lead to distorted test standard errors and inaccurate tests of significance."
   ]
  },
  {
   "cell_type": "markdown",
   "id": "corresponding-uzbekistan",
   "metadata": {
    "slideshow": {
     "slide_type": "slide"
    }
   },
   "source": [
    "# Example: Poisson Regression\n",
    "Poisson regression is useful when you’re predicting an outcome variable representing counts from a set of continuous and/or categorical predictor variables.\n"
   ]
  },
  {
   "cell_type": "markdown",
   "id": "developed-furniture",
   "metadata": {
    "slideshow": {
     "slide_type": "slide"
    }
   },
   "source": [
    "We’ll consider the impact of an antiepileptic drug treatment on the number of seizures occurring over an eight-week period following the initiation of therapy.\n",
    "\n",
    "Data were collected on the age and number of seizures reported by patients suffering from simple or complex partial seizures during an eight-week period before, and eight-week period after, randomization into a drug or placebo condition."
   ]
  },
  {
   "cell_type": "markdown",
   "id": "worth-session",
   "metadata": {
    "slideshow": {
     "slide_type": "slide"
    }
   },
   "source": [
    "* SumY (the number of seizures in the eight-week period post-randomization) is the response variable.\n",
    "* Treatment condition (Trt), age in years (Age), and number of seizures reported in the baseline eight-week period (Base) are the predictor variables. \n",
    "* The baseline number of seizures and age are included because of their potential effect on the response variable. \n",
    "\n",
    "We're interested in whether or not evidence exists that the drug treatment decreases the number of seizures after accounting for these covariates."
   ]
  },
  {
   "cell_type": "code",
   "execution_count": 38,
   "id": "little-vacation",
   "metadata": {
    "slideshow": {
     "slide_type": "skip"
    }
   },
   "outputs": [],
   "source": [
    "# install.packages(\"robust\")"
   ]
  },
  {
   "cell_type": "code",
   "execution_count": 39,
   "id": "directed-charm",
   "metadata": {
    "slideshow": {
     "slide_type": "slide"
    }
   },
   "outputs": [
    {
     "data": {
      "text/html": [
       "<ol class=list-inline>\n",
       "\t<li>'ID'</li>\n",
       "\t<li>'Y1'</li>\n",
       "\t<li>'Y2'</li>\n",
       "\t<li>'Y3'</li>\n",
       "\t<li>'Y4'</li>\n",
       "\t<li>'Base'</li>\n",
       "\t<li>'Age'</li>\n",
       "\t<li>'Trt'</li>\n",
       "\t<li>'Ysum'</li>\n",
       "\t<li>'sumY'</li>\n",
       "\t<li>'Age10'</li>\n",
       "\t<li>'Base4'</li>\n",
       "</ol>\n"
      ],
      "text/latex": [
       "\\begin{enumerate*}\n",
       "\\item 'ID'\n",
       "\\item 'Y1'\n",
       "\\item 'Y2'\n",
       "\\item 'Y3'\n",
       "\\item 'Y4'\n",
       "\\item 'Base'\n",
       "\\item 'Age'\n",
       "\\item 'Trt'\n",
       "\\item 'Ysum'\n",
       "\\item 'sumY'\n",
       "\\item 'Age10'\n",
       "\\item 'Base4'\n",
       "\\end{enumerate*}\n"
      ],
      "text/markdown": [
       "1. 'ID'\n",
       "2. 'Y1'\n",
       "3. 'Y2'\n",
       "4. 'Y3'\n",
       "5. 'Y4'\n",
       "6. 'Base'\n",
       "7. 'Age'\n",
       "8. 'Trt'\n",
       "9. 'Ysum'\n",
       "10. 'sumY'\n",
       "11. 'Age10'\n",
       "12. 'Base4'\n",
       "\n",
       "\n"
      ],
      "text/plain": [
       " [1] \"ID\"    \"Y1\"    \"Y2\"    \"Y3\"    \"Y4\"    \"Base\"  \"Age\"   \"Trt\"   \"Ysum\" \n",
       "[10] \"sumY\"  \"Age10\" \"Base4\""
      ]
     },
     "metadata": {},
     "output_type": "display_data"
    }
   ],
   "source": [
    "data(breslow.dat, package=\"robust\")\n",
    "names(breslow.dat)"
   ]
  },
  {
   "cell_type": "code",
   "execution_count": 40,
   "id": "proud-london",
   "metadata": {
    "slideshow": {
     "slide_type": "slide"
    }
   },
   "outputs": [
    {
     "data": {
      "text/plain": [
       "      Base             Age               Trt          sumY       \n",
       " Min.   :  6.00   Min.   :18.00   placebo  :28   Min.   :  0.00  \n",
       " 1st Qu.: 12.00   1st Qu.:23.00   progabide:31   1st Qu.: 11.50  \n",
       " Median : 22.00   Median :28.00                  Median : 16.00  \n",
       " Mean   : 31.22   Mean   :28.34                  Mean   : 33.05  \n",
       " 3rd Qu.: 41.00   3rd Qu.:32.00                  3rd Qu.: 36.00  \n",
       " Max.   :151.00   Max.   :42.00                  Max.   :302.00  "
      ]
     },
     "metadata": {},
     "output_type": "display_data"
    }
   ],
   "source": [
    "summary(breslow.dat[c(6,7,8,10)])"
   ]
  },
  {
   "cell_type": "markdown",
   "id": "latin-fever",
   "metadata": {
    "slideshow": {
     "slide_type": "slide"
    }
   },
   "source": [
    "Note that although there are 12 variables in the dataset, we’re limiting our attention to the 4 described earlier. Let’s look at the response variable in more detail:"
   ]
  },
  {
   "cell_type": "code",
   "execution_count": 41,
   "id": "abroad-spanish",
   "metadata": {
    "scrolled": true,
    "slideshow": {
     "slide_type": "slide"
    }
   },
   "outputs": [
    {
     "data": {
      "image/png": "[encoded data removed]",
      "text/plain": [
       "Plot with title \"Group Comparisons\""
      ]
     },
     "metadata": {},
     "output_type": "display_data"
    }
   ],
   "source": [
    "opar <- par(no.readonly=TRUE)\n",
    "par(mfrow=c(1,2))\n",
    "attach(breslow.dat)\n",
    "hist(sumY, breaks=20, xlab=\"Seizure Count\",\n",
    "main=\"Distribution of Seizures\")\n",
    "boxplot(sumY ~ Trt, xlab=\"Treatment\", main=\"Group Comparisons\")\n",
    "par(opar)"
   ]
  },
  {
   "cell_type": "markdown",
   "id": "small-catholic",
   "metadata": {
    "slideshow": {
     "slide_type": "slide"
    }
   },
   "source": [
    "You can clearly see the skewed nature of the dependent variable and the possible presence of outliers. At first glance, the number of seizures in the drug condition appears to be smaller and has a smaller variance.\n",
    "\n",
    "> Unlike standard OLS regression, this heterogeneity of variance isn’t a problem in Poisson regression"
   ]
  },
  {
   "cell_type": "code",
   "execution_count": 42,
   "id": "figured-stephen",
   "metadata": {
    "slideshow": {
     "slide_type": "slide"
    }
   },
   "outputs": [
    {
     "data": {
      "text/plain": [
       "\n",
       "Call:\n",
       "glm(formula = sumY ~ Base + Age + Trt, family = poisson(), data = breslow.dat)\n",
       "\n",
       "Deviance Residuals: \n",
       "    Min       1Q   Median       3Q      Max  \n",
       "-6.0569  -2.0433  -0.9397   0.7929  11.0061  \n",
       "\n",
       "Coefficients:\n",
       "               Estimate Std. Error z value Pr(>|z|)    \n",
       "(Intercept)   1.9488259  0.1356191  14.370  < 2e-16 ***\n",
       "Base          0.0226517  0.0005093  44.476  < 2e-16 ***\n",
       "Age           0.0227401  0.0040240   5.651 1.59e-08 ***\n",
       "Trtprogabide -0.1527009  0.0478051  -3.194   0.0014 ** \n",
       "---\n",
       "Signif. codes:  0 '***' 0.001 '**' 0.01 '*' 0.05 '.' 0.1 ' ' 1\n",
       "\n",
       "(Dispersion parameter for poisson family taken to be 1)\n",
       "\n",
       "    Null deviance: 2122.73  on 58  degrees of freedom\n",
       "Residual deviance:  559.44  on 55  degrees of freedom\n",
       "AIC: 850.71\n",
       "\n",
       "Number of Fisher Scoring iterations: 5\n"
      ]
     },
     "metadata": {},
     "output_type": "display_data"
    }
   ],
   "source": [
    "fit <- glm(sumY ~ Base + Age + Trt, data=breslow.dat, family=poisson())\n",
    "summary(fit)"
   ]
  },
  {
   "cell_type": "markdown",
   "id": "geological-vision",
   "metadata": {
    "slideshow": {
     "slide_type": "slide"
    }
   },
   "source": [
    "# Interpreting the model parameters"
   ]
  },
  {
   "cell_type": "code",
   "execution_count": 43,
   "id": "actual-convergence",
   "metadata": {
    "slideshow": {
     "slide_type": "slide"
    }
   },
   "outputs": [
    {
     "data": {
      "text/html": [
       "<dl class=dl-horizontal>\n",
       "\t<dt>(Intercept)</dt>\n",
       "\t\t<dd>1.94882593441103</dd>\n",
       "\t<dt>Base</dt>\n",
       "\t\t<dd>0.0226517374260151</dd>\n",
       "\t<dt>Age</dt>\n",
       "\t\t<dd>0.0227401349007353</dd>\n",
       "\t<dt>Trtprogabide</dt>\n",
       "\t\t<dd>-0.152700945164725</dd>\n",
       "</dl>\n"
      ],
      "text/latex": [
       "\\begin{description*}\n",
       "\\item[(Intercept)] 1.94882593441103\n",
       "\\item[Base] 0.0226517374260151\n",
       "\\item[Age] 0.0227401349007353\n",
       "\\item[Trtprogabide] -0.152700945164725\n",
       "\\end{description*}\n"
      ],
      "text/markdown": [
       "(Intercept)\n",
       ":   1.94882593441103Base\n",
       ":   0.0226517374260151Age\n",
       ":   0.0227401349007353Trtprogabide\n",
       ":   -0.152700945164725\n",
       "\n"
      ],
      "text/plain": [
       " (Intercept)         Base          Age Trtprogabide \n",
       "  1.94882593   0.02265174   0.02274013  -0.15270095 "
      ]
     },
     "metadata": {},
     "output_type": "display_data"
    }
   ],
   "source": [
    "coef(fit)"
   ]
  },
  {
   "cell_type": "markdown",
   "id": "wooden-appraisal",
   "metadata": {
    "slideshow": {
     "slide_type": "slide"
    }
   },
   "source": [
    "* In a Poisson regression, the dependent variable being modeled is the log of the conditional mean $\\log_{e}(λ)$. \n",
    "* The regression parameter $0.0227$ for Age indicates that a one year increase in age is associated with a 0.03 increase in the log mean number of seizures, holding baseline seizures and treatment condition constant.\n",
    "* The intercept is the log mean number of seizures when each of the predictors equals 0. Because you can’t have a zero age and none of the participants had a zero number of baseline seizures, the intercept isn’t meaningful in this case."
   ]
  },
  {
   "cell_type": "code",
   "execution_count": 44,
   "id": "behavioral-ordinary",
   "metadata": {
    "slideshow": {
     "slide_type": "slide"
    }
   },
   "outputs": [
    {
     "data": {
      "text/html": [
       "<dl class=dl-horizontal>\n",
       "\t<dt>(Intercept)</dt>\n",
       "\t\t<dd>7.02044028274696</dd>\n",
       "\t<dt>Base</dt>\n",
       "\t\t<dd>1.02291023615545</dd>\n",
       "\t<dt>Age</dt>\n",
       "\t\t<dd>1.02300066283388</dd>\n",
       "\t<dt>Trtprogabide</dt>\n",
       "\t\t<dd>0.858386388030718</dd>\n",
       "</dl>\n"
      ],
      "text/latex": [
       "\\begin{description*}\n",
       "\\item[(Intercept)] 7.02044028274696\n",
       "\\item[Base] 1.02291023615545\n",
       "\\item[Age] 1.02300066283388\n",
       "\\item[Trtprogabide] 0.858386388030718\n",
       "\\end{description*}\n"
      ],
      "text/markdown": [
       "(Intercept)\n",
       ":   7.02044028274696Base\n",
       ":   1.02291023615545Age\n",
       ":   1.02300066283388Trtprogabide\n",
       ":   0.858386388030718\n",
       "\n"
      ],
      "text/plain": [
       " (Intercept)         Base          Age Trtprogabide \n",
       "   7.0204403    1.0229102    1.0230007    0.8583864 "
      ]
     },
     "metadata": {},
     "output_type": "display_data"
    }
   ],
   "source": [
    "exp(coef(fit))"
   ]
  },
  {
   "cell_type": "markdown",
   "id": "subjective-message",
   "metadata": {},
   "source": [
    "* Now you see that a one-year increase in age multiplies the expected number of seizures by 1.023, holding the other variables constant. This means that increased age is associated with higher numbers of seizures.\n",
    "* A one-unit change in Trt (that is, moving from placebo to progabide) multiplies the expected number of seizures by 0.86.\n",
    "* You’d expect a 20% decrease in the number of seizures for the drug group compared with the placebo group, holding baseline number of seizures and age constant."
   ]
  },
  {
   "cell_type": "markdown",
   "id": "parental-anthony",
   "metadata": {
    "slideshow": {
     "slide_type": "slide"
    }
   },
   "source": [
    "> *Note:* In a Poisson distribution, the variance and mean are equal. Overdispersion occurs in Poisson regression when the observed variance of the response variable is larger than would be predicted by the Poisson distribution"
   ]
  }
 ],
 "metadata": {
  "kernelspec": {
   "display_name": "Python 3 (ipykernel)",
   "language": "python",
   "name": "python3"
  },
  "language_info": {
   "codemirror_mode": {
    "name": "ipython",
    "version": 3
   },
   "file_extension": ".py",
   "mimetype": "text/x-python",
   "name": "python",
   "nbconvert_exporter": "python",
   "pygments_lexer": "ipython3",
   "version": "3.11.7"
  }
 },
 "nbformat": 4,
 "nbformat_minor": 5
}
