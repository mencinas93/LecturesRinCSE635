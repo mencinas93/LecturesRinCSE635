{
 "cells": [
  {
   "cell_type": "markdown",
   "id": "adaptive-tucson",
   "metadata": {
    "slideshow": {
     "slide_type": "slide"
    }
   },
   "source": [
    "# Resampling statistics and Bootstrapping"
   ]
  },
  {
   "cell_type": "markdown",
   "id": "danish-south",
   "metadata": {
    "slideshow": {
     "slide_type": "slide"
    }
   },
   "source": [
    "## Permutation Tests\n",
    "Permutation tests, also called randomization or re-randomization tests, have been around for decades, but it took the advent of high-speed computers to make them practically available"
   ]
  },
  {
   "cell_type": "markdown",
   "id": "olympic-intervention",
   "metadata": {
    "slideshow": {
     "slide_type": "slide"
    }
   },
   "source": [
    "### Example:\n",
    "To understand the logic of a permutation test, consider the following hypothetical problem. Ten subjects have been randomly assigned to one of two treatment conditions (A or B), and an outcome variable (score) has been recorded.\n",
    "\n",
    "![](fig1.png)"
   ]
  },
  {
   "cell_type": "markdown",
   "id": "central-phoenix",
   "metadata": {
    "slideshow": {
     "slide_type": "slide"
    }
   },
   "source": [
    "Is there enough evidence to conclude that the treatments differ in their impact?"
   ]
  },
  {
   "cell_type": "markdown",
   "id": "declared-davis",
   "metadata": {
    "slideshow": {
     "slide_type": "slide"
    }
   },
   "source": [
    "### Parametric Approach\n",
    "You might assume that the data are sampled from normal populations with equal variances and apply a two-tailed independent-groups t-test. \n",
    "> **Null hypothesis:** The population mean for Treatment A is equal to the population mean for Treatment B.\n",
    "\n",
    "You’d calculate a t-statistic from the data and compare it to the theoretical distribution. If the observed t-statistic is sufficiently extreme, say outside the middle 95% of values in the theoretical distribution, you’d reject the null hypothesis and declare that the population means for the two groups are unequal at the 0.05 level of significance."
   ]
  },
  {
   "cell_type": "markdown",
   "id": "preliminary-invitation",
   "metadata": {
    "slideshow": {
     "slide_type": "slide"
    }
   },
   "source": [
    "If the two treatments are truly equivalent, the label (Treatment A or Treatment B) assigned to an observed score is arbitrary. To test for differences between the two treatments, you could follow these steps:"
   ]
  },
  {
   "cell_type": "markdown",
   "id": "consecutive-netscape",
   "metadata": {
    "slideshow": {
     "slide_type": "slide"
    }
   },
   "source": [
    "1. Calculate the observed t-statistic, as in the parametric approach (t0).\n",
    "2. Place all 10 scores in a single group.\n",
    "3. Randomly assign 5 scores to Treatment A and 5 scores to Treatment B.\n",
    "4. Calculate and record the new observed t-statistic.\n",
    "5. Repeat steps 3–4 for every possible way of assigning five scores to Treatment A and five scores to Treatment B. \n",
    "6. Arrange the t-statistics in ascending order. This is the empirical distribution, based on (or conditioned on) the sample data.\n",
    "7. If t0 falls outside the middle 95% of the empirical distribution, reject the null hypothesis that the population means for the two treatment groups are equal at the 0.05 level of significance."
   ]
  },
  {
   "cell_type": "markdown",
   "id": "early-framing",
   "metadata": {
    "slideshow": {
     "slide_type": "slide"
    }
   },
   "source": [
    "Notice that the same t-statistic is calculated in both the permutation and parametric approaches. But instead of comparing the statistic to a theoretical distribution in order to determine if it was extreme enough to reject the null hypothesis, it’s compared to an empirical distribution created from permutations of the observed data.\n",
    "> In case that the empirical distribution based on all possible permutations of the data, the permutation test is called an exact test."
   ]
  },
  {
   "cell_type": "markdown",
   "id": "moved-electronics",
   "metadata": {
    "slideshow": {
     "slide_type": "slide"
    }
   },
   "source": [
    "Packages we need:\n",
    "The coin package provides a comprehensive framework for permutation tests applied to independence problems, whereas the lmPerm package provides permutation tests for ANOVA and regression designs."
   ]
  },
  {
   "cell_type": "code",
   "execution_count": 1,
   "id": "intensive-gasoline",
   "metadata": {
    "slideshow": {
     "slide_type": "skip"
    }
   },
   "outputs": [
    {
     "name": "stdout",
     "output_type": "stream",
     "text": [
      "package 'coin' successfully unpacked and MD5 sums checked\n",
      "\n",
      "The downloaded binary packages are in\n",
      "\tC:\\Users\\Nemo\\AppData\\Local\\Temp\\Rtmp0MnHvW\\downloaded_packages\n"
     ]
    }
   ],
   "source": [
    "install.packages(\"coin\")"
   ]
  },
  {
   "cell_type": "code",
   "execution_count": 2,
   "id": "hearing-transport",
   "metadata": {
    "slideshow": {
     "slide_type": "skip"
    }
   },
   "outputs": [
    {
     "name": "stdout",
     "output_type": "stream",
     "text": [
      "package 'lmPerm' successfully unpacked and MD5 sums checked\n",
      "\n",
      "The downloaded binary packages are in\n",
      "\tC:\\Users\\Nemo\\AppData\\Local\\Temp\\Rtmp0MnHvW\\downloaded_packages\n"
     ]
    }
   ],
   "source": [
    "install.packages(\"lmPerm\")"
   ]
  },
  {
   "cell_type": "code",
   "execution_count": 3,
   "id": "incident-semester",
   "metadata": {
    "slideshow": {
     "slide_type": "skip"
    }
   },
   "outputs": [],
   "source": [
    "set.seed(1234)"
   ]
  },
  {
   "cell_type": "markdown",
   "id": "similar-confirmation",
   "metadata": {
    "slideshow": {
     "slide_type": "slide"
    }
   },
   "source": [
    "# Permutation tests with the coin package"
   ]
  },
  {
   "cell_type": "markdown",
   "id": "environmental-cardiff",
   "metadata": {
    "slideshow": {
     "slide_type": "slide"
    }
   },
   "source": [
    "Provides a general framework for applying permutation tests to independence problems. With this package, you can answer such questions as\n",
    "* Are responses independent of group assignment?\n",
    "* Are two numeric variables independent?\n",
    "* Are two categorical variables independent?"
   ]
  },
  {
   "cell_type": "markdown",
   "id": "stock-breakfast",
   "metadata": {
    "slideshow": {
     "slide_type": "slide"
    }
   },
   "source": [
    "## Syntax\n",
    "```function_name( formula, data, distribution= )```"
   ]
  },
  {
   "cell_type": "markdown",
   "id": "macro-throw",
   "metadata": {
    "slideshow": {
     "slide_type": "slide"
    }
   },
   "source": [
    "* **formula** describes the relationship among variables to be tested.\n",
    "* **data** identifies a data frame.\n",
    "* **distribution** specifies how the empirical distribution under the null hypothesis should be derived. Possible values are ```exact```, ```asymptotic```, and ```approximate```.\n",
    "    *  \"exact\": the distribution under the null hypothesis is computed exactly (that is, from all possible permutations).Is only available for two-sample problems\n",
    "    * \"approximated\": by its asymptotic distribution (distribution= \"asymptotic\") or via Monte Carlo resampling (distribution= \"approximate(B=#)\"), where # indicates the number of replications used to approximate the exact distribution."
   ]
  },
  {
   "cell_type": "markdown",
   "id": "genuine-gambling",
   "metadata": {
    "slideshow": {
     "slide_type": "slide"
    }
   },
   "source": [
    "![](fig2.png)"
   ]
  },
  {
   "cell_type": "markdown",
   "id": "alternative-windows",
   "metadata": {
    "slideshow": {
     "slide_type": "slide"
    }
   },
   "source": [
    "## Example: t-test vs. one-way permutation test for the hypothetical data\n"
   ]
  },
  {
   "cell_type": "code",
   "execution_count": 4,
   "id": "electric-ground",
   "metadata": {
    "slideshow": {
     "slide_type": "skip"
    }
   },
   "outputs": [
    {
     "name": "stderr",
     "output_type": "stream",
     "text": [
      "Loading required package: survival\n"
     ]
    }
   ],
   "source": [
    "library(coin)"
   ]
  },
  {
   "cell_type": "code",
   "execution_count": 5,
   "id": "moved-bicycle",
   "metadata": {},
   "outputs": [],
   "source": [
    "score <- c(40, 57, 45, 55, 58, 57, 64, 55, 62, 65)"
   ]
  },
  {
   "cell_type": "code",
   "execution_count": 6,
   "id": "spatial-chess",
   "metadata": {},
   "outputs": [],
   "source": [
    "treatment <- factor(c(rep(\"A\",5), rep(\"B\",5)))"
   ]
  },
  {
   "cell_type": "code",
   "execution_count": 7,
   "id": "nutritional-albuquerque",
   "metadata": {},
   "outputs": [],
   "source": [
    "mydata <- data.frame(treatment, score)"
   ]
  },
  {
   "cell_type": "code",
   "execution_count": 8,
   "id": "recreational-creek",
   "metadata": {
    "slideshow": {
     "slide_type": "slide"
    }
   },
   "outputs": [
    {
     "data": {
      "text/plain": [
       "\n",
       "\tTwo Sample t-test\n",
       "\n",
       "data:  score by treatment\n",
       "t = -2.345, df = 8, p-value = 0.04705\n",
       "alternative hypothesis: true difference in means is not equal to 0\n",
       "95 percent confidence interval:\n",
       " -19.0405455  -0.1594545\n",
       "sample estimates:\n",
       "mean in group A mean in group B \n",
       "           51.0            60.6 \n"
      ]
     },
     "metadata": {},
     "output_type": "display_data"
    }
   ],
   "source": [
    "t.test(score~treatment, data=mydata, var.equal=TRUE)"
   ]
  },
  {
   "cell_type": "code",
   "execution_count": 9,
   "id": "standard-algorithm",
   "metadata": {
    "slideshow": {
     "slide_type": "slide"
    }
   },
   "outputs": [
    {
     "data": {
      "text/plain": [
       "\n",
       "\tExact Two-Sample Fisher-Pitman Permutation Test\n",
       "\n",
       "data:  score by treatment (A, B)\n",
       "Z = -1.9147, p-value = 0.07143\n",
       "alternative hypothesis: true mu is not equal to 0\n"
      ]
     },
     "metadata": {},
     "output_type": "display_data"
    }
   ],
   "source": [
    "oneway_test(score~treatment, data=mydata, distribution=\"exact\")"
   ]
  },
  {
   "cell_type": "markdown",
   "id": "specialized-retreat",
   "metadata": {},
   "source": [
    "The traditional t-test indicates a significant group difference (p < .05), whereas the exact test doesn’t (p > 0.072). With only 10 observations, you could be more inclined to trust the results of the permutation test and attempt to collect more data before reaching a final conclusion."
   ]
  },
  {
   "cell_type": "markdown",
   "id": "missing-divorce",
   "metadata": {
    "slideshow": {
     "slide_type": "slide"
    }
   },
   "source": [
    "# Permutation tests with the ```lmPerm``` package\n",
    "The ```lmPerm``` package provides support for a permutation approach to linear models. In particular, the ```lmp()``` and ```aovp()``` functions are the ```lm()``` and ```aov()``` functions modified to perform permutation tests rather than normal theory tests.\n",
    "\n",
    "Everything is the same but you have ```perm=``` parameter."
   ]
  },
  {
   "cell_type": "markdown",
   "id": "anonymous-seminar",
   "metadata": {
    "slideshow": {
     "slide_type": "slide"
    }
   },
   "source": [
    "The ```perm=``` option can take the value ```Exact```, ```Prob```, or ```SPR```: \n",
    "* **Exact** produces an exact test, based on all possible permutations.\n",
    "* **Prob** samples from all possible permutations. Sampling continues until the estimated standard deviation falls below 0.1 of the estimated p-value. The stopping rule is controlled by an optional ```Ca``` parameter.\n",
    "* **SPR** uses a sequential probability ratio test to decide when to stop sampling.\n",
    "\n",
    "If the number of observations is greater than 10, ```perm=\"Exact\"``` will automatically default to ```perm=\"Prob\"```; exact tests are only available for small problems."
   ]
  },
  {
   "cell_type": "markdown",
   "id": "academic-arrival",
   "metadata": {
    "slideshow": {
     "slide_type": "slide"
    }
   },
   "source": [
    "### Example: Permutation tests for simple linear regression"
   ]
  },
  {
   "cell_type": "code",
   "execution_count": 10,
   "id": "polished-packaging",
   "metadata": {
    "slideshow": {
     "slide_type": "slide"
    }
   },
   "outputs": [
    {
     "name": "stdout",
     "output_type": "stream",
     "text": [
      "[1] \"Settings:  unique SS : numeric variables centered\"\n"
     ]
    },
    {
     "data": {
      "text/plain": [
       "\n",
       "Call:\n",
       "lmp(formula = weight ~ height, data = women, perm = \"Prob\")\n",
       "\n",
       "Residuals:\n",
       "    Min      1Q  Median      3Q     Max \n",
       "-1.7333 -1.1333 -0.3833  0.7417  3.1167 \n",
       "\n",
       "Coefficients:\n",
       "       Estimate Iter Pr(Prob)    \n",
       "height     3.45 5000   <2e-16 ***\n",
       "---\n",
       "Signif. codes:  0 '***' 0.001 '**' 0.01 '*' 0.05 '.' 0.1 ' ' 1\n",
       "\n",
       "Residual standard error: 1.525 on 13 degrees of freedom\n",
       "Multiple R-Squared: 0.991,\tAdjusted R-squared: 0.9903 \n",
       "F-statistic:  1433 on 1 and 13 DF,  p-value: 1.091e-14 \n"
      ]
     },
     "metadata": {},
     "output_type": "display_data"
    }
   ],
   "source": [
    "library(lmPerm)\n",
    "set.seed(1234)\n",
    "fit <- lmp(weight~height, data=women, perm=\"Prob\")\n",
    "summary(fit)"
   ]
  },
  {
   "cell_type": "markdown",
   "id": "increasing-minister",
   "metadata": {
    "slideshow": {
     "slide_type": "slide"
    }
   },
   "source": [
    "### Example: Permutation tests for polynomial regression"
   ]
  },
  {
   "cell_type": "code",
   "execution_count": 11,
   "id": "metropolitan-identifier",
   "metadata": {
    "slideshow": {
     "slide_type": "slide"
    }
   },
   "outputs": [
    {
     "name": "stdout",
     "output_type": "stream",
     "text": [
      "[1] \"Settings:  unique SS : numeric variables centered\"\n"
     ]
    },
    {
     "data": {
      "text/plain": [
       "\n",
       "Call:\n",
       "lmp(formula = weight ~ height + I(height^2), data = women, perm = \"Prob\")\n",
       "\n",
       "Residuals:\n",
       "      Min        1Q    Median        3Q       Max \n",
       "-0.509405 -0.296105 -0.009405  0.286151  0.597059 \n",
       "\n",
       "Coefficients:\n",
       "            Estimate Iter Pr(Prob)    \n",
       "height      -7.34832 5000   <2e-16 ***\n",
       "I(height^2)  0.08306 5000   <2e-16 ***\n",
       "---\n",
       "Signif. codes:  0 '***' 0.001 '**' 0.01 '*' 0.05 '.' 0.1 ' ' 1\n",
       "\n",
       "Residual standard error: 0.3841 on 12 degrees of freedom\n",
       "Multiple R-Squared: 0.9995,\tAdjusted R-squared: 0.9994 \n",
       "F-statistic: 1.139e+04 on 2 and 12 DF,  p-value: < 2.2e-16 \n"
      ]
     },
     "metadata": {},
     "output_type": "display_data"
    }
   ],
   "source": [
    "fit <- lmp(weight~height + I(height^2), data=women, perm=\"Prob\")\n",
    "summary(fit)"
   ]
  },
  {
   "cell_type": "code",
   "execution_count": 12,
   "id": "hollow-johnson",
   "metadata": {
    "slideshow": {
     "slide_type": "slide"
    }
   },
   "outputs": [
    {
     "data": {
      "text/plain": [
       "\n",
       "Call:\n",
       "lm(formula = weight ~ height + I(height^2), data = women)\n",
       "\n",
       "Residuals:\n",
       "     Min       1Q   Median       3Q      Max \n",
       "-0.50941 -0.29611 -0.00941  0.28615  0.59706 \n",
       "\n",
       "Coefficients:\n",
       "             Estimate Std. Error t value Pr(>|t|)    \n",
       "(Intercept) 261.87818   25.19677  10.393 2.36e-07 ***\n",
       "height       -7.34832    0.77769  -9.449 6.58e-07 ***\n",
       "I(height^2)   0.08306    0.00598  13.891 9.32e-09 ***\n",
       "---\n",
       "Signif. codes:  0 '***' 0.001 '**' 0.01 '*' 0.05 '.' 0.1 ' ' 1\n",
       "\n",
       "Residual standard error: 0.3841 on 12 degrees of freedom\n",
       "Multiple R-squared:  0.9995,\tAdjusted R-squared:  0.9994 \n",
       "F-statistic: 1.139e+04 on 2 and 12 DF,  p-value: < 2.2e-16\n"
      ]
     },
     "metadata": {},
     "output_type": "display_data"
    }
   ],
   "source": [
    "fit <- lm(weight~height + I(height^2), data=women)\n",
    "summary(fit)"
   ]
  },
  {
   "cell_type": "markdown",
   "id": "greater-myanmar",
   "metadata": {
    "slideshow": {
     "slide_type": "slide"
    }
   },
   "source": [
    "### Example: Permutation test for one-way ANOVA"
   ]
  },
  {
   "cell_type": "code",
   "execution_count": 13,
   "id": "authorized-sellers",
   "metadata": {
    "slideshow": {
     "slide_type": "skip"
    }
   },
   "outputs": [
    {
     "name": "stderr",
     "output_type": "stream",
     "text": [
      "Loading required package: mvtnorm\n",
      "Loading required package: TH.data\n",
      "Loading required package: MASS\n",
      "\n",
      "Attaching package: 'TH.data'\n",
      "\n",
      "The following object is masked from 'package:MASS':\n",
      "\n",
      "    geyser\n",
      "\n"
     ]
    }
   ],
   "source": [
    "library(multcomp)"
   ]
  },
  {
   "cell_type": "code",
   "execution_count": 14,
   "id": "great-bronze",
   "metadata": {},
   "outputs": [
    {
     "name": "stdout",
     "output_type": "stream",
     "text": [
      "[1] \"Settings:  unique SS \"\n",
      "Analysis of Variance Table\n",
      "\n",
      "Response: response\n",
      "          Df R Sum Sq R Mean Sq Iter  Pr(Prob)    \n",
      "trt        4  1351.37    337.84 5000 < 2.2e-16 ***\n",
      "Residuals 45   468.75     10.42                   \n",
      "---\n",
      "Signif. codes:  0 '***' 0.001 '**' 0.01 '*' 0.05 '.' 0.1 ' ' 1\n"
     ]
    }
   ],
   "source": [
    "fit <- aovp(response~trt, data=cholesterol, perm=\"Prob\")\n",
    "anova(fit)"
   ]
  },
  {
   "cell_type": "markdown",
   "id": "charged-passport",
   "metadata": {
    "slideshow": {
     "slide_type": "slide"
    }
   },
   "source": [
    "# Bootstrapping"
   ]
  },
  {
   "cell_type": "markdown",
   "id": "welsh-samuel",
   "metadata": {
    "slideshow": {
     "slide_type": "slide"
    }
   },
   "source": [
    "* Bootstrapping generates an empirical distribution of a test statistic or set of test statistics by repeated random sampling with replacement from the original sample.\n",
    "* It allows you to generate confidence intervals and test statistical hypotheses without having to assume a specific underlying theoretical distribution."
   ]
  },
  {
   "cell_type": "markdown",
   "id": "clinical-dominican",
   "metadata": {
    "slideshow": {
     "slide_type": "slide"
    }
   },
   "source": [
    "If you’re willing to assume that the sampling distribution of the mean is normally distributed, the $(\\frac{1-\\alpha}{2})\\%$ confidence interval can be calculated using:\n",
    "\n",
    "### $\\bar{X}-t\\frac{s}{\\sqrt{n}}<\\mu<\\bar{X}+t\\frac{s}{\\sqrt{n}}$\n",
    "\n",
    "where $t$ is the upper $\\frac{1-\\alpha}{2}$ critical value for a $t$ distribution with $n – 1$ degrees of freedom\n",
    "\n",
    "\n"
   ]
  },
  {
   "cell_type": "markdown",
   "id": "clinical-inspector",
   "metadata": {
    "slideshow": {
     "slide_type": "slide"
    }
   },
   "source": [
    "If you aren’t willing to assume that the sampling distribution of the mean is normally distributed? You can use a bootstrapping approach instead:\n",
    "\n",
    "1. Randomly select 10 observations from the sample, with replacement after each selection. Some observations may be selected more than once, and some may not be selected at all.\n",
    "2. Calculate and record the sample mean.\n",
    "3. Repeat the first two steps 1,000 times.\n",
    "4. Order the 1,000 sample means from smallest to largest.\n",
    "5. Find the sample means representing the 2.5th and 97.5th percentiles. In this case, it’s the 25th number from the bottom and top. These are your 95% confidence limits."
   ]
  },
  {
   "cell_type": "code",
   "execution_count": 15,
   "id": "circular-reducing",
   "metadata": {
    "slideshow": {
     "slide_type": "skip"
    }
   },
   "outputs": [
    {
     "name": "stdout",
     "output_type": "stream",
     "text": [
      "package 'boot' successfully unpacked and MD5 sums checked\n",
      "\n",
      "The downloaded binary packages are in\n",
      "\tC:\\Users\\Nemo\\AppData\\Local\\Temp\\Rtmp0MnHvW\\downloaded_packages\n"
     ]
    }
   ],
   "source": [
    "install.packages(\"boot\")"
   ]
  },
  {
   "cell_type": "markdown",
   "id": "personalized-swaziland",
   "metadata": {
    "slideshow": {
     "slide_type": "slide"
    }
   },
   "source": [
    "In general, bootstrapping involves three main steps:\n",
    "1. Write a function that returns the statistic or statistics of interest. If there is a single statistic (for example, a median), the function should return a number. If there is a set of statistics (for example, a set of regression coefficients), the function should return a vector.\n",
    "2. Process this function through the boot() function in order to generate R bootstrap replications of the statistic(s).\n",
    "3. Use the boot.ci() function to obtain confidence intervals for the statistic(s) generated in step 2."
   ]
  },
  {
   "cell_type": "markdown",
   "id": "capital-tribe",
   "metadata": {
    "slideshow": {
     "slide_type": "slide"
    }
   },
   "source": [
    "#### ```bootobject <- boot(data=, statistic=, R=, ...)```\n",
    "![](fig3.png)\n",
    "The ```boot()``` function calls the statistic function ```R``` times. Each time, it generates a set of random indices, with replacement, from the integers ```1:nrow(data)```."
   ]
  },
  {
   "cell_type": "markdown",
   "id": "moved-symbol",
   "metadata": {
    "slideshow": {
     "slide_type": "slide"
    }
   },
   "source": [
    "### bootobject()\n",
    "* $t0$ -> The observed values of k statistics applied to the original data\n",
    "* $t$ -> An R × k matrix, where each row is a bootstrap replicate of the k statistics"
   ]
  },
  {
   "cell_type": "markdown",
   "id": "communist-watershed",
   "metadata": {
    "slideshow": {
     "slide_type": "slide"
    }
   },
   "source": [
    "#### ```boot.ci(bootobject, conf=, type= )```\n",
    "![](fig4.png)"
   ]
  },
  {
   "cell_type": "markdown",
   "id": "declared-princeton",
   "metadata": {
    "slideshow": {
     "slide_type": "slide"
    }
   },
   "source": [
    "## Example: Bootstrapping a single statistic\n",
    "The mtcars dataset contains information on 32 automobiles reported in the 1974 Motor Trend magazine. Suppose you’re using multiple regression to predict miles per gallon from a car’s weight (lb/1,000) and engine displacement (cu. in.). In addition to the standard regression statistics, you’d like to obtain a 95% confidence interval for the R-squared value (the percent of variance in the response variable explained by the predictors). The confidence interval can be obtained using nonparametric bootstrapping.\n",
    "\n",
    "The first task is to write a function for obtaining the R-squared value:"
   ]
  },
  {
   "cell_type": "code",
   "execution_count": 16,
   "id": "hundred-subsection",
   "metadata": {
    "slideshow": {
     "slide_type": "slide"
    }
   },
   "outputs": [],
   "source": [
    "rsq <- function(formula, data, indices) {\n",
    "d <- data[indices,]\n",
    "fit <- lm(formula, data=d)\n",
    "return(summary(fit)$r.square)\n",
    "}"
   ]
  },
  {
   "cell_type": "markdown",
   "id": "hazardous-drink",
   "metadata": {
    "slideshow": {
     "slide_type": "slide"
    }
   },
   "source": [
    "* The function returns the R-squared value from a regression.\n",
    "* The ```d <- data[indices,]``` statement is required for ```boot()``` to be able to select samples.\n",
    "\n",
    "You can then draw a large number of bootstrap replications (say, 1,000) with the following code:"
   ]
  },
  {
   "cell_type": "code",
   "execution_count": 18,
   "id": "exempt-rehabilitation",
   "metadata": {
    "slideshow": {
     "slide_type": "skip"
    }
   },
   "outputs": [],
   "source": [
    "library(boot)"
   ]
  },
  {
   "cell_type": "code",
   "execution_count": 19,
   "id": "related-treat",
   "metadata": {
    "slideshow": {
     "slide_type": "slide"
    }
   },
   "outputs": [
    {
     "name": "stdout",
     "output_type": "stream",
     "text": [
      "\n",
      "ORDINARY NONPARAMETRIC BOOTSTRAP\n",
      "\n",
      "\n",
      "Call:\n",
      "boot(data = mtcars, statistic = rsq, R = 1000, formula = mpg ~ \n",
      "    wt + disp)\n",
      "\n",
      "\n",
      "Bootstrap Statistics :\n",
      "     original     bias    std. error\n",
      "t1* 0.7809306 0.01109158  0.05000586\n"
     ]
    }
   ],
   "source": [
    "results <- boot(data=mtcars, statistic=rsq, R=1000, formula=mpg~wt+disp)\n",
    "print(results)"
   ]
  },
  {
   "cell_type": "code",
   "execution_count": 20,
   "id": "usual-arnold",
   "metadata": {
    "scrolled": true,
    "slideshow": {
     "slide_type": "slide"
    }
   },
   "outputs": [
    {
     "data": {
      "image/png": "[encoded data removed]",
      "text/plain": [
       "Plot with title \"Histogram of t\""
      ]
     },
     "metadata": {},
     "output_type": "display_data"
    }
   ],
   "source": [
    "plot(results)"
   ]
  },
  {
   "cell_type": "markdown",
   "id": "unlimited-louisville",
   "metadata": {
    "slideshow": {
     "slide_type": "slide"
    }
   },
   "source": [
    "You can see that the distribution of bootstrapped R-squared values isn’t normally distributed. A 95% confidence interval for the R-squared values can be obtained using:"
   ]
  },
  {
   "cell_type": "code",
   "execution_count": 21,
   "id": "unique-influence",
   "metadata": {},
   "outputs": [
    {
     "data": {
      "text/plain": [
       "BOOTSTRAP CONFIDENCE INTERVAL CALCULATIONS\n",
       "Based on 1000 bootstrap replicates\n",
       "\n",
       "CALL : \n",
       "boot.ci(boot.out = results, type = c(\"perc\", \"bca\"))\n",
       "\n",
       "Intervals : \n",
       "Level     Percentile            BCa          \n",
       "95%   ( 0.6828,  0.8790 )   ( 0.6389,  0.8585 )  \n",
       "Calculations and Intervals on Original Scale\n",
       "Some BCa intervals may be unstable"
      ]
     },
     "metadata": {},
     "output_type": "display_data"
    }
   ],
   "source": [
    "boot.ci(results, type=c(\"perc\", \"bca\"))"
   ]
  },
  {
   "cell_type": "markdown",
   "id": "single-collection",
   "metadata": {
    "slideshow": {
     "slide_type": "slide"
    }
   },
   "source": [
    "You can see from this example that different approaches to generating the confidence intervals can lead to different intervals. In this case, the bias-adjusted interval is moderately different from the percentile method. In either case, the null hypothesis H0:\n",
    "R-square = 0 would be rejected, because zero is outside the confidence limits."
   ]
  },
  {
   "cell_type": "code",
   "execution_count": null,
   "id": "bright-currency",
   "metadata": {},
   "outputs": [],
   "source": []
  }
 ],
 "metadata": {
  "celltoolbar": "Slideshow",
  "kernelspec": {
   "display_name": "Python 3",
   "language": "python",
   "name": "python3"
  },
  "language_info": {
   "codemirror_mode": {
    "name": "ipython",
    "version": 3
   },
   "file_extension": ".py",
   "mimetype": "text/x-python",
   "name": "python",
   "nbconvert_exporter": "python",
   "pygments_lexer": "ipython3",
   "version": "3.9.1"
  }
 },
 "nbformat": 4,
 "nbformat_minor": 5
}
