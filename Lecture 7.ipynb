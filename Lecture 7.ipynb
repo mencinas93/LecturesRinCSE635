{
 "cells": [
  {
   "cell_type": "markdown",
   "id": "shaped-shock",
   "metadata": {},
   "source": [
    "# Time Series\n",
    "Longitudinal data involves measuring variables repeatedly over time. By following a phenomenon over time, it’s possible to learn a great deal about it!"
   ]
  },
  {
   "cell_type": "code",
   "execution_count": null,
   "id": "ancient-country",
   "metadata": {},
   "outputs": [],
   "source": []
  },
  {
   "cell_type": "markdown",
   "id": "thirty-extent",
   "metadata": {},
   "source": [
    "<center>   \n",
    "Quarterly earnings (dollars) per Johnson & Johnson share between 1960 and 1980. There are 84 observations: one for each quarter over 21 years<br><br>\n",
    "<img src=\"fig1.png\" height=\"300\">    \n",
    "</center>    "
   ]
  },
  {
   "cell_type": "markdown",
   "id": "engaging-oxford",
   "metadata": {},
   "source": [
    "<center>   \n",
    "Monthly mean relative sunspot numbers from 1749 to 1983 recorded by the Swiss Federal Observatory and the Tokyo Astronomical Observatory. The sunspots time series is much longer, with 2,820 observations — 1 per month for 235 years.<br><br>\n",
    "<img src=\"fig2.png\" height=\"300\">    \n",
    "</center>    "
   ]
  },
  {
   "cell_type": "markdown",
   "id": "communist-prime",
   "metadata": {},
   "source": [
    "Studies of time-series data involve two fundamental questions: what happened (description), and what will happen next (forecasting)?\n",
    "* Economists use time-series data in an attempt to understand and predict what will happen in financial markets.\n",
    "* City planners use time-series data to predict future transportation demands.\n",
    "* Climate scientists use time-series data to study global climate change.\n",
    "* Corporations use time series to predict product demand and future sales.\n",
    "* Healthcare officials use time-series data to study the spread of disease and to predict the number of future cases in a given region.\n",
    "* Seismologists study times-series data in order to predict earthquakes."
   ]
  },
  {
   "cell_type": "markdown",
   "id": "mathematical-vaccine",
   "metadata": {},
   "source": [
    "| Time series | Description |\n",
    "| --- | ---- |\n",
    "| AirPassengers | Monthly airline passenger numbers from 1949–1960\n",
    "| JohnsonJohnson | Quarterly earnings per Johnson & Johnson share\n",
    "| nhtemp | Average yearly temperatures in New Haven, Connecticut, from 1912–1971\n",
    "| Nile | Flow of the river Nile\n",
    "| sunspots | Monthly sunspot numbers from 1749–1983"
   ]
  },
  {
   "cell_type": "markdown",
   "id": "suspected-sculpture",
   "metadata": {},
   "source": [
    "# Time-series object in R\n",
    "A vector of numbers, or a column in a data frame, can be saved as a time-series object using the ```ts()``` function: \n",
    "##### ```myseries <- ts(data, start=, end=, frequency=)```\n",
    "* ```myseries``` is the time-series object.\n",
    "* ```data``` is a numeric vector containing the observations.\n",
    "* ```start``` specifies the series start time.\n",
    "* ```end``` specifies the end time (optional).\n",
    "* ```frequency``` indicates the number of observations per unit time."
   ]
  },
  {
   "cell_type": "code",
   "execution_count": 2,
   "id": "empirical-longitude",
   "metadata": {},
   "outputs": [],
   "source": [
    "sales <- c(18, 33, 41, 7, 34, 35, 24, 25, 24, 21, 25, 20, 22, 31, 40, 29, 25, 21, 22, 54, 31, 25, 26, 35)\n",
    "tsales <- ts(sales, start=c(2003, 1), frequency=12)"
   ]
  },
  {
   "cell_type": "code",
   "execution_count": 3,
   "id": "labeled-preparation",
   "metadata": {},
   "outputs": [
    {
     "name": "stdout",
     "output_type": "stream",
     "text": [
      "     Jan Feb Mar Apr May Jun Jul Aug Sep Oct Nov Dec\n",
      "2003  18  33  41   7  34  35  24  25  24  21  25  20\n",
      "2004  22  31  40  29  25  21  22  54  31  25  26  35\n"
     ]
    }
   ],
   "source": [
    "print(tsales)"
   ]
  },
  {
   "cell_type": "code",
   "execution_count": 4,
   "id": "banned-optics",
   "metadata": {},
   "outputs": [
    {
     "data": {
      "image/png": "[encoded data removed]",
      "text/plain": [
       "plot without title"
      ]
     },
     "metadata": {},
     "output_type": "display_data"
    }
   ],
   "source": [
    "plot(tsales)"
   ]
  },
  {
   "cell_type": "code",
   "execution_count": 5,
   "id": "german-skiing",
   "metadata": {},
   "outputs": [
    {
     "data": {
      "image/png": "[encoded data removed]",
      "text/plain": [
       "plot without title"
      ]
     },
     "metadata": {},
     "output_type": "display_data"
    }
   ],
   "source": [
    "plot(tsales, type=\"o\", pch=19)"
   ]
  },
  {
   "cell_type": "code",
   "execution_count": 6,
   "id": "detected-panel",
   "metadata": {},
   "outputs": [
    {
     "data": {
      "text/html": [
       "<ol class=list-inline>\n",
       "\t<li>2003</li>\n",
       "\t<li>1</li>\n",
       "</ol>\n"
      ],
      "text/latex": [
       "\\begin{enumerate*}\n",
       "\\item 2003\n",
       "\\item 1\n",
       "\\end{enumerate*}\n"
      ],
      "text/markdown": [
       "1. 2003\n",
       "2. 1\n",
       "\n",
       "\n"
      ],
      "text/plain": [
       "[1] 2003    1"
      ]
     },
     "metadata": {},
     "output_type": "display_data"
    }
   ],
   "source": [
    "start(tsales)"
   ]
  },
  {
   "cell_type": "code",
   "execution_count": 7,
   "id": "instructional-heritage",
   "metadata": {},
   "outputs": [
    {
     "data": {
      "text/html": [
       "<ol class=list-inline>\n",
       "\t<li>2004</li>\n",
       "\t<li>12</li>\n",
       "</ol>\n"
      ],
      "text/latex": [
       "\\begin{enumerate*}\n",
       "\\item 2004\n",
       "\\item 12\n",
       "\\end{enumerate*}\n"
      ],
      "text/markdown": [
       "1. 2004\n",
       "2. 12\n",
       "\n",
       "\n"
      ],
      "text/plain": [
       "[1] 2004   12"
      ]
     },
     "metadata": {},
     "output_type": "display_data"
    }
   ],
   "source": [
    "end(tsales)"
   ]
  },
  {
   "cell_type": "code",
   "execution_count": 8,
   "id": "defined-memorabilia",
   "metadata": {},
   "outputs": [
    {
     "data": {
      "text/html": [
       "12"
      ],
      "text/latex": [
       "12"
      ],
      "text/markdown": [
       "12"
      ],
      "text/plain": [
       "[1] 12"
      ]
     },
     "metadata": {},
     "output_type": "display_data"
    }
   ],
   "source": [
    "frequency(tsales)"
   ]
  },
  {
   "cell_type": "code",
   "execution_count": 9,
   "id": "fifth-status",
   "metadata": {},
   "outputs": [
    {
     "name": "stdout",
     "output_type": "stream",
     "text": [
      "     Jan Feb Mar Apr May Jun Jul Aug Sep Oct Nov Dec\n",
      "2003                  34  35  24  25  24  21  25  20\n",
      "2004  22  31  40  29  25  21                        \n"
     ]
    }
   ],
   "source": [
    "tsales.subset <- window(tsales, start=c(2003, 5), end=c(2004, 6))\n",
    "print(tsales.subset)"
   ]
  },
  {
   "cell_type": "markdown",
   "id": "joined-norwegian",
   "metadata": {},
   "source": [
    "# Smoothing and Seasonal Decomposition"
   ]
  },
  {
   "cell_type": "markdown",
   "id": "commercial-possession",
   "metadata": {},
   "source": [
    "Just as analysts explore a dataset with descriptive statistics and graphs before attempting to model the data, describing a time series numerically and visually should be the first step before attempting to build complex models"
   ]
  },
  {
   "cell_type": "markdown",
   "id": "planned-trial",
   "metadata": {},
   "source": [
    "Time series typically have a significant irregular or error component. In order to discern any patterns in the data, you’ll frequently want to plot a smoothed curve that damps down these fluctuations. One of the simplest methods of smoothing a time series is to use simple moving averages. For example, each data point can be replaced with the mean of that observation and one observation before and after it. This is called a centered moving average. "
   ]
  },
  {
   "cell_type": "markdown",
   "id": "meaningful-noise",
   "metadata": {},
   "source": [
    "A centered moving average is defined as:\n",
    "\n",
    "### $S_{t} = \\frac{(Y_{t-q} + \\cdot\\cdot\\cdot + Y_{t} + \\cdot\\cdot\\cdot + Y_{t+q})}{(2q + 1)}$\n",
    "\n",
    "* $S_{t}$ is the smoothed value at time $t$\n",
    "* $k = 2q + 1$ is the number of observations that are averaged\n",
    "* The $k$ value is usually chosen to be an odd number\n",
    "* By necessity, when using a centered moving average, you lose the $\\frac{(k – 1)}{2}$ observations at each end of the series"
   ]
  },
  {
   "cell_type": "markdown",
   "id": "possible-ticket",
   "metadata": {},
   "source": [
    "## Example: \n",
    "Consider the Nile time series. It records the annual flow of the river Nile at Ashwan from 1871–1970.\n",
    "\n",
    "The code in the next listing plots the raw time series and smoothed versions using $k$ equal to $3$, $7$, and $15$"
   ]
  },
  {
   "cell_type": "code",
   "execution_count": 10,
   "id": "silent-pilot",
   "metadata": {},
   "outputs": [
    {
     "name": "stderr",
     "output_type": "stream",
     "text": [
      "Registered S3 method overwritten by 'xts':\n",
      "  method     from\n",
      "  as.zoo.xts zoo \n",
      "Registered S3 method overwritten by 'quantmod':\n",
      "  method            from\n",
      "  as.zoo.data.frame zoo \n"
     ]
    },
    {
     "data": {
      "image/png": "[encoded data removed]",
      "text/plain": [
       "Plot with title \"Simple Moving Averages (k=15)\""
      ]
     },
     "metadata": {},
     "output_type": "display_data"
    }
   ],
   "source": [
    "library(forecast)\n",
    "opar <- par(no.readonly=TRUE)\n",
    "par(mfrow=c(2,2))\n",
    "ylim <- c(min(Nile), max(Nile))\n",
    "plot(Nile, main=\"Raw time series\")\n",
    "plot(ma(Nile, 3), main=\"Simple Moving Averages (k=3)\", ylim=ylim)\n",
    "plot(ma(Nile, 7), main=\"Simple Moving Averages (k=7)\", ylim=ylim)\n",
    "plot(ma(Nile, 15), main=\"Simple Moving Averages (k=15)\", ylim=ylim)\n",
    "par(opar)"
   ]
  },
  {
   "cell_type": "markdown",
   "id": "understood-hospital",
   "metadata": {},
   "source": [
    "# Seasonal Decomposition\n",
    "Time-series data that have a seasonal aspect can be decomposed into a *trend component*, a *seasonal component*, and an *irregular component*:\n",
    "* The trend component captures changes in level over time\n",
    "* The seasonal component captures cyclical effects due to the time of year\n",
    "* The irregular (or error) component captures those influences not described by the trend and seasonal effects\n",
    "\n",
    "The decomposition can be additive or multiplicative."
   ]
  },
  {
   "cell_type": "markdown",
   "id": "agricultural-stone",
   "metadata": {},
   "source": [
    "In an additive model, the components sum to give the values of the time series:\n",
    "\n",
    "#### $Y_{t} = Trend_{t} + Seasonal_{t} + Irregular_{t}$\n",
    "\n",
    "where the observation at time $t$ is the sum of the contributions of the trend at time $t$, the seasonal effect at time $t$, and an irregular effect at time $t$."
   ]
  },
  {
   "cell_type": "markdown",
   "id": "exact-azerbaijan",
   "metadata": {},
   "source": [
    "In a multiplicative model, given by the equation\n",
    "\n",
    "#### $Y_{t} = Trend_{t} * Seasonal_{t} * Irregular_{t}$\n",
    "\n",
    "the trend, seasonal, and irregular influences are multiplied"
   ]
  },
  {
   "cell_type": "markdown",
   "id": "promising-kernel",
   "metadata": {},
   "source": [
    "A popular method for decomposing a time series into trend, seasonal, and irregular components is seasonal decomposition by Loess smoothing, this is a regression technique that uses local weighted regression to fit a smooth curve through points in a sequence, which in our case is the Time Series data. "
   ]
  },
  {
   "cell_type": "markdown",
   "id": "speaking-bargain",
   "metadata": {},
   "source": [
    "In R, this can be accomplished with:\n",
    "#### ```stl(ts, s.window=, t.window=)```\n",
    "* ```ts``` is the time series to be decomposed.\n",
    "* ```s.window``` controls how fast the seasonal effects can change over time.\n",
    "* ```t.window``` controls how fast the trend can change over time.\n",
    "    * Smaller values allow more rapid change. \n",
    "* ```s.window=\"periodic\"``` forces seasonal effects to be identical across years\n",
    "\n",
    "Only the ts and s.window parameters are required"
   ]
  },
  {
   "cell_type": "markdown",
   "id": "tutorial-configuration",
   "metadata": {},
   "source": [
    "The ```stl()``` function can only handle additive models, multiplicative models can be transformed into additive models using a ```log``` transformation.\n",
    " \n",
    "The object returned by the ```stl()``` function contains a component called ```time.series``` that contains the trend, season, and irregular portion of each observation."
   ]
  },
  {
   "cell_type": "markdown",
   "id": "published-diana",
   "metadata": {},
   "source": [
    "# Example:\n",
    "The time series AirPassengers comes with a base R installation and describes the monthly totals (in thousands) of international airline passengers between 1949 and 1960."
   ]
  },
  {
   "cell_type": "code",
   "execution_count": 11,
   "id": "whole-definition",
   "metadata": {},
   "outputs": [
    {
     "data": {
      "image/png": "[encoded data removed]",
      "text/plain": [
       "plot without title"
      ]
     },
     "metadata": {},
     "output_type": "display_data"
    }
   ],
   "source": [
    "plot(AirPassengers)"
   ]
  },
  {
   "cell_type": "code",
   "execution_count": 12,
   "id": "coral-invitation",
   "metadata": {},
   "outputs": [
    {
     "data": {
      "image/png": "[encoded data removed]",
      "text/plain": [
       "plot without title"
      ]
     },
     "metadata": {},
     "output_type": "display_data"
    }
   ],
   "source": [
    "lAirPassengers <- log(AirPassengers)\n",
    "plot(lAirPassengers, ylab=\"log(AirPassengers)\")"
   ]
  },
  {
   "cell_type": "code",
   "execution_count": 13,
   "id": "subjective-lancaster",
   "metadata": {},
   "outputs": [
    {
     "data": {
      "image/png": "[encoded data removed]",
      "text/plain": [
       "plot without title"
      ]
     },
     "metadata": {},
     "output_type": "display_data"
    }
   ],
   "source": [
    "fit <- stl(lAirPassengers, s.window=\"period\")\n",
    "plot(fit)"
   ]
  },
  {
   "cell_type": "code",
   "execution_count": 14,
   "id": "false-webmaster",
   "metadata": {
    "scrolled": true
   },
   "outputs": [
    {
     "name": "stdout",
     "output_type": "stream",
     "text": [
      "            seasonal    trend     remainder\n",
      "Jan 1949 -0.09164042 4.829389 -0.0192493585\n",
      "Feb 1949 -0.11402828 4.830368  0.0543447685\n",
      "Mar 1949  0.01586585 4.831348  0.0355884457\n",
      "Apr 1949 -0.01402759 4.833377  0.0404632511\n",
      "May 1949 -0.01502478 4.835406 -0.0245905300\n",
      "Jun 1949  0.10978976 4.838166 -0.0426814256\n",
      "Jul 1949  0.21640041 4.840927 -0.0601151688\n",
      "Aug 1949  0.20960587 4.843469 -0.0558624690\n",
      "Sep 1949  0.06747156 4.846011 -0.0008273977\n",
      "Oct 1949 -0.07024836 4.850883 -0.0015112948\n",
      "Nov 1949 -0.21352774 4.855756  0.0021630667\n",
      "Dec 1949 -0.10063625 4.864586  0.0067346600\n",
      "Jan 1950 -0.09164042 4.873417 -0.0368443057\n",
      "Feb 1950 -0.11402828 4.883282  0.0670284530\n",
      "Mar 1950  0.01586585 4.893147  0.0397474219\n",
      "Apr 1950 -0.01402759 4.903156  0.0161459950\n",
      "May 1950 -0.01502478 4.913166 -0.0698276070\n",
      "Jun 1950  0.10978976 4.925404 -0.0312477713\n",
      "Jul 1950  0.21640041 4.937643 -0.0182444833\n",
      "Aug 1950  0.20960587 4.954420 -0.0282273969\n",
      "Sep 1950  0.06747156 4.971197  0.0239260449\n",
      "Oct 1950 -0.07024836 4.991662 -0.0310647612\n",
      "Nov 1950 -0.21352774 5.012127 -0.0624008823\n",
      "Dec 1950 -0.10063625 5.031094  0.0111846224\n",
      "Jan 1951 -0.09164042 5.050061  0.0183131352\n",
      "Feb 1951 -0.11402828 5.065044  0.0596196836\n",
      "Mar 1951  0.01586585 5.080027  0.0858909418\n",
      "Apr 1951 -0.01402759 5.093932  0.0138460280\n",
      "May 1951 -0.01502478 5.107837  0.0546824937\n",
      "Jun 1951  0.10978976 5.121064 -0.0490698826\n",
      "Jul 1951  0.21640041 5.134291 -0.0573861680\n",
      "Aug 1951  0.20960587 5.146131 -0.0624323009\n",
      "Sep 1951  0.06747156 5.157972 -0.0105077415\n",
      "Oct 1951 -0.07024836 5.169854 -0.0120089320\n",
      "Nov 1951 -0.21352774 5.181735  0.0153990463\n",
      "Dec 1951 -0.10063625 5.194803  0.0178207135\n",
      "Jan 1952 -0.09164042 5.207871  0.0254326447\n",
      "Feb 1952 -0.11402828 5.220493  0.0864920261\n",
      "Mar 1952  0.01586585 5.233115  0.0137094563\n",
      "Apr 1952 -0.01402759 5.244400 -0.0318757882\n",
      "May 1952 -0.01502478 5.255686 -0.0311749995\n",
      "Jun 1952  0.10978976 5.266916  0.0077889001\n",
      "Jul 1952  0.21640041 5.278147 -0.0564679741\n",
      "Aug 1952  0.20960587 5.291899 -0.0125671875\n",
      "Sep 1952  0.06747156 5.305651 -0.0307885329\n",
      "Oct 1952 -0.07024836 5.323035 -0.0005129219\n",
      "Nov 1952 -0.21352774 5.340418  0.0206040218\n",
      "Dec 1952 -0.10063625 5.355790  0.0127045234\n",
      "Jan 1953 -0.09164042 5.371162 -0.0014064946\n",
      "Feb 1953 -0.11402828 5.381701  0.0104415885\n",
      "Mar 1953  0.01586585 5.392241  0.0557248228\n",
      "Apr 1953 -0.01402759 5.398479  0.0751345805\n",
      "May 1953 -0.01502478 5.404716  0.0440308724\n",
      "Jun 1953  0.10978976 5.406792 -0.0235205660\n",
      "Jul 1953  0.21640041 5.408869 -0.0493198945\n",
      "Aug 1953  0.20960587 5.407808 -0.0116118099\n",
      "Sep 1953  0.06747156 5.406747 -0.0061588541\n",
      "Oct 1953 -0.07024836 5.407020  0.0150868577\n",
      "Nov 1953 -0.21352774 5.407292 -0.0008072455\n",
      "Dec 1953 -0.10063625 5.412628 -0.0086865700\n",
      "Jan 1954 -0.09164042 5.417964 -0.0082032035\n",
      "Feb 1954 -0.11402828 5.425823 -0.0753528534\n",
      "Mar 1954  0.01586585 5.433683  0.0100370842\n",
      "Apr 1954 -0.01402759 5.442676 -0.0036988730\n",
      "May 1954 -0.01502478 5.451670  0.0186755182\n",
      "Jun 1954  0.10978976 5.463574  0.0025856037\n",
      "Jul 1954  0.21640041 5.475477  0.0185495056\n",
      "Aug 1954  0.20960587 5.488954 -0.0183873611\n",
      "Sep 1954  0.06747156 5.502431 -0.0130746073\n",
      "Oct 1954 -0.07024836 5.515678 -0.0117077856\n",
      "Nov 1954 -0.21352774 5.528925 -0.0021914704\n",
      "Dec 1954 -0.10063625 5.543178 -0.0088199260\n",
      "Jan 1955 -0.09164042 5.557431  0.0231469788\n",
      "Feb 1955 -0.11402828 5.572621 -0.0075538774\n",
      "Mar 1955  0.01586585 5.587810 -0.0164272509\n",
      "Apr 1955 -0.01402759 5.602576  0.0061625730\n",
      "May 1955 -0.01502478 5.617343 -0.0038959909\n",
      "Jun 1955  0.10978976 5.631685  0.0110981305\n",
      "Jul 1955  0.21640041 5.646027  0.0347266908\n",
      "Aug 1955  0.20960587 5.660026 -0.0203074185\n",
      "Sep 1955  0.06747156 5.674026  0.0015057273\n",
      "Oct 1955 -0.07024836 5.687411 -0.0040342159\n",
      "Nov 1955 -0.21352774 5.700795 -0.0192075831\n",
      "Dec 1955 -0.10063625 5.713683  0.0145740752\n",
      "Jan 1956 -0.09164042 5.726571  0.0140435478\n",
      "Feb 1956 -0.11402828 5.738688 -0.0006422520\n",
      "Mar 1956  0.01586585 5.750805 -0.0077690470\n",
      "Apr 1956 -0.01402759 5.761271 -0.0010403672\n",
      "May 1956 -0.01502478 5.771737  0.0053388421\n",
      "Jun 1956  0.10978976 5.780581  0.0338845974\n",
      "Jul 1956  0.21640041 5.789426  0.0176216235\n",
      "Aug 1956  0.20960587 5.797448 -0.0031667752\n",
      "Sep 1956  0.06747156 5.805470 -0.0008241663\n",
      "Oct 1956 -0.07024836 5.813734 -0.0199006689\n",
      "Nov 1956 -0.21352774 5.821998 -0.0063513051\n",
      "Dec 1956 -0.10063625 5.831654 -0.0074325201\n",
      "Jan 1957 -0.09164042 5.841310  0.0029031831\n",
      "Feb 1957 -0.11402828 5.852625 -0.0314869189\n",
      "Mar 1957  0.01586585 5.863941 -0.0048761755\n",
      "Apr 1957 -0.01402759 5.875005 -0.0087747176\n",
      "May 1957 -0.01502478 5.886069  0.0010740550\n",
      "Jun 1957  0.10978976 5.894711  0.0405045167\n",
      "Jul 1957  0.21640041 5.903354  0.0222834352\n",
      "Aug 1957  0.20960587 5.907786  0.0289376116\n",
      "Sep 1957  0.06747156 5.912218  0.0217253156\n",
      "Oct 1957 -0.07024836 5.912909  0.0066639927\n",
      "Nov 1957 -0.21352774 5.913600  0.0202392244\n",
      "Dec 1957 -0.10063625 5.914570  0.0031777723\n",
      "Jan 1958 -0.09164042 5.915539  0.0050470568\n",
      "Feb 1958 -0.11402828 5.918512 -0.0424324225\n",
      "Mar 1958  0.01586585 5.921485 -0.0457068326\n",
      "Apr 1958 -0.01402759 5.924977 -0.0587474166\n",
      "May 1958 -0.01502478 5.928470 -0.0190421600\n",
      "Jun 1958  0.10978976 5.932704  0.0328523706\n",
      "Jul 1958  0.21640041 5.936938  0.0431056910\n",
      "Aug 1958  0.20960587 5.943328  0.0716243517\n",
      "Sep 1958  0.06747156 5.949718 -0.0157750808\n",
      "Oct 1958 -0.07024836 5.957409 -0.0038387222\n",
      "Nov 1958 -0.21352774 5.965101 -0.0150005051\n",
      "Dec 1958 -0.10063625 5.973333 -0.0526139823\n",
      "Jan 1959 -0.09164042 5.981566 -0.0038213288\n",
      "Feb 1959 -0.11402828 5.992040 -0.0432006658\n",
      "Mar 1959  0.01586585 6.002514 -0.0120262807\n",
      "Apr 1959 -0.01402759 6.015640 -0.0201986959\n",
      "May 1959 -0.01502478 6.028767  0.0265120912\n",
      "Jun 1959  0.10978976 6.042198  0.0049914005\n",
      "Jul 1959  0.21640041 6.055628  0.0342466268\n",
      "Aug 1959  0.20960587 6.065881  0.0506625860\n",
      "Sep 1959  0.06747156 6.076134 -0.0058783006\n",
      "Oct 1959 -0.07024836 6.084145 -0.0050832771\n",
      "Nov 1959 -0.21352774 6.092156  0.0130161013\n",
      "Dec 1959 -0.10063625 6.100500  0.0040231864\n",
      "Jan 1960 -0.09164042 6.108844  0.0158822334\n",
      "Feb 1960 -0.11402828 6.117934 -0.0351985510\n",
      "Mar 1960  0.01586585 6.127024 -0.1050193083\n",
      "Apr 1960 -0.01402759 6.135814  0.0116112609\n",
      "May 1960 -0.01502478 6.144604  0.0273994037\n",
      "Jun 1960  0.10978976 6.152986  0.0194908174\n",
      "Jul 1960  0.21640041 6.161368  0.0551717057\n",
      "Aug 1960  0.20960587 6.170124  0.0271500533\n",
      "Sep 1960  0.06747156 6.178880 -0.0158702714\n",
      "Oct 1960 -0.07024836 6.187594  0.0160525773\n",
      "Nov 1960 -0.21352774 6.196307 -0.0166330133\n",
      "Dec 1960 -0.10063625 6.204752 -0.0356905175\n"
     ]
    }
   ],
   "source": [
    "print(fit$time.series)"
   ]
  },
  {
   "cell_type": "code",
   "execution_count": 15,
   "id": "polish-offer",
   "metadata": {
    "scrolled": true
   },
   "outputs": [
    {
     "name": "stdout",
     "output_type": "stream",
     "text": [
      "          seasonal    trend remainder\n",
      "Jan 1949 0.9124332 125.1344 0.9809347\n",
      "Feb 1949 0.8922327 125.2571 1.0558486\n",
      "Mar 1949 1.0159924 125.3798 1.0362293\n",
      "Apr 1949 0.9860703 125.6345 1.0412930\n",
      "May 1949 0.9850875 125.8897 0.9757094\n",
      "Jun 1949 1.1160434 126.2377 0.9582166\n",
      "Jul 1949 1.2415994 126.5866 0.9416561\n",
      "Aug 1949 1.2331919 126.9088 0.9456692\n",
      "Sep 1949 1.0697998 127.2318 0.9991729\n",
      "Oct 1949 0.9321623 127.8533 0.9984898\n",
      "Nov 1949 0.8077298 128.4777 1.0021654\n",
      "Dec 1949 0.9042619 129.6173 1.0067574\n",
      "Jan 1950 0.9124332 130.7670 0.9638262\n",
      "Feb 1950 0.8922327 132.0634 1.0693259\n",
      "Mar 1950 1.0159924 133.3726 1.0405479\n",
      "Apr 1950 0.9860703 134.7143 1.0162770\n",
      "May 1950 0.9850875 136.0695 0.9325546\n",
      "Jun 1950 1.1160434 137.7450 0.9692354\n",
      "Jul 1950 1.2415994 139.4411 0.9819209\n",
      "Aug 1950 1.2331919 141.8003 0.9721673\n",
      "Sep 1950 1.0697998 144.1995 1.0242146\n",
      "Oct 1950 0.9321623 147.1809 0.9694128\n",
      "Nov 1950 0.8077298 150.2239 0.9395062\n",
      "Dec 1950 0.9042619 153.1004 1.0112474\n",
      "Jan 1951 0.9124332 156.0320 1.0184818\n",
      "Feb 1951 0.8922327 158.3874 1.0614328\n",
      "Mar 1951 1.0159924 160.7784 1.0896875\n",
      "Apr 1951 0.9860703 163.0296 1.0139423\n",
      "May 1951 0.9850875 165.3124 1.0562052\n",
      "Jun 1951 1.1160434 167.5135 0.9521146\n",
      "Jul 1951 1.2415994 169.7439 0.9442294\n",
      "Aug 1951 1.2331919 171.7657 0.9394767\n",
      "Sep 1951 1.0697998 173.8116 0.9895473\n",
      "Oct 1951 0.9321623 175.8891 0.9880629\n",
      "Nov 1951 0.8077298 177.9914 1.0155182\n",
      "Dec 1951 0.9042619 180.3327 1.0179804\n",
      "Jan 1952 0.9124332 182.7047 1.0257588\n",
      "Feb 1952 0.8922327 185.0254 1.0903427\n",
      "Mar 1952 1.0159924 187.3755 1.0138039\n",
      "Apr 1952 0.9860703 189.5022 0.9686269\n",
      "May 1952 0.9850875 191.6529 0.9693059\n",
      "Jun 1952 1.1160434 193.8174 1.0078193\n",
      "Jul 1952 1.2415994 196.0063 0.9450968\n",
      "Aug 1952 1.2331919 198.7204 0.9875114\n",
      "Sep 1952 1.0697998 201.4722 0.9696806\n",
      "Oct 1952 0.9321623 205.0051 0.9994872\n",
      "Nov 1952 0.8077298 208.5999 1.0208178\n",
      "Dec 1952 0.9042619 211.8312 1.0127856\n",
      "Jan 1953 0.9124332 215.1126 0.9985945\n",
      "Feb 1953 0.8922327 217.3918 1.0104963\n",
      "Mar 1953 1.0159924 219.6952 1.0573067\n",
      "Apr 1953 0.9860703 221.0698 1.0780292\n",
      "May 1953 0.9850875 222.4530 1.0450146\n",
      "Jun 1953 1.1160434 222.9154 0.9767539\n",
      "Jul 1953 1.2415994 223.3787 0.9518766\n",
      "Aug 1953 1.2331919 223.1419 0.9884553\n",
      "Sep 1953 1.0697998 222.9054 0.9938601\n",
      "Oct 1953 0.9321623 222.9661 1.0152012\n",
      "Nov 1953 0.8077298 223.0268 0.9991931\n",
      "Dec 1953 0.9042619 224.2200 0.9913510\n",
      "Jan 1954 0.9124332 225.4196 0.9918304\n",
      "Feb 1954 0.8922327 227.1983 0.9274162\n",
      "Mar 1954 1.0159924 228.9910 1.0100876\n",
      "Apr 1954 0.9860703 231.0598 0.9963080\n",
      "May 1954 0.9850875 233.1473 1.0188510\n",
      "Jun 1954 1.1160434 235.9391 1.0025889\n",
      "Jul 1954 1.2415994 238.7644 1.0187226\n",
      "Aug 1954 1.2331919 242.0040 0.9817807\n",
      "Sep 1954 1.0697998 245.2875 0.9870105\n",
      "Oct 1954 0.9321623 248.5585 0.9883605\n",
      "Nov 1954 0.8077298 251.8730 0.9978109\n",
      "Dec 1954 0.9042619 255.4887 0.9912189\n",
      "Jan 1955 0.9124332 259.1563 1.0234169\n",
      "Feb 1955 0.8922327 263.1227 0.9924746\n",
      "Mar 1955 1.0159924 267.1499 0.9837069\n",
      "Apr 1955 0.9860703 271.1240 1.0061816\n",
      "May 1955 0.9850875 275.1572 0.9961116\n",
      "Jun 1955 1.1160434 279.1320 1.0111599\n",
      "Jul 1955 1.2415994 283.1642 1.0353367\n",
      "Aug 1955 1.2331919 287.1562 0.9798974\n",
      "Sep 1955 1.0697998 291.2045 1.0015069\n",
      "Oct 1955 0.9321623 295.1284 0.9959739\n",
      "Nov 1955 0.8077298 299.1052 0.9809757\n",
      "Dec 1955 0.9042619 302.9850 1.0146808\n",
      "Jan 1956 0.9124332 306.9151 1.0141426\n",
      "Feb 1956 0.8922327 310.6566 0.9993580\n",
      "Mar 1956 1.0159924 314.4437 0.9922611\n",
      "Apr 1956 0.9860703 317.7520 0.9989602\n",
      "May 1956 0.9850875 321.0951 1.0053531\n",
      "Jun 1956 1.1160434 323.9475 1.0344652\n",
      "Jul 1956 1.2415994 326.8252 1.0177778\n",
      "Aug 1956 1.2331919 329.4577 0.9968382\n",
      "Sep 1956 1.0697998 332.1114 0.9991762\n",
      "Oct 1956 0.9321623 334.8672 0.9802960\n",
      "Nov 1956 0.8077298 337.6460 0.9936688\n",
      "Dec 1956 0.9042619 340.9221 0.9925950\n",
      "Jan 1957 0.9124332 344.2299 1.0029074\n",
      "Feb 1957 0.8922327 348.1472 0.9690036\n",
      "Mar 1957 1.0159924 352.1091 0.9951357\n",
      "Apr 1957 0.9860703 356.0264 0.9912637\n",
      "May 1957 0.9850875 359.9872 1.0010746\n",
      "Jun 1957 1.1160434 363.1119 1.0413360\n",
      "Jul 1957 1.2415994 366.2637 1.0225336\n",
      "Aug 1957 1.2331919 367.8907 1.0293604\n",
      "Sep 1957 1.0697998 369.5249 1.0219630\n",
      "Oct 1957 0.9321623 369.7803 1.0066862\n",
      "Nov 1957 0.8077298 370.0360 1.0204454\n",
      "Dec 1957 0.9042619 370.3949 1.0031828\n",
      "Jan 1958 0.9124332 370.7541 1.0050598\n",
      "Feb 1958 0.8922327 371.8580 0.9584552\n",
      "Mar 1958 1.0159924 372.9652 0.9553220\n",
      "Apr 1958 0.9860703 374.2700 0.9429449\n",
      "May 1958 0.9850875 375.5794 0.9811380\n",
      "Jun 1958 1.1160434 377.1730 1.0333980\n",
      "Jul 1958 1.2415994 378.7734 1.0440482\n",
      "Aug 1958 1.2331919 381.2015 1.0742517\n",
      "Sep 1958 1.0697998 383.6453 0.9843487\n",
      "Oct 1958 0.9321623 386.6073 0.9961686\n",
      "Nov 1958 0.8077298 389.5922 0.9851114\n",
      "Dec 1958 0.9042619 392.8128 0.9487462\n",
      "Jan 1959 0.9124332 396.0600 0.9961860\n",
      "Feb 1959 0.8922327 400.2301 0.9577192\n",
      "Mar 1959 1.0159924 404.4441 0.9880457\n",
      "Apr 1959 0.9860703 409.7882 0.9800039\n",
      "May 1959 0.9850875 415.2029 1.0268667\n",
      "Jun 1959 1.1160434 420.8169 1.0050039\n",
      "Jul 1959 1.2415994 426.5068 1.0348398\n",
      "Aug 1959 1.2331919 430.9021 1.0519679\n",
      "Sep 1959 1.0697998 435.3428 0.9941389\n",
      "Oct 1959 0.9321623 438.8444 0.9949296\n",
      "Nov 1959 0.8077298 442.3741 1.0131012\n",
      "Dec 1959 0.9042619 446.0808 1.0040313\n",
      "Jan 1960 0.9124332 449.8186 1.0160090\n",
      "Feb 1960 0.8922327 453.9261 0.9654137\n",
      "Mar 1960 1.0159924 458.0711 0.9003071\n",
      "Apr 1960 0.9860703 462.1153 1.0116789\n",
      "May 1960 0.9850875 466.1952 1.0277782\n",
      "Jun 1960 1.1160434 470.1191 1.0196820\n",
      "Jul 1960 1.2415994 474.0762 1.0567220\n",
      "Aug 1960 1.2331919 478.2454 1.0275220\n",
      "Sep 1960 1.0697998 482.4514 0.9842550\n",
      "Oct 1960 0.9321623 486.6737 1.0161821\n",
      "Nov 1960 0.8077298 490.9329 0.9835046\n",
      "Dec 1960 0.9042619 495.0963 0.9649389\n"
     ]
    }
   ],
   "source": [
    "print(exp(fit$time.series))"
   ]
  },
  {
   "cell_type": "markdown",
   "id": "aquatic-missile",
   "metadata": {},
   "source": [
    "Examining the seasonal effects suggests that the number of passengers increased by 24% in July (a multiplier of 1.24) and decreased by 20% in November (with a multiplier of .80)"
   ]
  },
  {
   "cell_type": "markdown",
   "id": "satisfied-connectivity",
   "metadata": {},
   "source": [
    "* The monthplot displays the subseries for each month (all January values connected, all February values connected, and so on), along with the average of each subseries.\n",
    "* It appears that the trend is increasing for each month in a roughly uniform way"
   ]
  },
  {
   "cell_type": "code",
   "execution_count": 16,
   "id": "nominated-contents",
   "metadata": {},
   "outputs": [
    {
     "data": {
      "image/png": "[encoded data removed]",
      "text/plain": [
       "plot without title"
      ]
     },
     "metadata": {},
     "output_type": "display_data"
    }
   ],
   "source": [
    "monthplot(AirPassengers, xlab=\"\", ylab=\"\")"
   ]
  },
  {
   "cell_type": "markdown",
   "id": "united-locator",
   "metadata": {},
   "source": [
    "The season plot displays the subseries by year. Again you see a similar pattern, with increases in passengers each year, and the same seasonal pattern."
   ]
  },
  {
   "cell_type": "code",
   "execution_count": 17,
   "id": "close-shepherd",
   "metadata": {},
   "outputs": [
    {
     "data": {
      "image/png": "[encoded data removed]",
      "text/plain": [
       "Plot with title \"\""
      ]
     },
     "metadata": {},
     "output_type": "display_data"
    }
   ],
   "source": [
    "seasonplot(AirPassengers, year.labels=\"TRUE\", main=\"\")"
   ]
  },
  {
   "cell_type": "markdown",
   "id": "deluxe-works",
   "metadata": {},
   "source": [
    "# Exponential forecasting models\n",
    "* A simple exponential model (single exponential model) fits a time series that has a constant level and an irregular component at time $i$ but has neither a trend nor a seasonal component.\n",
    "* A double exponential model (also called a Holt exponential smoothing) fits a time series with both a level and a trend.\n",
    "* A triple exponential model (also called a Holt-Winters exponential smoothing) fits a time series with level, trend, and seasonal components."
   ]
  },
  {
   "cell_type": "markdown",
   "id": "hundred-radar",
   "metadata": {},
   "source": [
    "## Simple exponential smoothing"
   ]
  },
  {
   "cell_type": "markdown",
   "id": "concrete-preserve",
   "metadata": {},
   "source": [
    "The simple exponential smoothing model assumes that an observation in the time series can be described by\n",
    "\n",
    "### $Y_{t} = level + irregular_{t}$\n",
    "\n",
    "The prediction at time $Y_{t+1}$ (called the 1-step ahead forecast) is written as:\n",
    "\n",
    "### $Y_{t+1} = c_{0}Y_{t} + c_{1}Y_{t−1} + c_{2}Y_{t−2} + c_{2}Y_{t−2} + \\cdot\\cdot\\cdot$\n",
    "\n",
    "where $c_{i} = \\alpha(1−\\alpha)i$, $i = 0, 1, 2$, ... and $0 ≤ \\alpha ≤1$. The $c_{i}$ weights sum to one, and the 1-step ahead forecast can be seen to be a weighted average of the current value and all past values of the time series. \n",
    "\n",
    "* The alpha (α) parameter controls the rate of decay forthe weights. The closer alpha is to 1, the more weight is given to recent observations.\n",
    "* The closer alpha is to 0, the more weight is given to past observations."
   ]
  },
  {
   "cell_type": "markdown",
   "id": "seasonal-simulation",
   "metadata": {},
   "source": [
    "### Example:\n",
    "The nhtemp time series contains the mean annual temperature in degrees Fahrenheit in New Haven (Average Yearly Temperatures in New Haven), Connecticut, from 1912 to 1971.\n",
    "> There is no obvious trend, and the yearly data lack a seasonal component, so the simple exponential model is a reasonable place to start."
   ]
  },
  {
   "cell_type": "code",
   "execution_count": 19,
   "id": "perceived-graphics",
   "metadata": {},
   "outputs": [
    {
     "name": "stdout",
     "output_type": "stream",
     "text": [
      "ETS(A,N,N) \n",
      "\n",
      "Call:\n",
      " ets(y = nhtemp, model = \"ANN\") \n",
      "\n",
      "  Smoothing parameters:\n",
      "    alpha = 0.1819 \n",
      "\n",
      "  Initial states:\n",
      "    l = 50.2762 \n",
      "\n",
      "  sigma:  1.1455\n",
      "\n",
      "     AIC     AICc      BIC \n",
      "265.9298 266.3584 272.2129 \n"
     ]
    }
   ],
   "source": [
    "fit <- ets(nhtemp, model=\"ANN\")\n",
    "print(fit)"
   ]
  },
  {
   "cell_type": "code",
   "execution_count": 20,
   "id": "celtic-advocacy",
   "metadata": {},
   "outputs": [
    {
     "data": {
      "text/plain": [
       "     Point Forecast    Lo 80    Hi 80    Lo 95    Hi 95\n",
       "1972       51.87031 50.40226 53.33835 49.62512 54.11549"
      ]
     },
     "metadata": {},
     "output_type": "display_data"
    }
   ],
   "source": [
    "# One Step Ahead\n",
    "forecast(fit, 1)"
   ]
  },
  {
   "cell_type": "code",
   "execution_count": 22,
   "id": "recovered-understanding",
   "metadata": {},
   "outputs": [
    {
     "data": {
      "image/png": "[encoded data removed]",
      "text/plain": [
       "Plot with title \"New Haven Annual Mean Temperature\""
      ]
     },
     "metadata": {},
     "output_type": "display_data"
    }
   ],
   "source": [
    "plot(forecast(fit, 1), xlab=\"Year\",\n",
    "ylab=expression(paste(\"Temperature (\", degree*F,\")\",)),\n",
    "main=\"New Haven Annual Mean Temperature\")"
   ]
  },
  {
   "cell_type": "code",
   "execution_count": 23,
   "id": "foreign-fitting",
   "metadata": {},
   "outputs": [
    {
     "data": {
      "text/html": [
       "<table>\n",
       "<thead><tr><th></th><th scope=col>ME</th><th scope=col>RMSE</th><th scope=col>MAE</th><th scope=col>MPE</th><th scope=col>MAPE</th><th scope=col>MASE</th><th scope=col>ACF1</th></tr></thead>\n",
       "<tbody>\n",
       "\t<tr><th scope=row>Training set</th><td>0.1460657   </td><td>1.126268    </td><td>0.8951225   </td><td>0.2419373   </td><td>1.7489      </td><td>0.7512408   </td><td>-0.006441923</td></tr>\n",
       "</tbody>\n",
       "</table>\n"
      ],
      "text/latex": [
       "\\begin{tabular}{r|lllllll}\n",
       "  & ME & RMSE & MAE & MPE & MAPE & MASE & ACF1\\\\\n",
       "\\hline\n",
       "\tTraining set & 0.1460657    & 1.126268     & 0.8951225    & 0.2419373    & 1.7489       & 0.7512408    & -0.006441923\\\\\n",
       "\\end{tabular}\n"
      ],
      "text/markdown": [
       "\n",
       "| <!--/--> | ME | RMSE | MAE | MPE | MAPE | MASE | ACF1 |\n",
       "|---|---|---|---|---|---|---|---|\n",
       "| Training set | 0.1460657    | 1.126268     | 0.8951225    | 0.2419373    | 1.7489       | 0.7512408    | -0.006441923 |\n",
       "\n"
      ],
      "text/plain": [
       "             ME        RMSE     MAE       MPE       MAPE   MASE     \n",
       "Training set 0.1460657 1.126268 0.8951225 0.2419373 1.7489 0.7512408\n",
       "             ACF1        \n",
       "Training set -0.006441923"
      ]
     },
     "metadata": {},
     "output_type": "display_data"
    }
   ],
   "source": [
    "accuracy(fit)"
   ]
  },
  {
   "cell_type": "markdown",
   "id": "clean-error",
   "metadata": {},
   "source": [
    "![](fig3.png)"
   ]
  },
  {
   "cell_type": "markdown",
   "id": "smart-advertiser",
   "metadata": {},
   "source": [
    "## Holt and Holt-Winters exponential smoothing"
   ]
  },
  {
   "cell_type": "markdown",
   "id": "similar-absorption",
   "metadata": {},
   "source": [
    "The Holt exponential smoothing approach can fit a time series that has an overall level and a trend (slope). The model for an observation at time t is\n",
    "\n",
    "### $Y_{t} = level + slope*t + irregular_{t}$\n",
    "\n",
    "* An alpha smoothing parameter controls the exponential decay for the level.\n",
    "* A beta smoothing parameter controls the exponential decay for the slope. \n",
    "\n",
    "Again, each parameter ranges from 0 to 1, with larger values giving more weight to recent observations.\n",
    "\n",
    "The Holt-Winters exponential smoothing approach can be used to fit a time series that has an overall level, a trend, and a seasonal component. \n",
    "Here, the model is:\n",
    "\n",
    "### $Y_{t} = = level + slope*t + s_{t} + irregular_{t}$\n",
    "\n",
    "where $s_{t}$ represents the seasonal influence at time t.\n",
    "\n",
    "In addition to alpha and beta parameters, a gamma smoothing parameter controls the exponential decay of the seasonal component. Like the others, it ranges from 0 to 1, and larger values give more weight to recent observations in calculating the seasonal effect."
   ]
  },
  {
   "cell_type": "markdown",
   "id": "diagnostic-tragedy",
   "metadata": {},
   "source": [
    "### Example: \n",
    "The code in the following listing applies the Holt-Winters exponential smoothing approach to predicting the next five values of the AirPassengers time series"
   ]
  },
  {
   "cell_type": "code",
   "execution_count": 24,
   "id": "welsh-arthritis",
   "metadata": {},
   "outputs": [
    {
     "name": "stdout",
     "output_type": "stream",
     "text": [
      "ETS(A,A,A) \n",
      "\n",
      "Call:\n",
      " ets(y = log(AirPassengers), model = \"AAA\") \n",
      "\n",
      "  Smoothing parameters:\n",
      "    alpha = 0.6975 \n",
      "    beta  = 0.0031 \n",
      "    gamma = 1e-04 \n",
      "\n",
      "  Initial states:\n",
      "    l = 4.7925 \n",
      "    b = 0.0111 \n",
      "    s = -0.1045 -0.2206 -0.0787 0.0562 0.2049 0.2149\n",
      "           0.1146 -0.0081 -0.0059 0.0225 -0.1113 -0.0841\n",
      "\n",
      "  sigma:  0.0383\n",
      "\n",
      "      AIC      AICc       BIC \n",
      "-207.1694 -202.3123 -156.6826 \n"
     ]
    }
   ],
   "source": [
    "fit <- ets(log(AirPassengers), model=\"AAA\")\n",
    "print(fit)"
   ]
  },
  {
   "cell_type": "code",
   "execution_count": 25,
   "id": "tight-desire",
   "metadata": {},
   "outputs": [
    {
     "data": {
      "text/html": [
       "<table>\n",
       "<thead><tr><th></th><th scope=col>ME</th><th scope=col>RMSE</th><th scope=col>MAE</th><th scope=col>MPE</th><th scope=col>MAPE</th><th scope=col>MASE</th><th scope=col>ACF1</th></tr></thead>\n",
       "<tbody>\n",
       "\t<tr><th scope=row>Training set</th><td>-0.001830684</td><td>0.03606976  </td><td>0.02770885  </td><td>-0.03435608 </td><td>0.5079142   </td><td>0.2289192   </td><td>0.05590461  </td></tr>\n",
       "</tbody>\n",
       "</table>\n"
      ],
      "text/latex": [
       "\\begin{tabular}{r|lllllll}\n",
       "  & ME & RMSE & MAE & MPE & MAPE & MASE & ACF1\\\\\n",
       "\\hline\n",
       "\tTraining set & -0.001830684 & 0.03606976   & 0.02770885   & -0.03435608  & 0.5079142    & 0.2289192    & 0.05590461  \\\\\n",
       "\\end{tabular}\n"
      ],
      "text/markdown": [
       "\n",
       "| <!--/--> | ME | RMSE | MAE | MPE | MAPE | MASE | ACF1 |\n",
       "|---|---|---|---|---|---|---|---|\n",
       "| Training set | -0.001830684 | 0.03606976   | 0.02770885   | -0.03435608  | 0.5079142    | 0.2289192    | 0.05590461   |\n",
       "\n"
      ],
      "text/plain": [
       "             ME           RMSE       MAE        MPE         MAPE      MASE     \n",
       "Training set -0.001830684 0.03606976 0.02770885 -0.03435608 0.5079142 0.2289192\n",
       "             ACF1      \n",
       "Training set 0.05590461"
      ]
     },
     "metadata": {},
     "output_type": "display_data"
    }
   ],
   "source": [
    "accuracy(fit)"
   ]
  },
  {
   "cell_type": "code",
   "execution_count": 26,
   "id": "liable-holiday",
   "metadata": {},
   "outputs": [
    {
     "data": {
      "text/plain": [
       "         Point Forecast    Lo 80    Hi 80    Lo 95    Hi 95\n",
       "Jan 1961       6.109335 6.060306 6.158365 6.034351 6.184319\n",
       "Feb 1961       6.092542 6.032679 6.152405 6.000989 6.184094\n",
       "Mar 1961       6.236626 6.167535 6.305718 6.130960 6.342292\n",
       "Apr 1961       6.218531 6.141239 6.295823 6.100323 6.336738\n",
       "May 1961       6.226734 6.141971 6.311498 6.097100 6.356369"
      ]
     },
     "metadata": {},
     "output_type": "display_data"
    }
   ],
   "source": [
    "pred <- forecast(fit, 5)\n",
    "pred"
   ]
  },
  {
   "cell_type": "code",
   "execution_count": 27,
   "id": "sorted-juice",
   "metadata": {},
   "outputs": [
    {
     "data": {
      "image/png": "[encoded data removed]",
      "text/plain": [
       "Plot with title \"Forecast for Air Travel\""
      ]
     },
     "metadata": {},
     "output_type": "display_data"
    }
   ],
   "source": [
    "plot(pred, main=\"Forecast for Air Travel\",\n",
    "ylab=\"Log(AirPassengers)\", xlab=\"Time\")"
   ]
  },
  {
   "cell_type": "code",
   "execution_count": 29,
   "id": "twelve-employer",
   "metadata": {},
   "outputs": [
    {
     "name": "stdout",
     "output_type": "stream",
     "text": [
      "                  mean         Lo 80         Lo 95         Hi 80         Hi 95\n",
      "Jan 1961 2.816148e+195 1.253210e+186 2.138349e+181 1.867312e+205 4.663127e+210\n",
      "Feb 1961 1.565932e+192 1.064182e+181 2.400443e+175 1.125851e+204 4.181505e+210\n",
      "Mar 1961 9.581929e+221 1.453072e+207 5.275526e+199 7.255950e+237 5.265532e+246\n",
      "Apr 1961 1.001656e+218 6.106211e+201 4.967901e+193 3.301065e+235 2.264345e+245\n",
      "May 1961 6.258417e+219 8.580811e+201 1.182619e+193 1.735989e+239 1.655605e+250\n"
     ]
    }
   ],
   "source": [
    "pred$mean <- exp(pred$mean)\n",
    "pred$lower <- exp(pred$lower)\n",
    "pred$upper <- exp(pred$upper)\n",
    "p <- cbind(pred$mean, pred$lower, pred$upper)\n",
    "dimnames(p)[[2]] <- c(\"mean\", \"Lo 80\", \"Lo 95\", \"Hi 80\", \"Hi 95\")\n",
    "print(p)"
   ]
  },
  {
   "cell_type": "markdown",
   "id": "freelance-advocate",
   "metadata": {},
   "source": [
    "The ```ets()``` function has additional capabilities. You can use it to fit exponential models that have multiplicative components, add a dampening component, and perform automated forecasts.\n",
    "* Let’s fit an automated exponential model to the Johnson & Johnson data"
   ]
  },
  {
   "cell_type": "code",
   "execution_count": 30,
   "id": "critical-stadium",
   "metadata": {},
   "outputs": [
    {
     "name": "stdout",
     "output_type": "stream",
     "text": [
      "ETS(M,A,A) \n",
      "\n",
      "Call:\n",
      " ets(y = JohnsonJohnson) \n",
      "\n",
      "  Smoothing parameters:\n",
      "    alpha = 0.2776 \n",
      "    beta  = 0.0636 \n",
      "    gamma = 0.5867 \n",
      "\n",
      "  Initial states:\n",
      "    l = 0.6276 \n",
      "    b = 0.0165 \n",
      "    s = -0.2293 0.1913 -0.0074 0.0454\n",
      "\n",
      "  sigma:  0.0921\n",
      "\n",
      "     AIC     AICc      BIC \n",
      "163.6392 166.0716 185.5165 \n"
     ]
    }
   ],
   "source": [
    "fit <- ets(JohnsonJohnson)\n",
    "print(fit)"
   ]
  },
  {
   "cell_type": "code",
   "execution_count": 31,
   "id": "british-penguin",
   "metadata": {},
   "outputs": [
    {
     "data": {
      "image/png": "[encoded data removed]",
      "text/plain": [
       "Plot with title \"Johnson & Johnson Forecasts\""
      ]
     },
     "metadata": {},
     "output_type": "display_data"
    }
   ],
   "source": [
    "plot(forecast(fit), main=\"Johnson & Johnson Forecasts\",\n",
    "ylab=\"Quarterly Earnings (Dollars)\", xlab=\"Time\", flty=2)"
   ]
  },
  {
   "cell_type": "code",
   "execution_count": null,
   "id": "honey-broadcast",
   "metadata": {},
   "outputs": [],
   "source": []
  }
 ],
 "metadata": {
  "kernelspec": {
   "display_name": "R",
   "language": "R",
   "name": "ir"
  },
  "language_info": {
   "codemirror_mode": "r",
   "file_extension": ".r",
   "mimetype": "text/x-r-source",
   "name": "R",
   "pygments_lexer": "r",
   "version": "3.6.3"
  }
 },
 "nbformat": 4,
 "nbformat_minor": 5
}
