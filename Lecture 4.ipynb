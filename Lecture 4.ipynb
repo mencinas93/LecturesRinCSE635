{
 "cells": [
  {
   "cell_type": "markdown",
   "id": "novel-wrong",
   "metadata": {},
   "source": [
    "# Analysis of Variance (ANOVA)\n",
    "In its simplest form, is used to compare multiple means in a test for equivalence. In that sense, it’s a straightforward extension of the hypothesis test comparing two means. There’s a continuous variable from which the means of interest are calculated, and there’s at least one categorical variable that tells you how to define the groups for those means.\n",
    "\n",
    "Basically, you’re testing groups to see if there’s a difference between them. Examples of when you might want to test different groups:\n",
    "\n",
    "* A group of psychiatric patients are trying three different therapies: counseling, medication and biofeedback. You want to see if one therapy is better than the others.\n",
    "* A manufacturer has two different processes to make light bulbs. They want to know if one process is better than the other.\n",
    "* Students from different colleges take the same exam. You want to see if one college outperforms the other\n",
    "\n",
    "## Groups or Levels\n",
    "Different groups within the same independent variable. For example:\n",
    "* The levels for “brand of cereal” might be Lucky Charms, Raisin Bran, Cornflakes — a total of three levels.\n",
    "* The levels for “Calories” might be: sweetened, unsweetened — a total of two levels."
   ]
  },
  {
   "cell_type": "markdown",
   "id": "median-cheese",
   "metadata": {},
   "source": [
    "# One Way ANOVA\n",
    "A one way ANOVA is used to compare two means from two independent (unrelated) groups. The null hypothesis for the test is that the two means are equal. Therefore, a significant result means that the two means are unequal.\n",
    "\n",
    "This task will therefore require you to consider not only the variability within each of the k samples but the variability between the samples; this is why the test is referred to as an analysis of variance.\n",
    "The test proceeds by first calculating various metrics associated with the overall variability and then calculating the within- and between-group variability. These figures involve sums of squared quantities and associated degrees of freedom values. All this culminates in a single test statistic and p-value targeting the aforementioned hypotheses.\n",
    "\n",
    "# Two Way ANOVA\n",
    "A Two Way ANOVA is an extension of the One Way ANOVA. With a One Way, you have one independent variable affecting a dependent variable. With a Two Way ANOVA, there are two independents. Use a two way ANOVA when you have one measurement variable (i.e. a quantitative variable) and two nominal variables. In other words, if your experiment has a quantitative outcome and you have two categorical explanatory variables, a two way ANOVA is appropriate.\n",
    "\n",
    "# Hypotheses and Diagnostic Checking\n",
    "Say you have a categorical-nominal variable that splits a total of $N$ numeric observations into $k$ distinct groups, where $k\\geq2$. You’re looking to statistically\n",
    "compare the $k$ groups’ means, $\\mu_{1},\\cdots, \\mu_{k}$ , to see whether they can be claimed to be equal. The standard hypotheses are as follows:\n",
    "\n",
    "* $H_{0}: \\mu_{1}=\\mu_{2}=\\cdots=\\mu_{k}$\n",
    "* $H_{A}: \\mu_{1},\\mu_{2},\\cdots, \\mu_{k}$ are not all equal (or one mean is different)\n",
    "\n",
    "(when $k = 2$, the two-sample t-test is equivalent to ANOVA)\n",
    "\n",
    "The following assumptions need to be satisfied in order for the results of the basic one-way ANOVA test to be considered reliable:\n",
    "* **Independence** The samples making up the $k$ groups must be independent of one another, and the observations in each group must be independent and identically distributed.\n",
    "* **Normality** The observations in each group should be normally distributed, or at least approximately so.\n",
    "* **Equality of variances** The variance of the observations in each group should be equal, or at least approximately so.\n"
   ]
  },
  {
   "cell_type": "markdown",
   "id": "japanese-diagnosis",
   "metadata": {},
   "source": [
    "# ANOVA Table\n",
    "![](anova.png)\n",
    "* **Overall row** This relates to the scale on which the data as a whole sit. It doesn’t affect the outcome of the hypothesis test (since you’re interested only in the relative differences between means) and is sometimes removed from the table\n",
    "* **Group row/Factor row** This relates to the data in the individual groups of interest, thereby accounting for the between-group variability.\n",
    "* **Error row/Residual row** This accounts for the random deviation from the estimated means of each group, thereby accounting for the within group variability.\n",
    "* **TOTAL row** This represents the raw data, based on the previous three ingredients. It is used to find the Error SS by differencing."
   ]
  },
  {
   "cell_type": "markdown",
   "id": "changed-federal",
   "metadata": {},
   "source": [
    "# Fitting ANOVA models - The aov() function \n",
    "\n",
    "``` aov(formula, data=dataframe)```\n",
    "$y$ is the dependent variable and the letters $A$, $B$, and $C$ represent factors.\n",
    "\n",
    "![](tab1.png)\n",
    "![](tab2.png)\n"
   ]
  },
  {
   "cell_type": "markdown",
   "id": "desirable-insider",
   "metadata": {},
   "source": [
    "# The order in which the effects appear in a formula matters when:\n",
    "* ## There’s more than one factor and the design is unbalanced\n",
    "* ## Covariates are present.\n",
    "When either of these two conditions is present, the variables on the right side of the equation will be correlated with each other.\n"
   ]
  },
  {
   "cell_type": "markdown",
   "id": "occupational-dynamics",
   "metadata": {},
   "source": [
    "# One Way ANOVA\n",
    "This example comes from the cholesterol dataset in the multcomp package:\n",
    "\n",
    "### Example\n",
    "\n",
    "Fifty patients received one of five cholesterol-reducing drug regimens (trt). Three of the treatment conditions involved the same drug administered:\n",
    "* 20 mg once per day (1time)\n",
    "* 10mg twice per day (2times),\n",
    "* 5 mg four times per day (4times).\n",
    "\n",
    "The two remaining conditions (drugD and drugE) represented competing drugs.\n",
    "\n",
    "Which drug regimen produced the greatest cholesterol reduction (response)?"
   ]
  },
  {
   "cell_type": "code",
   "execution_count": 1,
   "id": "steady-douglas",
   "metadata": {},
   "outputs": [
    {
     "name": "stderr",
     "output_type": "stream",
     "text": [
      "Loading required package: mvtnorm\n",
      "Loading required package: survival\n",
      "Loading required package: TH.data\n",
      "Loading required package: MASS\n",
      "\n",
      "Attaching package: 'TH.data'\n",
      "\n",
      "The following object is masked from 'package:MASS':\n",
      "\n",
      "    geyser\n",
      "\n"
     ]
    }
   ],
   "source": [
    "# install.packages(\"multcomp\")\n",
    "library(multcomp)"
   ]
  },
  {
   "cell_type": "code",
   "execution_count": 2,
   "id": "informational-illness",
   "metadata": {},
   "outputs": [
    {
     "data": {
      "text/plain": [
       "     trt        response     \n",
       " 1time :10   Min.   : 2.304  \n",
       " 2times:10   1st Qu.: 8.409  \n",
       " 4times:10   Median :12.605  \n",
       " drugD :10   Mean   :12.738  \n",
       " drugE :10   3rd Qu.:17.519  \n",
       "             Max.   :27.244  "
      ]
     },
     "metadata": {},
     "output_type": "display_data"
    }
   ],
   "source": [
    "attach(cholesterol)\n",
    "summary(cholesterol)"
   ]
  },
  {
   "cell_type": "markdown",
   "id": "accompanied-council",
   "metadata": {},
   "source": [
    "***"
   ]
  },
  {
   "cell_type": "code",
   "execution_count": 3,
   "id": "informal-liberty",
   "metadata": {},
   "outputs": [
    {
     "data": {
      "text/plain": [
       "trt\n",
       " 1time 2times 4times  drugD  drugE \n",
       "    10     10     10     10     10 "
      ]
     },
     "metadata": {},
     "output_type": "display_data"
    }
   ],
   "source": [
    "# Group sample sizes\n",
    "table(trt)"
   ]
  },
  {
   "cell_type": "markdown",
   "id": "stretch-stopping",
   "metadata": {},
   "source": [
    "### 10 patients received each of the drug regimens\n",
    "***"
   ]
  },
  {
   "cell_type": "code",
   "execution_count": 4,
   "id": "placed-double",
   "metadata": {},
   "outputs": [
    {
     "data": {
      "text/html": [
       "<table>\n",
       "<thead><tr><th scope=col>Group.1</th><th scope=col>x</th></tr></thead>\n",
       "<tbody>\n",
       "\t<tr><td>1time   </td><td> 5.78197</td></tr>\n",
       "\t<tr><td>2times  </td><td> 9.22497</td></tr>\n",
       "\t<tr><td>4times  </td><td>12.37478</td></tr>\n",
       "\t<tr><td>drugD   </td><td>15.36117</td></tr>\n",
       "\t<tr><td>drugE   </td><td>20.94752</td></tr>\n",
       "</tbody>\n",
       "</table>\n"
      ],
      "text/latex": [
       "\\begin{tabular}{r|ll}\n",
       " Group.1 & x\\\\\n",
       "\\hline\n",
       "\t 1time    &  5.78197\\\\\n",
       "\t 2times   &  9.22497\\\\\n",
       "\t 4times   & 12.37478\\\\\n",
       "\t drugD    & 15.36117\\\\\n",
       "\t drugE    & 20.94752\\\\\n",
       "\\end{tabular}\n"
      ],
      "text/markdown": [
       "\n",
       "| Group.1 | x |\n",
       "|---|---|\n",
       "| 1time    |  5.78197 |\n",
       "| 2times   |  9.22497 |\n",
       "| 4times   | 12.37478 |\n",
       "| drugD    | 15.36117 |\n",
       "| drugE    | 20.94752 |\n",
       "\n"
      ],
      "text/plain": [
       "  Group.1 x       \n",
       "1 1time    5.78197\n",
       "2 2times   9.22497\n",
       "3 4times  12.37478\n",
       "4 drugD   15.36117\n",
       "5 drugE   20.94752"
      ]
     },
     "metadata": {},
     "output_type": "display_data"
    }
   ],
   "source": [
    "# Group means\n",
    "aggregate(response, by=list(trt), FUN=mean)"
   ]
  },
  {
   "cell_type": "markdown",
   "id": "intended-thriller",
   "metadata": {},
   "source": [
    "### it appears that drugE produced the greatest cholesterol reduction, whereas 1time produced the least\n",
    "***"
   ]
  },
  {
   "cell_type": "code",
   "execution_count": 5,
   "id": "caring-popularity",
   "metadata": {},
   "outputs": [
    {
     "data": {
      "text/html": [
       "<table>\n",
       "<thead><tr><th scope=col>Group.1</th><th scope=col>x</th></tr></thead>\n",
       "<tbody>\n",
       "\t<tr><td>1time   </td><td>2.878113</td></tr>\n",
       "\t<tr><td>2times  </td><td>3.483054</td></tr>\n",
       "\t<tr><td>4times  </td><td>2.923119</td></tr>\n",
       "\t<tr><td>drugD   </td><td>3.454636</td></tr>\n",
       "\t<tr><td>drugE   </td><td>3.345003</td></tr>\n",
       "</tbody>\n",
       "</table>\n"
      ],
      "text/latex": [
       "\\begin{tabular}{r|ll}\n",
       " Group.1 & x\\\\\n",
       "\\hline\n",
       "\t 1time    & 2.878113\\\\\n",
       "\t 2times   & 3.483054\\\\\n",
       "\t 4times   & 2.923119\\\\\n",
       "\t drugD    & 3.454636\\\\\n",
       "\t drugE    & 3.345003\\\\\n",
       "\\end{tabular}\n"
      ],
      "text/markdown": [
       "\n",
       "| Group.1 | x |\n",
       "|---|---|\n",
       "| 1time    | 2.878113 |\n",
       "| 2times   | 3.483054 |\n",
       "| 4times   | 2.923119 |\n",
       "| drugD    | 3.454636 |\n",
       "| drugE    | 3.345003 |\n",
       "\n"
      ],
      "text/plain": [
       "  Group.1 x       \n",
       "1 1time   2.878113\n",
       "2 2times  3.483054\n",
       "3 4times  2.923119\n",
       "4 drugD   3.454636\n",
       "5 drugE   3.345003"
      ]
     },
     "metadata": {},
     "output_type": "display_data"
    }
   ],
   "source": [
    "# Group standard deviations\n",
    "aggregate(response, by=list(trt), FUN=sd)"
   ]
  },
  {
   "cell_type": "markdown",
   "id": "spectacular-transportation",
   "metadata": {},
   "source": [
    "### Standard deviations were relatively constant across the five groups, ranging from 2.88 to 3.48\n",
    "***"
   ]
  },
  {
   "cell_type": "code",
   "execution_count": 6,
   "id": "heard-natural",
   "metadata": {},
   "outputs": [
    {
     "data": {
      "text/plain": [
       "            Df Sum Sq Mean Sq F value   Pr(>F)    \n",
       "trt          4 1351.4   337.8   32.43 9.82e-13 ***\n",
       "Residuals   45  468.8    10.4                     \n",
       "---\n",
       "Signif. codes:  0 '***' 0.001 '**' 0.01 '*' 0.05 '.' 0.1 ' ' 1"
      ]
     },
     "metadata": {},
     "output_type": "display_data"
    }
   ],
   "source": [
    "# Test the group differences\n",
    "fit <- aov(response ~ trt)\n",
    "summary(fit)"
   ]
  },
  {
   "cell_type": "markdown",
   "id": "separate-daniel",
   "metadata": {},
   "source": [
    "### The ANOVA F test for treatment (trt) is significant (p < .0001), providing evidence that the five treatments aren’t all equally effective\n",
    "![](tab3.png)\n",
    "***"
   ]
  },
  {
   "cell_type": "code",
   "execution_count": 7,
   "id": "instrumental-forge",
   "metadata": {},
   "outputs": [
    {
     "name": "stderr",
     "output_type": "stream",
     "text": [
      "\n",
      "Attaching package: 'gplots'\n",
      "\n",
      "The following object is masked from 'package:stats':\n",
      "\n",
      "    lowess\n",
      "\n"
     ]
    },
    {
     "data": {
      "image/png": "[encoded data removed]",
      "text/plain": [
       "Plot with title \"Mean Plot\n",
       "with 95% CI\""
      ]
     },
     "metadata": {},
     "output_type": "display_data"
    }
   ],
   "source": [
    "library(gplots)\n",
    "plotmeans(response ~ trt, xlab=\"Treatment\", ylab=\"Response\", main=\"Mean Plot\\nwith 95% CI\")\n",
    "detach(cholesterol)"
   ]
  },
  {
   "cell_type": "markdown",
   "id": "completed-square",
   "metadata": {},
   "source": [
    "### Group means and their confidence intervals\n",
    "***"
   ]
  },
  {
   "cell_type": "markdown",
   "id": "level-hierarchy",
   "metadata": {},
   "source": [
    "# Multiple Comparisons\n",
    "The ANOVA F test for treatment tells you that the five drug regimens aren’t equally effective, but it doesn’t tell you which treatments differ from one another. You can use a multiple comparison procedure to answer this question. For example, the ```TukeyHSD()``` function provides a test of all pairwise differences between group means"
   ]
  },
  {
   "cell_type": "code",
   "execution_count": 8,
   "id": "absent-saturn",
   "metadata": {},
   "outputs": [
    {
     "data": {
      "text/plain": [
       "  Tukey multiple comparisons of means\n",
       "    95% family-wise confidence level\n",
       "\n",
       "Fit: aov(formula = response ~ trt)\n",
       "\n",
       "$trt\n",
       "                  diff        lwr       upr     p adj\n",
       "2times-1time   3.44300 -0.6582817  7.544282 0.1380949\n",
       "4times-1time   6.59281  2.4915283 10.694092 0.0003542\n",
       "drugD-1time    9.57920  5.4779183 13.680482 0.0000003\n",
       "drugE-1time   15.16555 11.0642683 19.266832 0.0000000\n",
       "4times-2times  3.14981 -0.9514717  7.251092 0.2050382\n",
       "drugD-2times   6.13620  2.0349183 10.237482 0.0009611\n",
       "drugE-2times  11.72255  7.6212683 15.823832 0.0000000\n",
       "drugD-4times   2.98639 -1.1148917  7.087672 0.2512446\n",
       "drugE-4times   8.57274  4.4714583 12.674022 0.0000037\n",
       "drugE-drugD    5.58635  1.4850683  9.687632 0.0030633\n"
      ]
     },
     "metadata": {},
     "output_type": "display_data"
    }
   ],
   "source": [
    "TukeyHSD(fit)"
   ]
  },
  {
   "cell_type": "code",
   "execution_count": 9,
   "id": "vertical-kidney",
   "metadata": {},
   "outputs": [
    {
     "data": {
      "image/png": "[encoded data removed]",
      "text/plain": [
       "Plot with title \"95% family-wise confidence level\n",
       "\""
      ]
     },
     "metadata": {},
     "output_type": "display_data"
    }
   ],
   "source": [
    "par(las=2) # rotates the axis labels\n",
    "par(mar=c(5,8,4,2)) # increases the left margin area so that the labels fit\n",
    "plot(TukeyHSD(fit))"
   ]
  },
  {
   "cell_type": "markdown",
   "id": "prescribed-glossary",
   "metadata": {},
   "source": [
    "* 1time and 2times aren’t significantly different from each other ($p = 0.138$)\n",
    "* 4time and 2times aren’t significantly different from each other ($p = 0.138$)\n",
    "* In this graph, confidence intervals that include 0 indicate treatments that aren’t significantly different (p > 0.05)."
   ]
  },
  {
   "cell_type": "markdown",
   "id": "recognized-communications",
   "metadata": {},
   "source": [
    "# Assessing test Assumptions\n",
    "\n",
    "In a one-way ANOVA, the dependent variable is assumed to be normally distributed and have equal variance in each group. You can use a Q-Q plot to assess the normality assumption"
   ]
  },
  {
   "cell_type": "code",
   "execution_count": 10,
   "id": "stock-proposal",
   "metadata": {},
   "outputs": [
    {
     "name": "stderr",
     "output_type": "stream",
     "text": [
      "Loading required package: carData\n"
     ]
    },
    {
     "data": {
      "text/html": [
       "<ol class=list-inline>\n",
       "\t<li>19</li>\n",
       "\t<li>38</li>\n",
       "</ol>\n"
      ],
      "text/latex": [
       "\\begin{enumerate*}\n",
       "\\item 19\n",
       "\\item 38\n",
       "\\end{enumerate*}\n"
      ],
      "text/markdown": [
       "1. 19\n",
       "2. 38\n",
       "\n",
       "\n"
      ],
      "text/plain": [
       "[1] 19 38"
      ]
     },
     "metadata": {},
     "output_type": "display_data"
    },
    {
     "data": {
      "image/png": "[encoded data removed]",
      "text/plain": [
       "Plot with title \"Q-Q Plot\""
      ]
     },
     "metadata": {},
     "output_type": "display_data"
    }
   ],
   "source": [
    "library(car)\n",
    "qqPlot(lm(response ~ trt, data=cholesterol),simulate=TRUE, main=\"Q-Q Plot\", labels=FALSE)"
   ]
  },
  {
   "cell_type": "markdown",
   "id": "joint-beads",
   "metadata": {},
   "source": [
    "R provides several tests for the equality (homogeneity) of variances. For example, you can perform Bartlett’s test with this code:"
   ]
  },
  {
   "cell_type": "code",
   "execution_count": 11,
   "id": "textile-fiction",
   "metadata": {},
   "outputs": [
    {
     "data": {
      "text/plain": [
       "\n",
       "\tBartlett test of homogeneity of variances\n",
       "\n",
       "data:  response by trt\n",
       "Bartlett's K-squared = 0.57975, df = 4, p-value = 0.9653\n"
      ]
     },
     "metadata": {},
     "output_type": "display_data"
    }
   ],
   "source": [
    "bartlett.test(response ~ trt, data=cholesterol)"
   ]
  },
  {
   "cell_type": "markdown",
   "id": "differential-crystal",
   "metadata": {},
   "source": [
    "Bartlett’s test indicates that the variances in the five groups don’t differ significantly ($p = 0.97$)."
   ]
  },
  {
   "cell_type": "markdown",
   "id": "accepting-abortion",
   "metadata": {},
   "source": [
    "### Test for outliers"
   ]
  },
  {
   "cell_type": "code",
   "execution_count": 12,
   "id": "afraid-package",
   "metadata": {},
   "outputs": [
    {
     "data": {
      "text/plain": [
       "No Studentized residuals with Bonferroni p < 0.05\n",
       "Largest |rstudent|:\n",
       "   rstudent unadjusted p-value Bonferroni p\n",
       "19 2.251149           0.029422           NA"
      ]
     },
     "metadata": {},
     "output_type": "display_data"
    }
   ],
   "source": [
    "outlierTest(fit)"
   ]
  },
  {
   "cell_type": "markdown",
   "id": "careful-legislation",
   "metadata": {},
   "source": [
    "From the output, you can see that there’s no indication of outliers in the cholesterol data (NA occurs when p > 1)."
   ]
  },
  {
   "cell_type": "markdown",
   "id": "binary-southwest",
   "metadata": {},
   "source": [
    "# Two-way factorial ANOVA\n",
    "In a two-way factorial ANOVA, subjects are assigned to groups that are formed from the cross-classification of two factors.\n",
    "\n",
    "In two-way ANOVA, the hypotheses should be set along the following lines:\n",
    "\n",
    "* $H_{0}$ :\n",
    "    * $G_{1}$ has no main (marginal) effect on the mean of $O$.\n",
    "    * $G_{2}$ has no main (marginal) effect on the mean of $O$.\n",
    "    * There is no interactive effect of $G_{1}$ with $G_{2}$ on the mean of $O$.\n",
    "* $H_{A}$ : Separately, each statement in $H_{0}$ is incorrect.\n",
    "\n",
    "You can see from these general hypotheses that you now have to obtain a p-value for each of the three components.\n",
    "\n",
    "## Example\n",
    "> Sixty guinea pigs are randomly assigned to receive one of three levels of ascorbic acid ($0.5$, $1$, or $2$ mg) and one of two delivery methods (orange juice or Vitamin C), under the restriction that each treatment combination has 10 guinea pigs. The dependent variable is tooth length."
   ]
  },
  {
   "cell_type": "code",
   "execution_count": 13,
   "id": "certified-annotation",
   "metadata": {},
   "outputs": [],
   "source": [
    "attach(ToothGrowth)"
   ]
  },
  {
   "cell_type": "code",
   "execution_count": 14,
   "id": "thermal-rider",
   "metadata": {},
   "outputs": [
    {
     "data": {
      "text/plain": [
       "    dose\n",
       "supp 0.5  1  2\n",
       "  OJ  10 10 10\n",
       "  VC  10 10 10"
      ]
     },
     "metadata": {},
     "output_type": "display_data"
    }
   ],
   "source": [
    "table(supp, dose)"
   ]
  },
  {
   "cell_type": "code",
   "execution_count": 15,
   "id": "ruled-function",
   "metadata": {},
   "outputs": [
    {
     "data": {
      "text/html": [
       "<table>\n",
       "<thead><tr><th scope=col>Group.1</th><th scope=col>Group.2</th><th scope=col>x</th></tr></thead>\n",
       "<tbody>\n",
       "\t<tr><td>OJ   </td><td>0.5  </td><td>13.23</td></tr>\n",
       "\t<tr><td>VC   </td><td>0.5  </td><td> 7.98</td></tr>\n",
       "\t<tr><td>OJ   </td><td>1.0  </td><td>22.70</td></tr>\n",
       "\t<tr><td>VC   </td><td>1.0  </td><td>16.77</td></tr>\n",
       "\t<tr><td>OJ   </td><td>2.0  </td><td>26.06</td></tr>\n",
       "\t<tr><td>VC   </td><td>2.0  </td><td>26.14</td></tr>\n",
       "</tbody>\n",
       "</table>\n"
      ],
      "text/latex": [
       "\\begin{tabular}{r|lll}\n",
       " Group.1 & Group.2 & x\\\\\n",
       "\\hline\n",
       "\t OJ    & 0.5   & 13.23\\\\\n",
       "\t VC    & 0.5   &  7.98\\\\\n",
       "\t OJ    & 1.0   & 22.70\\\\\n",
       "\t VC    & 1.0   & 16.77\\\\\n",
       "\t OJ    & 2.0   & 26.06\\\\\n",
       "\t VC    & 2.0   & 26.14\\\\\n",
       "\\end{tabular}\n"
      ],
      "text/markdown": [
       "\n",
       "| Group.1 | Group.2 | x |\n",
       "|---|---|---|\n",
       "| OJ    | 0.5   | 13.23 |\n",
       "| VC    | 0.5   |  7.98 |\n",
       "| OJ    | 1.0   | 22.70 |\n",
       "| VC    | 1.0   | 16.77 |\n",
       "| OJ    | 2.0   | 26.06 |\n",
       "| VC    | 2.0   | 26.14 |\n",
       "\n"
      ],
      "text/plain": [
       "  Group.1 Group.2 x    \n",
       "1 OJ      0.5     13.23\n",
       "2 VC      0.5      7.98\n",
       "3 OJ      1.0     22.70\n",
       "4 VC      1.0     16.77\n",
       "5 OJ      2.0     26.06\n",
       "6 VC      2.0     26.14"
      ]
     },
     "metadata": {},
     "output_type": "display_data"
    }
   ],
   "source": [
    "aggregate(len, by=list(supp, dose), FUN=mean)"
   ]
  },
  {
   "cell_type": "code",
   "execution_count": 16,
   "id": "collectible-chair",
   "metadata": {},
   "outputs": [
    {
     "data": {
      "text/html": [
       "<table>\n",
       "<thead><tr><th scope=col>Group.1</th><th scope=col>Group.2</th><th scope=col>x</th></tr></thead>\n",
       "<tbody>\n",
       "\t<tr><td>OJ      </td><td>0.5     </td><td>4.459709</td></tr>\n",
       "\t<tr><td>VC      </td><td>0.5     </td><td>2.746634</td></tr>\n",
       "\t<tr><td>OJ      </td><td>1.0     </td><td>3.910953</td></tr>\n",
       "\t<tr><td>VC      </td><td>1.0     </td><td>2.515309</td></tr>\n",
       "\t<tr><td>OJ      </td><td>2.0     </td><td>2.655058</td></tr>\n",
       "\t<tr><td>VC      </td><td>2.0     </td><td>4.797731</td></tr>\n",
       "</tbody>\n",
       "</table>\n"
      ],
      "text/latex": [
       "\\begin{tabular}{r|lll}\n",
       " Group.1 & Group.2 & x\\\\\n",
       "\\hline\n",
       "\t OJ       & 0.5      & 4.459709\\\\\n",
       "\t VC       & 0.5      & 2.746634\\\\\n",
       "\t OJ       & 1.0      & 3.910953\\\\\n",
       "\t VC       & 1.0      & 2.515309\\\\\n",
       "\t OJ       & 2.0      & 2.655058\\\\\n",
       "\t VC       & 2.0      & 4.797731\\\\\n",
       "\\end{tabular}\n"
      ],
      "text/markdown": [
       "\n",
       "| Group.1 | Group.2 | x |\n",
       "|---|---|---|\n",
       "| OJ       | 0.5      | 4.459709 |\n",
       "| VC       | 0.5      | 2.746634 |\n",
       "| OJ       | 1.0      | 3.910953 |\n",
       "| VC       | 1.0      | 2.515309 |\n",
       "| OJ       | 2.0      | 2.655058 |\n",
       "| VC       | 2.0      | 4.797731 |\n",
       "\n"
      ],
      "text/plain": [
       "  Group.1 Group.2 x       \n",
       "1 OJ      0.5     4.459709\n",
       "2 VC      0.5     2.746634\n",
       "3 OJ      1.0     3.910953\n",
       "4 VC      1.0     2.515309\n",
       "5 OJ      2.0     2.655058\n",
       "6 VC      2.0     4.797731"
      ]
     },
     "metadata": {},
     "output_type": "display_data"
    }
   ],
   "source": [
    "aggregate(len, by=list(supp, dose), FUN=sd)"
   ]
  },
  {
   "cell_type": "code",
   "execution_count": 17,
   "id": "perfect-discrimination",
   "metadata": {},
   "outputs": [],
   "source": [
    "dose <- factor(dose)"
   ]
  },
  {
   "cell_type": "code",
   "execution_count": 18,
   "id": "banner-values",
   "metadata": {},
   "outputs": [
    {
     "data": {
      "text/plain": [
       "            Df Sum Sq Mean Sq F value   Pr(>F)    \n",
       "supp         1  205.4   205.4  15.572 0.000231 ***\n",
       "dose         2 2426.4  1213.2  92.000  < 2e-16 ***\n",
       "supp:dose    2  108.3    54.2   4.107 0.021860 *  \n",
       "Residuals   54  712.1    13.2                     \n",
       "---\n",
       "Signif. codes:  0 '***' 0.001 '**' 0.01 '*' 0.05 '.' 0.1 ' ' 1"
      ]
     },
     "metadata": {},
     "output_type": "display_data"
    }
   ],
   "source": [
    "fit <- aov(len ~ supp*dose)\n",
    "summary(fit)"
   ]
  },
  {
   "cell_type": "markdown",
   "id": "verbal-shift",
   "metadata": {},
   "source": [
    "1. The table statement indicates that you have a balanced design (equal sample sizes in each cell of the design)\n",
    "2. The aggregate statements provide the cell means and standard deviations.\n",
    "3. The dose variable is converted to a factor so that the aov() function will treat it as a grouping variable. \n",
    "4. The ANOVA table provided by the summary() function indicates that both main effects (supp and dose) and the interaction between these factors are significant."
   ]
  },
  {
   "cell_type": "code",
   "execution_count": 19,
   "id": "electoral-institution",
   "metadata": {},
   "outputs": [
    {
     "data": {
      "image/png": "[encoded data removed]",
      "text/plain": [
       "Plot with title \"Interaction between Dose and Supplement Type\""
      ]
     },
     "metadata": {},
     "output_type": "display_data"
    }
   ],
   "source": [
    "interaction.plot(dose, supp, len, type=\"b\", col=c(\"red\",\"blue\"), pch=c(16, 18), main = \"Interaction between Dose and Supplement Type\")"
   ]
  },
  {
   "cell_type": "markdown",
   "id": "charming-dinner",
   "metadata": {},
   "source": [
    "The plot provides the mean tooth length for each supplement at each dosage."
   ]
  },
  {
   "cell_type": "code",
   "execution_count": 20,
   "id": "tamil-remains",
   "metadata": {},
   "outputs": [
    {
     "data": {
      "image/png": "[encoded data removed]",
      "text/plain": [
       "Plot with title \"Interaction Plot with 95% CIs\""
      ]
     },
     "metadata": {},
     "output_type": "display_data"
    }
   ],
   "source": [
    "library(gplots)\n",
    "plotmeans(len ~ interaction(supp, dose, sep=\" \"),\n",
    "connect=list(c(1,3,5),c(2,4,6)),\n",
    "col=c(\"red\", \"darkgreen\"),\n",
    "main = \"Interaction Plot with 95% CIs\",\n",
    "xlab=\"Treatment and Dose Combination\")"
   ]
  },
  {
   "cell_type": "markdown",
   "id": "fossil-oregon",
   "metadata": {},
   "source": [
    "The graph includes the means, as well as error bars (95% confidence intervals) and sample sizes."
   ]
  },
  {
   "cell_type": "code",
   "execution_count": 21,
   "id": "derived-flight",
   "metadata": {},
   "outputs": [
    {
     "name": "stderr",
     "output_type": "stream",
     "text": [
      "Loading required package: lattice\n",
      "Loading required package: grid\n",
      "Loading required package: latticeExtra\n",
      "Loading required package: gridExtra\n",
      "Registered S3 methods overwritten by 'ggplot2':\n",
      "  method         from \n",
      "  [.quosures     rlang\n",
      "  c.quosures     rlang\n",
      "  print.quosures rlang\n",
      "\n",
      "Attaching package: 'HH'\n",
      "\n",
      "The following objects are masked from 'package:car':\n",
      "\n",
      "    logit, vif\n",
      "\n",
      "The following object is masked from 'package:gplots':\n",
      "\n",
      "    residplot\n",
      "\n"
     ]
    },
    {
     "data": {
      "image/png": "[encoded data removed]",
      "text/plain": [
       "plot without title"
      ]
     },
     "metadata": {},
     "output_type": "display_data"
    }
   ],
   "source": [
    "# install.packages(\"HH\")\n",
    "library(HH)\n",
    "interaction2wt(len~supp*dose)"
   ]
  },
  {
   "cell_type": "markdown",
   "id": "sexual-coverage",
   "metadata": {},
   "source": [
    "It displays both the main effects (the box plots) and the two-way interactions for designs of any complexity (two-way ANOVA, three-way ANOVA, and so on)."
   ]
  },
  {
   "cell_type": "markdown",
   "id": "attached-senator",
   "metadata": {},
   "source": [
    "# Multivariate analysis of variance (MANOVA)\n",
    "If there’s more than one dependent (outcome) variable, you can test them simultaneously using a multivariate analysis of variance (MANOVA).\n",
    "\n",
    "In this example, you’re interested in whether the calories, fat, and sugar content of US cereals vary by store shelf, where 1 is the bottom shelf, 2 is the middle shelf, and 3 is the top shelf. Calories, fat, and sugars are the dependent variables, and shelf is the independent variable, with three levels (1, 2, and 3)."
   ]
  },
  {
   "cell_type": "code",
   "execution_count": 23,
   "id": "common-command",
   "metadata": {},
   "outputs": [
    {
     "data": {
      "text/html": [
       "<table>\n",
       "<thead><tr><th scope=col>Group.1</th><th scope=col>calories</th><th scope=col>fat</th><th scope=col>sugars</th></tr></thead>\n",
       "<tbody>\n",
       "\t<tr><td>1        </td><td>119.4774 </td><td>0.6621338</td><td> 6.295493</td></tr>\n",
       "\t<tr><td>2        </td><td>129.8162 </td><td>1.3413488</td><td>12.507670</td></tr>\n",
       "\t<tr><td>3        </td><td>180.1466 </td><td>1.9449071</td><td>10.856821</td></tr>\n",
       "</tbody>\n",
       "</table>\n"
      ],
      "text/latex": [
       "\\begin{tabular}{r|llll}\n",
       " Group.1 & calories & fat & sugars\\\\\n",
       "\\hline\n",
       "\t 1         & 119.4774  & 0.6621338 &  6.295493\\\\\n",
       "\t 2         & 129.8162  & 1.3413488 & 12.507670\\\\\n",
       "\t 3         & 180.1466  & 1.9449071 & 10.856821\\\\\n",
       "\\end{tabular}\n"
      ],
      "text/markdown": [
       "\n",
       "| Group.1 | calories | fat | sugars |\n",
       "|---|---|---|---|\n",
       "| 1         | 119.4774  | 0.6621338 |  6.295493 |\n",
       "| 2         | 129.8162  | 1.3413488 | 12.507670 |\n",
       "| 3         | 180.1466  | 1.9449071 | 10.856821 |\n",
       "\n"
      ],
      "text/plain": [
       "  Group.1 calories fat       sugars   \n",
       "1 1       119.4774 0.6621338  6.295493\n",
       "2 2       129.8162 1.3413488 12.507670\n",
       "3 3       180.1466 1.9449071 10.856821"
      ]
     },
     "metadata": {},
     "output_type": "display_data"
    }
   ],
   "source": [
    "library(MASS)\n",
    "attach(UScereal)\n",
    "shelf <- factor(shelf) # First, the shelf variable is converted to a factor so that it can represent a grouping variable in the analyses.\n",
    "y <- cbind(calories, fat, sugars) # cbind() function is used to form a matrix of the three dependent variables (calories, fat, and sugars)\n",
    "aggregate(y, by=list(shelf), FUN=mean) # aggregate() function provides the shelf means"
   ]
  },
  {
   "cell_type": "code",
   "execution_count": 27,
   "id": "gorgeous-estonia",
   "metadata": {},
   "outputs": [
    {
     "data": {
      "text/html": [
       "<table>\n",
       "<thead><tr><th></th><th scope=col>calories</th><th scope=col>fat</th><th scope=col>sugars</th></tr></thead>\n",
       "<tbody>\n",
       "\t<tr><th scope=row>calories</th><td>3895.24210</td><td>60.674383 </td><td>180.380317</td></tr>\n",
       "\t<tr><th scope=row>fat</th><td>  60.67438</td><td> 2.713399 </td><td>  3.995474</td></tr>\n",
       "\t<tr><th scope=row>sugars</th><td> 180.38032</td><td> 3.995474 </td><td> 34.050018</td></tr>\n",
       "</tbody>\n",
       "</table>\n"
      ],
      "text/latex": [
       "\\begin{tabular}{r|lll}\n",
       "  & calories & fat & sugars\\\\\n",
       "\\hline\n",
       "\tcalories & 3895.24210 & 60.674383  & 180.380317\\\\\n",
       "\tfat &   60.67438 &  2.713399  &   3.995474\\\\\n",
       "\tsugars &  180.38032 &  3.995474  &  34.050018\\\\\n",
       "\\end{tabular}\n"
      ],
      "text/markdown": [
       "\n",
       "| <!--/--> | calories | fat | sugars |\n",
       "|---|---|---|---|\n",
       "| calories | 3895.24210 | 60.674383  | 180.380317 |\n",
       "| fat |   60.67438 |  2.713399  |   3.995474 |\n",
       "| sugars |  180.38032 |  3.995474  |  34.050018 |\n",
       "\n"
      ],
      "text/plain": [
       "         calories   fat       sugars    \n",
       "calories 3895.24210 60.674383 180.380317\n",
       "fat        60.67438  2.713399   3.995474\n",
       "sugars    180.38032  3.995474  34.050018"
      ]
     },
     "metadata": {},
     "output_type": "display_data"
    }
   ],
   "source": [
    "cov(y) # cov() function provides the variance and the covariances across cereals"
   ]
  },
  {
   "cell_type": "markdown",
   "id": "virtual-minneapolis",
   "metadata": {},
   "source": [
    "The ```manova()``` function provides the multivariate test of group differences. The significant F value indicates that the three groups differ on the set of nutritional measures."
   ]
  },
  {
   "cell_type": "code",
   "execution_count": 25,
   "id": "minimal-central",
   "metadata": {},
   "outputs": [
    {
     "data": {
      "text/plain": [
       "          Df Pillai approx F num Df den Df    Pr(>F)    \n",
       "shelf      2 0.4021   5.1167      6    122 0.0001015 ***\n",
       "Residuals 62                                            \n",
       "---\n",
       "Signif. codes:  0 '***' 0.001 '**' 0.01 '*' 0.05 '.' 0.1 ' ' 1"
      ]
     },
     "metadata": {},
     "output_type": "display_data"
    }
   ],
   "source": [
    "fit <- manova(y ~ shelf)\n",
    "summary(fit)"
   ]
  },
  {
   "cell_type": "code",
   "execution_count": 26,
   "id": "reserved-triangle",
   "metadata": {},
   "outputs": [
    {
     "data": {
      "text/plain": [
       " Response calories :\n",
       "            Df Sum Sq Mean Sq F value    Pr(>F)    \n",
       "shelf        2  50435 25217.6  7.8623 0.0009054 ***\n",
       "Residuals   62 198860  3207.4                      \n",
       "---\n",
       "Signif. codes:  0 '***' 0.001 '**' 0.01 '*' 0.05 '.' 0.1 ' ' 1\n",
       "\n",
       " Response fat :\n",
       "            Df Sum Sq Mean Sq F value  Pr(>F)  \n",
       "shelf        2  18.44  9.2199  3.6828 0.03081 *\n",
       "Residuals   62 155.22  2.5035                  \n",
       "---\n",
       "Signif. codes:  0 '***' 0.001 '**' 0.01 '*' 0.05 '.' 0.1 ' ' 1\n",
       "\n",
       " Response sugars :\n",
       "            Df  Sum Sq Mean Sq F value   Pr(>F)   \n",
       "shelf        2  381.33 190.667  6.5752 0.002572 **\n",
       "Residuals   62 1797.87  28.998                    \n",
       "---\n",
       "Signif. codes:  0 '***' 0.001 '**' 0.01 '*' 0.05 '.' 0.1 ' ' 1\n"
      ]
     },
     "metadata": {},
     "output_type": "display_data"
    }
   ],
   "source": [
    "summary.aov(fit) #summary.aov() function produces the univariate one-way ANOVAs"
   ]
  },
  {
   "cell_type": "code",
   "execution_count": null,
   "id": "purple-specific",
   "metadata": {},
   "outputs": [],
   "source": []
  }
 ],
 "metadata": {
  "kernelspec": {
   "display_name": "R",
   "language": "R",
   "name": "ir"
  },
  "language_info": {
   "codemirror_mode": "r",
   "file_extension": ".r",
   "mimetype": "text/x-r-source",
   "name": "R",
   "pygments_lexer": "r",
   "version": "4.0.3"
  }
 },
 "nbformat": 4,
 "nbformat_minor": 5
}
