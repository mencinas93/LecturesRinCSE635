{
 "cells": [
  {
   "cell_type": "markdown",
   "id": "practical-vault",
   "metadata": {
    "slideshow": {
     "slide_type": "slide"
    }
   },
   "source": [
    "# Install Packages\n",
    "```R\n",
    "install.packages(\"RWeka\")\n",
    "```"
   ]
  },
  {
   "cell_type": "code",
   "execution_count": 1,
   "id": "603954d1-19d5-4e51-bad8-8f57594a72dd",
   "metadata": {},
   "outputs": [
    {
     "name": "stderr",
     "output_type": "stream",
     "text": [
      "also installing the dependencies 'RWekajars', 'rJava'\n",
      "\n"
     ]
    },
    {
     "name": "stdout",
     "output_type": "stream",
     "text": [
      "\n",
      "  There are binary versions available but the source versions are later:\n",
      "      binary source needs_compilation\n",
      "rJava  1.0-4  1.0-6              TRUE\n",
      "RWeka 0.4-43 0.4-44             FALSE\n",
      "\n",
      "  Binaries will be installed\n",
      "package 'RWekajars' successfully unpacked and MD5 sums checked\n",
      "package 'rJava' successfully unpacked and MD5 sums checked\n",
      "\n",
      "The downloaded binary packages are in\n",
      "\tC:\\Users\\Nemo\\AppData\\Local\\Temp\\RtmpcZRkh4\\downloaded_packages\n"
     ]
    },
    {
     "name": "stderr",
     "output_type": "stream",
     "text": [
      "installing the source package 'RWeka'\n",
      "\n"
     ]
    }
   ],
   "source": [
    "install.packages(\"RWeka\")"
   ]
  },
  {
   "cell_type": "code",
   "execution_count": 2,
   "id": "pressing-mainland",
   "metadata": {},
   "outputs": [],
   "source": [
    "library(RWeka)"
   ]
  },
  {
   "cell_type": "code",
   "execution_count": 3,
   "id": "technological-petite",
   "metadata": {},
   "outputs": [],
   "source": [
    "detach(\"package:RWeka\", unload = TRUE)"
   ]
  },
  {
   "cell_type": "markdown",
   "id": "clean-wisconsin",
   "metadata": {
    "slideshow": {
     "slide_type": "slide"
    }
   },
   "source": [
    "# Example of Code"
   ]
  },
  {
   "cell_type": "code",
   "execution_count": 4,
   "id": "proper-electric",
   "metadata": {},
   "outputs": [],
   "source": [
    "age <- c(1,3,5,2,11,9,3,9,12,3)\n",
    "weight <- c(4.4,5.3,7.2,5.2,8.5,7.3,6.0,10.4,10.2,6.1)"
   ]
  },
  {
   "cell_type": "code",
   "execution_count": 5,
   "id": "exempt-video",
   "metadata": {
    "slideshow": {
     "slide_type": "subslide"
    }
   },
   "outputs": [
    {
     "data": {
      "text/html": [
       "7.06"
      ],
      "text/latex": [
       "7.06"
      ],
      "text/markdown": [
       "7.06"
      ],
      "text/plain": [
       "[1] 7.06"
      ]
     },
     "metadata": {},
     "output_type": "display_data"
    }
   ],
   "source": [
    "mean(weight)"
   ]
  },
  {
   "cell_type": "code",
   "execution_count": 6,
   "id": "facial-printer",
   "metadata": {},
   "outputs": [
    {
     "data": {
      "text/html": [
       "2.07749849578766"
      ],
      "text/latex": [
       "2.07749849578766"
      ],
      "text/markdown": [
       "2.07749849578766"
      ],
      "text/plain": [
       "[1] 2.077498"
      ]
     },
     "metadata": {},
     "output_type": "display_data"
    }
   ],
   "source": [
    "sd(weight)"
   ]
  },
  {
   "cell_type": "code",
   "execution_count": 7,
   "id": "intermediate-stopping",
   "metadata": {},
   "outputs": [
    {
     "data": {
      "text/html": [
       "0.907565543895256"
      ],
      "text/latex": [
       "0.907565543895256"
      ],
      "text/markdown": [
       "0.907565543895256"
      ],
      "text/plain": [
       "[1] 0.9075655"
      ]
     },
     "metadata": {},
     "output_type": "display_data"
    }
   ],
   "source": [
    "cor(age,weight)"
   ]
  },
  {
   "cell_type": "code",
   "execution_count": 8,
   "id": "brief-cinema",
   "metadata": {
    "slideshow": {
     "slide_type": "subslide"
    }
   },
   "outputs": [
    {
     "data": {
      "image/png": "[encoded data removed]",
      "text/plain": [
       "plot without title"
      ]
     },
     "metadata": {},
     "output_type": "display_data"
    }
   ],
   "source": [
    "plot(age,weight)"
   ]
  },
  {
   "cell_type": "code",
   "execution_count": 9,
   "id": "scheduled-mechanics",
   "metadata": {
    "slideshow": {
     "slide_type": "skip"
    }
   },
   "outputs": [],
   "source": [
    "q()"
   ]
  },
  {
   "cell_type": "markdown",
   "id": "insured-pepper",
   "metadata": {
    "slideshow": {
     "slide_type": "slide"
    }
   },
   "source": [
    "# Managing the Workspace"
   ]
  },
  {
   "cell_type": "code",
   "execution_count": 1,
   "id": "automatic-promise",
   "metadata": {},
   "outputs": [
    {
     "data": {
      "text/html": [
       "'C:/Users/Nemo/Documents/Documents_Drive/Classes/Hood/Advance Data Analytics Programing with R/Lectures/Lecture 1'"
      ],
      "text/latex": [
       "'C:/Users/Nemo/Documents/Documents\\_Drive/Classes/Hood/Advance Data Analytics Programing with R/Lectures/Lecture 1'"
      ],
      "text/markdown": [
       "'C:/Users/Nemo/Documents/Documents_Drive/Classes/Hood/Advance Data Analytics Programing with R/Lectures/Lecture 1'"
      ],
      "text/plain": [
       "[1] \"C:/Users/Nemo/Documents/Documents_Drive/Classes/Hood/Advance Data Analytics Programing with R/Lectures/Lecture 1\""
      ]
     },
     "metadata": {},
     "output_type": "display_data"
    },
    {
     "data": {
      "text/plain": [
       "   Min. 1st Qu.  Median    Mean 3rd Qu.    Max. \n",
       "  0.009   0.435   0.525   0.530   0.696   0.871 "
      ]
     },
     "metadata": {},
     "output_type": "display_data"
    }
   ],
   "source": [
    "getwd()\n",
    "# options()\n",
    "options(digits=3)\n",
    "x <- runif(20)\n",
    "summary(x)"
   ]
  },
  {
   "cell_type": "code",
   "execution_count": 11,
   "id": "polyphonic-henry",
   "metadata": {
    "slideshow": {
     "slide_type": "subslide"
    }
   },
   "outputs": [
    {
     "data": {
      "image/png": "[encoded data removed]",
      "text/plain": [
       "Plot with title \"Histogram of x\""
      ]
     },
     "metadata": {},
     "output_type": "display_data"
    }
   ],
   "source": [
    "hist(x)\n",
    "q()"
   ]
  },
  {
   "cell_type": "markdown",
   "id": "limiting-tamil",
   "metadata": {
    "slideshow": {
     "slide_type": "slide"
    }
   },
   "source": [
    "One of the most useful design features of R is that the output of analyses can easily be saved and used as input to additional analyses.\n",
    "First, run a simple linear regression predicting miles per gallon (mpg) from car weight (wt), using the automotive dataset mtcars."
   ]
  },
  {
   "cell_type": "code",
   "execution_count": 12,
   "id": "digital-pricing",
   "metadata": {},
   "outputs": [
    {
     "data": {
      "text/plain": [
       "\n",
       "Call:\n",
       "lm(formula = mpg ~ wt, data = mtcars)\n",
       "\n",
       "Coefficients:\n",
       "(Intercept)           wt  \n",
       "      37.29        -5.34  \n"
      ]
     },
     "metadata": {},
     "output_type": "display_data"
    }
   ],
   "source": [
    "lm(mpg~wt, data=mtcars)"
   ]
  },
  {
   "cell_type": "code",
   "execution_count": 13,
   "id": "patent-opposition",
   "metadata": {
    "slideshow": {
     "slide_type": "subslide"
    }
   },
   "outputs": [],
   "source": [
    "lmfit <- lm(mpg~wt, data=mtcars)"
   ]
  },
  {
   "cell_type": "code",
   "execution_count": 14,
   "id": "complimentary-printer",
   "metadata": {},
   "outputs": [
    {
     "data": {
      "text/plain": [
       "\n",
       "Call:\n",
       "lm(formula = mpg ~ wt, data = mtcars)\n",
       "\n",
       "Residuals:\n",
       "   Min     1Q Median     3Q    Max \n",
       "-4.543 -2.365 -0.125  1.410  6.873 \n",
       "\n",
       "Coefficients:\n",
       "            Estimate Std. Error t value Pr(>|t|)    \n",
       "(Intercept)   37.285      1.878   19.86  < 2e-16 ***\n",
       "wt            -5.344      0.559   -9.56  1.3e-10 ***\n",
       "---\n",
       "Signif. codes:  0 '***' 0.001 '**' 0.01 '*' 0.05 '.' 0.1 ' ' 1\n",
       "\n",
       "Residual standard error: 3.05 on 30 degrees of freedom\n",
       "Multiple R-squared:  0.753,\tAdjusted R-squared:  0.745 \n",
       "F-statistic: 91.4 on 1 and 30 DF,  p-value: 1.29e-10\n"
      ]
     },
     "metadata": {},
     "output_type": "display_data"
    }
   ],
   "source": [
    "summary(lmfit)"
   ]
  },
  {
   "cell_type": "code",
   "execution_count": 15,
   "id": "acute-combine",
   "metadata": {
    "slideshow": {
     "slide_type": "subslide"
    }
   },
   "outputs": [
    {
     "data": {
      "image/png": "[encoded data removed]",
      "text/plain": [
       "Plot with title \"\""
      ]
     },
     "metadata": {},
     "output_type": "display_data"
    },
    {
     "data": {
      "image/png": "[encoded data removed]",
      "text/plain": [
       "Plot with title \"\""
      ]
     },
     "metadata": {},
     "output_type": "display_data"
    },
    {
     "data": {
      "image/png": "[encoded data removed]",
      "text/plain": [
       "Plot with title \"\""
      ]
     },
     "metadata": {},
     "output_type": "display_data"
    },
    {
     "data": {
      "image/png": "[encoded data removed]",
      "text/plain": [
       "Plot with title \"\""
      ]
     },
     "metadata": {},
     "output_type": "display_data"
    }
   ],
   "source": [
    "plot(lmfit)"
   ]
  },
  {
   "cell_type": "markdown",
   "id": "e4d9a852-23af-4d8a-9e77-738dc288f8ae",
   "metadata": {
    "slideshow": {
     "slide_type": "slide"
    }
   },
   "source": [
    "# Data Structures"
   ]
  },
  {
   "cell_type": "markdown",
   "id": "5cea00dd-e0ed-4eae-98c8-d583643e04e3",
   "metadata": {
    "slideshow": {
     "slide_type": "slide"
    }
   },
   "source": [
    "![](data_structures.png)"
   ]
  },
  {
   "cell_type": "markdown",
   "id": "451a07fb-5d21-43d9-b626-1ad5e1656d34",
   "metadata": {
    "slideshow": {
     "slide_type": "slide"
    }
   },
   "source": [
    "# Vectors"
   ]
  },
  {
   "cell_type": "code",
   "execution_count": 16,
   "id": "15aed7ec-3f00-4db3-b298-049af9a85b4b",
   "metadata": {},
   "outputs": [],
   "source": [
    "# c() combine function\n",
    "a <- c(\"k\", \"j\", \"h\", \"a\", \"c\", \"m\")"
   ]
  },
  {
   "cell_type": "code",
   "execution_count": 17,
   "id": "f5c4d681-b144-4612-ba51-aea1a6dd924d",
   "metadata": {},
   "outputs": [
    {
     "data": {
      "text/html": [
       "'h'"
      ],
      "text/latex": [
       "'h'"
      ],
      "text/markdown": [
       "'h'"
      ],
      "text/plain": [
       "[1] \"h\""
      ]
     },
     "metadata": {},
     "output_type": "display_data"
    }
   ],
   "source": [
    "a[3]"
   ]
  },
  {
   "cell_type": "code",
   "execution_count": 18,
   "id": "14fa4f72-2448-422e-879a-1380aed2fab7",
   "metadata": {},
   "outputs": [
    {
     "data": {
      "text/html": [
       "<ol class=list-inline>\n",
       "\t<li>'k'</li>\n",
       "\t<li>'h'</li>\n",
       "\t<li>'c'</li>\n",
       "</ol>\n"
      ],
      "text/latex": [
       "\\begin{enumerate*}\n",
       "\\item 'k'\n",
       "\\item 'h'\n",
       "\\item 'c'\n",
       "\\end{enumerate*}\n"
      ],
      "text/markdown": [
       "1. 'k'\n",
       "2. 'h'\n",
       "3. 'c'\n",
       "\n",
       "\n"
      ],
      "text/plain": [
       "[1] \"k\" \"h\" \"c\""
      ]
     },
     "metadata": {},
     "output_type": "display_data"
    }
   ],
   "source": [
    "a[c(1,3,5)]"
   ]
  },
  {
   "cell_type": "code",
   "execution_count": 19,
   "id": "cd92017c-743b-4e17-a926-fb9a7828d856",
   "metadata": {},
   "outputs": [
    {
     "data": {
      "text/html": [
       "<ol class=list-inline>\n",
       "\t<li>'j'</li>\n",
       "\t<li>'h'</li>\n",
       "\t<li>'a'</li>\n",
       "\t<li>'c'</li>\n",
       "\t<li>'m'</li>\n",
       "</ol>\n"
      ],
      "text/latex": [
       "\\begin{enumerate*}\n",
       "\\item 'j'\n",
       "\\item 'h'\n",
       "\\item 'a'\n",
       "\\item 'c'\n",
       "\\item 'm'\n",
       "\\end{enumerate*}\n"
      ],
      "text/markdown": [
       "1. 'j'\n",
       "2. 'h'\n",
       "3. 'a'\n",
       "4. 'c'\n",
       "5. 'm'\n",
       "\n",
       "\n"
      ],
      "text/plain": [
       "[1] \"j\" \"h\" \"a\" \"c\" \"m\""
      ]
     },
     "metadata": {},
     "output_type": "display_data"
    }
   ],
   "source": [
    "a[2:6]"
   ]
  },
  {
   "cell_type": "code",
   "execution_count": 20,
   "id": "c04d1ed7-4720-4ee4-bf72-c0c5e0bc8c15",
   "metadata": {},
   "outputs": [
    {
     "name": "stdout",
     "output_type": "stream",
     "text": [
      "[1] 2 3 4 5 6\n"
     ]
    }
   ],
   "source": [
    "a <- c(2:6)\n",
    "print(a)"
   ]
  },
  {
   "cell_type": "markdown",
   "id": "d3004670-fdda-4c5b-bc08-78d25d71bdd7",
   "metadata": {
    "slideshow": {
     "slide_type": "slide"
    }
   },
   "source": [
    "# Matrices"
   ]
  },
  {
   "cell_type": "code",
   "execution_count": 21,
   "id": "8e79118b-859c-48b3-adbc-e71ce830c3d2",
   "metadata": {},
   "outputs": [
    {
     "name": "stdout",
     "output_type": "stream",
     "text": [
      "     [,1] [,2] [,3] [,4]\n",
      "[1,]    1    6   11   16\n",
      "[2,]    2    7   12   17\n",
      "[3,]    3    8   13   18\n",
      "[4,]    4    9   14   19\n",
      "[5,]    5   10   15   20\n"
     ]
    }
   ],
   "source": [
    "y <- matrix(1:20, nrow=5, ncol=4)\n",
    "print(y)"
   ]
  },
  {
   "cell_type": "code",
   "execution_count": 22,
   "id": "23659763-20e6-4e45-84e1-b4bd31e14f5b",
   "metadata": {},
   "outputs": [
    {
     "data": {
      "text/html": [
       "<table>\n",
       "<thead><tr><th></th><th scope=col>C1</th><th scope=col>C2</th></tr></thead>\n",
       "<tbody>\n",
       "\t<tr><th scope=row>R1</th><td> 1</td><td>26</td></tr>\n",
       "\t<tr><th scope=row>R2</th><td>24</td><td>68</td></tr>\n",
       "</tbody>\n",
       "</table>\n"
      ],
      "text/latex": [
       "\\begin{tabular}{r|ll}\n",
       "  & C1 & C2\\\\\n",
       "\\hline\n",
       "\tR1 &  1 & 26\\\\\n",
       "\tR2 & 24 & 68\\\\\n",
       "\\end{tabular}\n"
      ],
      "text/markdown": [
       "\n",
       "| <!--/--> | C1 | C2 |\n",
       "|---|---|---|\n",
       "| R1 |  1 | 26 |\n",
       "| R2 | 24 | 68 |\n",
       "\n"
      ],
      "text/plain": [
       "   C1 C2\n",
       "R1  1 26\n",
       "R2 24 68"
      ]
     },
     "metadata": {},
     "output_type": "display_data"
    }
   ],
   "source": [
    "cells <- c(1,26,24,68)\n",
    "rnames <- c(\"R1\", \"R2\")\n",
    "cnames <- c(\"C1\", \"C2\")\n",
    "# Filled by rows\n",
    "mymatrix <- matrix(cells, nrow=2, ncol=2, byrow=TRUE, dimnames=list(rnames, cnames))\n",
    "mymatrix"
   ]
  },
  {
   "cell_type": "code",
   "execution_count": 23,
   "id": "67f20e85-ae93-4928-9314-f5a6152213ae",
   "metadata": {
    "slideshow": {
     "slide_type": "subslide"
    }
   },
   "outputs": [
    {
     "data": {
      "text/html": [
       "<table>\n",
       "<thead><tr><th></th><th scope=col>C1</th><th scope=col>C2</th></tr></thead>\n",
       "<tbody>\n",
       "\t<tr><th scope=row>R1</th><td> 1</td><td>24</td></tr>\n",
       "\t<tr><th scope=row>R2</th><td>26</td><td>68</td></tr>\n",
       "</tbody>\n",
       "</table>\n"
      ],
      "text/latex": [
       "\\begin{tabular}{r|ll}\n",
       "  & C1 & C2\\\\\n",
       "\\hline\n",
       "\tR1 &  1 & 24\\\\\n",
       "\tR2 & 26 & 68\\\\\n",
       "\\end{tabular}\n"
      ],
      "text/markdown": [
       "\n",
       "| <!--/--> | C1 | C2 |\n",
       "|---|---|---|\n",
       "| R1 |  1 | 24 |\n",
       "| R2 | 26 | 68 |\n",
       "\n"
      ],
      "text/plain": [
       "   C1 C2\n",
       "R1  1 24\n",
       "R2 26 68"
      ]
     },
     "metadata": {},
     "output_type": "display_data"
    }
   ],
   "source": [
    "# Filled by columns\n",
    "mymatrix <- matrix(cells, nrow=2, ncol=2, byrow=FALSE,dimnames=list(rnames, cnames))\n",
    "mymatrix"
   ]
  },
  {
   "cell_type": "code",
   "execution_count": 24,
   "id": "771f768b-3093-4638-ace2-13efa514579e",
   "metadata": {},
   "outputs": [
    {
     "data": {
      "text/html": [
       "<table>\n",
       "<tbody>\n",
       "\t<tr><td>1 </td><td>3 </td><td>5 </td><td>7 </td><td> 9</td></tr>\n",
       "\t<tr><td>2 </td><td>4 </td><td>6 </td><td>8 </td><td>10</td></tr>\n",
       "</tbody>\n",
       "</table>\n"
      ],
      "text/latex": [
       "\\begin{tabular}{lllll}\n",
       "\t 1  & 3  & 5  & 7  &  9\\\\\n",
       "\t 2  & 4  & 6  & 8  & 10\\\\\n",
       "\\end{tabular}\n"
      ],
      "text/markdown": [
       "\n",
       "| 1  | 3  | 5  | 7  |  9 |\n",
       "| 2  | 4  | 6  | 8  | 10 |\n",
       "\n"
      ],
      "text/plain": [
       "     [,1] [,2] [,3] [,4] [,5]\n",
       "[1,] 1    3    5    7     9  \n",
       "[2,] 2    4    6    8    10  "
      ]
     },
     "metadata": {},
     "output_type": "display_data"
    }
   ],
   "source": [
    "x <- matrix(1:10, nrow=2)\n",
    "x"
   ]
  },
  {
   "cell_type": "code",
   "execution_count": 25,
   "id": "4596dc3b-12dd-4506-a39b-7503ce124be7",
   "metadata": {
    "slideshow": {
     "slide_type": "subslide"
    }
   },
   "outputs": [
    {
     "data": {
      "text/html": [
       "<ol class=list-inline>\n",
       "\t<li>2</li>\n",
       "\t<li>4</li>\n",
       "\t<li>6</li>\n",
       "\t<li>8</li>\n",
       "\t<li>10</li>\n",
       "</ol>\n"
      ],
      "text/latex": [
       "\\begin{enumerate*}\n",
       "\\item 2\n",
       "\\item 4\n",
       "\\item 6\n",
       "\\item 8\n",
       "\\item 10\n",
       "\\end{enumerate*}\n"
      ],
      "text/markdown": [
       "1. 2\n",
       "2. 4\n",
       "3. 6\n",
       "4. 8\n",
       "5. 10\n",
       "\n",
       "\n"
      ],
      "text/plain": [
       "[1]  2  4  6  8 10"
      ]
     },
     "metadata": {},
     "output_type": "display_data"
    }
   ],
   "source": [
    "x[2,]"
   ]
  },
  {
   "cell_type": "code",
   "execution_count": 26,
   "id": "ac82c741-4987-4475-a84f-fae63e570b20",
   "metadata": {},
   "outputs": [
    {
     "data": {
      "text/html": [
       "<ol class=list-inline>\n",
       "\t<li>3</li>\n",
       "\t<li>4</li>\n",
       "</ol>\n"
      ],
      "text/latex": [
       "\\begin{enumerate*}\n",
       "\\item 3\n",
       "\\item 4\n",
       "\\end{enumerate*}\n"
      ],
      "text/markdown": [
       "1. 3\n",
       "2. 4\n",
       "\n",
       "\n"
      ],
      "text/plain": [
       "[1] 3 4"
      ]
     },
     "metadata": {},
     "output_type": "display_data"
    }
   ],
   "source": [
    "x[,2]"
   ]
  },
  {
   "cell_type": "code",
   "execution_count": 27,
   "id": "0a9ab8be-20b5-4f9e-abe6-c85c061cfb57",
   "metadata": {},
   "outputs": [
    {
     "data": {
      "text/html": [
       "7"
      ],
      "text/latex": [
       "7"
      ],
      "text/markdown": [
       "7"
      ],
      "text/plain": [
       "[1] 7"
      ]
     },
     "metadata": {},
     "output_type": "display_data"
    }
   ],
   "source": [
    "x[1,4]"
   ]
  },
  {
   "cell_type": "code",
   "execution_count": 28,
   "id": "5d2c83e1-e796-4e5a-9b2d-683790a37665",
   "metadata": {},
   "outputs": [
    {
     "data": {
      "text/html": [
       "<ol class=list-inline>\n",
       "\t<li>7</li>\n",
       "\t<li>9</li>\n",
       "</ol>\n"
      ],
      "text/latex": [
       "\\begin{enumerate*}\n",
       "\\item 7\n",
       "\\item 9\n",
       "\\end{enumerate*}\n"
      ],
      "text/markdown": [
       "1. 7\n",
       "2. 9\n",
       "\n",
       "\n"
      ],
      "text/plain": [
       "[1] 7 9"
      ]
     },
     "metadata": {},
     "output_type": "display_data"
    }
   ],
   "source": [
    "x[1, c(4,5)]"
   ]
  },
  {
   "cell_type": "markdown",
   "id": "5dae72ab-fd42-4b74-a899-bde0e31b0272",
   "metadata": {
    "slideshow": {
     "slide_type": "slide"
    }
   },
   "source": [
    "# Arrays\n",
    "Arrays are similar to matrices but can have more than two dimensions."
   ]
  },
  {
   "cell_type": "code",
   "execution_count": 29,
   "id": "522fddc8-23ba-4800-8156-57c584b83649",
   "metadata": {
    "slideshow": {
     "slide_type": "subslide"
    }
   },
   "outputs": [
    {
     "name": "stdout",
     "output_type": "stream",
     "text": [
      ", , C1\n",
      "\n",
      "   B1 B2 B3\n",
      "A1  1  3  5\n",
      "A2  2  4  6\n",
      "\n",
      ", , C2\n",
      "\n",
      "   B1 B2 B3\n",
      "A1  7  9 11\n",
      "A2  8 10 12\n",
      "\n",
      ", , C3\n",
      "\n",
      "   B1 B2 B3\n",
      "A1 13 15 17\n",
      "A2 14 16 18\n",
      "\n",
      ", , C4\n",
      "\n",
      "   B1 B2 B3\n",
      "A1 19 21 23\n",
      "A2 20 22 24\n",
      "\n"
     ]
    }
   ],
   "source": [
    "dim1 <- c(\"A1\", \"A2\")\n",
    "dim2 <- c(\"B1\", \"B2\", \"B3\")\n",
    "dim3 <- c(\"C1\", \"C2\", \"C3\", \"C4\")\n",
    "z <- array(1:24, c(2, 3, 4), dimnames=list(dim1, dim2, dim3))\n",
    "print(z)"
   ]
  },
  {
   "cell_type": "markdown",
   "id": "79f92328-7c43-4159-80ae-c5fb95fa04f8",
   "metadata": {
    "slideshow": {
     "slide_type": "slide"
    }
   },
   "source": [
    "# Dataframe\n",
    "More general than a matrix in that different columns can contain different modes of data (numeric, character, and so on)"
   ]
  },
  {
   "cell_type": "code",
   "execution_count": 30,
   "id": "95ea8047-257d-416d-8196-5c66d3704e35",
   "metadata": {},
   "outputs": [
    {
     "data": {
      "text/html": [
       "<table>\n",
       "<thead><tr><th scope=col>patientID</th><th scope=col>age</th><th scope=col>diabetes</th><th scope=col>status</th></tr></thead>\n",
       "<tbody>\n",
       "\t<tr><td>1        </td><td>25       </td><td>Type1    </td><td>Poor     </td></tr>\n",
       "\t<tr><td>2        </td><td>34       </td><td>Type2    </td><td>Improved </td></tr>\n",
       "\t<tr><td>3        </td><td>28       </td><td>Type1    </td><td>Excellent</td></tr>\n",
       "\t<tr><td>4        </td><td>52       </td><td>Type1    </td><td>Poor     </td></tr>\n",
       "</tbody>\n",
       "</table>\n"
      ],
      "text/latex": [
       "\\begin{tabular}{r|llll}\n",
       " patientID & age & diabetes & status\\\\\n",
       "\\hline\n",
       "\t 1         & 25        & Type1     & Poor     \\\\\n",
       "\t 2         & 34        & Type2     & Improved \\\\\n",
       "\t 3         & 28        & Type1     & Excellent\\\\\n",
       "\t 4         & 52        & Type1     & Poor     \\\\\n",
       "\\end{tabular}\n"
      ],
      "text/markdown": [
       "\n",
       "| patientID | age | diabetes | status |\n",
       "|---|---|---|---|\n",
       "| 1         | 25        | Type1     | Poor      |\n",
       "| 2         | 34        | Type2     | Improved  |\n",
       "| 3         | 28        | Type1     | Excellent |\n",
       "| 4         | 52        | Type1     | Poor      |\n",
       "\n"
      ],
      "text/plain": [
       "  patientID age diabetes status   \n",
       "1 1         25  Type1    Poor     \n",
       "2 2         34  Type2    Improved \n",
       "3 3         28  Type1    Excellent\n",
       "4 4         52  Type1    Poor     "
      ]
     },
     "metadata": {},
     "output_type": "display_data"
    }
   ],
   "source": [
    "patientID <- c(1, 2, 3, 4)\n",
    "age <- c(25, 34, 28, 52)\n",
    "diabetes <- c(\"Type1\", \"Type2\", \"Type1\", \"Type1\")\n",
    "status <- c(\"Poor\", \"Improved\", \"Excellent\", \"Poor\")\n",
    "patientdata <- data.frame(patientID, age, diabetes, status)\n",
    "patientdata"
   ]
  },
  {
   "cell_type": "code",
   "execution_count": 31,
   "id": "fc27b375-2f09-484e-a9d6-0117bfaf0088",
   "metadata": {},
   "outputs": [
    {
     "data": {
      "text/html": [
       "<table>\n",
       "<thead><tr><th scope=col>patientID</th><th scope=col>age</th></tr></thead>\n",
       "<tbody>\n",
       "\t<tr><td>1 </td><td>25</td></tr>\n",
       "\t<tr><td>2 </td><td>34</td></tr>\n",
       "\t<tr><td>3 </td><td>28</td></tr>\n",
       "\t<tr><td>4 </td><td>52</td></tr>\n",
       "</tbody>\n",
       "</table>\n"
      ],
      "text/latex": [
       "\\begin{tabular}{r|ll}\n",
       " patientID & age\\\\\n",
       "\\hline\n",
       "\t 1  & 25\\\\\n",
       "\t 2  & 34\\\\\n",
       "\t 3  & 28\\\\\n",
       "\t 4  & 52\\\\\n",
       "\\end{tabular}\n"
      ],
      "text/markdown": [
       "\n",
       "| patientID | age |\n",
       "|---|---|\n",
       "| 1  | 25 |\n",
       "| 2  | 34 |\n",
       "| 3  | 28 |\n",
       "| 4  | 52 |\n",
       "\n"
      ],
      "text/plain": [
       "  patientID age\n",
       "1 1         25 \n",
       "2 2         34 \n",
       "3 3         28 \n",
       "4 4         52 "
      ]
     },
     "metadata": {},
     "output_type": "display_data"
    }
   ],
   "source": [
    "patientdata[1:2]"
   ]
  },
  {
   "cell_type": "code",
   "execution_count": 32,
   "id": "62e7b5f2-00ad-4744-baa8-1472dacefcac",
   "metadata": {
    "slideshow": {
     "slide_type": "subslide"
    }
   },
   "outputs": [
    {
     "data": {
      "text/html": [
       "<table>\n",
       "<thead><tr><th scope=col>patientID</th><th scope=col>age</th><th scope=col>diabetes</th><th scope=col>status</th></tr></thead>\n",
       "<tbody>\n",
       "\t<tr><td>1        </td><td>25       </td><td>Type1    </td><td>Poor     </td></tr>\n",
       "\t<tr><td>2        </td><td>34       </td><td>Type2    </td><td>Improved </td></tr>\n",
       "\t<tr><td>3        </td><td>28       </td><td>Type1    </td><td>Excellent</td></tr>\n",
       "\t<tr><td>4        </td><td>52       </td><td>Type1    </td><td>Poor     </td></tr>\n",
       "</tbody>\n",
       "</table>\n"
      ],
      "text/latex": [
       "\\begin{tabular}{r|llll}\n",
       " patientID & age & diabetes & status\\\\\n",
       "\\hline\n",
       "\t 1         & 25        & Type1     & Poor     \\\\\n",
       "\t 2         & 34        & Type2     & Improved \\\\\n",
       "\t 3         & 28        & Type1     & Excellent\\\\\n",
       "\t 4         & 52        & Type1     & Poor     \\\\\n",
       "\\end{tabular}\n"
      ],
      "text/markdown": [
       "\n",
       "| patientID | age | diabetes | status |\n",
       "|---|---|---|---|\n",
       "| 1         | 25        | Type1     | Poor      |\n",
       "| 2         | 34        | Type2     | Improved  |\n",
       "| 3         | 28        | Type1     | Excellent |\n",
       "| 4         | 52        | Type1     | Poor      |\n",
       "\n"
      ],
      "text/plain": [
       "  patientID age diabetes status   \n",
       "1 1         25  Type1    Poor     \n",
       "2 2         34  Type2    Improved \n",
       "3 3         28  Type1    Excellent\n",
       "4 4         52  Type1    Poor     "
      ]
     },
     "metadata": {},
     "output_type": "display_data"
    }
   ],
   "source": [
    "patientdata"
   ]
  },
  {
   "cell_type": "code",
   "execution_count": 33,
   "id": "ca9bc919-d126-4437-bba0-a4d59790554b",
   "metadata": {},
   "outputs": [
    {
     "data": {
      "text/html": [
       "<table>\n",
       "<thead><tr><th scope=col>diabetes</th><th scope=col>status</th></tr></thead>\n",
       "<tbody>\n",
       "\t<tr><td>Type1    </td><td>Poor     </td></tr>\n",
       "\t<tr><td>Type2    </td><td>Improved </td></tr>\n",
       "\t<tr><td>Type1    </td><td>Excellent</td></tr>\n",
       "\t<tr><td>Type1    </td><td>Poor     </td></tr>\n",
       "</tbody>\n",
       "</table>\n"
      ],
      "text/latex": [
       "\\begin{tabular}{r|ll}\n",
       " diabetes & status\\\\\n",
       "\\hline\n",
       "\t Type1     & Poor     \\\\\n",
       "\t Type2     & Improved \\\\\n",
       "\t Type1     & Excellent\\\\\n",
       "\t Type1     & Poor     \\\\\n",
       "\\end{tabular}\n"
      ],
      "text/markdown": [
       "\n",
       "| diabetes | status |\n",
       "|---|---|\n",
       "| Type1     | Poor      |\n",
       "| Type2     | Improved  |\n",
       "| Type1     | Excellent |\n",
       "| Type1     | Poor      |\n",
       "\n"
      ],
      "text/plain": [
       "  diabetes status   \n",
       "1 Type1    Poor     \n",
       "2 Type2    Improved \n",
       "3 Type1    Excellent\n",
       "4 Type1    Poor     "
      ]
     },
     "metadata": {},
     "output_type": "display_data"
    }
   ],
   "source": [
    "patientdata[c(\"diabetes\", \"status\")]"
   ]
  },
  {
   "cell_type": "code",
   "execution_count": 34,
   "id": "a82ff1b1-e829-4eee-8cc3-37272370bd96",
   "metadata": {
    "slideshow": {
     "slide_type": "subslide"
    }
   },
   "outputs": [
    {
     "data": {
      "text/html": [
       "<ol class=list-inline>\n",
       "\t<li>25</li>\n",
       "\t<li>34</li>\n",
       "\t<li>28</li>\n",
       "\t<li>52</li>\n",
       "</ol>\n"
      ],
      "text/latex": [
       "\\begin{enumerate*}\n",
       "\\item 25\n",
       "\\item 34\n",
       "\\item 28\n",
       "\\item 52\n",
       "\\end{enumerate*}\n"
      ],
      "text/markdown": [
       "1. 25\n",
       "2. 34\n",
       "3. 28\n",
       "4. 52\n",
       "\n",
       "\n"
      ],
      "text/plain": [
       "[1] 25 34 28 52"
      ]
     },
     "metadata": {},
     "output_type": "display_data"
    }
   ],
   "source": [
    "patientdata$age"
   ]
  },
  {
   "cell_type": "code",
   "execution_count": 35,
   "id": "e6003d09-8018-4d85-9b85-a9c726a930fb",
   "metadata": {},
   "outputs": [
    {
     "data": {
      "text/plain": [
       "       \n",
       "        Excellent Improved Poor\n",
       "  Type1         1        0    2\n",
       "  Type2         0        1    0"
      ]
     },
     "metadata": {},
     "output_type": "display_data"
    }
   ],
   "source": [
    "table(patientdata$diabetes, patientdata$status)"
   ]
  },
  {
   "cell_type": "markdown",
   "id": "8c423a21-097e-44fd-b5d5-22c470a65af8",
   "metadata": {
    "slideshow": {
     "slide_type": "slide"
    }
   },
   "source": [
    "# Some plots"
   ]
  },
  {
   "cell_type": "code",
   "execution_count": 36,
   "id": "123d0e33-15da-49aa-bfde-f14b06f371b5",
   "metadata": {},
   "outputs": [
    {
     "data": {
      "text/plain": [
       "   Min. 1st Qu.  Median    Mean 3rd Qu.    Max. \n",
       "   10.4    15.4    19.2    20.1    22.8    33.9 "
      ]
     },
     "metadata": {},
     "output_type": "display_data"
    }
   ],
   "source": [
    "summary(mtcars$mpg)"
   ]
  },
  {
   "cell_type": "code",
   "execution_count": 37,
   "id": "408b207f-8add-4d24-9c93-ad9abdce9070",
   "metadata": {
    "slideshow": {
     "slide_type": "subslide"
    }
   },
   "outputs": [
    {
     "data": {
      "image/png": "[encoded data removed]",
      "text/plain": [
       "plot without title"
      ]
     },
     "metadata": {},
     "output_type": "display_data"
    }
   ],
   "source": [
    "# automobile mileage (mpg), engine displacement (disp) and weight (wt)\n",
    "plot(mtcars$mpg, mtcars$disp)"
   ]
  },
  {
   "cell_type": "code",
   "execution_count": 38,
   "id": "62bb3dd4-1704-4b2c-b9f1-74fb88817cab",
   "metadata": {
    "slideshow": {
     "slide_type": "subslide"
    }
   },
   "outputs": [
    {
     "data": {
      "image/png": "[encoded data removed]",
      "text/plain": [
       "plot without title"
      ]
     },
     "metadata": {},
     "output_type": "display_data"
    }
   ],
   "source": [
    "plot(mtcars$mpg, mtcars$wt)"
   ]
  },
  {
   "cell_type": "markdown",
   "id": "5e426f03-798b-4ae5-b930-abb20f0189c0",
   "metadata": {
    "slideshow": {
     "slide_type": "subslide"
    }
   },
   "source": [
    "# Another options\n",
    "* The attach() function adds the data frame to the R search path\n",
    "* The detach() function removes the data frame from the search path.\n",
    "* The limitations with this approach are evident when more than one object can have the same name."
   ]
  },
  {
   "cell_type": "code",
   "execution_count": 39,
   "id": "3110b2f1-5dc7-429e-9bec-e4987baa6efb",
   "metadata": {
    "slideshow": {
     "slide_type": "subslide"
    }
   },
   "outputs": [
    {
     "data": {
      "image/png": "[encoded data removed]",
      "text/plain": [
       "plot without title"
      ]
     },
     "metadata": {},
     "output_type": "display_data"
    }
   ],
   "source": [
    "attach(mtcars); plot(mpg, disp); detach(mtcars)"
   ]
  },
  {
   "cell_type": "markdown",
   "id": "ecac29f8-342a-488b-ba5a-25013a1abd12",
   "metadata": {
    "slideshow": {
     "slide_type": "subslide"
    }
   },
   "source": [
    "An alternative approach is to use the with() function. You can write the previous example as"
   ]
  },
  {
   "cell_type": "code",
   "execution_count": 40,
   "id": "675e1237-d02b-48dc-b1a7-cd5476d86547",
   "metadata": {
    "slideshow": {
     "slide_type": "subslide"
    }
   },
   "outputs": [
    {
     "name": "stdout",
     "output_type": "stream",
     "text": [
      "   Min. 1st Qu.  Median    Mean 3rd Qu.    Max. \n",
      "   10.4    15.4    19.2    20.1    22.8    33.9 \n"
     ]
    },
    {
     "data": {
      "image/png": "[encoded data removed]",
      "text/plain": [
       "plot without title"
      ]
     },
     "metadata": {},
     "output_type": "display_data"
    }
   ],
   "source": [
    "with(mtcars, {print(summary(mpg)); plot(mpg, wt)})"
   ]
  },
  {
   "cell_type": "markdown",
   "id": "5ec15893-f6bb-494d-8730-6b6b87158808",
   "metadata": {
    "slideshow": {
     "slide_type": "subslide"
    }
   },
   "source": [
    "* In this case, the statements within the {} brackets are evaluated with reference to the mtcars data frame. You don’t have to worry about name conflicts.\n",
    "* The limitation of the with() function is that assignments exist only within the function brackets.\n",
    "* If you need to create objects that will exist outside of the with() construct, use the special assignment operator <<- instead of the standard one (<-)."
   ]
  },
  {
   "cell_type": "code",
   "execution_count": 41,
   "id": "a9109021-fb32-4fed-810b-856a1755725d",
   "metadata": {},
   "outputs": [
    {
     "ename": "ERROR",
     "evalue": "Error in eval(expr, envir, enclos): object 'nokeepstats' not found\n",
     "output_type": "error",
     "traceback": [
      "Error in eval(expr, envir, enclos): object 'nokeepstats' not found\nTraceback:\n"
     ]
    }
   ],
   "source": [
    "with(mtcars, {\n",
    "nokeepstats <- summary(mpg)\n",
    "keepstats <<- summary(mpg)\n",
    "})\n",
    "nokeepstats"
   ]
  },
  {
   "cell_type": "code",
   "execution_count": 42,
   "id": "99bcde8b-83bb-4eb8-9016-23cfe95c973f",
   "metadata": {},
   "outputs": [
    {
     "data": {
      "text/plain": [
       "   Min. 1st Qu.  Median    Mean 3rd Qu.    Max. \n",
       "   10.4    15.4    19.2    20.1    22.8    33.9 "
      ]
     },
     "metadata": {},
     "output_type": "display_data"
    }
   ],
   "source": [
    "keepstats"
   ]
  },
  {
   "cell_type": "markdown",
   "id": "6ebe9e17-3a0d-4844-9e19-147282712826",
   "metadata": {
    "slideshow": {
     "slide_type": "slide"
    }
   },
   "source": [
    "# CASE IDENTIFIERS\n",
    "In R, case identifiers can be specified with a rowname option in the data-frame function. For example, the statement"
   ]
  },
  {
   "cell_type": "code",
   "execution_count": 43,
   "id": "ac93285c-bd37-474e-a42d-25e15a82d0c5",
   "metadata": {},
   "outputs": [],
   "source": [
    "patientdata <- data.frame(patientID, age, diabetes,\n",
    "status, row.names=patientID)"
   ]
  },
  {
   "cell_type": "markdown",
   "id": "626f8cbf-61f6-4023-bd93-6bab69357f9a",
   "metadata": {},
   "source": [
    "specifies ```patientID``` as the variable to use in labeling cases on various printouts and graphs produced by R."
   ]
  },
  {
   "cell_type": "markdown",
   "id": "1dae4b20-7209-43e8-a1de-8ac3941ef468",
   "metadata": {
    "slideshow": {
     "slide_type": "slide"
    }
   },
   "source": [
    "# Factors\n",
    "The function factor() stores the categorical values as a vector of integers in the\n",
    "range ```[1… k]```, (where k is the number of unique values in the nominal variable) and\n",
    "an internal vector of character strings (the original values) mapped to these integers."
   ]
  },
  {
   "cell_type": "code",
   "execution_count": 44,
   "id": "eaeb05d1-8489-42bb-a4ac-0a350a8a0ab1",
   "metadata": {},
   "outputs": [],
   "source": [
    "status <- c(\"Poor\", \"Improved\", \"Excellent\", \"Poor\")"
   ]
  },
  {
   "cell_type": "code",
   "execution_count": 45,
   "id": "d371a707-7969-4783-9e6a-91c6a9bdbc2f",
   "metadata": {},
   "outputs": [
    {
     "data": {
      "text/html": [
       "<ol class=list-inline>\n",
       "\t<li>Poor</li>\n",
       "\t<li>Improved</li>\n",
       "\t<li>Excellent</li>\n",
       "\t<li>Poor</li>\n",
       "</ol>\n",
       "\n",
       "<details>\n",
       "\t<summary style=display:list-item;cursor:pointer>\n",
       "\t\t<strong>Levels</strong>:\n",
       "\t</summary>\n",
       "\t<ol class=list-inline>\n",
       "\t\t<li>'Poor'</li>\n",
       "\t\t<li>'Improved'</li>\n",
       "\t\t<li>'Excellent'</li>\n",
       "\t</ol>\n",
       "</details>"
      ],
      "text/latex": [
       "\\begin{enumerate*}\n",
       "\\item Poor\n",
       "\\item Improved\n",
       "\\item Excellent\n",
       "\\item Poor\n",
       "\\end{enumerate*}\n",
       "\n",
       "\\emph{Levels}: \\begin{enumerate*}\n",
       "\\item 'Poor'\n",
       "\\item 'Improved'\n",
       "\\item 'Excellent'\n",
       "\\end{enumerate*}\n"
      ],
      "text/markdown": [
       "1. Poor\n",
       "2. Improved\n",
       "3. Excellent\n",
       "4. Poor\n",
       "\n",
       "\n",
       "\n",
       "**Levels**: 1. 'Poor'\n",
       "2. 'Improved'\n",
       "3. 'Excellent'\n",
       "\n",
       "\n"
      ],
      "text/plain": [
       "[1] Poor      Improved  Excellent Poor     \n",
       "Levels: Poor < Improved < Excellent"
      ]
     },
     "metadata": {},
     "output_type": "display_data"
    }
   ],
   "source": [
    "status <- factor(status, order=TRUE,levels=c(\"Poor\", \"Improved\", \"Excellent\"))\n",
    "status"
   ]
  },
  {
   "cell_type": "markdown",
   "id": "df1c4838-22ad-4e55-9bd3-193a2587834f",
   "metadata": {
    "slideshow": {
     "slide_type": "subslide"
    }
   },
   "source": [
    "# Using Factors"
   ]
  },
  {
   "cell_type": "code",
   "execution_count": 46,
   "id": "dbf3a7d6-96fa-48a3-ac63-bfa327c7718d",
   "metadata": {},
   "outputs": [],
   "source": [
    "patientID <- c(1, 2, 3, 4)\n",
    "age <- c(25, 34, 28, 52)\n",
    "diabetes <- c(\"Type1\", \"Type2\", \"Type1\", \"Type1\")\n",
    "status <- c(\"Poor\", \"Improved\", \"Excellent\", \"Poor\")\n",
    "diabetes <- factor(diabetes)\n",
    "status <- factor(status, order=TRUE)\n",
    "patientdata <- data.frame(patientID, age, diabetes, status)"
   ]
  },
  {
   "cell_type": "code",
   "execution_count": 47,
   "id": "e06d2358-584b-4fe2-91c1-205942122f85",
   "metadata": {
    "slideshow": {
     "slide_type": "subslide"
    }
   },
   "outputs": [
    {
     "name": "stdout",
     "output_type": "stream",
     "text": [
      "'data.frame':\t4 obs. of  4 variables:\n",
      " $ patientID: num  1 2 3 4\n",
      " $ age      : num  25 34 28 52\n",
      " $ diabetes : Factor w/ 2 levels \"Type1\",\"Type2\": 1 2 1 1\n",
      " $ status   : Ord.factor w/ 3 levels \"Excellent\"<\"Improved\"<..: 3 2 1 3\n"
     ]
    }
   ],
   "source": [
    "str(patientdata)"
   ]
  },
  {
   "cell_type": "code",
   "execution_count": 48,
   "id": "238a77fe-b28e-4735-ac3a-956598a5f9f2",
   "metadata": {},
   "outputs": [
    {
     "data": {
      "text/plain": [
       "   patientID         age        diabetes       status \n",
       " Min.   :1.00   Min.   :25.0   Type1:3   Excellent:1  \n",
       " 1st Qu.:1.75   1st Qu.:27.2   Type2:1   Improved :1  \n",
       " Median :2.50   Median :31.0             Poor     :2  \n",
       " Mean   :2.50   Mean   :34.8                          \n",
       " 3rd Qu.:3.25   3rd Qu.:38.5                          \n",
       " Max.   :4.00   Max.   :52.0                          "
      ]
     },
     "metadata": {},
     "output_type": "display_data"
    }
   ],
   "source": [
    "summary(patientdata)"
   ]
  },
  {
   "cell_type": "markdown",
   "id": "692b0a1a-ccc4-4383-bdd0-3bca10d4ca9c",
   "metadata": {
    "slideshow": {
     "slide_type": "slide"
    }
   },
   "source": [
    "# Lists\n",
    "Ordered collection of objects (components). A list allows you to gather a variety of (possibly unrelated) objects under one name."
   ]
  },
  {
   "cell_type": "code",
   "execution_count": 49,
   "id": "876b148b-2b10-43cc-baf4-ee1970fda07d",
   "metadata": {
    "slideshow": {
     "slide_type": "subslide"
    }
   },
   "outputs": [
    {
     "name": "stdout",
     "output_type": "stream",
     "text": [
      "$title\n",
      "[1] \"My First List\"\n",
      "\n",
      "$ages\n",
      "[1] 25 26 18 39\n",
      "\n",
      "[[3]]\n",
      "     [,1] [,2]\n",
      "[1,]    1    6\n",
      "[2,]    2    7\n",
      "[3,]    3    8\n",
      "[4,]    4    9\n",
      "[5,]    5   10\n",
      "\n",
      "[[4]]\n",
      "[1] \"one\"   \"two\"   \"three\"\n",
      "\n"
     ]
    }
   ],
   "source": [
    "g <- \"My First List\"\n",
    "h <- c(25, 26, 18, 39)\n",
    "j <- matrix(1:10, nrow=5)\n",
    "k <- c(\"one\", \"two\", \"three\")\n",
    "mylist <- list(title=g, ages=h, j, k)\n",
    "print(mylist)"
   ]
  },
  {
   "cell_type": "code",
   "execution_count": 50,
   "id": "0f1e08bf-3ba2-46db-9a66-fd003bad44fe",
   "metadata": {
    "slideshow": {
     "slide_type": "subslide"
    }
   },
   "outputs": [
    {
     "data": {
      "text/html": [
       "<ol class=list-inline>\n",
       "\t<li>25</li>\n",
       "\t<li>26</li>\n",
       "\t<li>18</li>\n",
       "\t<li>39</li>\n",
       "</ol>\n"
      ],
      "text/latex": [
       "\\begin{enumerate*}\n",
       "\\item 25\n",
       "\\item 26\n",
       "\\item 18\n",
       "\\item 39\n",
       "\\end{enumerate*}\n"
      ],
      "text/markdown": [
       "1. 25\n",
       "2. 26\n",
       "3. 18\n",
       "4. 39\n",
       "\n",
       "\n"
      ],
      "text/plain": [
       "[1] 25 26 18 39"
      ]
     },
     "metadata": {},
     "output_type": "display_data"
    }
   ],
   "source": [
    "mylist[[2]]"
   ]
  },
  {
   "cell_type": "code",
   "execution_count": 36,
   "id": "6fb79fe0-a34b-46aa-9751-b5db4f8b0ea9",
   "metadata": {},
   "outputs": [
    {
     "data": {
      "text/html": [
       "<ol class=list-inline>\n",
       "\t<li>25</li>\n",
       "\t<li>26</li>\n",
       "\t<li>18</li>\n",
       "\t<li>39</li>\n",
       "</ol>\n"
      ],
      "text/latex": [
       "\\begin{enumerate*}\n",
       "\\item 25\n",
       "\\item 26\n",
       "\\item 18\n",
       "\\item 39\n",
       "\\end{enumerate*}\n"
      ],
      "text/markdown": [
       "1. 25\n",
       "2. 26\n",
       "3. 18\n",
       "4. 39\n",
       "\n",
       "\n"
      ],
      "text/plain": [
       "[1] 25 26 18 39"
      ]
     },
     "metadata": {},
     "output_type": "display_data"
    }
   ],
   "source": [
    "mylist[[\"ages\"]]"
   ]
  },
  {
   "cell_type": "markdown",
   "id": "cec34a58-4c12-4742-8bac-eed48ab598d3",
   "metadata": {
    "slideshow": {
     "slide_type": "slide"
    }
   },
   "source": [
    "# Data Input\n",
    "edit() allows you to use keyboard to input data but doesn't work on Jupyter"
   ]
  },
  {
   "cell_type": "code",
   "execution_count": 2,
   "id": "ce4ddcee-ef0c-4047-9a79-9d9bb5537bd3",
   "metadata": {},
   "outputs": [],
   "source": [
    "mydatatxt <- \"\n",
    "age gender weight\n",
    "25 m 166\n",
    "30 f 115\n",
    "18 f 120\n",
    "\""
   ]
  },
  {
   "cell_type": "code",
   "execution_count": 3,
   "id": "4615f0d2-cea0-4b7e-9f73-2ec5f4682ced",
   "metadata": {},
   "outputs": [
    {
     "data": {
      "text/html": [
       "<table class=\"dataframe\">\n",
       "<caption>A data.frame: 3 × 3</caption>\n",
       "<thead>\n",
       "\t<tr><th scope=col>age</th><th scope=col>gender</th><th scope=col>weight</th></tr>\n",
       "\t<tr><th scope=col>&lt;int&gt;</th><th scope=col>&lt;chr&gt;</th><th scope=col>&lt;int&gt;</th></tr>\n",
       "</thead>\n",
       "<tbody>\n",
       "\t<tr><td>25</td><td>m</td><td>166</td></tr>\n",
       "\t<tr><td>30</td><td>f</td><td>115</td></tr>\n",
       "\t<tr><td>18</td><td>f</td><td>120</td></tr>\n",
       "</tbody>\n",
       "</table>\n"
      ],
      "text/latex": [
       "A data.frame: 3 × 3\n",
       "\\begin{tabular}{lll}\n",
       " age & gender & weight\\\\\n",
       " <int> & <chr> & <int>\\\\\n",
       "\\hline\n",
       "\t 25 & m & 166\\\\\n",
       "\t 30 & f & 115\\\\\n",
       "\t 18 & f & 120\\\\\n",
       "\\end{tabular}\n"
      ],
      "text/markdown": [
       "\n",
       "A data.frame: 3 × 3\n",
       "\n",
       "| age &lt;int&gt; | gender &lt;chr&gt; | weight &lt;int&gt; |\n",
       "|---|---|---|\n",
       "| 25 | m | 166 |\n",
       "| 30 | f | 115 |\n",
       "| 18 | f | 120 |\n",
       "\n"
      ],
      "text/plain": [
       "  age gender weight\n",
       "1 25  m      166   \n",
       "2 30  f      115   \n",
       "3 18  f      120   "
      ]
     },
     "metadata": {},
     "output_type": "display_data"
    }
   ],
   "source": [
    "mydata <- read.table(header=TRUE, text=mydatatxt)\n",
    "mydata"
   ]
  },
  {
   "cell_type": "markdown",
   "id": "d7ca9a2e-8dc9-4529-bcbe-cde9a8bbd30e",
   "metadata": {
    "slideshow": {
     "slide_type": "subslide"
    }
   },
   "source": [
    "# Importing data from a delimited text file\n",
    "```mydataframe <- read.table(file, options)```"
   ]
  },
  {
   "cell_type": "code",
   "execution_count": 39,
   "id": "4659a7dd-c0bd-4963-92e1-928a1278d73f",
   "metadata": {},
   "outputs": [
    {
     "data": {
      "text/html": [
       "<table>\n",
       "<thead><tr><th></th><th scope=col>First</th><th scope=col>Last</th><th scope=col>Math</th><th scope=col>Science</th><th scope=col>Social.Studies</th></tr></thead>\n",
       "<tbody>\n",
       "\t<tr><th scope=row>11</th><td>Bob          </td><td>Smith        </td><td>90           </td><td>80           </td><td>67           </td></tr>\n",
       "\t<tr><th scope=row>12</th><td>Jane         </td><td>Weary        </td><td>75           </td><td>NA           </td><td>80           </td></tr>\n",
       "\t<tr><th scope=row>10</th><td>Dan          </td><td>Thornton, III</td><td>65           </td><td>75           </td><td>70           </td></tr>\n",
       "\t<tr><th scope=row>40</th><td>Mary         </td><td>O'Leary      </td><td>90           </td><td>95           </td><td>92           </td></tr>\n",
       "</tbody>\n",
       "</table>\n"
      ],
      "text/latex": [
       "\\begin{tabular}{r|lllll}\n",
       "  & First & Last & Math & Science & Social.Studies\\\\\n",
       "\\hline\n",
       "\t11 & Bob           & Smith         & 90            & 80            & 67           \\\\\n",
       "\t12 & Jane          & Weary         & 75            & NA            & 80           \\\\\n",
       "\t10 & Dan           & Thornton, III & 65            & 75            & 70           \\\\\n",
       "\t40 & Mary          & O'Leary       & 90            & 95            & 92           \\\\\n",
       "\\end{tabular}\n"
      ],
      "text/markdown": [
       "\n",
       "| <!--/--> | First | Last | Math | Science | Social.Studies |\n",
       "|---|---|---|---|---|---|\n",
       "| 11 | Bob           | Smith         | 90            | 80            | 67            |\n",
       "| 12 | Jane          | Weary         | 75            | NA            | 80            |\n",
       "| 10 | Dan           | Thornton, III | 65            | 75            | 70            |\n",
       "| 40 | Mary          | O'Leary       | 90            | 95            | 92            |\n",
       "\n"
      ],
      "text/plain": [
       "   First Last          Math Science Social.Studies\n",
       "11 Bob   Smith         90   80      67            \n",
       "12 Jane  Weary         75   NA      80            \n",
       "10 Dan   Thornton, III 65   75      70            \n",
       "40 Mary  O'Leary       90   95      92            "
      ]
     },
     "metadata": {},
     "output_type": "display_data"
    }
   ],
   "source": [
    "grades <- read.table(\"studentgrades.csv\", header=TRUE,row.names=\"StudentID\", sep=\",\")\n",
    "grades"
   ]
  },
  {
   "cell_type": "code",
   "execution_count": 40,
   "id": "332b8c72-2832-412a-91c7-eea3b8dcd9ff",
   "metadata": {},
   "outputs": [
    {
     "name": "stdout",
     "output_type": "stream",
     "text": [
      "'data.frame':\t4 obs. of  5 variables:\n",
      " $ First         : Factor w/ 4 levels \"Bob\",\"Dan\",\"Jane\",..: 1 3 2 4\n",
      " $ Last          : Factor w/ 4 levels \"O'Leary\",\"Smith\",..: 2 4 3 1\n",
      " $ Math          : int  90 75 65 90\n",
      " $ Science       : int  80 NA 75 95\n",
      " $ Social.Studies: int  67 80 70 92\n"
     ]
    }
   ],
   "source": [
    "str(grades)"
   ]
  },
  {
   "cell_type": "code",
   "execution_count": 41,
   "id": "14a40933-f842-40c9-b438-0af120b5d224",
   "metadata": {
    "slideshow": {
     "slide_type": "subslide"
    }
   },
   "outputs": [],
   "source": [
    "grades <- read.table(\"studentgrades.csv\", header=TRUE,\n",
    "row.names=\"StudentID\", sep=\",\",\n",
    "colClasses=c(\"character\", \"character\", \"character\",\n",
    "\"numeric\", \"numeric\", \"numeric\"))"
   ]
  },
  {
   "cell_type": "code",
   "execution_count": 42,
   "id": "13b80e1d-5b44-4bc6-a1a5-ac6d1e980f55",
   "metadata": {},
   "outputs": [
    {
     "name": "stdout",
     "output_type": "stream",
     "text": [
      "'data.frame':\t4 obs. of  5 variables:\n",
      " $ First         : chr  \"Bob\" \"Jane\" \"Dan\" \"Mary\"\n",
      " $ Last          : chr  \"Smith\" \"Weary\" \"Thornton, III\" \"O'Leary\"\n",
      " $ Math          : num  90 75 65 90\n",
      " $ Science       : num  80 NA 75 95\n",
      " $ Social.Studies: num  67 80 70 92\n"
     ]
    }
   ],
   "source": [
    "str(grades)"
   ]
  },
  {
   "cell_type": "markdown",
   "id": "41370b9b-aa33-45ae-9c7b-91a71214f22d",
   "metadata": {
    "slideshow": {
     "slide_type": "subslide"
    }
   },
   "source": [
    "# Import Data from Excel\n",
    "```R\n",
    "library(xlsx)\n",
    "workbook <- \"c:/myworkbook.xlsx\"\n",
    "mydataframe <- read.xlsx(workbook, 1)\n",
    "```"
   ]
  },
  {
   "cell_type": "markdown",
   "id": "30974914-d3e1-4908-9d5e-855ff79177ee",
   "metadata": {
    "slideshow": {
     "slide_type": "slide"
    }
   },
   "source": [
    "# Data Management\n",
    "![](manage_data.png)"
   ]
  },
  {
   "cell_type": "code",
   "execution_count": 43,
   "id": "128ea268-0f37-4de7-8a99-df60b168660b",
   "metadata": {},
   "outputs": [],
   "source": [
    "manager <- c(1, 2, 3, 4, 5)\n",
    "date <- c(\"10/24/08\", \"10/28/08\", \"10/1/08\", \"10/12/08\", \"5/1/09\")\n",
    "country <- c(\"US\", \"US\", \"UK\", \"UK\", \"UK\")\n",
    "gender <- c(\"M\", \"F\", \"F\", \"M\", \"F\")\n",
    "age <- c(32, 45, 25, 39, 99)\n",
    "q1 <- c(5, 3, 3, 3, 2)\n",
    "q2 <- c(4, 5, 5, 3, 2)\n",
    "q3 <- c(5, 2, 5, 4, 1)\n",
    "q4 <- c(5, 5, 5, NA, 2)\n",
    "q5 <- c(5, 5, 2, NA, 1)\n",
    "leadership <- data.frame(manager, date, country, gender, age,\n",
    "q1, q2, q3, q4, q5, stringsAsFactors=FALSE)"
   ]
  },
  {
   "cell_type": "code",
   "execution_count": 44,
   "id": "734523a5-d5d5-4d69-ba8d-3fb5a1d56e80",
   "metadata": {
    "slideshow": {
     "slide_type": "subslide"
    }
   },
   "outputs": [
    {
     "data": {
      "text/html": [
       "<table>\n",
       "<thead><tr><th scope=col>manager</th><th scope=col>date</th><th scope=col>country</th><th scope=col>gender</th><th scope=col>age</th><th scope=col>q1</th><th scope=col>q2</th><th scope=col>q3</th><th scope=col>q4</th><th scope=col>q5</th></tr></thead>\n",
       "<tbody>\n",
       "\t<tr><td>1       </td><td>10/24/08</td><td>US      </td><td>M       </td><td>32      </td><td>5       </td><td>4       </td><td>5       </td><td> 5      </td><td> 5      </td></tr>\n",
       "\t<tr><td>2       </td><td>10/28/08</td><td>US      </td><td>F       </td><td>45      </td><td>3       </td><td>5       </td><td>2       </td><td> 5      </td><td> 5      </td></tr>\n",
       "\t<tr><td>3       </td><td>10/1/08 </td><td>UK      </td><td>F       </td><td>25      </td><td>3       </td><td>5       </td><td>5       </td><td> 5      </td><td> 2      </td></tr>\n",
       "\t<tr><td>4       </td><td>10/12/08</td><td>UK      </td><td>M       </td><td>39      </td><td>3       </td><td>3       </td><td>4       </td><td>NA      </td><td>NA      </td></tr>\n",
       "\t<tr><td>5       </td><td>5/1/09  </td><td>UK      </td><td>F       </td><td>99      </td><td>2       </td><td>2       </td><td>1       </td><td> 2      </td><td> 1      </td></tr>\n",
       "</tbody>\n",
       "</table>\n"
      ],
      "text/latex": [
       "\\begin{tabular}{r|llllllllll}\n",
       " manager & date & country & gender & age & q1 & q2 & q3 & q4 & q5\\\\\n",
       "\\hline\n",
       "\t 1        & 10/24/08 & US       & M        & 32       & 5        & 4        & 5        &  5       &  5      \\\\\n",
       "\t 2        & 10/28/08 & US       & F        & 45       & 3        & 5        & 2        &  5       &  5      \\\\\n",
       "\t 3        & 10/1/08  & UK       & F        & 25       & 3        & 5        & 5        &  5       &  2      \\\\\n",
       "\t 4        & 10/12/08 & UK       & M        & 39       & 3        & 3        & 4        & NA       & NA      \\\\\n",
       "\t 5        & 5/1/09   & UK       & F        & 99       & 2        & 2        & 1        &  2       &  1      \\\\\n",
       "\\end{tabular}\n"
      ],
      "text/markdown": [
       "\n",
       "| manager | date | country | gender | age | q1 | q2 | q3 | q4 | q5 |\n",
       "|---|---|---|---|---|---|---|---|---|---|\n",
       "| 1        | 10/24/08 | US       | M        | 32       | 5        | 4        | 5        |  5       |  5       |\n",
       "| 2        | 10/28/08 | US       | F        | 45       | 3        | 5        | 2        |  5       |  5       |\n",
       "| 3        | 10/1/08  | UK       | F        | 25       | 3        | 5        | 5        |  5       |  2       |\n",
       "| 4        | 10/12/08 | UK       | M        | 39       | 3        | 3        | 4        | NA       | NA       |\n",
       "| 5        | 5/1/09   | UK       | F        | 99       | 2        | 2        | 1        |  2       |  1       |\n",
       "\n"
      ],
      "text/plain": [
       "  manager date     country gender age q1 q2 q3 q4 q5\n",
       "1 1       10/24/08 US      M      32  5  4  5   5  5\n",
       "2 2       10/28/08 US      F      45  3  5  2   5  5\n",
       "3 3       10/1/08  UK      F      25  3  5  5   5  2\n",
       "4 4       10/12/08 UK      M      39  3  3  4  NA NA\n",
       "5 5       5/1/09   UK      F      99  2  2  1   2  1"
      ]
     },
     "metadata": {},
     "output_type": "display_data"
    }
   ],
   "source": [
    "leadership"
   ]
  },
  {
   "cell_type": "markdown",
   "id": "b028a51e-abea-4c42-ad01-8fbb6aba8286",
   "metadata": {
    "slideshow": {
     "slide_type": "subslide"
    }
   },
   "source": [
    "* The five ratings (q1 to q5) need to be combined, yielding a single mean deferential score from each manager.\n",
    "* In surveys, respondents often skip questions. For example, the boss rating manager 4 skipped questions 4 and 5. You need a method of handling incomplete data. You also need to recode values like 99 for age to missing.\n",
    "* There may be hundreds of variables in a dataset, but you may only be interested in a few. To simplify matters, you’ll want to create a new dataset with only the variables of interest.\n",
    "* Past research suggests that leadership behavior may change as a function of the manager’s age. To examine this, you may want to recode the current values of age into a new categorical age grouping (for example, young, middle-aged, elder).\n",
    "* Leadership behavior may change over time. You might want to focus on deferential behavior during the recent global financial crisis. To do so, you may want to limit the study to data gathered during a specific period of time (say, January 1, 2009 to December 31, 2009)."
   ]
  },
  {
   "cell_type": "code",
   "execution_count": 45,
   "id": "19c31780-d060-4f94-930e-6580a9f462a8",
   "metadata": {
    "slideshow": {
     "slide_type": "subslide"
    }
   },
   "outputs": [],
   "source": [
    "leadership$age[leadership$age == 99] <- NA"
   ]
  },
  {
   "cell_type": "code",
   "execution_count": 46,
   "id": "e5e5244e-8ebd-4c08-9be5-97816a545e36",
   "metadata": {},
   "outputs": [
    {
     "data": {
      "text/html": [
       "<table>\n",
       "<thead><tr><th scope=col>manager</th><th scope=col>date</th><th scope=col>country</th><th scope=col>gender</th><th scope=col>age</th><th scope=col>q1</th><th scope=col>q2</th><th scope=col>q3</th><th scope=col>q4</th><th scope=col>q5</th></tr></thead>\n",
       "<tbody>\n",
       "\t<tr><td>1       </td><td>10/24/08</td><td>US      </td><td>M       </td><td>32      </td><td>5       </td><td>4       </td><td>5       </td><td> 5      </td><td> 5      </td></tr>\n",
       "\t<tr><td>2       </td><td>10/28/08</td><td>US      </td><td>F       </td><td>45      </td><td>3       </td><td>5       </td><td>2       </td><td> 5      </td><td> 5      </td></tr>\n",
       "\t<tr><td>3       </td><td>10/1/08 </td><td>UK      </td><td>F       </td><td>25      </td><td>3       </td><td>5       </td><td>5       </td><td> 5      </td><td> 2      </td></tr>\n",
       "\t<tr><td>4       </td><td>10/12/08</td><td>UK      </td><td>M       </td><td>39      </td><td>3       </td><td>3       </td><td>4       </td><td>NA      </td><td>NA      </td></tr>\n",
       "\t<tr><td>5       </td><td>5/1/09  </td><td>UK      </td><td>F       </td><td>NA      </td><td>2       </td><td>2       </td><td>1       </td><td> 2      </td><td> 1      </td></tr>\n",
       "</tbody>\n",
       "</table>\n"
      ],
      "text/latex": [
       "\\begin{tabular}{r|llllllllll}\n",
       " manager & date & country & gender & age & q1 & q2 & q3 & q4 & q5\\\\\n",
       "\\hline\n",
       "\t 1        & 10/24/08 & US       & M        & 32       & 5        & 4        & 5        &  5       &  5      \\\\\n",
       "\t 2        & 10/28/08 & US       & F        & 45       & 3        & 5        & 2        &  5       &  5      \\\\\n",
       "\t 3        & 10/1/08  & UK       & F        & 25       & 3        & 5        & 5        &  5       &  2      \\\\\n",
       "\t 4        & 10/12/08 & UK       & M        & 39       & 3        & 3        & 4        & NA       & NA      \\\\\n",
       "\t 5        & 5/1/09   & UK       & F        & NA       & 2        & 2        & 1        &  2       &  1      \\\\\n",
       "\\end{tabular}\n"
      ],
      "text/markdown": [
       "\n",
       "| manager | date | country | gender | age | q1 | q2 | q3 | q4 | q5 |\n",
       "|---|---|---|---|---|---|---|---|---|---|\n",
       "| 1        | 10/24/08 | US       | M        | 32       | 5        | 4        | 5        |  5       |  5       |\n",
       "| 2        | 10/28/08 | US       | F        | 45       | 3        | 5        | 2        |  5       |  5       |\n",
       "| 3        | 10/1/08  | UK       | F        | 25       | 3        | 5        | 5        |  5       |  2       |\n",
       "| 4        | 10/12/08 | UK       | M        | 39       | 3        | 3        | 4        | NA       | NA       |\n",
       "| 5        | 5/1/09   | UK       | F        | NA       | 2        | 2        | 1        |  2       |  1       |\n",
       "\n"
      ],
      "text/plain": [
       "  manager date     country gender age q1 q2 q3 q4 q5\n",
       "1 1       10/24/08 US      M      32  5  4  5   5  5\n",
       "2 2       10/28/08 US      F      45  3  5  2   5  5\n",
       "3 3       10/1/08  UK      F      25  3  5  5   5  2\n",
       "4 4       10/12/08 UK      M      39  3  3  4  NA NA\n",
       "5 5       5/1/09   UK      F      NA  2  2  1   2  1"
      ]
     },
     "metadata": {},
     "output_type": "display_data"
    }
   ],
   "source": [
    "leadership"
   ]
  },
  {
   "cell_type": "code",
   "execution_count": 47,
   "id": "33296881-ad80-4d51-9022-63f8f5d5c97e",
   "metadata": {
    "slideshow": {
     "slide_type": "subslide"
    }
   },
   "outputs": [],
   "source": [
    "# Create an Age Category Variable\n",
    "leadership$agecat[leadership$age > 75] <- \"Elder\"\n",
    "leadership$agecat[leadership$age >= 55 &\n",
    "leadership$age <= 75] <- \"Middle Aged\"\n",
    "leadership$agecat[leadership$age < 55] <- \"Young\""
   ]
  },
  {
   "cell_type": "code",
   "execution_count": 48,
   "id": "92c4ffff-b050-48cc-bc52-3d1a4835a4d0",
   "metadata": {},
   "outputs": [
    {
     "data": {
      "text/html": [
       "<table>\n",
       "<thead><tr><th scope=col>manager</th><th scope=col>date</th><th scope=col>country</th><th scope=col>gender</th><th scope=col>age</th><th scope=col>q1</th><th scope=col>q2</th><th scope=col>q3</th><th scope=col>q4</th><th scope=col>q5</th><th scope=col>agecat</th></tr></thead>\n",
       "<tbody>\n",
       "\t<tr><td>1       </td><td>10/24/08</td><td>US      </td><td>M       </td><td>32      </td><td>5       </td><td>4       </td><td>5       </td><td> 5      </td><td> 5      </td><td>Young   </td></tr>\n",
       "\t<tr><td>2       </td><td>10/28/08</td><td>US      </td><td>F       </td><td>45      </td><td>3       </td><td>5       </td><td>2       </td><td> 5      </td><td> 5      </td><td>Young   </td></tr>\n",
       "\t<tr><td>3       </td><td>10/1/08 </td><td>UK      </td><td>F       </td><td>25      </td><td>3       </td><td>5       </td><td>5       </td><td> 5      </td><td> 2      </td><td>Young   </td></tr>\n",
       "\t<tr><td>4       </td><td>10/12/08</td><td>UK      </td><td>M       </td><td>39      </td><td>3       </td><td>3       </td><td>4       </td><td>NA      </td><td>NA      </td><td>Young   </td></tr>\n",
       "\t<tr><td>5       </td><td>5/1/09  </td><td>UK      </td><td>F       </td><td>NA      </td><td>2       </td><td>2       </td><td>1       </td><td> 2      </td><td> 1      </td><td>NA      </td></tr>\n",
       "</tbody>\n",
       "</table>\n"
      ],
      "text/latex": [
       "\\begin{tabular}{r|lllllllllll}\n",
       " manager & date & country & gender & age & q1 & q2 & q3 & q4 & q5 & agecat\\\\\n",
       "\\hline\n",
       "\t 1        & 10/24/08 & US       & M        & 32       & 5        & 4        & 5        &  5       &  5       & Young   \\\\\n",
       "\t 2        & 10/28/08 & US       & F        & 45       & 3        & 5        & 2        &  5       &  5       & Young   \\\\\n",
       "\t 3        & 10/1/08  & UK       & F        & 25       & 3        & 5        & 5        &  5       &  2       & Young   \\\\\n",
       "\t 4        & 10/12/08 & UK       & M        & 39       & 3        & 3        & 4        & NA       & NA       & Young   \\\\\n",
       "\t 5        & 5/1/09   & UK       & F        & NA       & 2        & 2        & 1        &  2       &  1       & NA      \\\\\n",
       "\\end{tabular}\n"
      ],
      "text/markdown": [
       "\n",
       "| manager | date | country | gender | age | q1 | q2 | q3 | q4 | q5 | agecat |\n",
       "|---|---|---|---|---|---|---|---|---|---|---|\n",
       "| 1        | 10/24/08 | US       | M        | 32       | 5        | 4        | 5        |  5       |  5       | Young    |\n",
       "| 2        | 10/28/08 | US       | F        | 45       | 3        | 5        | 2        |  5       |  5       | Young    |\n",
       "| 3        | 10/1/08  | UK       | F        | 25       | 3        | 5        | 5        |  5       |  2       | Young    |\n",
       "| 4        | 10/12/08 | UK       | M        | 39       | 3        | 3        | 4        | NA       | NA       | Young    |\n",
       "| 5        | 5/1/09   | UK       | F        | NA       | 2        | 2        | 1        |  2       |  1       | NA       |\n",
       "\n"
      ],
      "text/plain": [
       "  manager date     country gender age q1 q2 q3 q4 q5 agecat\n",
       "1 1       10/24/08 US      M      32  5  4  5   5  5 Young \n",
       "2 2       10/28/08 US      F      45  3  5  2   5  5 Young \n",
       "3 3       10/1/08  UK      F      25  3  5  5   5  2 Young \n",
       "4 4       10/12/08 UK      M      39  3  3  4  NA NA Young \n",
       "5 5       5/1/09   UK      F      NA  2  2  1   2  1 NA    "
      ]
     },
     "metadata": {},
     "output_type": "display_data"
    }
   ],
   "source": [
    "leadership"
   ]
  },
  {
   "cell_type": "code",
   "execution_count": 49,
   "id": "805a817c-81eb-441b-9e74-a01fef58c5c7",
   "metadata": {
    "slideshow": {
     "slide_type": "subslide"
    }
   },
   "outputs": [],
   "source": [
    "# Another option\n",
    "leadership <- within(leadership,{\n",
    "                     agecat <- NA\n",
    "                     agecat[age > 75] <- \"Elder\"\n",
    "                     agecat[age >= 55 & age <= 75] <- \"Middle Aged\"\n",
    "                     agecat[age < 55] <- \"Young\" })"
   ]
  },
  {
   "cell_type": "markdown",
   "id": "172a84bc-1390-455c-ab21-2e6951d05a99",
   "metadata": {
    "slideshow": {
     "slide_type": "subslide"
    }
   },
   "source": [
    "# Rename a Variable"
   ]
  },
  {
   "cell_type": "code",
   "execution_count": 50,
   "id": "d897f5af-140f-4e08-92ed-b093c5e4bd99",
   "metadata": {},
   "outputs": [],
   "source": [
    "names(leadership)[2] <- \"testDate\""
   ]
  },
  {
   "cell_type": "code",
   "execution_count": 51,
   "id": "db996c47-bad9-4015-9b33-c94cad7a3af5",
   "metadata": {},
   "outputs": [
    {
     "data": {
      "text/html": [
       "<ol class=list-inline>\n",
       "\t<li>'manager'</li>\n",
       "\t<li>'testDate'</li>\n",
       "\t<li>'country'</li>\n",
       "\t<li>'gender'</li>\n",
       "\t<li>'age'</li>\n",
       "\t<li>'q1'</li>\n",
       "\t<li>'q2'</li>\n",
       "\t<li>'q3'</li>\n",
       "\t<li>'q4'</li>\n",
       "\t<li>'q5'</li>\n",
       "\t<li>'agecat'</li>\n",
       "</ol>\n"
      ],
      "text/latex": [
       "\\begin{enumerate*}\n",
       "\\item 'manager'\n",
       "\\item 'testDate'\n",
       "\\item 'country'\n",
       "\\item 'gender'\n",
       "\\item 'age'\n",
       "\\item 'q1'\n",
       "\\item 'q2'\n",
       "\\item 'q3'\n",
       "\\item 'q4'\n",
       "\\item 'q5'\n",
       "\\item 'agecat'\n",
       "\\end{enumerate*}\n"
      ],
      "text/markdown": [
       "1. 'manager'\n",
       "2. 'testDate'\n",
       "3. 'country'\n",
       "4. 'gender'\n",
       "5. 'age'\n",
       "6. 'q1'\n",
       "7. 'q2'\n",
       "8. 'q3'\n",
       "9. 'q4'\n",
       "10. 'q5'\n",
       "11. 'agecat'\n",
       "\n",
       "\n"
      ],
      "text/plain": [
       " [1] \"manager\"  \"testDate\" \"country\"  \"gender\"   \"age\"      \"q1\"      \n",
       " [7] \"q2\"       \"q3\"       \"q4\"       \"q5\"       \"agecat\"  "
      ]
     },
     "metadata": {},
     "output_type": "display_data"
    }
   ],
   "source": [
    "names(leadership)"
   ]
  },
  {
   "cell_type": "markdown",
   "id": "7a46a8d9-f45a-45b4-bde4-78e2d2ee234e",
   "metadata": {
    "slideshow": {
     "slide_type": "subslide"
    }
   },
   "source": [
    "# Missing Values"
   ]
  },
  {
   "cell_type": "code",
   "execution_count": 52,
   "id": "f8ede4b0-2844-4e2e-b1f7-7efc7cc09335",
   "metadata": {},
   "outputs": [
    {
     "data": {
      "text/html": [
       "<table>\n",
       "<thead><tr><th scope=col>q1</th><th scope=col>q2</th><th scope=col>q3</th><th scope=col>q4</th><th scope=col>q5</th></tr></thead>\n",
       "<tbody>\n",
       "\t<tr><td>FALSE</td><td>FALSE</td><td>FALSE</td><td>FALSE</td><td>FALSE</td></tr>\n",
       "\t<tr><td>FALSE</td><td>FALSE</td><td>FALSE</td><td>FALSE</td><td>FALSE</td></tr>\n",
       "\t<tr><td>FALSE</td><td>FALSE</td><td>FALSE</td><td>FALSE</td><td>FALSE</td></tr>\n",
       "\t<tr><td>FALSE</td><td>FALSE</td><td>FALSE</td><td> TRUE</td><td> TRUE</td></tr>\n",
       "\t<tr><td>FALSE</td><td>FALSE</td><td>FALSE</td><td>FALSE</td><td>FALSE</td></tr>\n",
       "</tbody>\n",
       "</table>\n"
      ],
      "text/latex": [
       "\\begin{tabular}{lllll}\n",
       " q1 & q2 & q3 & q4 & q5\\\\\n",
       "\\hline\n",
       "\t FALSE & FALSE & FALSE & FALSE & FALSE\\\\\n",
       "\t FALSE & FALSE & FALSE & FALSE & FALSE\\\\\n",
       "\t FALSE & FALSE & FALSE & FALSE & FALSE\\\\\n",
       "\t FALSE & FALSE & FALSE &  TRUE &  TRUE\\\\\n",
       "\t FALSE & FALSE & FALSE & FALSE & FALSE\\\\\n",
       "\\end{tabular}\n"
      ],
      "text/markdown": [
       "\n",
       "| q1 | q2 | q3 | q4 | q5 |\n",
       "|---|---|---|---|---|\n",
       "| FALSE | FALSE | FALSE | FALSE | FALSE |\n",
       "| FALSE | FALSE | FALSE | FALSE | FALSE |\n",
       "| FALSE | FALSE | FALSE | FALSE | FALSE |\n",
       "| FALSE | FALSE | FALSE |  TRUE |  TRUE |\n",
       "| FALSE | FALSE | FALSE | FALSE | FALSE |\n",
       "\n"
      ],
      "text/plain": [
       "     q1    q2    q3    q4    q5   \n",
       "[1,] FALSE FALSE FALSE FALSE FALSE\n",
       "[2,] FALSE FALSE FALSE FALSE FALSE\n",
       "[3,] FALSE FALSE FALSE FALSE FALSE\n",
       "[4,] FALSE FALSE FALSE  TRUE  TRUE\n",
       "[5,] FALSE FALSE FALSE FALSE FALSE"
      ]
     },
     "metadata": {},
     "output_type": "display_data"
    }
   ],
   "source": [
    "is.na(leadership[,6:10])"
   ]
  },
  {
   "cell_type": "code",
   "execution_count": 53,
   "id": "2af58efb-08cf-49cf-a042-75c73019bac5",
   "metadata": {
    "slideshow": {
     "slide_type": "subslide"
    }
   },
   "outputs": [
    {
     "data": {
      "text/html": [
       "6"
      ],
      "text/latex": [
       "6"
      ],
      "text/markdown": [
       "6"
      ],
      "text/plain": [
       "[1] 6"
      ]
     },
     "metadata": {},
     "output_type": "display_data"
    }
   ],
   "source": [
    "# Excluding missing values from analyses\n",
    "x <- c(1, 2, NA, 3)\n",
    "y <- sum(x, na.rm=TRUE)\n",
    "y"
   ]
  },
  {
   "cell_type": "code",
   "execution_count": 54,
   "id": "a333775c-e80d-4c07-aaf1-b8666deea74d",
   "metadata": {
    "slideshow": {
     "slide_type": "subslide"
    }
   },
   "outputs": [
    {
     "data": {
      "text/html": [
       "<table>\n",
       "<thead><tr><th scope=col>manager</th><th scope=col>testDate</th><th scope=col>country</th><th scope=col>gender</th><th scope=col>age</th><th scope=col>q1</th><th scope=col>q2</th><th scope=col>q3</th><th scope=col>q4</th><th scope=col>q5</th><th scope=col>agecat</th></tr></thead>\n",
       "<tbody>\n",
       "\t<tr><td>1       </td><td>10/24/08</td><td>US      </td><td>M       </td><td>32      </td><td>5       </td><td>4       </td><td>5       </td><td> 5      </td><td> 5      </td><td>Young   </td></tr>\n",
       "\t<tr><td>2       </td><td>10/28/08</td><td>US      </td><td>F       </td><td>45      </td><td>3       </td><td>5       </td><td>2       </td><td> 5      </td><td> 5      </td><td>Young   </td></tr>\n",
       "\t<tr><td>3       </td><td>10/1/08 </td><td>UK      </td><td>F       </td><td>25      </td><td>3       </td><td>5       </td><td>5       </td><td> 5      </td><td> 2      </td><td>Young   </td></tr>\n",
       "\t<tr><td>4       </td><td>10/12/08</td><td>UK      </td><td>M       </td><td>39      </td><td>3       </td><td>3       </td><td>4       </td><td>NA      </td><td>NA      </td><td>Young   </td></tr>\n",
       "\t<tr><td>5       </td><td>5/1/09  </td><td>UK      </td><td>F       </td><td>NA      </td><td>2       </td><td>2       </td><td>1       </td><td> 2      </td><td> 1      </td><td>NA      </td></tr>\n",
       "</tbody>\n",
       "</table>\n"
      ],
      "text/latex": [
       "\\begin{tabular}{r|lllllllllll}\n",
       " manager & testDate & country & gender & age & q1 & q2 & q3 & q4 & q5 & agecat\\\\\n",
       "\\hline\n",
       "\t 1        & 10/24/08 & US       & M        & 32       & 5        & 4        & 5        &  5       &  5       & Young   \\\\\n",
       "\t 2        & 10/28/08 & US       & F        & 45       & 3        & 5        & 2        &  5       &  5       & Young   \\\\\n",
       "\t 3        & 10/1/08  & UK       & F        & 25       & 3        & 5        & 5        &  5       &  2       & Young   \\\\\n",
       "\t 4        & 10/12/08 & UK       & M        & 39       & 3        & 3        & 4        & NA       & NA       & Young   \\\\\n",
       "\t 5        & 5/1/09   & UK       & F        & NA       & 2        & 2        & 1        &  2       &  1       & NA      \\\\\n",
       "\\end{tabular}\n"
      ],
      "text/markdown": [
       "\n",
       "| manager | testDate | country | gender | age | q1 | q2 | q3 | q4 | q5 | agecat |\n",
       "|---|---|---|---|---|---|---|---|---|---|---|\n",
       "| 1        | 10/24/08 | US       | M        | 32       | 5        | 4        | 5        |  5       |  5       | Young    |\n",
       "| 2        | 10/28/08 | US       | F        | 45       | 3        | 5        | 2        |  5       |  5       | Young    |\n",
       "| 3        | 10/1/08  | UK       | F        | 25       | 3        | 5        | 5        |  5       |  2       | Young    |\n",
       "| 4        | 10/12/08 | UK       | M        | 39       | 3        | 3        | 4        | NA       | NA       | Young    |\n",
       "| 5        | 5/1/09   | UK       | F        | NA       | 2        | 2        | 1        |  2       |  1       | NA       |\n",
       "\n"
      ],
      "text/plain": [
       "  manager testDate country gender age q1 q2 q3 q4 q5 agecat\n",
       "1 1       10/24/08 US      M      32  5  4  5   5  5 Young \n",
       "2 2       10/28/08 US      F      45  3  5  2   5  5 Young \n",
       "3 3       10/1/08  UK      F      25  3  5  5   5  2 Young \n",
       "4 4       10/12/08 UK      M      39  3  3  4  NA NA Young \n",
       "5 5       5/1/09   UK      F      NA  2  2  1   2  1 NA    "
      ]
     },
     "metadata": {},
     "output_type": "display_data"
    }
   ],
   "source": [
    "# Delete incomplete observations\n",
    "leadership"
   ]
  },
  {
   "cell_type": "code",
   "execution_count": 55,
   "id": "91aa666d-5513-4124-920d-3bf3a4f019ab",
   "metadata": {
    "slideshow": {
     "slide_type": "subslide"
    }
   },
   "outputs": [
    {
     "data": {
      "text/html": [
       "<table>\n",
       "<thead><tr><th scope=col>manager</th><th scope=col>testDate</th><th scope=col>country</th><th scope=col>gender</th><th scope=col>age</th><th scope=col>q1</th><th scope=col>q2</th><th scope=col>q3</th><th scope=col>q4</th><th scope=col>q5</th><th scope=col>agecat</th></tr></thead>\n",
       "<tbody>\n",
       "\t<tr><td>1       </td><td>10/24/08</td><td>US      </td><td>M       </td><td>32      </td><td>5       </td><td>4       </td><td>5       </td><td>5       </td><td>5       </td><td>Young   </td></tr>\n",
       "\t<tr><td>2       </td><td>10/28/08</td><td>US      </td><td>F       </td><td>45      </td><td>3       </td><td>5       </td><td>2       </td><td>5       </td><td>5       </td><td>Young   </td></tr>\n",
       "\t<tr><td>3       </td><td>10/1/08 </td><td>UK      </td><td>F       </td><td>25      </td><td>3       </td><td>5       </td><td>5       </td><td>5       </td><td>2       </td><td>Young   </td></tr>\n",
       "</tbody>\n",
       "</table>\n"
      ],
      "text/latex": [
       "\\begin{tabular}{r|lllllllllll}\n",
       " manager & testDate & country & gender & age & q1 & q2 & q3 & q4 & q5 & agecat\\\\\n",
       "\\hline\n",
       "\t 1        & 10/24/08 & US       & M        & 32       & 5        & 4        & 5        & 5        & 5        & Young   \\\\\n",
       "\t 2        & 10/28/08 & US       & F        & 45       & 3        & 5        & 2        & 5        & 5        & Young   \\\\\n",
       "\t 3        & 10/1/08  & UK       & F        & 25       & 3        & 5        & 5        & 5        & 2        & Young   \\\\\n",
       "\\end{tabular}\n"
      ],
      "text/markdown": [
       "\n",
       "| manager | testDate | country | gender | age | q1 | q2 | q3 | q4 | q5 | agecat |\n",
       "|---|---|---|---|---|---|---|---|---|---|---|\n",
       "| 1        | 10/24/08 | US       | M        | 32       | 5        | 4        | 5        | 5        | 5        | Young    |\n",
       "| 2        | 10/28/08 | US       | F        | 45       | 3        | 5        | 2        | 5        | 5        | Young    |\n",
       "| 3        | 10/1/08  | UK       | F        | 25       | 3        | 5        | 5        | 5        | 2        | Young    |\n",
       "\n"
      ],
      "text/plain": [
       "  manager testDate country gender age q1 q2 q3 q4 q5 agecat\n",
       "1 1       10/24/08 US      M      32  5  4  5  5  5  Young \n",
       "2 2       10/28/08 US      F      45  3  5  2  5  5  Young \n",
       "3 3       10/1/08  UK      F      25  3  5  5  5  2  Young "
      ]
     },
     "metadata": {},
     "output_type": "display_data"
    }
   ],
   "source": [
    "newdata <- na.omit(leadership)\n",
    "newdata"
   ]
  },
  {
   "cell_type": "markdown",
   "id": "93b764ad-4a8b-4fc3-976f-a061f669c3ed",
   "metadata": {
    "slideshow": {
     "slide_type": "slide"
    }
   },
   "source": [
    "# Dates"
   ]
  },
  {
   "cell_type": "code",
   "execution_count": 56,
   "id": "958afbcb-0cae-47cb-9cf7-250d5b0404e7",
   "metadata": {},
   "outputs": [
    {
     "data": {
      "text/html": [
       "<ol class=list-inline>\n",
       "\t<li><time datetime=\"1965-01-05\">1965-01-05</time></li>\n",
       "\t<li><time datetime=\"1975-08-16\">1975-08-16</time></li>\n",
       "</ol>\n"
      ],
      "text/latex": [
       "\\begin{enumerate*}\n",
       "\\item 1965-01-05\n",
       "\\item 1975-08-16\n",
       "\\end{enumerate*}\n"
      ],
      "text/markdown": [
       "1. 1965-01-05\n",
       "2. 1975-08-16\n",
       "\n",
       "\n"
      ],
      "text/plain": [
       "[1] \"1965-01-05\" \"1975-08-16\""
      ]
     },
     "metadata": {},
     "output_type": "display_data"
    }
   ],
   "source": [
    "strDates <- c(\"01/05/1965\", \"08/16/1975\")\n",
    "dates <- as.Date(strDates, \"%m/%d/%Y\")\n",
    "dates"
   ]
  },
  {
   "cell_type": "code",
   "execution_count": 57,
   "id": "6b4192f2-b911-4210-b9a4-f5408695fdd2",
   "metadata": {},
   "outputs": [],
   "source": [
    "myformat <- \"%m/%d/%y\"\n",
    "leadership$date <- as.Date(leadership$testDate, myformat)"
   ]
  },
  {
   "cell_type": "code",
   "execution_count": 58,
   "id": "f4833e0e-3923-4b85-8721-bc6ec657c009",
   "metadata": {
    "slideshow": {
     "slide_type": "subslide"
    }
   },
   "outputs": [
    {
     "data": {
      "text/plain": [
       "Time difference of 2535 days"
      ]
     },
     "metadata": {},
     "output_type": "display_data"
    }
   ],
   "source": [
    "# Operate with dates\n",
    "startdate <- as.Date(\"2004-02-13\")\n",
    "enddate <- as.Date(\"2011-01-22\")\n",
    "days <- enddate - startdate\n",
    "days"
   ]
  },
  {
   "cell_type": "code",
   "execution_count": 59,
   "id": "875b95cb-197b-44c6-b48e-fd3fa80f5043",
   "metadata": {},
   "outputs": [
    {
     "data": {
      "text/plain": [
       "Time difference of 1786.143 weeks"
      ]
     },
     "metadata": {},
     "output_type": "display_data"
    }
   ],
   "source": [
    "today <- Sys.Date()\n",
    "dob <- as.Date(\"1986-11-19\")\n",
    "difftime(today, dob, units=\"weeks\")"
   ]
  },
  {
   "cell_type": "markdown",
   "id": "1bde8337-9c0b-4409-959d-9f4a9f7ac646",
   "metadata": {
    "slideshow": {
     "slide_type": "slide"
    }
   },
   "source": [
    "# Type Conversion\n",
    "![](type.png)"
   ]
  },
  {
   "cell_type": "code",
   "execution_count": 60,
   "id": "8c2711f5-7a0e-4e74-9e1e-eec6687062b1",
   "metadata": {
    "slideshow": {
     "slide_type": "subslide"
    }
   },
   "outputs": [
    {
     "data": {
      "text/html": [
       "<ol class=list-inline>\n",
       "\t<li>1</li>\n",
       "\t<li>2</li>\n",
       "\t<li>3</li>\n",
       "</ol>\n"
      ],
      "text/latex": [
       "\\begin{enumerate*}\n",
       "\\item 1\n",
       "\\item 2\n",
       "\\item 3\n",
       "\\end{enumerate*}\n"
      ],
      "text/markdown": [
       "1. 1\n",
       "2. 2\n",
       "3. 3\n",
       "\n",
       "\n"
      ],
      "text/plain": [
       "[1] 1 2 3"
      ]
     },
     "metadata": {},
     "output_type": "display_data"
    }
   ],
   "source": [
    "a <- c(1,2,3)\n",
    "a"
   ]
  },
  {
   "cell_type": "code",
   "execution_count": 61,
   "id": "0062961f-f817-4e6c-8fe4-2a1353ee98c5",
   "metadata": {},
   "outputs": [
    {
     "data": {
      "text/html": [
       "<ol class=list-inline>\n",
       "\t<li>'1'</li>\n",
       "\t<li>'2'</li>\n",
       "\t<li>'3'</li>\n",
       "</ol>\n"
      ],
      "text/latex": [
       "\\begin{enumerate*}\n",
       "\\item '1'\n",
       "\\item '2'\n",
       "\\item '3'\n",
       "\\end{enumerate*}\n"
      ],
      "text/markdown": [
       "1. '1'\n",
       "2. '2'\n",
       "3. '3'\n",
       "\n",
       "\n"
      ],
      "text/plain": [
       "[1] \"1\" \"2\" \"3\""
      ]
     },
     "metadata": {},
     "output_type": "display_data"
    }
   ],
   "source": [
    "a <- as.character(a)\n",
    "a"
   ]
  },
  {
   "cell_type": "markdown",
   "id": "863cf1c6-2301-4247-bbd3-b29020b1a119",
   "metadata": {
    "slideshow": {
     "slide_type": "slide"
    }
   },
   "source": [
    "# Sort Data"
   ]
  },
  {
   "cell_type": "code",
   "execution_count": 62,
   "id": "f9448b1d-4238-4458-ae62-c7e7775ec1d2",
   "metadata": {},
   "outputs": [
    {
     "data": {
      "text/html": [
       "<table>\n",
       "<thead><tr><th></th><th scope=col>manager</th><th scope=col>testDate</th><th scope=col>country</th><th scope=col>gender</th><th scope=col>age</th><th scope=col>q1</th><th scope=col>q2</th><th scope=col>q3</th><th scope=col>q4</th><th scope=col>q5</th><th scope=col>agecat</th><th scope=col>date</th></tr></thead>\n",
       "<tbody>\n",
       "\t<tr><th scope=row>3</th><td>3         </td><td>10/1/08   </td><td>UK        </td><td>F         </td><td>25        </td><td>3         </td><td>5         </td><td>5         </td><td> 5        </td><td> 2        </td><td>Young     </td><td>2008-10-01</td></tr>\n",
       "\t<tr><th scope=row>1</th><td>1         </td><td>10/24/08  </td><td>US        </td><td>M         </td><td>32        </td><td>5         </td><td>4         </td><td>5         </td><td> 5        </td><td> 5        </td><td>Young     </td><td>2008-10-24</td></tr>\n",
       "\t<tr><th scope=row>4</th><td>4         </td><td>10/12/08  </td><td>UK        </td><td>M         </td><td>39        </td><td>3         </td><td>3         </td><td>4         </td><td>NA        </td><td>NA        </td><td>Young     </td><td>2008-10-12</td></tr>\n",
       "\t<tr><th scope=row>2</th><td>2         </td><td>10/28/08  </td><td>US        </td><td>F         </td><td>45        </td><td>3         </td><td>5         </td><td>2         </td><td> 5        </td><td> 5        </td><td>Young     </td><td>2008-10-28</td></tr>\n",
       "\t<tr><th scope=row>5</th><td>5         </td><td>5/1/09    </td><td>UK        </td><td>F         </td><td>NA        </td><td>2         </td><td>2         </td><td>1         </td><td> 2        </td><td> 1        </td><td>NA        </td><td>2009-05-01</td></tr>\n",
       "</tbody>\n",
       "</table>\n"
      ],
      "text/latex": [
       "\\begin{tabular}{r|llllllllllll}\n",
       "  & manager & testDate & country & gender & age & q1 & q2 & q3 & q4 & q5 & agecat & date\\\\\n",
       "\\hline\n",
       "\t3 & 3          & 10/1/08    & UK         & F          & 25         & 3          & 5          & 5          &  5         &  2         & Young      & 2008-10-01\\\\\n",
       "\t1 & 1          & 10/24/08   & US         & M          & 32         & 5          & 4          & 5          &  5         &  5         & Young      & 2008-10-24\\\\\n",
       "\t4 & 4          & 10/12/08   & UK         & M          & 39         & 3          & 3          & 4          & NA         & NA         & Young      & 2008-10-12\\\\\n",
       "\t2 & 2          & 10/28/08   & US         & F          & 45         & 3          & 5          & 2          &  5         &  5         & Young      & 2008-10-28\\\\\n",
       "\t5 & 5          & 5/1/09     & UK         & F          & NA         & 2          & 2          & 1          &  2         &  1         & NA         & 2009-05-01\\\\\n",
       "\\end{tabular}\n"
      ],
      "text/markdown": [
       "\n",
       "| <!--/--> | manager | testDate | country | gender | age | q1 | q2 | q3 | q4 | q5 | agecat | date |\n",
       "|---|---|---|---|---|---|---|---|---|---|---|---|---|\n",
       "| 3 | 3          | 10/1/08    | UK         | F          | 25         | 3          | 5          | 5          |  5         |  2         | Young      | 2008-10-01 |\n",
       "| 1 | 1          | 10/24/08   | US         | M          | 32         | 5          | 4          | 5          |  5         |  5         | Young      | 2008-10-24 |\n",
       "| 4 | 4          | 10/12/08   | UK         | M          | 39         | 3          | 3          | 4          | NA         | NA         | Young      | 2008-10-12 |\n",
       "| 2 | 2          | 10/28/08   | US         | F          | 45         | 3          | 5          | 2          |  5         |  5         | Young      | 2008-10-28 |\n",
       "| 5 | 5          | 5/1/09     | UK         | F          | NA         | 2          | 2          | 1          |  2         |  1         | NA         | 2009-05-01 |\n",
       "\n"
      ],
      "text/plain": [
       "  manager testDate country gender age q1 q2 q3 q4 q5 agecat date      \n",
       "3 3       10/1/08  UK      F      25  3  5  5   5  2 Young  2008-10-01\n",
       "1 1       10/24/08 US      M      32  5  4  5   5  5 Young  2008-10-24\n",
       "4 4       10/12/08 UK      M      39  3  3  4  NA NA Young  2008-10-12\n",
       "2 2       10/28/08 US      F      45  3  5  2   5  5 Young  2008-10-28\n",
       "5 5       5/1/09   UK      F      NA  2  2  1   2  1 NA     2009-05-01"
      ]
     },
     "metadata": {},
     "output_type": "display_data"
    }
   ],
   "source": [
    "newdata <- leadership[order(leadership$age),]\n",
    "newdata"
   ]
  },
  {
   "cell_type": "code",
   "execution_count": 63,
   "id": "78d28c41-22ba-4c1c-ba79-f46f0038b16f",
   "metadata": {
    "slideshow": {
     "slide_type": "subslide"
    }
   },
   "outputs": [
    {
     "name": "stderr",
     "output_type": "stream",
     "text": [
      "The following objects are masked _by_ .GlobalEnv:\n",
      "\n",
      "    age, country, date, gender, manager, q1, q2, q3, q4, q5\n",
      "\n"
     ]
    },
    {
     "data": {
      "text/html": [
       "<table>\n",
       "<thead><tr><th></th><th scope=col>manager</th><th scope=col>testDate</th><th scope=col>country</th><th scope=col>gender</th><th scope=col>age</th><th scope=col>q1</th><th scope=col>q2</th><th scope=col>q3</th><th scope=col>q4</th><th scope=col>q5</th><th scope=col>agecat</th><th scope=col>date</th></tr></thead>\n",
       "<tbody>\n",
       "\t<tr><th scope=row>3</th><td>3         </td><td>10/1/08   </td><td>UK        </td><td>F         </td><td>25        </td><td>3         </td><td>5         </td><td>5         </td><td> 5        </td><td> 2        </td><td>Young     </td><td>2008-10-01</td></tr>\n",
       "\t<tr><th scope=row>2</th><td>2         </td><td>10/28/08  </td><td>US        </td><td>F         </td><td>45        </td><td>3         </td><td>5         </td><td>2         </td><td> 5        </td><td> 5        </td><td>Young     </td><td>2008-10-28</td></tr>\n",
       "\t<tr><th scope=row>5</th><td>5         </td><td>5/1/09    </td><td>UK        </td><td>F         </td><td>NA        </td><td>2         </td><td>2         </td><td>1         </td><td> 2        </td><td> 1        </td><td>NA        </td><td>2009-05-01</td></tr>\n",
       "\t<tr><th scope=row>1</th><td>1         </td><td>10/24/08  </td><td>US        </td><td>M         </td><td>32        </td><td>5         </td><td>4         </td><td>5         </td><td> 5        </td><td> 5        </td><td>Young     </td><td>2008-10-24</td></tr>\n",
       "\t<tr><th scope=row>4</th><td>4         </td><td>10/12/08  </td><td>UK        </td><td>M         </td><td>39        </td><td>3         </td><td>3         </td><td>4         </td><td>NA        </td><td>NA        </td><td>Young     </td><td>2008-10-12</td></tr>\n",
       "</tbody>\n",
       "</table>\n"
      ],
      "text/latex": [
       "\\begin{tabular}{r|llllllllllll}\n",
       "  & manager & testDate & country & gender & age & q1 & q2 & q3 & q4 & q5 & agecat & date\\\\\n",
       "\\hline\n",
       "\t3 & 3          & 10/1/08    & UK         & F          & 25         & 3          & 5          & 5          &  5         &  2         & Young      & 2008-10-01\\\\\n",
       "\t2 & 2          & 10/28/08   & US         & F          & 45         & 3          & 5          & 2          &  5         &  5         & Young      & 2008-10-28\\\\\n",
       "\t5 & 5          & 5/1/09     & UK         & F          & NA         & 2          & 2          & 1          &  2         &  1         & NA         & 2009-05-01\\\\\n",
       "\t1 & 1          & 10/24/08   & US         & M          & 32         & 5          & 4          & 5          &  5         &  5         & Young      & 2008-10-24\\\\\n",
       "\t4 & 4          & 10/12/08   & UK         & M          & 39         & 3          & 3          & 4          & NA         & NA         & Young      & 2008-10-12\\\\\n",
       "\\end{tabular}\n"
      ],
      "text/markdown": [
       "\n",
       "| <!--/--> | manager | testDate | country | gender | age | q1 | q2 | q3 | q4 | q5 | agecat | date |\n",
       "|---|---|---|---|---|---|---|---|---|---|---|---|---|\n",
       "| 3 | 3          | 10/1/08    | UK         | F          | 25         | 3          | 5          | 5          |  5         |  2         | Young      | 2008-10-01 |\n",
       "| 2 | 2          | 10/28/08   | US         | F          | 45         | 3          | 5          | 2          |  5         |  5         | Young      | 2008-10-28 |\n",
       "| 5 | 5          | 5/1/09     | UK         | F          | NA         | 2          | 2          | 1          |  2         |  1         | NA         | 2009-05-01 |\n",
       "| 1 | 1          | 10/24/08   | US         | M          | 32         | 5          | 4          | 5          |  5         |  5         | Young      | 2008-10-24 |\n",
       "| 4 | 4          | 10/12/08   | UK         | M          | 39         | 3          | 3          | 4          | NA         | NA         | Young      | 2008-10-12 |\n",
       "\n"
      ],
      "text/plain": [
       "  manager testDate country gender age q1 q2 q3 q4 q5 agecat date      \n",
       "3 3       10/1/08  UK      F      25  3  5  5   5  2 Young  2008-10-01\n",
       "2 2       10/28/08 US      F      45  3  5  2   5  5 Young  2008-10-28\n",
       "5 5       5/1/09   UK      F      NA  2  2  1   2  1 NA     2009-05-01\n",
       "1 1       10/24/08 US      M      32  5  4  5   5  5 Young  2008-10-24\n",
       "4 4       10/12/08 UK      M      39  3  3  4  NA NA Young  2008-10-12"
      ]
     },
     "metadata": {},
     "output_type": "display_data"
    }
   ],
   "source": [
    "attach(leadership)\n",
    "newdata <- leadership[order(gender, age),]\n",
    "detach(leadership)\n",
    "newdata"
   ]
  },
  {
   "cell_type": "markdown",
   "id": "be9d9677-8f90-446b-8517-8b93de5412f3",
   "metadata": {
    "slideshow": {
     "slide_type": "slide"
    }
   },
   "source": [
    "# Merging Datasets\n",
    "Adding columns to a data frame\n",
    "```total <- merge(dataframeA, dataframeB, by=\"ID\")``` or ```total <- cbind(A, B)```\n",
    "\n",
    "Addding rows\n",
    "```total <- rbind(dataframeA, dataframeB)```"
   ]
  },
  {
   "cell_type": "markdown",
   "id": "7e34812a-e7e5-4f65-97c0-2e2b4baca187",
   "metadata": {
    "slideshow": {
     "slide_type": "slide"
    }
   },
   "source": [
    "# Subsets"
   ]
  },
  {
   "cell_type": "code",
   "execution_count": 64,
   "id": "6dbe3a83-b516-4841-99e4-91b4af4110fe",
   "metadata": {},
   "outputs": [],
   "source": [
    "# Keeping Variables\n",
    "newdata <- leadership[, c(6:10)]"
   ]
  },
  {
   "cell_type": "code",
   "execution_count": 65,
   "id": "d3465fd3-9ba4-49c7-bc67-0338211e96b7",
   "metadata": {},
   "outputs": [],
   "source": [
    "# Dropping Varaibles\n",
    "# You can exclude variables q3 and q4 with these statements:\n",
    "myvars <- names(leadership) %in% c(\"q3\", \"q4\")\n",
    "newdata <- leadership[!myvars]"
   ]
  },
  {
   "cell_type": "code",
   "execution_count": 66,
   "id": "4f92e91f-c324-4227-a78f-b2ad24d18ba9",
   "metadata": {
    "slideshow": {
     "slide_type": "slide"
    }
   },
   "outputs": [
    {
     "data": {
      "text/html": [
       "<table>\n",
       "<thead><tr><th></th><th scope=col>manager</th><th scope=col>testDate</th><th scope=col>country</th><th scope=col>gender</th><th scope=col>age</th><th scope=col>q1</th><th scope=col>q2</th><th scope=col>q3</th><th scope=col>q4</th><th scope=col>q5</th><th scope=col>agecat</th><th scope=col>date</th></tr></thead>\n",
       "<tbody>\n",
       "\t<tr><th scope=row>1</th><td>1         </td><td>10/24/08  </td><td>US        </td><td>M         </td><td>32        </td><td>5         </td><td>4         </td><td>5         </td><td> 5        </td><td> 5        </td><td>Young     </td><td>2008-10-24</td></tr>\n",
       "\t<tr><th scope=row>4</th><td>4         </td><td>10/12/08  </td><td>UK        </td><td>M         </td><td>39        </td><td>3         </td><td>3         </td><td>4         </td><td>NA        </td><td>NA        </td><td>Young     </td><td>2008-10-12</td></tr>\n",
       "</tbody>\n",
       "</table>\n"
      ],
      "text/latex": [
       "\\begin{tabular}{r|llllllllllll}\n",
       "  & manager & testDate & country & gender & age & q1 & q2 & q3 & q4 & q5 & agecat & date\\\\\n",
       "\\hline\n",
       "\t1 & 1          & 10/24/08   & US         & M          & 32         & 5          & 4          & 5          &  5         &  5         & Young      & 2008-10-24\\\\\n",
       "\t4 & 4          & 10/12/08   & UK         & M          & 39         & 3          & 3          & 4          & NA         & NA         & Young      & 2008-10-12\\\\\n",
       "\\end{tabular}\n"
      ],
      "text/markdown": [
       "\n",
       "| <!--/--> | manager | testDate | country | gender | age | q1 | q2 | q3 | q4 | q5 | agecat | date |\n",
       "|---|---|---|---|---|---|---|---|---|---|---|---|---|\n",
       "| 1 | 1          | 10/24/08   | US         | M          | 32         | 5          | 4          | 5          |  5         |  5         | Young      | 2008-10-24 |\n",
       "| 4 | 4          | 10/12/08   | UK         | M          | 39         | 3          | 3          | 4          | NA         | NA         | Young      | 2008-10-12 |\n",
       "\n"
      ],
      "text/plain": [
       "  manager testDate country gender age q1 q2 q3 q4 q5 agecat date      \n",
       "1 1       10/24/08 US      M      32  5  4  5   5  5 Young  2008-10-24\n",
       "4 4       10/12/08 UK      M      39  3  3  4  NA NA Young  2008-10-12"
      ]
     },
     "metadata": {},
     "output_type": "display_data"
    }
   ],
   "source": [
    "# Selecting Observations\n",
    "newdata <- leadership[1:3,]\n",
    "newdata <- leadership[leadership$gender==\"M\" & leadership$age > 30,]\n",
    "newdata\n",
    "# attach(leadership)\n",
    "# newdata <- leadership[gender=='M' & age > 30,]\n",
    "# detach(leadership)"
   ]
  },
  {
   "cell_type": "markdown",
   "id": "e1e0a102-7384-4266-8db1-c096e4a8df74",
   "metadata": {
    "slideshow": {
     "slide_type": "slide"
    }
   },
   "source": [
    "# Some Functions: Calculating the mean and standard deviation"
   ]
  },
  {
   "cell_type": "code",
   "execution_count": 1,
   "id": "accredited-reynolds",
   "metadata": {},
   "outputs": [
    {
     "data": {
      "text/html": [
       "4.5"
      ],
      "text/latex": [
       "4.5"
      ],
      "text/markdown": [
       "4.5"
      ],
      "text/plain": [
       "[1] 4.5"
      ]
     },
     "metadata": {},
     "output_type": "display_data"
    },
    {
     "data": {
      "text/html": [
       "2.44948974278318"
      ],
      "text/latex": [
       "2.44948974278318"
      ],
      "text/markdown": [
       "2.44948974278318"
      ],
      "text/plain": [
       "[1] 2.44949"
      ]
     },
     "metadata": {},
     "output_type": "display_data"
    }
   ],
   "source": [
    "#Using Functions\n",
    "x <- c(1,2,3,4,5,6,7,8)\n",
    "mean(x)\n",
    "sd(x)"
   ]
  },
  {
   "cell_type": "code",
   "execution_count": 2,
   "id": "96f7fe85",
   "metadata": {},
   "outputs": [
    {
     "data": {
      "text/html": [
       "4.5"
      ],
      "text/latex": [
       "4.5"
      ],
      "text/markdown": [
       "4.5"
      ],
      "text/plain": [
       "[1] 4.5"
      ]
     },
     "metadata": {},
     "output_type": "display_data"
    },
    {
     "data": {
      "text/html": [
       "2.44948974278318"
      ],
      "text/latex": [
       "2.44948974278318"
      ],
      "text/markdown": [
       "2.44948974278318"
      ],
      "text/plain": [
       "[1] 2.44949"
      ]
     },
     "metadata": {},
     "output_type": "display_data"
    }
   ],
   "source": [
    "# Create your own code\n",
    "n <- length(x)\n",
    "meanx <- sum(x)/n\n",
    "css <- sum((x - meanx)^2)\n",
    "sdx <- sqrt(css / (n-1))\n",
    "meanx\n",
    "sdx"
   ]
  },
  {
   "cell_type": "markdown",
   "id": "12a10c92",
   "metadata": {
    "slideshow": {
     "slide_type": "slide"
    }
   },
   "source": [
    "# Generating pseudo-random numbers from a uniform distribution"
   ]
  },
  {
   "cell_type": "code",
   "execution_count": 8,
   "id": "be81bcb4",
   "metadata": {},
   "outputs": [
    {
     "data": {
      "text/html": [
       "<style>\n",
       ".list-inline {list-style: none; margin:0; padding: 0}\n",
       ".list-inline>li {display: inline-block}\n",
       ".list-inline>li:not(:last-child)::after {content: \"\\00b7\"; padding: 0 .5ex}\n",
       "</style>\n",
       "<ol class=list-inline><li>0.693591291783378</li><li>0.544974835589528</li><li>0.282733583590016</li><li>0.923433484276757</li><li>0.292315840255469</li></ol>\n"
      ],
      "text/latex": [
       "\\begin{enumerate*}\n",
       "\\item 0.693591291783378\n",
       "\\item 0.544974835589528\n",
       "\\item 0.282733583590016\n",
       "\\item 0.923433484276757\n",
       "\\item 0.292315840255469\n",
       "\\end{enumerate*}\n"
      ],
      "text/markdown": [
       "1. 0.693591291783378\n",
       "2. 0.544974835589528\n",
       "3. 0.282733583590016\n",
       "4. 0.923433484276757\n",
       "5. 0.292315840255469\n",
       "\n",
       "\n"
      ],
      "text/plain": [
       "[1] 0.694 0.545 0.283 0.923 0.292"
      ]
     },
     "metadata": {},
     "output_type": "display_data"
    }
   ],
   "source": [
    "runif(5)"
   ]
  },
  {
   "cell_type": "code",
   "execution_count": 10,
   "id": "059a77ed",
   "metadata": {},
   "outputs": [
    {
     "data": {
      "text/html": [
       "<style>\n",
       ".list-inline {list-style: none; margin:0; padding: 0}\n",
       ".list-inline>li {display: inline-block}\n",
       ".list-inline>li:not(:last-child)::after {content: \"\\00b7\"; padding: 0 .5ex}\n",
       "</style>\n",
       "<ol class=list-inline><li>0.113703411305323</li><li>0.622299404814839</li><li>0.609274732880294</li><li>0.623379441676661</li><li>0.860915383556858</li></ol>\n"
      ],
      "text/latex": [
       "\\begin{enumerate*}\n",
       "\\item 0.113703411305323\n",
       "\\item 0.622299404814839\n",
       "\\item 0.609274732880294\n",
       "\\item 0.623379441676661\n",
       "\\item 0.860915383556858\n",
       "\\end{enumerate*}\n"
      ],
      "text/markdown": [
       "1. 0.113703411305323\n",
       "2. 0.622299404814839\n",
       "3. 0.609274732880294\n",
       "4. 0.623379441676661\n",
       "5. 0.860915383556858\n",
       "\n",
       "\n"
      ],
      "text/plain": [
       "[1] 0.114 0.622 0.609 0.623 0.861"
      ]
     },
     "metadata": {},
     "output_type": "display_data"
    }
   ],
   "source": [
    "set.seed(1234)\n",
    "runif(5)"
   ]
  },
  {
   "cell_type": "markdown",
   "id": "dc6beaae",
   "metadata": {
    "slideshow": {
     "slide_type": "slide"
    }
   },
   "source": [
    "# Applying functions to data objects"
   ]
  },
  {
   "cell_type": "code",
   "execution_count": 7,
   "id": "646fda88",
   "metadata": {},
   "outputs": [
    {
     "data": {
      "text/html": [
       "2.23606797749979"
      ],
      "text/latex": [
       "2.23606797749979"
      ],
      "text/markdown": [
       "2.23606797749979"
      ],
      "text/plain": [
       "[1] 2.236068"
      ]
     },
     "metadata": {},
     "output_type": "display_data"
    }
   ],
   "source": [
    "a <- 5\n",
    "sqrt(a)"
   ]
  },
  {
   "cell_type": "code",
   "execution_count": 8,
   "id": "216210dd",
   "metadata": {},
   "outputs": [
    {
     "data": {
      "text/html": [
       "<ol class=list-inline>\n",
       "\t<li>1</li>\n",
       "\t<li>6</li>\n",
       "\t<li>3</li>\n",
       "</ol>\n"
      ],
      "text/latex": [
       "\\begin{enumerate*}\n",
       "\\item 1\n",
       "\\item 6\n",
       "\\item 3\n",
       "\\end{enumerate*}\n"
      ],
      "text/markdown": [
       "1. 1\n",
       "2. 6\n",
       "3. 3\n",
       "\n",
       "\n"
      ],
      "text/plain": [
       "[1] 1 6 3"
      ]
     },
     "metadata": {},
     "output_type": "display_data"
    }
   ],
   "source": [
    "b <- c(1.243, 5.654, 2.99)\n",
    "round(b)"
   ]
  },
  {
   "cell_type": "code",
   "execution_count": 10,
   "id": "58c8f282",
   "metadata": {
    "slideshow": {
     "slide_type": "slide"
    }
   },
   "outputs": [
    {
     "data": {
      "text/html": [
       "<table>\n",
       "<tbody>\n",
       "\t<tr><td>0.2668208 </td><td>0.3166125 </td><td>0.03999592</td><td>0.5256975 </td></tr>\n",
       "\t<tr><td>0.1867228 </td><td>0.3026934 </td><td>0.21879954</td><td>0.9146582 </td></tr>\n",
       "\t<tr><td>0.2322259 </td><td>0.1590460 </td><td>0.81059855</td><td>0.8313450 </td></tr>\n",
       "</tbody>\n",
       "</table>\n"
      ],
      "text/latex": [
       "\\begin{tabular}{llll}\n",
       "\t 0.2668208  & 0.3166125  & 0.03999592 & 0.5256975 \\\\\n",
       "\t 0.1867228  & 0.3026934  & 0.21879954 & 0.9146582 \\\\\n",
       "\t 0.2322259  & 0.1590460  & 0.81059855 & 0.8313450 \\\\\n",
       "\\end{tabular}\n"
      ],
      "text/markdown": [
       "\n",
       "| 0.2668208  | 0.3166125  | 0.03999592 | 0.5256975  |\n",
       "| 0.1867228  | 0.3026934  | 0.21879954 | 0.9146582  |\n",
       "| 0.2322259  | 0.1590460  | 0.81059855 | 0.8313450  |\n",
       "\n"
      ],
      "text/plain": [
       "     [,1]      [,2]      [,3]       [,4]     \n",
       "[1,] 0.2668208 0.3166125 0.03999592 0.5256975\n",
       "[2,] 0.1867228 0.3026934 0.21879954 0.9146582\n",
       "[3,] 0.2322259 0.1590460 0.81059855 0.8313450"
      ]
     },
     "metadata": {},
     "output_type": "display_data"
    }
   ],
   "source": [
    "c <- matrix(runif(12), nrow=3)\n",
    "c"
   ]
  },
  {
   "cell_type": "code",
   "execution_count": 11,
   "id": "33aca104",
   "metadata": {},
   "outputs": [
    {
     "data": {
      "text/html": [
       "<table>\n",
       "<tbody>\n",
       "\t<tr><td>-1.321178  </td><td>-1.150077  </td><td>-3.2189779 </td><td>-0.64302924</td></tr>\n",
       "\t<tr><td>-1.678130  </td><td>-1.195035  </td><td>-1.5195993 </td><td>-0.08920487</td></tr>\n",
       "\t<tr><td>-1.460045  </td><td>-1.838562  </td><td>-0.2099824 </td><td>-0.18471035</td></tr>\n",
       "</tbody>\n",
       "</table>\n"
      ],
      "text/latex": [
       "\\begin{tabular}{llll}\n",
       "\t -1.321178   & -1.150077   & -3.2189779  & -0.64302924\\\\\n",
       "\t -1.678130   & -1.195035   & -1.5195993  & -0.08920487\\\\\n",
       "\t -1.460045   & -1.838562   & -0.2099824  & -0.18471035\\\\\n",
       "\\end{tabular}\n"
      ],
      "text/markdown": [
       "\n",
       "| -1.321178   | -1.150077   | -3.2189779  | -0.64302924 |\n",
       "| -1.678130   | -1.195035   | -1.5195993  | -0.08920487 |\n",
       "| -1.460045   | -1.838562   | -0.2099824  | -0.18471035 |\n",
       "\n"
      ],
      "text/plain": [
       "     [,1]      [,2]      [,3]       [,4]       \n",
       "[1,] -1.321178 -1.150077 -3.2189779 -0.64302924\n",
       "[2,] -1.678130 -1.195035 -1.5195993 -0.08920487\n",
       "[3,] -1.460045 -1.838562 -0.2099824 -0.18471035"
      ]
     },
     "metadata": {},
     "output_type": "display_data"
    }
   ],
   "source": [
    "log(c)"
   ]
  },
  {
   "cell_type": "code",
   "execution_count": 12,
   "id": "51dbca0c",
   "metadata": {},
   "outputs": [
    {
     "data": {
      "text/html": [
       "0.400434673317553"
      ],
      "text/latex": [
       "0.400434673317553"
      ],
      "text/markdown": [
       "0.400434673317553"
      ],
      "text/plain": [
       "[1] 0.4004347"
      ]
     },
     "metadata": {},
     "output_type": "display_data"
    }
   ],
   "source": [
    "mean(c)"
   ]
  },
  {
   "cell_type": "markdown",
   "id": "22e9e3d1",
   "metadata": {
    "slideshow": {
     "slide_type": "slide"
    }
   },
   "source": [
    "# Applying a function to the rows or columns of a matrix"
   ]
  },
  {
   "cell_type": "code",
   "execution_count": 14,
   "id": "103d93a7",
   "metadata": {},
   "outputs": [
    {
     "data": {
      "text/html": [
       "<table>\n",
       "<tbody>\n",
       "\t<tr><td> 1.2601138  </td><td> 0.1638518  </td><td>-1.1659479  </td><td>-0.572594806</td><td> 0.24751016 </td></tr>\n",
       "\t<tr><td> 1.2839747  </td><td>-0.8267256  </td><td> 1.3600173  </td><td> 0.008159591</td><td> 1.12242126 </td></tr>\n",
       "\t<tr><td>-1.1187934  </td><td>-0.4518683  </td><td>-0.5853499  </td><td>-0.472049254</td><td> 2.13538261 </td></tr>\n",
       "\t<tr><td> 0.0290398  </td><td>-1.1265701  </td><td> 0.8315215  </td><td> 0.342730428</td><td>-0.04670306 </td></tr>\n",
       "\t<tr><td>-1.9313985  </td><td>-1.7666592  </td><td> 1.3784917  </td><td>-0.194104579</td><td> 0.32518029 </td></tr>\n",
       "\t<tr><td> 0.6498940  </td><td>-1.2771818  </td><td> 1.5749042  </td><td>-0.080820534</td><td> 0.16611512 </td></tr>\n",
       "</tbody>\n",
       "</table>\n"
      ],
      "text/latex": [
       "\\begin{tabular}{lllll}\n",
       "\t  1.2601138   &  0.1638518   & -1.1659479   & -0.572594806 &  0.24751016 \\\\\n",
       "\t  1.2839747   & -0.8267256   &  1.3600173   &  0.008159591 &  1.12242126 \\\\\n",
       "\t -1.1187934   & -0.4518683   & -0.5853499   & -0.472049254 &  2.13538261 \\\\\n",
       "\t  0.0290398   & -1.1265701   &  0.8315215   &  0.342730428 & -0.04670306 \\\\\n",
       "\t -1.9313985   & -1.7666592   &  1.3784917   & -0.194104579 &  0.32518029 \\\\\n",
       "\t  0.6498940   & -1.2771818   &  1.5749042   & -0.080820534 &  0.16611512 \\\\\n",
       "\\end{tabular}\n"
      ],
      "text/markdown": [
       "\n",
       "|  1.2601138   |  0.1638518   | -1.1659479   | -0.572594806 |  0.24751016  |\n",
       "|  1.2839747   | -0.8267256   |  1.3600173   |  0.008159591 |  1.12242126  |\n",
       "| -1.1187934   | -0.4518683   | -0.5853499   | -0.472049254 |  2.13538261  |\n",
       "|  0.0290398   | -1.1265701   |  0.8315215   |  0.342730428 | -0.04670306  |\n",
       "| -1.9313985   | -1.7666592   |  1.3784917   | -0.194104579 |  0.32518029  |\n",
       "|  0.6498940   | -1.2771818   |  1.5749042   | -0.080820534 |  0.16611512  |\n",
       "\n"
      ],
      "text/plain": [
       "     [,1]       [,2]       [,3]       [,4]         [,5]       \n",
       "[1,]  1.2601138  0.1638518 -1.1659479 -0.572594806  0.24751016\n",
       "[2,]  1.2839747 -0.8267256  1.3600173  0.008159591  1.12242126\n",
       "[3,] -1.1187934 -0.4518683 -0.5853499 -0.472049254  2.13538261\n",
       "[4,]  0.0290398 -1.1265701  0.8315215  0.342730428 -0.04670306\n",
       "[5,] -1.9313985 -1.7666592  1.3784917 -0.194104579  0.32518029\n",
       "[6,]  0.6498940 -1.2771818  1.5749042 -0.080820534  0.16611512"
      ]
     },
     "metadata": {},
     "output_type": "display_data"
    }
   ],
   "source": [
    "# Generates data\n",
    "mydata <- matrix(rnorm(30), nrow=6)\n",
    "mydata"
   ]
  },
  {
   "cell_type": "code",
   "execution_count": 15,
   "id": "4db3d8fe",
   "metadata": {
    "slideshow": {
     "slide_type": "slide"
    }
   },
   "outputs": [
    {
     "data": {
      "text/html": [
       "<ol class=list-inline>\n",
       "\t<li>-0.0134133731483493</li>\n",
       "\t<li>0.589569447233939</li>\n",
       "\t<li>-0.0985356706803802</li>\n",
       "\t<li>0.00600371432970343</li>\n",
       "\t<li>-0.437698063000708</li>\n",
       "\t<li>0.206582201893494</li>\n",
       "</ol>\n"
      ],
      "text/latex": [
       "\\begin{enumerate*}\n",
       "\\item -0.0134133731483493\n",
       "\\item 0.589569447233939\n",
       "\\item -0.0985356706803802\n",
       "\\item 0.00600371432970343\n",
       "\\item -0.437698063000708\n",
       "\\item 0.206582201893494\n",
       "\\end{enumerate*}\n"
      ],
      "text/markdown": [
       "1. -0.0134133731483493\n",
       "2. 0.589569447233939\n",
       "3. -0.0985356706803802\n",
       "4. 0.00600371432970343\n",
       "5. -0.437698063000708\n",
       "6. 0.206582201893494\n",
       "\n",
       "\n"
      ],
      "text/plain": [
       "[1] -0.013413373  0.589569447 -0.098535671  0.006003714 -0.437698063\n",
       "[6]  0.206582202"
      ]
     },
     "metadata": {},
     "output_type": "display_data"
    }
   ],
   "source": [
    "# Calculates the row means\n",
    "apply(mydata, 1, mean)"
   ]
  },
  {
   "cell_type": "code",
   "execution_count": 16,
   "id": "cefcea4f",
   "metadata": {},
   "outputs": [
    {
     "data": {
      "text/html": [
       "<ol class=list-inline>\n",
       "\t<li>0.028805067050884</li>\n",
       "\t<li>-0.880858860886526</li>\n",
       "\t<li>0.565606135919414</li>\n",
       "\t<li>-0.161446525663203</li>\n",
       "\t<li>0.65831773076918</li>\n",
       "</ol>\n"
      ],
      "text/latex": [
       "\\begin{enumerate*}\n",
       "\\item 0.028805067050884\n",
       "\\item -0.880858860886526\n",
       "\\item 0.565606135919414\n",
       "\\item -0.161446525663203\n",
       "\\item 0.65831773076918\n",
       "\\end{enumerate*}\n"
      ],
      "text/markdown": [
       "1. 0.028805067050884\n",
       "2. -0.880858860886526\n",
       "3. 0.565606135919414\n",
       "4. -0.161446525663203\n",
       "5. 0.65831773076918\n",
       "\n",
       "\n"
      ],
      "text/plain": [
       "[1]  0.02880507 -0.88085886  0.56560614 -0.16144653  0.65831773"
      ]
     },
     "metadata": {},
     "output_type": "display_data"
    }
   ],
   "source": [
    "# Calculates the column means\n",
    "apply(mydata, 2, mean)"
   ]
  },
  {
   "cell_type": "markdown",
   "id": "d9374608",
   "metadata": {
    "slideshow": {
     "slide_type": "slide"
    }
   },
   "source": [
    "# Example\n",
    "Combine subject test scores into a single performance indicator for each student, grade each student from A to F based on their relative standing (top 20%, next 20%, and so on), and sort the roster by last name followed by first name."
   ]
  },
  {
   "cell_type": "code",
   "execution_count": 12,
   "id": "32675c1c",
   "metadata": {
    "slideshow": {
     "slide_type": "slide"
    }
   },
   "outputs": [
    {
     "data": {
      "text/html": [
       "<table class=\"dataframe\">\n",
       "<caption>A data.frame: 10 × 4</caption>\n",
       "<thead>\n",
       "\t<tr><th scope=col>Student</th><th scope=col>Math</th><th scope=col>Science</th><th scope=col>English</th></tr>\n",
       "\t<tr><th scope=col>&lt;chr&gt;</th><th scope=col>&lt;dbl&gt;</th><th scope=col>&lt;dbl&gt;</th><th scope=col>&lt;dbl&gt;</th></tr>\n",
       "</thead>\n",
       "<tbody>\n",
       "\t<tr><td>John Davis       </td><td>50</td><td>95</td><td>25</td></tr>\n",
       "\t<tr><td>Angela Williams  </td><td>60</td><td>99</td><td>22</td></tr>\n",
       "\t<tr><td>Bullwinkle Moose </td><td>41</td><td>80</td><td>18</td></tr>\n",
       "\t<tr><td>David Jones      </td><td>35</td><td>82</td><td>15</td></tr>\n",
       "\t<tr><td>Janice Markhammer</td><td>49</td><td>75</td><td>20</td></tr>\n",
       "\t<tr><td>Cheryl Cushing   </td><td>51</td><td>85</td><td>28</td></tr>\n",
       "\t<tr><td>Reuven Ytzrhak   </td><td>41</td><td>80</td><td>15</td></tr>\n",
       "\t<tr><td>Greg Knox        </td><td>62</td><td>95</td><td>30</td></tr>\n",
       "\t<tr><td>Joel England     </td><td>57</td><td>89</td><td>27</td></tr>\n",
       "\t<tr><td>Mary Rayburn     </td><td>52</td><td>86</td><td>18</td></tr>\n",
       "</tbody>\n",
       "</table>\n"
      ],
      "text/latex": [
       "A data.frame: 10 × 4\n",
       "\\begin{tabular}{llll}\n",
       " Student & Math & Science & English\\\\\n",
       " <chr> & <dbl> & <dbl> & <dbl>\\\\\n",
       "\\hline\n",
       "\t John Davis        & 50 & 95 & 25\\\\\n",
       "\t Angela Williams   & 60 & 99 & 22\\\\\n",
       "\t Bullwinkle Moose  & 41 & 80 & 18\\\\\n",
       "\t David Jones       & 35 & 82 & 15\\\\\n",
       "\t Janice Markhammer & 49 & 75 & 20\\\\\n",
       "\t Cheryl Cushing    & 51 & 85 & 28\\\\\n",
       "\t Reuven Ytzrhak    & 41 & 80 & 15\\\\\n",
       "\t Greg Knox         & 62 & 95 & 30\\\\\n",
       "\t Joel England      & 57 & 89 & 27\\\\\n",
       "\t Mary Rayburn      & 52 & 86 & 18\\\\\n",
       "\\end{tabular}\n"
      ],
      "text/markdown": [
       "\n",
       "A data.frame: 10 × 4\n",
       "\n",
       "| Student &lt;chr&gt; | Math &lt;dbl&gt; | Science &lt;dbl&gt; | English &lt;dbl&gt; |\n",
       "|---|---|---|---|\n",
       "| John Davis        | 50 | 95 | 25 |\n",
       "| Angela Williams   | 60 | 99 | 22 |\n",
       "| Bullwinkle Moose  | 41 | 80 | 18 |\n",
       "| David Jones       | 35 | 82 | 15 |\n",
       "| Janice Markhammer | 49 | 75 | 20 |\n",
       "| Cheryl Cushing    | 51 | 85 | 28 |\n",
       "| Reuven Ytzrhak    | 41 | 80 | 15 |\n",
       "| Greg Knox         | 62 | 95 | 30 |\n",
       "| Joel England      | 57 | 89 | 27 |\n",
       "| Mary Rayburn      | 52 | 86 | 18 |\n",
       "\n"
      ],
      "text/plain": [
       "   Student           Math Science English\n",
       "1  John Davis        50   95      25     \n",
       "2  Angela Williams   60   99      22     \n",
       "3  Bullwinkle Moose  41   80      18     \n",
       "4  David Jones       35   82      15     \n",
       "5  Janice Markhammer 49   75      20     \n",
       "6  Cheryl Cushing    51   85      28     \n",
       "7  Reuven Ytzrhak    41   80      15     \n",
       "8  Greg Knox         62   95      30     \n",
       "9  Joel England      57   89      27     \n",
       "10 Mary Rayburn      52   86      18     "
      ]
     },
     "metadata": {},
     "output_type": "display_data"
    }
   ],
   "source": [
    "options(digits=2) # Limits the number of decimals\n",
    "Student <- c(\"John Davis\", \"Angela Williams\", \"Bullwinkle Moose\",\n",
    "\"David Jones\", \"Janice Markhammer\", \"Cheryl Cushing\",\n",
    "\"Reuven Ytzrhak\", \"Greg Knox\", \"Joel England\",\n",
    "\"Mary Rayburn\")\n",
    "Math <- c(50, 60, 41, 35, 49, 51, 41, 62, 57, 52)\n",
    "Science <- c(95, 99, 80, 82, 75, 85, 80, 95, 89, 86)\n",
    "English <- c(25, 22, 18, 15, 20, 28, 15, 30, 27, 18)\n",
    "roster <- data.frame(Student, Math, Science, English, stringsAsFactors=FALSE)\n",
    "roster"
   ]
  },
  {
   "cell_type": "code",
   "execution_count": 47,
   "id": "a554f76c",
   "metadata": {
    "slideshow": {
     "slide_type": "slide"
    }
   },
   "outputs": [
    {
     "data": {
      "text/html": [
       "<table>\n",
       "<thead><tr><th scope=col>Student</th><th scope=col>Math</th><th scope=col>Science</th><th scope=col>English</th><th scope=col>score</th></tr></thead>\n",
       "<tbody>\n",
       "\t<tr><td>John Davis       </td><td>502              </td><td>95               </td><td>25               </td><td> 0.56            </td></tr>\n",
       "\t<tr><td>Angela Williams  </td><td>600              </td><td>99               </td><td>22               </td><td> 0.92            </td></tr>\n",
       "\t<tr><td>Bullwinkle Moose </td><td>412              </td><td>80               </td><td>18               </td><td>-0.86            </td></tr>\n",
       "\t<tr><td>David Jones      </td><td>358              </td><td>82               </td><td>15               </td><td>-1.16            </td></tr>\n",
       "\t<tr><td>Janice Markhammer</td><td>495              </td><td>75               </td><td>20               </td><td>-0.63            </td></tr>\n",
       "\t<tr><td>Cheryl Cushing   </td><td>512              </td><td>85               </td><td>28               </td><td> 0.35            </td></tr>\n",
       "\t<tr><td>Reuven Ytzrhak   </td><td>410              </td><td>80               </td><td>15               </td><td>-1.05            </td></tr>\n",
       "\t<tr><td>Greg Knox        </td><td>625              </td><td>95               </td><td>30               </td><td> 1.34            </td></tr>\n",
       "\t<tr><td>Joel England     </td><td>573              </td><td>89               </td><td>27               </td><td> 0.70            </td></tr>\n",
       "\t<tr><td>Mary Rayburn     </td><td>522              </td><td>86               </td><td>18               </td><td>-0.18            </td></tr>\n",
       "</tbody>\n",
       "</table>\n"
      ],
      "text/latex": [
       "\\begin{tabular}{r|lllll}\n",
       " Student & Math & Science & English & score\\\\\n",
       "\\hline\n",
       "\t John Davis        & 502               & 95                & 25                &  0.56            \\\\\n",
       "\t Angela Williams   & 600               & 99                & 22                &  0.92            \\\\\n",
       "\t Bullwinkle Moose  & 412               & 80                & 18                & -0.86            \\\\\n",
       "\t David Jones       & 358               & 82                & 15                & -1.16            \\\\\n",
       "\t Janice Markhammer & 495               & 75                & 20                & -0.63            \\\\\n",
       "\t Cheryl Cushing    & 512               & 85                & 28                &  0.35            \\\\\n",
       "\t Reuven Ytzrhak    & 410               & 80                & 15                & -1.05            \\\\\n",
       "\t Greg Knox         & 625               & 95                & 30                &  1.34            \\\\\n",
       "\t Joel England      & 573               & 89                & 27                &  0.70            \\\\\n",
       "\t Mary Rayburn      & 522               & 86                & 18                & -0.18            \\\\\n",
       "\\end{tabular}\n"
      ],
      "text/markdown": [
       "\n",
       "| Student | Math | Science | English | score |\n",
       "|---|---|---|---|---|\n",
       "| John Davis        | 502               | 95                | 25                |  0.56             |\n",
       "| Angela Williams   | 600               | 99                | 22                |  0.92             |\n",
       "| Bullwinkle Moose  | 412               | 80                | 18                | -0.86             |\n",
       "| David Jones       | 358               | 82                | 15                | -1.16             |\n",
       "| Janice Markhammer | 495               | 75                | 20                | -0.63             |\n",
       "| Cheryl Cushing    | 512               | 85                | 28                |  0.35             |\n",
       "| Reuven Ytzrhak    | 410               | 80                | 15                | -1.05             |\n",
       "| Greg Knox         | 625               | 95                | 30                |  1.34             |\n",
       "| Joel England      | 573               | 89                | 27                |  0.70             |\n",
       "| Mary Rayburn      | 522               | 86                | 18                | -0.18             |\n",
       "\n"
      ],
      "text/plain": [
       "   Student           Math Science English score\n",
       "1  John Davis        502  95      25       0.56\n",
       "2  Angela Williams   600  99      22       0.92\n",
       "3  Bullwinkle Moose  412  80      18      -0.86\n",
       "4  David Jones       358  82      15      -1.16\n",
       "5  Janice Markhammer 495  75      20      -0.63\n",
       "6  Cheryl Cushing    512  85      28       0.35\n",
       "7  Reuven Ytzrhak    410  80      15      -1.05\n",
       "8  Greg Knox         625  95      30       1.34\n",
       "9  Joel England      573  89      27       0.70\n",
       "10 Mary Rayburn      522  86      18      -0.18"
      ]
     },
     "metadata": {},
     "output_type": "display_data"
    }
   ],
   "source": [
    "# Obtains the performance scores\n",
    "z <- scale(roster[,2:4])\n",
    "score <- apply(z, 1, mean)\n",
    "roster <- cbind(roster, score)\n",
    "roster"
   ]
  },
  {
   "cell_type": "code",
   "execution_count": 48,
   "id": "e21f093a",
   "metadata": {
    "slideshow": {
     "slide_type": "slide"
    }
   },
   "outputs": [
    {
     "data": {
      "text/html": [
       "<table>\n",
       "<thead><tr><th scope=col>Student</th><th scope=col>Math</th><th scope=col>Science</th><th scope=col>English</th><th scope=col>score</th><th scope=col>grade</th></tr></thead>\n",
       "<tbody>\n",
       "\t<tr><td>John Davis       </td><td>502              </td><td>95               </td><td>25               </td><td> 0.56            </td><td>B                </td></tr>\n",
       "\t<tr><td>Angela Williams  </td><td>600              </td><td>99               </td><td>22               </td><td> 0.92            </td><td>A                </td></tr>\n",
       "\t<tr><td>Bullwinkle Moose </td><td>412              </td><td>80               </td><td>18               </td><td>-0.86            </td><td>D                </td></tr>\n",
       "\t<tr><td>David Jones      </td><td>358              </td><td>82               </td><td>15               </td><td>-1.16            </td><td>F                </td></tr>\n",
       "\t<tr><td>Janice Markhammer</td><td>495              </td><td>75               </td><td>20               </td><td>-0.63            </td><td>D                </td></tr>\n",
       "\t<tr><td>Cheryl Cushing   </td><td>512              </td><td>85               </td><td>28               </td><td> 0.35            </td><td>C                </td></tr>\n",
       "\t<tr><td>Reuven Ytzrhak   </td><td>410              </td><td>80               </td><td>15               </td><td>-1.05            </td><td>F                </td></tr>\n",
       "\t<tr><td>Greg Knox        </td><td>625              </td><td>95               </td><td>30               </td><td> 1.34            </td><td>A                </td></tr>\n",
       "\t<tr><td>Joel England     </td><td>573              </td><td>89               </td><td>27               </td><td> 0.70            </td><td>B                </td></tr>\n",
       "\t<tr><td>Mary Rayburn     </td><td>522              </td><td>86               </td><td>18               </td><td>-0.18            </td><td>C                </td></tr>\n",
       "</tbody>\n",
       "</table>\n"
      ],
      "text/latex": [
       "\\begin{tabular}{r|llllll}\n",
       " Student & Math & Science & English & score & grade\\\\\n",
       "\\hline\n",
       "\t John Davis        & 502               & 95                & 25                &  0.56             & B                \\\\\n",
       "\t Angela Williams   & 600               & 99                & 22                &  0.92             & A                \\\\\n",
       "\t Bullwinkle Moose  & 412               & 80                & 18                & -0.86             & D                \\\\\n",
       "\t David Jones       & 358               & 82                & 15                & -1.16             & F                \\\\\n",
       "\t Janice Markhammer & 495               & 75                & 20                & -0.63             & D                \\\\\n",
       "\t Cheryl Cushing    & 512               & 85                & 28                &  0.35             & C                \\\\\n",
       "\t Reuven Ytzrhak    & 410               & 80                & 15                & -1.05             & F                \\\\\n",
       "\t Greg Knox         & 625               & 95                & 30                &  1.34             & A                \\\\\n",
       "\t Joel England      & 573               & 89                & 27                &  0.70             & B                \\\\\n",
       "\t Mary Rayburn      & 522               & 86                & 18                & -0.18             & C                \\\\\n",
       "\\end{tabular}\n"
      ],
      "text/markdown": [
       "\n",
       "| Student | Math | Science | English | score | grade |\n",
       "|---|---|---|---|---|---|\n",
       "| John Davis        | 502               | 95                | 25                |  0.56             | B                 |\n",
       "| Angela Williams   | 600               | 99                | 22                |  0.92             | A                 |\n",
       "| Bullwinkle Moose  | 412               | 80                | 18                | -0.86             | D                 |\n",
       "| David Jones       | 358               | 82                | 15                | -1.16             | F                 |\n",
       "| Janice Markhammer | 495               | 75                | 20                | -0.63             | D                 |\n",
       "| Cheryl Cushing    | 512               | 85                | 28                |  0.35             | C                 |\n",
       "| Reuven Ytzrhak    | 410               | 80                | 15                | -1.05             | F                 |\n",
       "| Greg Knox         | 625               | 95                | 30                |  1.34             | A                 |\n",
       "| Joel England      | 573               | 89                | 27                |  0.70             | B                 |\n",
       "| Mary Rayburn      | 522               | 86                | 18                | -0.18             | C                 |\n",
       "\n"
      ],
      "text/plain": [
       "   Student           Math Science English score grade\n",
       "1  John Davis        502  95      25       0.56 B    \n",
       "2  Angela Williams   600  99      22       0.92 A    \n",
       "3  Bullwinkle Moose  412  80      18      -0.86 D    \n",
       "4  David Jones       358  82      15      -1.16 F    \n",
       "5  Janice Markhammer 495  75      20      -0.63 D    \n",
       "6  Cheryl Cushing    512  85      28       0.35 C    \n",
       "7  Reuven Ytzrhak    410  80      15      -1.05 F    \n",
       "8  Greg Knox         625  95      30       1.34 A    \n",
       "9  Joel England      573  89      27       0.70 B    \n",
       "10 Mary Rayburn      522  86      18      -0.18 C    "
      ]
     },
     "metadata": {},
     "output_type": "display_data"
    }
   ],
   "source": [
    "# Grade the Students \n",
    "y <- quantile(score, c(.8,.6,.4,.2))\n",
    "roster$grade[score >= y[1]] <- \"A\"\n",
    "roster$grade[score < y[1] & score >= y[2]] <- \"B\"\n",
    "roster$grade[score < y[2] & score >= y[3]] <- \"C\"\n",
    "roster$grade[score < y[3] & score >= y[4]] <- \"D\"\n",
    "roster$grade[score < y[4]] <- \"F\"\n",
    "roster"
   ]
  },
  {
   "cell_type": "code",
   "execution_count": 49,
   "id": "7c135881",
   "metadata": {
    "slideshow": {
     "slide_type": "slide"
    }
   },
   "outputs": [],
   "source": [
    "# Extracts the last and first names\n",
    "name <- strsplit((roster$Student), \" \")\n",
    "Lastname <- sapply(name, \"[\", 2)\n",
    "Firstname <- sapply(name, \"[\", 1)\n",
    "roster <- cbind(Firstname,Lastname, roster[,-1])"
   ]
  },
  {
   "cell_type": "code",
   "execution_count": 50,
   "id": "11b23af3",
   "metadata": {
    "slideshow": {
     "slide_type": "slide"
    }
   },
   "outputs": [
    {
     "data": {
      "text/html": [
       "<table>\n",
       "<thead><tr><th></th><th scope=col>Firstname</th><th scope=col>Lastname</th><th scope=col>Math</th><th scope=col>Science</th><th scope=col>English</th><th scope=col>score</th><th scope=col>grade</th></tr></thead>\n",
       "<tbody>\n",
       "\t<tr><th scope=row>6</th><td>Cheryl    </td><td>Cushing   </td><td>512       </td><td>85        </td><td>28        </td><td> 0.35     </td><td>C         </td></tr>\n",
       "\t<tr><th scope=row>1</th><td>John      </td><td>Davis     </td><td>502       </td><td>95        </td><td>25        </td><td> 0.56     </td><td>B         </td></tr>\n",
       "\t<tr><th scope=row>9</th><td>Joel      </td><td>England   </td><td>573       </td><td>89        </td><td>27        </td><td> 0.70     </td><td>B         </td></tr>\n",
       "\t<tr><th scope=row>4</th><td>David     </td><td>Jones     </td><td>358       </td><td>82        </td><td>15        </td><td>-1.16     </td><td>F         </td></tr>\n",
       "\t<tr><th scope=row>8</th><td>Greg      </td><td>Knox      </td><td>625       </td><td>95        </td><td>30        </td><td> 1.34     </td><td>A         </td></tr>\n",
       "\t<tr><th scope=row>5</th><td>Janice    </td><td>Markhammer</td><td>495       </td><td>75        </td><td>20        </td><td>-0.63     </td><td>D         </td></tr>\n",
       "\t<tr><th scope=row>3</th><td>Bullwinkle</td><td>Moose     </td><td>412       </td><td>80        </td><td>18        </td><td>-0.86     </td><td>D         </td></tr>\n",
       "\t<tr><th scope=row>10</th><td>Mary      </td><td>Rayburn   </td><td>522       </td><td>86        </td><td>18        </td><td>-0.18     </td><td>C         </td></tr>\n",
       "\t<tr><th scope=row>2</th><td>Angela    </td><td>Williams  </td><td>600       </td><td>99        </td><td>22        </td><td> 0.92     </td><td>A         </td></tr>\n",
       "\t<tr><th scope=row>7</th><td>Reuven    </td><td>Ytzrhak   </td><td>410       </td><td>80        </td><td>15        </td><td>-1.05     </td><td>F         </td></tr>\n",
       "</tbody>\n",
       "</table>\n"
      ],
      "text/latex": [
       "\\begin{tabular}{r|lllllll}\n",
       "  & Firstname & Lastname & Math & Science & English & score & grade\\\\\n",
       "\\hline\n",
       "\t6 & Cheryl     & Cushing    & 512        & 85         & 28         &  0.35      & C         \\\\\n",
       "\t1 & John       & Davis      & 502        & 95         & 25         &  0.56      & B         \\\\\n",
       "\t9 & Joel       & England    & 573        & 89         & 27         &  0.70      & B         \\\\\n",
       "\t4 & David      & Jones      & 358        & 82         & 15         & -1.16      & F         \\\\\n",
       "\t8 & Greg       & Knox       & 625        & 95         & 30         &  1.34      & A         \\\\\n",
       "\t5 & Janice     & Markhammer & 495        & 75         & 20         & -0.63      & D         \\\\\n",
       "\t3 & Bullwinkle & Moose      & 412        & 80         & 18         & -0.86      & D         \\\\\n",
       "\t10 & Mary       & Rayburn    & 522        & 86         & 18         & -0.18      & C         \\\\\n",
       "\t2 & Angela     & Williams   & 600        & 99         & 22         &  0.92      & A         \\\\\n",
       "\t7 & Reuven     & Ytzrhak    & 410        & 80         & 15         & -1.05      & F         \\\\\n",
       "\\end{tabular}\n"
      ],
      "text/markdown": [
       "\n",
       "| <!--/--> | Firstname | Lastname | Math | Science | English | score | grade |\n",
       "|---|---|---|---|---|---|---|---|\n",
       "| 6 | Cheryl     | Cushing    | 512        | 85         | 28         |  0.35      | C          |\n",
       "| 1 | John       | Davis      | 502        | 95         | 25         |  0.56      | B          |\n",
       "| 9 | Joel       | England    | 573        | 89         | 27         |  0.70      | B          |\n",
       "| 4 | David      | Jones      | 358        | 82         | 15         | -1.16      | F          |\n",
       "| 8 | Greg       | Knox       | 625        | 95         | 30         |  1.34      | A          |\n",
       "| 5 | Janice     | Markhammer | 495        | 75         | 20         | -0.63      | D          |\n",
       "| 3 | Bullwinkle | Moose      | 412        | 80         | 18         | -0.86      | D          |\n",
       "| 10 | Mary       | Rayburn    | 522        | 86         | 18         | -0.18      | C          |\n",
       "| 2 | Angela     | Williams   | 600        | 99         | 22         |  0.92      | A          |\n",
       "| 7 | Reuven     | Ytzrhak    | 410        | 80         | 15         | -1.05      | F          |\n",
       "\n"
      ],
      "text/plain": [
       "   Firstname  Lastname   Math Science English score grade\n",
       "6  Cheryl     Cushing    512  85      28       0.35 C    \n",
       "1  John       Davis      502  95      25       0.56 B    \n",
       "9  Joel       England    573  89      27       0.70 B    \n",
       "4  David      Jones      358  82      15      -1.16 F    \n",
       "8  Greg       Knox       625  95      30       1.34 A    \n",
       "5  Janice     Markhammer 495  75      20      -0.63 D    \n",
       "3  Bullwinkle Moose      412  80      18      -0.86 D    \n",
       "10 Mary       Rayburn    522  86      18      -0.18 C    \n",
       "2  Angela     Williams   600  99      22       0.92 A    \n",
       "7  Reuven     Ytzrhak    410  80      15      -1.05 F    "
      ]
     },
     "metadata": {},
     "output_type": "display_data"
    }
   ],
   "source": [
    "# Sort by last and First Name\n",
    "roster <- roster[order(Lastname,Firstname),]\n",
    "roster"
   ]
  },
  {
   "cell_type": "markdown",
   "id": "dead0e8d",
   "metadata": {
    "slideshow": {
     "slide_type": "slide"
    }
   },
   "source": [
    "# Aggregation and reshaping"
   ]
  },
  {
   "cell_type": "code",
   "execution_count": 51,
   "id": "d38d08b7",
   "metadata": {
    "slideshow": {
     "slide_type": "slide"
    }
   },
   "outputs": [
    {
     "data": {
      "text/html": [
       "<table>\n",
       "<thead><tr><th></th><th scope=col>mpg</th><th scope=col>cyl</th><th scope=col>disp</th><th scope=col>hp</th></tr></thead>\n",
       "<tbody>\n",
       "\t<tr><th scope=row>Mazda RX4</th><td>21 </td><td>6  </td><td>160</td><td>110</td></tr>\n",
       "\t<tr><th scope=row>Mazda RX4 Wag</th><td>21 </td><td>6  </td><td>160</td><td>110</td></tr>\n",
       "\t<tr><th scope=row>Datsun 710</th><td>23 </td><td>4  </td><td>108</td><td> 93</td></tr>\n",
       "\t<tr><th scope=row>Hornet 4 Drive</th><td>21 </td><td>6  </td><td>258</td><td>110</td></tr>\n",
       "\t<tr><th scope=row>Hornet Sportabout</th><td>19 </td><td>8  </td><td>360</td><td>175</td></tr>\n",
       "</tbody>\n",
       "</table>\n"
      ],
      "text/latex": [
       "\\begin{tabular}{r|llll}\n",
       "  & mpg & cyl & disp & hp\\\\\n",
       "\\hline\n",
       "\tMazda RX4 & 21  & 6   & 160 & 110\\\\\n",
       "\tMazda RX4 Wag & 21  & 6   & 160 & 110\\\\\n",
       "\tDatsun 710 & 23  & 4   & 108 &  93\\\\\n",
       "\tHornet 4 Drive & 21  & 6   & 258 & 110\\\\\n",
       "\tHornet Sportabout & 19  & 8   & 360 & 175\\\\\n",
       "\\end{tabular}\n"
      ],
      "text/markdown": [
       "\n",
       "| <!--/--> | mpg | cyl | disp | hp |\n",
       "|---|---|---|---|---|\n",
       "| Mazda RX4 | 21  | 6   | 160 | 110 |\n",
       "| Mazda RX4 Wag | 21  | 6   | 160 | 110 |\n",
       "| Datsun 710 | 23  | 4   | 108 |  93 |\n",
       "| Hornet 4 Drive | 21  | 6   | 258 | 110 |\n",
       "| Hornet Sportabout | 19  | 8   | 360 | 175 |\n",
       "\n"
      ],
      "text/plain": [
       "                  mpg cyl disp hp \n",
       "Mazda RX4         21  6   160  110\n",
       "Mazda RX4 Wag     21  6   160  110\n",
       "Datsun 710        23  4   108   93\n",
       "Hornet 4 Drive    21  6   258  110\n",
       "Hornet Sportabout 19  8   360  175"
      ]
     },
     "metadata": {},
     "output_type": "display_data"
    }
   ],
   "source": [
    "# Transpose a Dataset\n",
    "cars <- mtcars[1:5,1:4]\n",
    "cars"
   ]
  },
  {
   "cell_type": "code",
   "execution_count": 52,
   "id": "f2062838",
   "metadata": {},
   "outputs": [
    {
     "data": {
      "text/html": [
       "<table>\n",
       "<thead><tr><th></th><th scope=col>Mazda RX4</th><th scope=col>Mazda RX4 Wag</th><th scope=col>Datsun 710</th><th scope=col>Hornet 4 Drive</th><th scope=col>Hornet Sportabout</th></tr></thead>\n",
       "<tbody>\n",
       "\t<tr><th scope=row>mpg</th><td> 21</td><td> 21</td><td> 23</td><td> 21</td><td> 19</td></tr>\n",
       "\t<tr><th scope=row>cyl</th><td>  6</td><td>  6</td><td>  4</td><td>  6</td><td>  8</td></tr>\n",
       "\t<tr><th scope=row>disp</th><td>160</td><td>160</td><td>108</td><td>258</td><td>360</td></tr>\n",
       "\t<tr><th scope=row>hp</th><td>110</td><td>110</td><td> 93</td><td>110</td><td>175</td></tr>\n",
       "</tbody>\n",
       "</table>\n"
      ],
      "text/latex": [
       "\\begin{tabular}{r|lllll}\n",
       "  & Mazda RX4 & Mazda RX4 Wag & Datsun 710 & Hornet 4 Drive & Hornet Sportabout\\\\\n",
       "\\hline\n",
       "\tmpg &  21 &  21 &  23 &  21 &  19\\\\\n",
       "\tcyl &   6 &   6 &   4 &   6 &   8\\\\\n",
       "\tdisp & 160 & 160 & 108 & 258 & 360\\\\\n",
       "\thp & 110 & 110 &  93 & 110 & 175\\\\\n",
       "\\end{tabular}\n"
      ],
      "text/markdown": [
       "\n",
       "| <!--/--> | Mazda RX4 | Mazda RX4 Wag | Datsun 710 | Hornet 4 Drive | Hornet Sportabout |\n",
       "|---|---|---|---|---|---|\n",
       "| mpg |  21 |  21 |  23 |  21 |  19 |\n",
       "| cyl |   6 |   6 |   4 |   6 |   8 |\n",
       "| disp | 160 | 160 | 108 | 258 | 360 |\n",
       "| hp | 110 | 110 |  93 | 110 | 175 |\n",
       "\n"
      ],
      "text/plain": [
       "     Mazda RX4 Mazda RX4 Wag Datsun 710 Hornet 4 Drive Hornet Sportabout\n",
       "mpg   21        21            23         21             19              \n",
       "cyl    6         6             4          6              8              \n",
       "disp 160       160           108        258            360              \n",
       "hp   110       110            93        110            175              "
      ]
     },
     "metadata": {},
     "output_type": "display_data"
    }
   ],
   "source": [
    "t(cars)"
   ]
  },
  {
   "cell_type": "code",
   "execution_count": 53,
   "id": "46d7c806",
   "metadata": {
    "scrolled": true,
    "slideshow": {
     "slide_type": "slide"
    }
   },
   "outputs": [
    {
     "data": {
      "text/html": [
       "<table>\n",
       "<thead><tr><th></th><th scope=col>mpg</th><th scope=col>cyl</th><th scope=col>disp</th><th scope=col>hp</th><th scope=col>drat</th><th scope=col>wt</th><th scope=col>qsec</th><th scope=col>vs</th><th scope=col>am</th><th scope=col>gear</th><th scope=col>carb</th></tr></thead>\n",
       "<tbody>\n",
       "\t<tr><th scope=row>Mazda RX4</th><td>21.0 </td><td>6    </td><td>160.0</td><td>110  </td><td>3.90 </td><td>2.62 </td><td>16.5 </td><td>0    </td><td>1    </td><td>4    </td><td>4    </td></tr>\n",
       "\t<tr><th scope=row>Mazda RX4 Wag</th><td>21.0 </td><td>6    </td><td>160.0</td><td>110  </td><td>3.90 </td><td>2.88 </td><td>17.0 </td><td>0    </td><td>1    </td><td>4    </td><td>4    </td></tr>\n",
       "\t<tr><th scope=row>Datsun 710</th><td>22.8 </td><td>4    </td><td>108.0</td><td> 93  </td><td>3.85 </td><td>2.32 </td><td>18.6 </td><td>1    </td><td>1    </td><td>4    </td><td>1    </td></tr>\n",
       "\t<tr><th scope=row>Hornet 4 Drive</th><td>21.4 </td><td>6    </td><td>258.0</td><td>110  </td><td>3.08 </td><td>3.21 </td><td>19.4 </td><td>1    </td><td>0    </td><td>3    </td><td>1    </td></tr>\n",
       "\t<tr><th scope=row>Hornet Sportabout</th><td>18.7 </td><td>8    </td><td>360.0</td><td>175  </td><td>3.15 </td><td>3.44 </td><td>17.0 </td><td>0    </td><td>0    </td><td>3    </td><td>2    </td></tr>\n",
       "\t<tr><th scope=row>Valiant</th><td>18.1 </td><td>6    </td><td>225.0</td><td>105  </td><td>2.76 </td><td>3.46 </td><td>20.2 </td><td>1    </td><td>0    </td><td>3    </td><td>1    </td></tr>\n",
       "\t<tr><th scope=row>Duster 360</th><td>14.3 </td><td>8    </td><td>360.0</td><td>245  </td><td>3.21 </td><td>3.57 </td><td>15.8 </td><td>0    </td><td>0    </td><td>3    </td><td>4    </td></tr>\n",
       "\t<tr><th scope=row>Merc 240D</th><td>24.4 </td><td>4    </td><td>146.7</td><td> 62  </td><td>3.69 </td><td>3.19 </td><td>20.0 </td><td>1    </td><td>0    </td><td>4    </td><td>2    </td></tr>\n",
       "\t<tr><th scope=row>Merc 230</th><td>22.8 </td><td>4    </td><td>140.8</td><td> 95  </td><td>3.92 </td><td>3.15 </td><td>22.9 </td><td>1    </td><td>0    </td><td>4    </td><td>2    </td></tr>\n",
       "\t<tr><th scope=row>Merc 280</th><td>19.2 </td><td>6    </td><td>167.6</td><td>123  </td><td>3.92 </td><td>3.44 </td><td>18.3 </td><td>1    </td><td>0    </td><td>4    </td><td>4    </td></tr>\n",
       "\t<tr><th scope=row>Merc 280C</th><td>17.8 </td><td>6    </td><td>167.6</td><td>123  </td><td>3.92 </td><td>3.44 </td><td>18.9 </td><td>1    </td><td>0    </td><td>4    </td><td>4    </td></tr>\n",
       "\t<tr><th scope=row>Merc 450SE</th><td>16.4 </td><td>8    </td><td>275.8</td><td>180  </td><td>3.07 </td><td>4.07 </td><td>17.4 </td><td>0    </td><td>0    </td><td>3    </td><td>3    </td></tr>\n",
       "\t<tr><th scope=row>Merc 450SL</th><td>17.3 </td><td>8    </td><td>275.8</td><td>180  </td><td>3.07 </td><td>3.73 </td><td>17.6 </td><td>0    </td><td>0    </td><td>3    </td><td>3    </td></tr>\n",
       "\t<tr><th scope=row>Merc 450SLC</th><td>15.2 </td><td>8    </td><td>275.8</td><td>180  </td><td>3.07 </td><td>3.78 </td><td>18.0 </td><td>0    </td><td>0    </td><td>3    </td><td>3    </td></tr>\n",
       "\t<tr><th scope=row>Cadillac Fleetwood</th><td>10.4 </td><td>8    </td><td>472.0</td><td>205  </td><td>2.93 </td><td>5.25 </td><td>18.0 </td><td>0    </td><td>0    </td><td>3    </td><td>4    </td></tr>\n",
       "\t<tr><th scope=row>Lincoln Continental</th><td>10.4 </td><td>8    </td><td>460.0</td><td>215  </td><td>3.00 </td><td>5.42 </td><td>17.8 </td><td>0    </td><td>0    </td><td>3    </td><td>4    </td></tr>\n",
       "\t<tr><th scope=row>Chrysler Imperial</th><td>14.7 </td><td>8    </td><td>440.0</td><td>230  </td><td>3.23 </td><td>5.34 </td><td>17.4 </td><td>0    </td><td>0    </td><td>3    </td><td>4    </td></tr>\n",
       "\t<tr><th scope=row>Fiat 128</th><td>32.4 </td><td>4    </td><td> 78.7</td><td> 66  </td><td>4.08 </td><td>2.20 </td><td>19.5 </td><td>1    </td><td>1    </td><td>4    </td><td>1    </td></tr>\n",
       "\t<tr><th scope=row>Honda Civic</th><td>30.4 </td><td>4    </td><td> 75.7</td><td> 52  </td><td>4.93 </td><td>1.61 </td><td>18.5 </td><td>1    </td><td>1    </td><td>4    </td><td>2    </td></tr>\n",
       "\t<tr><th scope=row>Toyota Corolla</th><td>33.9 </td><td>4    </td><td> 71.1</td><td> 65  </td><td>4.22 </td><td>1.83 </td><td>19.9 </td><td>1    </td><td>1    </td><td>4    </td><td>1    </td></tr>\n",
       "\t<tr><th scope=row>Toyota Corona</th><td>21.5 </td><td>4    </td><td>120.1</td><td> 97  </td><td>3.70 </td><td>2.46 </td><td>20.0 </td><td>1    </td><td>0    </td><td>3    </td><td>1    </td></tr>\n",
       "\t<tr><th scope=row>Dodge Challenger</th><td>15.5 </td><td>8    </td><td>318.0</td><td>150  </td><td>2.76 </td><td>3.52 </td><td>16.9 </td><td>0    </td><td>0    </td><td>3    </td><td>2    </td></tr>\n",
       "\t<tr><th scope=row>AMC Javelin</th><td>15.2 </td><td>8    </td><td>304.0</td><td>150  </td><td>3.15 </td><td>3.44 </td><td>17.3 </td><td>0    </td><td>0    </td><td>3    </td><td>2    </td></tr>\n",
       "\t<tr><th scope=row>Camaro Z28</th><td>13.3 </td><td>8    </td><td>350.0</td><td>245  </td><td>3.73 </td><td>3.84 </td><td>15.4 </td><td>0    </td><td>0    </td><td>3    </td><td>4    </td></tr>\n",
       "\t<tr><th scope=row>Pontiac Firebird</th><td>19.2 </td><td>8    </td><td>400.0</td><td>175  </td><td>3.08 </td><td>3.85 </td><td>17.1 </td><td>0    </td><td>0    </td><td>3    </td><td>2    </td></tr>\n",
       "\t<tr><th scope=row>Fiat X1-9</th><td>27.3 </td><td>4    </td><td> 79.0</td><td> 66  </td><td>4.08 </td><td>1.94 </td><td>18.9 </td><td>1    </td><td>1    </td><td>4    </td><td>1    </td></tr>\n",
       "\t<tr><th scope=row>Porsche 914-2</th><td>26.0 </td><td>4    </td><td>120.3</td><td> 91  </td><td>4.43 </td><td>2.14 </td><td>16.7 </td><td>0    </td><td>1    </td><td>5    </td><td>2    </td></tr>\n",
       "\t<tr><th scope=row>Lotus Europa</th><td>30.4 </td><td>4    </td><td> 95.1</td><td>113  </td><td>3.77 </td><td>1.51 </td><td>16.9 </td><td>1    </td><td>1    </td><td>5    </td><td>2    </td></tr>\n",
       "\t<tr><th scope=row>Ford Pantera L</th><td>15.8 </td><td>8    </td><td>351.0</td><td>264  </td><td>4.22 </td><td>3.17 </td><td>14.5 </td><td>0    </td><td>1    </td><td>5    </td><td>4    </td></tr>\n",
       "\t<tr><th scope=row>Ferrari Dino</th><td>19.7 </td><td>6    </td><td>145.0</td><td>175  </td><td>3.62 </td><td>2.77 </td><td>15.5 </td><td>0    </td><td>1    </td><td>5    </td><td>6    </td></tr>\n",
       "\t<tr><th scope=row>Maserati Bora</th><td>15.0 </td><td>8    </td><td>301.0</td><td>335  </td><td>3.54 </td><td>3.57 </td><td>14.6 </td><td>0    </td><td>1    </td><td>5    </td><td>8    </td></tr>\n",
       "\t<tr><th scope=row>Volvo 142E</th><td>21.4 </td><td>4    </td><td>121.0</td><td>109  </td><td>4.11 </td><td>2.78 </td><td>18.6 </td><td>1    </td><td>1    </td><td>4    </td><td>2    </td></tr>\n",
       "</tbody>\n",
       "</table>\n"
      ],
      "text/latex": [
       "\\begin{tabular}{r|lllllllllll}\n",
       "  & mpg & cyl & disp & hp & drat & wt & qsec & vs & am & gear & carb\\\\\n",
       "\\hline\n",
       "\tMazda RX4 & 21.0  & 6     & 160.0 & 110   & 3.90  & 2.62  & 16.5  & 0     & 1     & 4     & 4    \\\\\n",
       "\tMazda RX4 Wag & 21.0  & 6     & 160.0 & 110   & 3.90  & 2.88  & 17.0  & 0     & 1     & 4     & 4    \\\\\n",
       "\tDatsun 710 & 22.8  & 4     & 108.0 &  93   & 3.85  & 2.32  & 18.6  & 1     & 1     & 4     & 1    \\\\\n",
       "\tHornet 4 Drive & 21.4  & 6     & 258.0 & 110   & 3.08  & 3.21  & 19.4  & 1     & 0     & 3     & 1    \\\\\n",
       "\tHornet Sportabout & 18.7  & 8     & 360.0 & 175   & 3.15  & 3.44  & 17.0  & 0     & 0     & 3     & 2    \\\\\n",
       "\tValiant & 18.1  & 6     & 225.0 & 105   & 2.76  & 3.46  & 20.2  & 1     & 0     & 3     & 1    \\\\\n",
       "\tDuster 360 & 14.3  & 8     & 360.0 & 245   & 3.21  & 3.57  & 15.8  & 0     & 0     & 3     & 4    \\\\\n",
       "\tMerc 240D & 24.4  & 4     & 146.7 &  62   & 3.69  & 3.19  & 20.0  & 1     & 0     & 4     & 2    \\\\\n",
       "\tMerc 230 & 22.8  & 4     & 140.8 &  95   & 3.92  & 3.15  & 22.9  & 1     & 0     & 4     & 2    \\\\\n",
       "\tMerc 280 & 19.2  & 6     & 167.6 & 123   & 3.92  & 3.44  & 18.3  & 1     & 0     & 4     & 4    \\\\\n",
       "\tMerc 280C & 17.8  & 6     & 167.6 & 123   & 3.92  & 3.44  & 18.9  & 1     & 0     & 4     & 4    \\\\\n",
       "\tMerc 450SE & 16.4  & 8     & 275.8 & 180   & 3.07  & 4.07  & 17.4  & 0     & 0     & 3     & 3    \\\\\n",
       "\tMerc 450SL & 17.3  & 8     & 275.8 & 180   & 3.07  & 3.73  & 17.6  & 0     & 0     & 3     & 3    \\\\\n",
       "\tMerc 450SLC & 15.2  & 8     & 275.8 & 180   & 3.07  & 3.78  & 18.0  & 0     & 0     & 3     & 3    \\\\\n",
       "\tCadillac Fleetwood & 10.4  & 8     & 472.0 & 205   & 2.93  & 5.25  & 18.0  & 0     & 0     & 3     & 4    \\\\\n",
       "\tLincoln Continental & 10.4  & 8     & 460.0 & 215   & 3.00  & 5.42  & 17.8  & 0     & 0     & 3     & 4    \\\\\n",
       "\tChrysler Imperial & 14.7  & 8     & 440.0 & 230   & 3.23  & 5.34  & 17.4  & 0     & 0     & 3     & 4    \\\\\n",
       "\tFiat 128 & 32.4  & 4     &  78.7 &  66   & 4.08  & 2.20  & 19.5  & 1     & 1     & 4     & 1    \\\\\n",
       "\tHonda Civic & 30.4  & 4     &  75.7 &  52   & 4.93  & 1.61  & 18.5  & 1     & 1     & 4     & 2    \\\\\n",
       "\tToyota Corolla & 33.9  & 4     &  71.1 &  65   & 4.22  & 1.83  & 19.9  & 1     & 1     & 4     & 1    \\\\\n",
       "\tToyota Corona & 21.5  & 4     & 120.1 &  97   & 3.70  & 2.46  & 20.0  & 1     & 0     & 3     & 1    \\\\\n",
       "\tDodge Challenger & 15.5  & 8     & 318.0 & 150   & 2.76  & 3.52  & 16.9  & 0     & 0     & 3     & 2    \\\\\n",
       "\tAMC Javelin & 15.2  & 8     & 304.0 & 150   & 3.15  & 3.44  & 17.3  & 0     & 0     & 3     & 2    \\\\\n",
       "\tCamaro Z28 & 13.3  & 8     & 350.0 & 245   & 3.73  & 3.84  & 15.4  & 0     & 0     & 3     & 4    \\\\\n",
       "\tPontiac Firebird & 19.2  & 8     & 400.0 & 175   & 3.08  & 3.85  & 17.1  & 0     & 0     & 3     & 2    \\\\\n",
       "\tFiat X1-9 & 27.3  & 4     &  79.0 &  66   & 4.08  & 1.94  & 18.9  & 1     & 1     & 4     & 1    \\\\\n",
       "\tPorsche 914-2 & 26.0  & 4     & 120.3 &  91   & 4.43  & 2.14  & 16.7  & 0     & 1     & 5     & 2    \\\\\n",
       "\tLotus Europa & 30.4  & 4     &  95.1 & 113   & 3.77  & 1.51  & 16.9  & 1     & 1     & 5     & 2    \\\\\n",
       "\tFord Pantera L & 15.8  & 8     & 351.0 & 264   & 4.22  & 3.17  & 14.5  & 0     & 1     & 5     & 4    \\\\\n",
       "\tFerrari Dino & 19.7  & 6     & 145.0 & 175   & 3.62  & 2.77  & 15.5  & 0     & 1     & 5     & 6    \\\\\n",
       "\tMaserati Bora & 15.0  & 8     & 301.0 & 335   & 3.54  & 3.57  & 14.6  & 0     & 1     & 5     & 8    \\\\\n",
       "\tVolvo 142E & 21.4  & 4     & 121.0 & 109   & 4.11  & 2.78  & 18.6  & 1     & 1     & 4     & 2    \\\\\n",
       "\\end{tabular}\n"
      ],
      "text/markdown": [
       "\n",
       "| <!--/--> | mpg | cyl | disp | hp | drat | wt | qsec | vs | am | gear | carb |\n",
       "|---|---|---|---|---|---|---|---|---|---|---|---|\n",
       "| Mazda RX4 | 21.0  | 6     | 160.0 | 110   | 3.90  | 2.62  | 16.5  | 0     | 1     | 4     | 4     |\n",
       "| Mazda RX4 Wag | 21.0  | 6     | 160.0 | 110   | 3.90  | 2.88  | 17.0  | 0     | 1     | 4     | 4     |\n",
       "| Datsun 710 | 22.8  | 4     | 108.0 |  93   | 3.85  | 2.32  | 18.6  | 1     | 1     | 4     | 1     |\n",
       "| Hornet 4 Drive | 21.4  | 6     | 258.0 | 110   | 3.08  | 3.21  | 19.4  | 1     | 0     | 3     | 1     |\n",
       "| Hornet Sportabout | 18.7  | 8     | 360.0 | 175   | 3.15  | 3.44  | 17.0  | 0     | 0     | 3     | 2     |\n",
       "| Valiant | 18.1  | 6     | 225.0 | 105   | 2.76  | 3.46  | 20.2  | 1     | 0     | 3     | 1     |\n",
       "| Duster 360 | 14.3  | 8     | 360.0 | 245   | 3.21  | 3.57  | 15.8  | 0     | 0     | 3     | 4     |\n",
       "| Merc 240D | 24.4  | 4     | 146.7 |  62   | 3.69  | 3.19  | 20.0  | 1     | 0     | 4     | 2     |\n",
       "| Merc 230 | 22.8  | 4     | 140.8 |  95   | 3.92  | 3.15  | 22.9  | 1     | 0     | 4     | 2     |\n",
       "| Merc 280 | 19.2  | 6     | 167.6 | 123   | 3.92  | 3.44  | 18.3  | 1     | 0     | 4     | 4     |\n",
       "| Merc 280C | 17.8  | 6     | 167.6 | 123   | 3.92  | 3.44  | 18.9  | 1     | 0     | 4     | 4     |\n",
       "| Merc 450SE | 16.4  | 8     | 275.8 | 180   | 3.07  | 4.07  | 17.4  | 0     | 0     | 3     | 3     |\n",
       "| Merc 450SL | 17.3  | 8     | 275.8 | 180   | 3.07  | 3.73  | 17.6  | 0     | 0     | 3     | 3     |\n",
       "| Merc 450SLC | 15.2  | 8     | 275.8 | 180   | 3.07  | 3.78  | 18.0  | 0     | 0     | 3     | 3     |\n",
       "| Cadillac Fleetwood | 10.4  | 8     | 472.0 | 205   | 2.93  | 5.25  | 18.0  | 0     | 0     | 3     | 4     |\n",
       "| Lincoln Continental | 10.4  | 8     | 460.0 | 215   | 3.00  | 5.42  | 17.8  | 0     | 0     | 3     | 4     |\n",
       "| Chrysler Imperial | 14.7  | 8     | 440.0 | 230   | 3.23  | 5.34  | 17.4  | 0     | 0     | 3     | 4     |\n",
       "| Fiat 128 | 32.4  | 4     |  78.7 |  66   | 4.08  | 2.20  | 19.5  | 1     | 1     | 4     | 1     |\n",
       "| Honda Civic | 30.4  | 4     |  75.7 |  52   | 4.93  | 1.61  | 18.5  | 1     | 1     | 4     | 2     |\n",
       "| Toyota Corolla | 33.9  | 4     |  71.1 |  65   | 4.22  | 1.83  | 19.9  | 1     | 1     | 4     | 1     |\n",
       "| Toyota Corona | 21.5  | 4     | 120.1 |  97   | 3.70  | 2.46  | 20.0  | 1     | 0     | 3     | 1     |\n",
       "| Dodge Challenger | 15.5  | 8     | 318.0 | 150   | 2.76  | 3.52  | 16.9  | 0     | 0     | 3     | 2     |\n",
       "| AMC Javelin | 15.2  | 8     | 304.0 | 150   | 3.15  | 3.44  | 17.3  | 0     | 0     | 3     | 2     |\n",
       "| Camaro Z28 | 13.3  | 8     | 350.0 | 245   | 3.73  | 3.84  | 15.4  | 0     | 0     | 3     | 4     |\n",
       "| Pontiac Firebird | 19.2  | 8     | 400.0 | 175   | 3.08  | 3.85  | 17.1  | 0     | 0     | 3     | 2     |\n",
       "| Fiat X1-9 | 27.3  | 4     |  79.0 |  66   | 4.08  | 1.94  | 18.9  | 1     | 1     | 4     | 1     |\n",
       "| Porsche 914-2 | 26.0  | 4     | 120.3 |  91   | 4.43  | 2.14  | 16.7  | 0     | 1     | 5     | 2     |\n",
       "| Lotus Europa | 30.4  | 4     |  95.1 | 113   | 3.77  | 1.51  | 16.9  | 1     | 1     | 5     | 2     |\n",
       "| Ford Pantera L | 15.8  | 8     | 351.0 | 264   | 4.22  | 3.17  | 14.5  | 0     | 1     | 5     | 4     |\n",
       "| Ferrari Dino | 19.7  | 6     | 145.0 | 175   | 3.62  | 2.77  | 15.5  | 0     | 1     | 5     | 6     |\n",
       "| Maserati Bora | 15.0  | 8     | 301.0 | 335   | 3.54  | 3.57  | 14.6  | 0     | 1     | 5     | 8     |\n",
       "| Volvo 142E | 21.4  | 4     | 121.0 | 109   | 4.11  | 2.78  | 18.6  | 1     | 1     | 4     | 2     |\n",
       "\n"
      ],
      "text/plain": [
       "                    mpg  cyl disp  hp  drat wt   qsec vs am gear carb\n",
       "Mazda RX4           21.0 6   160.0 110 3.90 2.62 16.5 0  1  4    4   \n",
       "Mazda RX4 Wag       21.0 6   160.0 110 3.90 2.88 17.0 0  1  4    4   \n",
       "Datsun 710          22.8 4   108.0  93 3.85 2.32 18.6 1  1  4    1   \n",
       "Hornet 4 Drive      21.4 6   258.0 110 3.08 3.21 19.4 1  0  3    1   \n",
       "Hornet Sportabout   18.7 8   360.0 175 3.15 3.44 17.0 0  0  3    2   \n",
       "Valiant             18.1 6   225.0 105 2.76 3.46 20.2 1  0  3    1   \n",
       "Duster 360          14.3 8   360.0 245 3.21 3.57 15.8 0  0  3    4   \n",
       "Merc 240D           24.4 4   146.7  62 3.69 3.19 20.0 1  0  4    2   \n",
       "Merc 230            22.8 4   140.8  95 3.92 3.15 22.9 1  0  4    2   \n",
       "Merc 280            19.2 6   167.6 123 3.92 3.44 18.3 1  0  4    4   \n",
       "Merc 280C           17.8 6   167.6 123 3.92 3.44 18.9 1  0  4    4   \n",
       "Merc 450SE          16.4 8   275.8 180 3.07 4.07 17.4 0  0  3    3   \n",
       "Merc 450SL          17.3 8   275.8 180 3.07 3.73 17.6 0  0  3    3   \n",
       "Merc 450SLC         15.2 8   275.8 180 3.07 3.78 18.0 0  0  3    3   \n",
       "Cadillac Fleetwood  10.4 8   472.0 205 2.93 5.25 18.0 0  0  3    4   \n",
       "Lincoln Continental 10.4 8   460.0 215 3.00 5.42 17.8 0  0  3    4   \n",
       "Chrysler Imperial   14.7 8   440.0 230 3.23 5.34 17.4 0  0  3    4   \n",
       "Fiat 128            32.4 4    78.7  66 4.08 2.20 19.5 1  1  4    1   \n",
       "Honda Civic         30.4 4    75.7  52 4.93 1.61 18.5 1  1  4    2   \n",
       "Toyota Corolla      33.9 4    71.1  65 4.22 1.83 19.9 1  1  4    1   \n",
       "Toyota Corona       21.5 4   120.1  97 3.70 2.46 20.0 1  0  3    1   \n",
       "Dodge Challenger    15.5 8   318.0 150 2.76 3.52 16.9 0  0  3    2   \n",
       "AMC Javelin         15.2 8   304.0 150 3.15 3.44 17.3 0  0  3    2   \n",
       "Camaro Z28          13.3 8   350.0 245 3.73 3.84 15.4 0  0  3    4   \n",
       "Pontiac Firebird    19.2 8   400.0 175 3.08 3.85 17.1 0  0  3    2   \n",
       "Fiat X1-9           27.3 4    79.0  66 4.08 1.94 18.9 1  1  4    1   \n",
       "Porsche 914-2       26.0 4   120.3  91 4.43 2.14 16.7 0  1  5    2   \n",
       "Lotus Europa        30.4 4    95.1 113 3.77 1.51 16.9 1  1  5    2   \n",
       "Ford Pantera L      15.8 8   351.0 264 4.22 3.17 14.5 0  1  5    4   \n",
       "Ferrari Dino        19.7 6   145.0 175 3.62 2.77 15.5 0  1  5    6   \n",
       "Maserati Bora       15.0 8   301.0 335 3.54 3.57 14.6 0  1  5    8   \n",
       "Volvo 142E          21.4 4   121.0 109 4.11 2.78 18.6 1  1  4    2   "
      ]
     },
     "metadata": {},
     "output_type": "display_data"
    }
   ],
   "source": [
    "# Aggregating data\n",
    "options(digits=3)\n",
    "attach(mtcars)\n",
    "mtcars"
   ]
  },
  {
   "cell_type": "code",
   "execution_count": 54,
   "id": "d14486d6",
   "metadata": {
    "slideshow": {
     "slide_type": "slide"
    }
   },
   "outputs": [
    {
     "data": {
      "text/html": [
       "<table>\n",
       "<thead><tr><th scope=col>Group.1</th><th scope=col>Group.2</th><th scope=col>mpg</th><th scope=col>cyl</th><th scope=col>disp</th><th scope=col>hp</th><th scope=col>drat</th><th scope=col>wt</th><th scope=col>qsec</th><th scope=col>vs</th><th scope=col>am</th><th scope=col>gear</th><th scope=col>carb</th></tr></thead>\n",
       "<tbody>\n",
       "\t<tr><td>4   </td><td>3   </td><td>21.5</td><td>4   </td><td>120 </td><td> 97 </td><td>3.70</td><td>2.46</td><td>20.0</td><td>1.0 </td><td>0.00</td><td>3   </td><td>1.00</td></tr>\n",
       "\t<tr><td>6   </td><td>3   </td><td>19.8</td><td>6   </td><td>242 </td><td>108 </td><td>2.92</td><td>3.34</td><td>19.8</td><td>1.0 </td><td>0.00</td><td>3   </td><td>1.00</td></tr>\n",
       "\t<tr><td>8   </td><td>3   </td><td>15.1</td><td>8   </td><td>358 </td><td>194 </td><td>3.12</td><td>4.10</td><td>17.1</td><td>0.0 </td><td>0.00</td><td>3   </td><td>3.08</td></tr>\n",
       "\t<tr><td>4   </td><td>4   </td><td>26.9</td><td>4   </td><td>103 </td><td> 76 </td><td>4.11</td><td>2.38</td><td>19.6</td><td>1.0 </td><td>0.75</td><td>4   </td><td>1.50</td></tr>\n",
       "\t<tr><td>6   </td><td>4   </td><td>19.8</td><td>6   </td><td>164 </td><td>116 </td><td>3.91</td><td>3.09</td><td>17.7</td><td>0.5 </td><td>0.50</td><td>4   </td><td>4.00</td></tr>\n",
       "\t<tr><td>4   </td><td>5   </td><td>28.2</td><td>4   </td><td>108 </td><td>102 </td><td>4.10</td><td>1.83</td><td>16.8</td><td>0.5 </td><td>1.00</td><td>5   </td><td>2.00</td></tr>\n",
       "\t<tr><td>6   </td><td>5   </td><td>19.7</td><td>6   </td><td>145 </td><td>175 </td><td>3.62</td><td>2.77</td><td>15.5</td><td>0.0 </td><td>1.00</td><td>5   </td><td>6.00</td></tr>\n",
       "\t<tr><td>8   </td><td>5   </td><td>15.4</td><td>8   </td><td>326 </td><td>300 </td><td>3.88</td><td>3.37</td><td>14.6</td><td>0.0 </td><td>1.00</td><td>5   </td><td>6.00</td></tr>\n",
       "</tbody>\n",
       "</table>\n"
      ],
      "text/latex": [
       "\\begin{tabular}{r|lllllllllllll}\n",
       " Group.1 & Group.2 & mpg & cyl & disp & hp & drat & wt & qsec & vs & am & gear & carb\\\\\n",
       "\\hline\n",
       "\t 4    & 3    & 21.5 & 4    & 120  &  97  & 3.70 & 2.46 & 20.0 & 1.0  & 0.00 & 3    & 1.00\\\\\n",
       "\t 6    & 3    & 19.8 & 6    & 242  & 108  & 2.92 & 3.34 & 19.8 & 1.0  & 0.00 & 3    & 1.00\\\\\n",
       "\t 8    & 3    & 15.1 & 8    & 358  & 194  & 3.12 & 4.10 & 17.1 & 0.0  & 0.00 & 3    & 3.08\\\\\n",
       "\t 4    & 4    & 26.9 & 4    & 103  &  76  & 4.11 & 2.38 & 19.6 & 1.0  & 0.75 & 4    & 1.50\\\\\n",
       "\t 6    & 4    & 19.8 & 6    & 164  & 116  & 3.91 & 3.09 & 17.7 & 0.5  & 0.50 & 4    & 4.00\\\\\n",
       "\t 4    & 5    & 28.2 & 4    & 108  & 102  & 4.10 & 1.83 & 16.8 & 0.5  & 1.00 & 5    & 2.00\\\\\n",
       "\t 6    & 5    & 19.7 & 6    & 145  & 175  & 3.62 & 2.77 & 15.5 & 0.0  & 1.00 & 5    & 6.00\\\\\n",
       "\t 8    & 5    & 15.4 & 8    & 326  & 300  & 3.88 & 3.37 & 14.6 & 0.0  & 1.00 & 5    & 6.00\\\\\n",
       "\\end{tabular}\n"
      ],
      "text/markdown": [
       "\n",
       "| Group.1 | Group.2 | mpg | cyl | disp | hp | drat | wt | qsec | vs | am | gear | carb |\n",
       "|---|---|---|---|---|---|---|---|---|---|---|---|---|\n",
       "| 4    | 3    | 21.5 | 4    | 120  |  97  | 3.70 | 2.46 | 20.0 | 1.0  | 0.00 | 3    | 1.00 |\n",
       "| 6    | 3    | 19.8 | 6    | 242  | 108  | 2.92 | 3.34 | 19.8 | 1.0  | 0.00 | 3    | 1.00 |\n",
       "| 8    | 3    | 15.1 | 8    | 358  | 194  | 3.12 | 4.10 | 17.1 | 0.0  | 0.00 | 3    | 3.08 |\n",
       "| 4    | 4    | 26.9 | 4    | 103  |  76  | 4.11 | 2.38 | 19.6 | 1.0  | 0.75 | 4    | 1.50 |\n",
       "| 6    | 4    | 19.8 | 6    | 164  | 116  | 3.91 | 3.09 | 17.7 | 0.5  | 0.50 | 4    | 4.00 |\n",
       "| 4    | 5    | 28.2 | 4    | 108  | 102  | 4.10 | 1.83 | 16.8 | 0.5  | 1.00 | 5    | 2.00 |\n",
       "| 6    | 5    | 19.7 | 6    | 145  | 175  | 3.62 | 2.77 | 15.5 | 0.0  | 1.00 | 5    | 6.00 |\n",
       "| 8    | 5    | 15.4 | 8    | 326  | 300  | 3.88 | 3.37 | 14.6 | 0.0  | 1.00 | 5    | 6.00 |\n",
       "\n"
      ],
      "text/plain": [
       "  Group.1 Group.2 mpg  cyl disp hp  drat wt   qsec vs  am   gear carb\n",
       "1 4       3       21.5 4   120   97 3.70 2.46 20.0 1.0 0.00 3    1.00\n",
       "2 6       3       19.8 6   242  108 2.92 3.34 19.8 1.0 0.00 3    1.00\n",
       "3 8       3       15.1 8   358  194 3.12 4.10 17.1 0.0 0.00 3    3.08\n",
       "4 4       4       26.9 4   103   76 4.11 2.38 19.6 1.0 0.75 4    1.50\n",
       "5 6       4       19.8 6   164  116 3.91 3.09 17.7 0.5 0.50 4    4.00\n",
       "6 4       5       28.2 4   108  102 4.10 1.83 16.8 0.5 1.00 5    2.00\n",
       "7 6       5       19.7 6   145  175 3.62 2.77 15.5 0.0 1.00 5    6.00\n",
       "8 8       5       15.4 8   326  300 3.88 3.37 14.6 0.0 1.00 5    6.00"
      ]
     },
     "metadata": {},
     "output_type": "display_data"
    }
   ],
   "source": [
    "aggdata <-aggregate(mtcars, by=list(cyl,gear), FUN=mean, na.rm=TRUE)\n",
    "aggdata"
   ]
  },
  {
   "cell_type": "markdown",
   "id": "7c24427b",
   "metadata": {
    "slideshow": {
     "slide_type": "-"
    }
   },
   "source": [
    "Group.1 represents the number of cylinders (4, 6, or 8), and Group.2 represents the number of gears (3, 4, or 5)"
   ]
  },
  {
   "cell_type": "code",
   "execution_count": null,
   "id": "360643c2",
   "metadata": {},
   "outputs": [],
   "source": []
  }
 ],
 "metadata": {
  "celltoolbar": "Slideshow",
  "kernelspec": {
   "display_name": "R",
   "language": "R",
   "name": "ir"
  },
  "language_info": {
   "codemirror_mode": "r",
   "file_extension": ".r",
   "mimetype": "text/x-r-source",
   "name": "R",
   "pygments_lexer": "r",
   "version": "3.6.1"
  }
 },
 "nbformat": 4,
 "nbformat_minor": 5
}
