{
 "cells": [
  {
   "cell_type": "markdown",
   "id": "trying-trade",
   "metadata": {},
   "source": [
    "# Regression\n",
    "Regression analysis can be used to identify the explanatory variables that are related to a response variable, to describe the form of the relationships involved, and to provide an equation for predicting the response variable from the explanatory variables."
   ]
  },
  {
   "cell_type": "markdown",
   "id": "attractive-minneapolis",
   "metadata": {},
   "source": [
    "You might recall from basic algebra that lines can be defined in a slope-intercept form similar to \n",
    "\n",
    "#### $y = a + bx$ \n",
    "\n",
    "In this form, the letter $y$ indicates the dependent variable and $x$ indicates the independent variable. The slope term $b$ specifies how much the line rises for each increase in $x$. Positive values define lines that slope upward while negative values define lines that slope downward. The term $a$ is known as the intercept because it specifies the point where the line crosses, or intercepts, the vertical $y$ axis. It indicates the value of $y$ when $x = 0$."
   ]
  },
  {
   "cell_type": "markdown",
   "id": "intelligent-mileage",
   "metadata": {},
   "source": [
    "![](linear_reg.png)"
   ]
  },
  {
   "cell_type": "markdown",
   "id": "nervous-happiness",
   "metadata": {},
   "source": [
    "Regression equations model data using a similar slope-intercept format. The machine's job is to identify values of $a$ and $b$ such that the specified line is best able to relate the supplied $x$ values to the values of $y$."
   ]
  },
  {
   "cell_type": "markdown",
   "id": "light-entity",
   "metadata": {},
   "source": [
    "Vito Ricci created a list of more than 205 functions in R that are used to\n",
    "generate regression analyses (http://mng.bz/NJhu)"
   ]
  },
  {
   "cell_type": "markdown",
   "id": "requested-report",
   "metadata": {},
   "source": [
    "# Some Varieties of Regression\n",
    "\n",
    "| Type of Regression | Typical Use |\n",
    "| --- | --- |\n",
    "| Simple linear | Predicting a quantitative response variable from a quantitative explanatory variable. |\n",
    "| Polynomial | Predicting a quantitative response variable from a quantitative explanatory variable, where the relationship is modeled as an $n_{th}$ order polynomial. |\n",
    "| Multiple linear | Predicting a quantitative response variable from two or more explanatory variables. |\n",
    "| Multivariate | Predicting more than one response variable from one or more explanatory variables. |\n",
    "| Logistic | Predicting a categorical response variable from one or more explanatory variables. |\n",
    "| Cox proportional hazards | Predicting time to an event (death, failure, relapse) from one or more explanatory variables. |\n",
    "| Nonlinear | Predicting a quantitative response variable from one or more explanatory variables, where the form of the model is nonlinear. |\n"
   ]
  },
  {
   "cell_type": "markdown",
   "id": "stopped-huntington",
   "metadata": {},
   "source": [
    "# Ordinary Least Squares (OLS) Regression\n",
    "* Simple linear regression\n",
    "* Polynomial regression\n",
    "* Multiple linear regression"
   ]
  },
  {
   "cell_type": "markdown",
   "id": "instrumental-angle",
   "metadata": {},
   "source": [
    "OLS regression fits models of the form\n",
    "\n",
    "### $\\hat{Y_{i}}=\\hat{\\beta_{0}}+\\hat{\\beta_{1}}X_{1i}+\\cdot\\cdot\\cdot+\\hat{\\beta_{k}}X_{ki}$, \n",
    "where \n",
    "### $i=1\\cdot\\cdot\\cdot n$\n",
    "\n",
    "![](eq.png)"
   ]
  },
  {
   "cell_type": "markdown",
   "id": "exceptional-farmer",
   "metadata": {},
   "source": [
    "Our goal is to select model parameters (intercept and slopes) that minimize the difference\n",
    "between actual response values and those predicted by the model. Specifically,\n",
    "model parameters are selected to minimize the sum of squared residuals:"
   ]
  },
  {
   "cell_type": "markdown",
   "id": "enhanced-interstate",
   "metadata": {},
   "source": [
    "![](res1.png)"
   ]
  },
  {
   "cell_type": "markdown",
   "id": "boxed-reach",
   "metadata": {},
   "source": [
    "Statistical assumptions needed:\n",
    "* Normality—For fixed values of the independent variables, the dependent variable is normally distributed.\n",
    "* Independence—The $Y_{i}$ values are independent of each other.\n",
    "* Linearity—The dependent variable is linearly related to the independent variables.    \n",
    "* Variance (Homoscedasticity)—The variance of the dependent variable doesn’t vary with the levels of the independent variables.    "
   ]
  },
  {
   "cell_type": "markdown",
   "id": "amended-mauritius",
   "metadata": {},
   "source": [
    "# R formulas"
   ]
  },
  {
   "cell_type": "markdown",
   "id": "animal-shirt",
   "metadata": {},
   "source": [
    "![](table1.png)"
   ]
  },
  {
   "cell_type": "markdown",
   "id": "julian-mentor",
   "metadata": {},
   "source": [
    "# Useful Functions"
   ]
  },
  {
   "cell_type": "markdown",
   "id": "medieval-instruction",
   "metadata": {},
   "source": [
    "![](table2.png)"
   ]
  },
  {
   "cell_type": "markdown",
   "id": "primary-cocktail",
   "metadata": {},
   "source": [
    "# Simple linear Regression - Example\n",
    "The dataset women in the base installation provides the height and weight for a set of 15 women ages 30 to 39. Suppose you want\n",
    "to predict weight from height. Having an equation for predicting weight from height can help you to identify overweight or underweight individuals."
   ]
  },
  {
   "cell_type": "code",
   "execution_count": 1,
   "id": "everyday-relief",
   "metadata": {},
   "outputs": [],
   "source": [
    "fit <- lm(formula = weight~height, data=women)"
   ]
  },
  {
   "cell_type": "code",
   "execution_count": 2,
   "id": "collectible-screening",
   "metadata": {},
   "outputs": [
    {
     "data": {
      "text/plain": [
       "\n",
       "Call:\n",
       "lm(formula = weight ~ height, data = women)\n",
       "\n",
       "Residuals:\n",
       "    Min      1Q  Median      3Q     Max \n",
       "-1.7333 -1.1333 -0.3833  0.7417  3.1167 \n",
       "\n",
       "Coefficients:\n",
       "             Estimate Std. Error t value Pr(>|t|)    \n",
       "(Intercept) -87.51667    5.93694  -14.74 1.71e-09 ***\n",
       "height        3.45000    0.09114   37.85 1.09e-14 ***\n",
       "---\n",
       "Signif. codes:  0 '***' 0.001 '**' 0.01 '*' 0.05 '.' 0.1 ' ' 1\n",
       "\n",
       "Residual standard error: 1.525 on 13 degrees of freedom\n",
       "Multiple R-squared:  0.991,\tAdjusted R-squared:  0.9903 \n",
       "F-statistic:  1433 on 1 and 13 DF,  p-value: 1.091e-14\n"
      ]
     },
     "metadata": {},
     "output_type": "display_data"
    }
   ],
   "source": [
    "summary(fit)"
   ]
  },
  {
   "cell_type": "markdown",
   "id": "higher-audit",
   "metadata": {},
   "source": [
    "## Formula Call\n",
    "The formula R used to fit the data\n",
    "\n",
    "## Residuals\n",
    "Residuals are essentially the difference between the actual observed response values (distance to stop dist in our case) and the response values that the model predicted. The Residuals section of the model output breaks it down into 5 summary points. When assessing how well the model fit the data, you should look for a symmetrical distribution across these points on the mean value zero (0).\n",
    "\n",
    "## Coefficients\n",
    "The coefficients are two unknown constants that represent the intercept and slope terms in the linear model\n",
    "\n",
    "### Coefficient - Estimate\n",
    "The coefficient Estimate contains two rows the intercept and the slope\n",
    "\n",
    "### Coefficient - Standard Error\n",
    "Measures the average amount that the coefficient estimates vary from the actual average value of our response variable. We’d ideally want a lower number relative to its coefficients.\n",
    "\n",
    "### Coefficient - t value\n",
    "The coefficient t-value is a measure of how many standard deviations our coefficient estimate is far away from 0. We want it to be far away from zero as this would indicate we could reject the null hypothesis - that is, we could declare a relationship between weight and height exist.\n",
    "\n",
    "### Coefficient - Pr(>t)\n",
    "The Pr(>t) acronym found in the model output relates to the probability of observing any value equal or larger than t. A small p-value indicates that it is unlikely we will observe a relationship between the predictor (height) and response (weight) variables due to chance. Typically, a p-value of 5% or less is a good cut-off point. In our model example, the p-values are very close to zero. Note the ‘signif. Codes’ associated to each estimate. Three stars (or asterisks) represent a highly significant p-value. Consequently, a small p-value for the intercept and the slope indicates that we can reject the null hypothesis which allows us to conclude that there is a relationship between height and weight.\n",
    "\n",
    "## Residual Standard Error\n",
    "Residual Standard Error is measure of the quality of a linear regression fit. Theoretically, every linear model is assumed to contain an error term E. Due to the presence of this error term, we are not capable of perfectly predicting our response variable from the predictor one. The Residual Standard Error is the average amount that the response will deviate from the true regression line.\n",
    "\n",
    "## Multiple R-squared, Adjusted R-squared\n",
    "The R-squared ($R^{2}$) statistic provides a measure of how well the model is fitting the actual data. It takes the form of a proportion of variance. $R^{2}$ is a measure of the linear relationship between our predictor variable and our response / target variable. It always lies between 0 and 1 (i.e.: a number near 0 represents a regression that does not explain the variance in the response variable well and a number close to 1 does explain the observed variance in the response variable).\n",
    "\n",
    "## F-Statistic\n",
    "F-statistic is a good indicator of whether there is a relationship between our predictor and the response variables. The further the F-statistic is from 1 the better it is. However, how much larger the F-statistic needs to be depends on both the number of data points and the number of predictors. Generally, when the number of data points is large, an F-statistic that is only a little bit larger than 1 is already sufficient to reject the null hypothesis (H0 : There is no relationship between height and weight). The reverse is true as if the number of data points is small, a large F-statistic is required to be able to ascertain that there may be a relationship between predictor and response variables. "
   ]
  },
  {
   "cell_type": "code",
   "execution_count": 3,
   "id": "egyptian-remove",
   "metadata": {},
   "outputs": [
    {
     "data": {
      "text/plain": [
       "\n",
       "Call:\n",
       "lm(formula = weight ~ height, data = women)\n",
       "\n",
       "Residuals:\n",
       "    Min      1Q  Median      3Q     Max \n",
       "-1.7333 -1.1333 -0.3833  0.7417  3.1167 \n",
       "\n",
       "Coefficients:\n",
       "             Estimate Std. Error t value Pr(>|t|)    \n",
       "(Intercept) -87.51667    5.93694  -14.74 1.71e-09 ***\n",
       "height        3.45000    0.09114   37.85 1.09e-14 ***\n",
       "---\n",
       "Signif. codes:  0 '***' 0.001 '**' 0.01 '*' 0.05 '.' 0.1 ' ' 1\n",
       "\n",
       "Residual standard error: 1.525 on 13 degrees of freedom\n",
       "Multiple R-squared:  0.991,\tAdjusted R-squared:  0.9903 \n",
       "F-statistic:  1433 on 1 and 13 DF,  p-value: 1.091e-14\n"
      ]
     },
     "metadata": {},
     "output_type": "display_data"
    }
   ],
   "source": [
    "summary(fit)"
   ]
  },
  {
   "cell_type": "markdown",
   "id": "provincial-review",
   "metadata": {},
   "source": [
    "* From the $Pr(>|t|)$ column, you see that the regression coefficient $(3.45)$ is significantly different from zero $(p < 0.001)$ and indicates that there’s an expected increase of 3.45 pounds of weight for every 1 inch increase in height.\n",
    "* The multiple R-squared (0.991) indicates that the model accounts for 99.1% of the variance in weights.\n",
    "* The multiple R-squared is also the squared correlation between the actual and predicted value\n",
    "* The residual standard error (1.53 pounds) can be thought of as the average error in predicting weight from height using this model.\n"
   ]
  },
  {
   "cell_type": "code",
   "execution_count": 4,
   "id": "knowing-surface",
   "metadata": {},
   "outputs": [
    {
     "data": {
      "text/html": [
       "<ol class=list-inline>\n",
       "\t<li>115</li>\n",
       "\t<li>117</li>\n",
       "\t<li>120</li>\n",
       "\t<li>123</li>\n",
       "\t<li>126</li>\n",
       "\t<li>129</li>\n",
       "\t<li>132</li>\n",
       "\t<li>135</li>\n",
       "\t<li>139</li>\n",
       "\t<li>142</li>\n",
       "\t<li>146</li>\n",
       "\t<li>150</li>\n",
       "\t<li>154</li>\n",
       "\t<li>159</li>\n",
       "\t<li>164</li>\n",
       "</ol>\n"
      ],
      "text/latex": [
       "\\begin{enumerate*}\n",
       "\\item 115\n",
       "\\item 117\n",
       "\\item 120\n",
       "\\item 123\n",
       "\\item 126\n",
       "\\item 129\n",
       "\\item 132\n",
       "\\item 135\n",
       "\\item 139\n",
       "\\item 142\n",
       "\\item 146\n",
       "\\item 150\n",
       "\\item 154\n",
       "\\item 159\n",
       "\\item 164\n",
       "\\end{enumerate*}\n"
      ],
      "text/markdown": [
       "1. 115\n",
       "2. 117\n",
       "3. 120\n",
       "4. 123\n",
       "5. 126\n",
       "6. 129\n",
       "7. 132\n",
       "8. 135\n",
       "9. 139\n",
       "10. 142\n",
       "11. 146\n",
       "12. 150\n",
       "13. 154\n",
       "14. 159\n",
       "15. 164\n",
       "\n",
       "\n"
      ],
      "text/plain": [
       " [1] 115 117 120 123 126 129 132 135 139 142 146 150 154 159 164"
      ]
     },
     "metadata": {},
     "output_type": "display_data"
    }
   ],
   "source": [
    "women$weight"
   ]
  },
  {
   "cell_type": "code",
   "execution_count": 5,
   "id": "british-saturday",
   "metadata": {},
   "outputs": [
    {
     "data": {
      "text/html": [
       "<dl class=dl-horizontal>\n",
       "\t<dt>1</dt>\n",
       "\t\t<dd>112.583333333333</dd>\n",
       "\t<dt>2</dt>\n",
       "\t\t<dd>116.033333333333</dd>\n",
       "\t<dt>3</dt>\n",
       "\t\t<dd>119.483333333333</dd>\n",
       "\t<dt>4</dt>\n",
       "\t\t<dd>122.933333333333</dd>\n",
       "\t<dt>5</dt>\n",
       "\t\t<dd>126.383333333333</dd>\n",
       "\t<dt>6</dt>\n",
       "\t\t<dd>129.833333333333</dd>\n",
       "\t<dt>7</dt>\n",
       "\t\t<dd>133.283333333333</dd>\n",
       "\t<dt>8</dt>\n",
       "\t\t<dd>136.733333333333</dd>\n",
       "\t<dt>9</dt>\n",
       "\t\t<dd>140.183333333333</dd>\n",
       "\t<dt>10</dt>\n",
       "\t\t<dd>143.633333333333</dd>\n",
       "\t<dt>11</dt>\n",
       "\t\t<dd>147.083333333333</dd>\n",
       "\t<dt>12</dt>\n",
       "\t\t<dd>150.533333333333</dd>\n",
       "\t<dt>13</dt>\n",
       "\t\t<dd>153.983333333333</dd>\n",
       "\t<dt>14</dt>\n",
       "\t\t<dd>157.433333333333</dd>\n",
       "\t<dt>15</dt>\n",
       "\t\t<dd>160.883333333333</dd>\n",
       "</dl>\n"
      ],
      "text/latex": [
       "\\begin{description*}\n",
       "\\item[1] 112.583333333333\n",
       "\\item[2] 116.033333333333\n",
       "\\item[3] 119.483333333333\n",
       "\\item[4] 122.933333333333\n",
       "\\item[5] 126.383333333333\n",
       "\\item[6] 129.833333333333\n",
       "\\item[7] 133.283333333333\n",
       "\\item[8] 136.733333333333\n",
       "\\item[9] 140.183333333333\n",
       "\\item[10] 143.633333333333\n",
       "\\item[11] 147.083333333333\n",
       "\\item[12] 150.533333333333\n",
       "\\item[13] 153.983333333333\n",
       "\\item[14] 157.433333333333\n",
       "\\item[15] 160.883333333333\n",
       "\\end{description*}\n"
      ],
      "text/markdown": [
       "1\n",
       ":   112.5833333333332\n",
       ":   116.0333333333333\n",
       ":   119.4833333333334\n",
       ":   122.9333333333335\n",
       ":   126.3833333333336\n",
       ":   129.8333333333337\n",
       ":   133.2833333333338\n",
       ":   136.7333333333339\n",
       ":   140.18333333333310\n",
       ":   143.63333333333311\n",
       ":   147.08333333333312\n",
       ":   150.53333333333313\n",
       ":   153.98333333333314\n",
       ":   157.43333333333315\n",
       ":   160.883333333333\n",
       "\n"
      ],
      "text/plain": [
       "       1        2        3        4        5        6        7        8 \n",
       "112.5833 116.0333 119.4833 122.9333 126.3833 129.8333 133.2833 136.7333 \n",
       "       9       10       11       12       13       14       15 \n",
       "140.1833 143.6333 147.0833 150.5333 153.9833 157.4333 160.8833 "
      ]
     },
     "metadata": {},
     "output_type": "display_data"
    }
   ],
   "source": [
    "fitted(fit)"
   ]
  },
  {
   "cell_type": "code",
   "execution_count": 6,
   "id": "single-child",
   "metadata": {},
   "outputs": [
    {
     "data": {
      "text/html": [
       "<dl class=dl-horizontal>\n",
       "\t<dt>1</dt>\n",
       "\t\t<dd>2.41666666666675</dd>\n",
       "\t<dt>2</dt>\n",
       "\t\t<dd>0.966666666666643</dd>\n",
       "\t<dt>3</dt>\n",
       "\t\t<dd>0.516666666666644</dd>\n",
       "\t<dt>4</dt>\n",
       "\t\t<dd>0.0666666666666476</dd>\n",
       "\t<dt>5</dt>\n",
       "\t\t<dd>-0.38333333333335</dd>\n",
       "\t<dt>6</dt>\n",
       "\t\t<dd>-0.833333333333347</dd>\n",
       "\t<dt>7</dt>\n",
       "\t\t<dd>-1.28333333333334</dd>\n",
       "\t<dt>8</dt>\n",
       "\t\t<dd>-1.73333333333334</dd>\n",
       "\t<dt>9</dt>\n",
       "\t\t<dd>-1.18333333333334</dd>\n",
       "\t<dt>10</dt>\n",
       "\t\t<dd>-1.63333333333334</dd>\n",
       "\t<dt>11</dt>\n",
       "\t\t<dd>-1.08333333333333</dd>\n",
       "\t<dt>12</dt>\n",
       "\t\t<dd>-0.53333333333333</dd>\n",
       "\t<dt>13</dt>\n",
       "\t\t<dd>0.016666666666675</dd>\n",
       "\t<dt>14</dt>\n",
       "\t\t<dd>1.56666666666668</dd>\n",
       "\t<dt>15</dt>\n",
       "\t\t<dd>3.11666666666668</dd>\n",
       "</dl>\n"
      ],
      "text/latex": [
       "\\begin{description*}\n",
       "\\item[1] 2.41666666666675\n",
       "\\item[2] 0.966666666666643\n",
       "\\item[3] 0.516666666666644\n",
       "\\item[4] 0.0666666666666476\n",
       "\\item[5] -0.38333333333335\n",
       "\\item[6] -0.833333333333347\n",
       "\\item[7] -1.28333333333334\n",
       "\\item[8] -1.73333333333334\n",
       "\\item[9] -1.18333333333334\n",
       "\\item[10] -1.63333333333334\n",
       "\\item[11] -1.08333333333333\n",
       "\\item[12] -0.53333333333333\n",
       "\\item[13] 0.016666666666675\n",
       "\\item[14] 1.56666666666668\n",
       "\\item[15] 3.11666666666668\n",
       "\\end{description*}\n"
      ],
      "text/markdown": [
       "1\n",
       ":   2.416666666666752\n",
       ":   0.9666666666666433\n",
       ":   0.5166666666666444\n",
       ":   0.06666666666664765\n",
       ":   -0.383333333333356\n",
       ":   -0.8333333333333477\n",
       ":   -1.283333333333348\n",
       ":   -1.733333333333349\n",
       ":   -1.1833333333333410\n",
       ":   -1.6333333333333411\n",
       ":   -1.0833333333333312\n",
       ":   -0.5333333333333313\n",
       ":   0.01666666666667514\n",
       ":   1.5666666666666815\n",
       ":   3.11666666666668\n",
       "\n"
      ],
      "text/plain": [
       "          1           2           3           4           5           6 \n",
       " 2.41666667  0.96666667  0.51666667  0.06666667 -0.38333333 -0.83333333 \n",
       "          7           8           9          10          11          12 \n",
       "-1.28333333 -1.73333333 -1.18333333 -1.63333333 -1.08333333 -0.53333333 \n",
       "         13          14          15 \n",
       " 0.01666667  1.56666667  3.11666667 "
      ]
     },
     "metadata": {},
     "output_type": "display_data"
    }
   ],
   "source": [
    "residuals(fit)"
   ]
  },
  {
   "cell_type": "code",
   "execution_count": 7,
   "id": "suspended-stranger",
   "metadata": {},
   "outputs": [
    {
     "data": {
      "image/png": "[encoded data removed]",
      "text/plain": [
       "Plot with title \"Women data: American women aged 30-39\""
      ]
     },
     "metadata": {},
     "output_type": "display_data"
    }
   ],
   "source": [
    "plot(women, xlab = \"Height (in)\", ylab = \"Weight (lb)\",\n",
    "     main = \"Women data: American women aged 30-39\")\n",
    "abline(fit)"
   ]
  },
  {
   "cell_type": "markdown",
   "id": "insured-momentum",
   "metadata": {},
   "source": [
    "# Polynomial Regression\n",
    "The plot suggests that you might be able to improve your prediction using a regression with a quadratic term (that is, $X^{2}$)."
   ]
  },
  {
   "cell_type": "code",
   "execution_count": 8,
   "id": "local-custom",
   "metadata": {},
   "outputs": [],
   "source": [
    "fit2 <- lm(weight ~ height + I(height^2), data=women)"
   ]
  },
  {
   "cell_type": "code",
   "execution_count": 9,
   "id": "cathedral-lebanon",
   "metadata": {},
   "outputs": [
    {
     "data": {
      "text/plain": [
       "\n",
       "Call:\n",
       "lm(formula = weight ~ height + I(height^2), data = women)\n",
       "\n",
       "Residuals:\n",
       "     Min       1Q   Median       3Q      Max \n",
       "-0.50941 -0.29611 -0.00941  0.28615  0.59706 \n",
       "\n",
       "Coefficients:\n",
       "             Estimate Std. Error t value Pr(>|t|)    \n",
       "(Intercept) 261.87818   25.19677  10.393 2.36e-07 ***\n",
       "height       -7.34832    0.77769  -9.449 6.58e-07 ***\n",
       "I(height^2)   0.08306    0.00598  13.891 9.32e-09 ***\n",
       "---\n",
       "Signif. codes:  0 '***' 0.001 '**' 0.01 '*' 0.05 '.' 0.1 ' ' 1\n",
       "\n",
       "Residual standard error: 0.3841 on 12 degrees of freedom\n",
       "Multiple R-squared:  0.9995,\tAdjusted R-squared:  0.9994 \n",
       "F-statistic: 1.139e+04 on 2 and 12 DF,  p-value: < 2.2e-16\n"
      ]
     },
     "metadata": {},
     "output_type": "display_data"
    }
   ],
   "source": [
    "summary(fit2)"
   ]
  },
  {
   "cell_type": "code",
   "execution_count": 10,
   "id": "surrounded-concentrate",
   "metadata": {},
   "outputs": [
    {
     "data": {
      "image/png": "[encoded data removed]",
      "text/plain": [
       "plot without title"
      ]
     },
     "metadata": {},
     "output_type": "display_data"
    }
   ],
   "source": [
    "plot(women$height,women$weight,\n",
    "xlab=\"Height (in inches)\",\n",
    "ylab=\"Weight (in lbs)\")\n",
    "lines(women$height,fitted(fit2))"
   ]
  },
  {
   "cell_type": "code",
   "execution_count": 12,
   "id": "collect-shock",
   "metadata": {},
   "outputs": [
    {
     "data": {
      "image/png": "[encoded data removed]",
      "text/plain": [
       "Plot with title \"Women Age 30-39\""
      ]
     },
     "metadata": {},
     "output_type": "display_data"
    }
   ],
   "source": [
    "library(car)\n",
    "scatterplot(weight ~ height, data=women, pch=19,  regLine=list(lty=1,col=\"red\"), smooth=list(var=FALSE, lty=2),\n",
    "main=\"Women Age 30-39\",\n",
    "xlab=\"Height (inches)\",\n",
    "ylab=\"Weight (lbs.)\")"
   ]
  },
  {
   "cell_type": "markdown",
   "id": "charged-wyoming",
   "metadata": {},
   "source": [
    "![](regression.png)"
   ]
  },
  {
   "cell_type": "markdown",
   "id": "regular-fraud",
   "metadata": {},
   "source": [
    "# Multiple linear regression"
   ]
  },
  {
   "cell_type": "markdown",
   "id": "yellow-weekend",
   "metadata": {},
   "source": [
    "* When there’s more than one predictor variable, simple linear regression becomes multiple linear regression, and the analysis grows more involved.\n",
    "* Technically, polynomial regression is a special case of multiple regression. Quadratic regression has two predictors (X and X2), and cubic regression has three predictors ($X$, $X^{2}$, and $X^{3}$).\n",
    "\n",
    "Suppose you want to explore the relationship between a state’s murder rate and other characteristics of the state, including population, illiteracy rate, average income, and frost levels (mean number of days below freezing).\n"
   ]
  },
  {
   "cell_type": "code",
   "execution_count": 13,
   "id": "selected-connection",
   "metadata": {},
   "outputs": [],
   "source": [
    "states <- as.data.frame(state.x77[,c(\"Murder\", \"Population\", \"Illiteracy\", \"Income\", \"Frost\")])"
   ]
  },
  {
   "cell_type": "markdown",
   "id": "purple-payday",
   "metadata": {},
   "source": [
    "A good first step in multiple regression is to examine the relationships among the variables two at a time. The bivariate correlations are provided by the cor() function, and scatter plots are generated from the scatterplotMatrix() function in the car\n",
    "package"
   ]
  },
  {
   "cell_type": "code",
   "execution_count": 14,
   "id": "authorized-shooting",
   "metadata": {},
   "outputs": [
    {
     "data": {
      "text/html": [
       "<table>\n",
       "<thead><tr><th></th><th scope=col>Murder</th><th scope=col>Population</th><th scope=col>Illiteracy</th><th scope=col>Income</th><th scope=col>Frost</th></tr></thead>\n",
       "<tbody>\n",
       "\t<tr><th scope=row>Murder</th><td> 1.0000000</td><td> 0.3436428</td><td> 0.7029752</td><td>-0.2300776</td><td>-0.5388834</td></tr>\n",
       "\t<tr><th scope=row>Population</th><td> 0.3436428</td><td> 1.0000000</td><td> 0.1076224</td><td> 0.2082276</td><td>-0.3321525</td></tr>\n",
       "\t<tr><th scope=row>Illiteracy</th><td> 0.7029752</td><td> 0.1076224</td><td> 1.0000000</td><td>-0.4370752</td><td>-0.6719470</td></tr>\n",
       "\t<tr><th scope=row>Income</th><td>-0.2300776</td><td> 0.2082276</td><td>-0.4370752</td><td> 1.0000000</td><td> 0.2262822</td></tr>\n",
       "\t<tr><th scope=row>Frost</th><td>-0.5388834</td><td>-0.3321525</td><td>-0.6719470</td><td> 0.2262822</td><td> 1.0000000</td></tr>\n",
       "</tbody>\n",
       "</table>\n"
      ],
      "text/latex": [
       "\\begin{tabular}{r|lllll}\n",
       "  & Murder & Population & Illiteracy & Income & Frost\\\\\n",
       "\\hline\n",
       "\tMurder &  1.0000000 &  0.3436428 &  0.7029752 & -0.2300776 & -0.5388834\\\\\n",
       "\tPopulation &  0.3436428 &  1.0000000 &  0.1076224 &  0.2082276 & -0.3321525\\\\\n",
       "\tIlliteracy &  0.7029752 &  0.1076224 &  1.0000000 & -0.4370752 & -0.6719470\\\\\n",
       "\tIncome & -0.2300776 &  0.2082276 & -0.4370752 &  1.0000000 &  0.2262822\\\\\n",
       "\tFrost & -0.5388834 & -0.3321525 & -0.6719470 &  0.2262822 &  1.0000000\\\\\n",
       "\\end{tabular}\n"
      ],
      "text/markdown": [
       "\n",
       "| <!--/--> | Murder | Population | Illiteracy | Income | Frost |\n",
       "|---|---|---|---|---|---|\n",
       "| Murder |  1.0000000 |  0.3436428 |  0.7029752 | -0.2300776 | -0.5388834 |\n",
       "| Population |  0.3436428 |  1.0000000 |  0.1076224 |  0.2082276 | -0.3321525 |\n",
       "| Illiteracy |  0.7029752 |  0.1076224 |  1.0000000 | -0.4370752 | -0.6719470 |\n",
       "| Income | -0.2300776 |  0.2082276 | -0.4370752 |  1.0000000 |  0.2262822 |\n",
       "| Frost | -0.5388834 | -0.3321525 | -0.6719470 |  0.2262822 |  1.0000000 |\n",
       "\n"
      ],
      "text/plain": [
       "           Murder     Population Illiteracy Income     Frost     \n",
       "Murder      1.0000000  0.3436428  0.7029752 -0.2300776 -0.5388834\n",
       "Population  0.3436428  1.0000000  0.1076224  0.2082276 -0.3321525\n",
       "Illiteracy  0.7029752  0.1076224  1.0000000 -0.4370752 -0.6719470\n",
       "Income     -0.2300776  0.2082276 -0.4370752  1.0000000  0.2262822\n",
       "Frost      -0.5388834 -0.3321525 -0.6719470  0.2262822  1.0000000"
      ]
     },
     "metadata": {},
     "output_type": "display_data"
    }
   ],
   "source": [
    "cor(states)"
   ]
  },
  {
   "cell_type": "code",
   "execution_count": 15,
   "id": "chubby-mobility",
   "metadata": {},
   "outputs": [
    {
     "data": {
      "image/png": "[encoded data removed]",
      "text/plain": [
       "plot without title"
      ]
     },
     "metadata": {},
     "output_type": "display_data"
    }
   ],
   "source": [
    "scatterplotMatrix(states,  smooth=list(var=FALSE, lty=2), regLine=list(lty=1,col=\"red\"),main=\"Scatter Plot Matrix\")"
   ]
  },
  {
   "cell_type": "markdown",
   "id": "supposed-metropolitan",
   "metadata": {},
   "source": [
    "You can see that murder rate may be bimodal and that each of the predictor variables is skewed to some extent. Murder rates rise with population and illiteracy, and they fall with higher income levels and frost. At the same time, colder states have lower illiteracy rates and population and higher incomes.\n",
    "Now let’s fit the multiple regression model with the lm() function (see the following listing)."
   ]
  },
  {
   "cell_type": "code",
   "execution_count": 16,
   "id": "induced-chuck",
   "metadata": {},
   "outputs": [],
   "source": [
    "states <- as.data.frame(state.x77[,c(\"Murder\", \"Population\", \"Illiteracy\", \"Income\", \"Frost\")])"
   ]
  },
  {
   "cell_type": "code",
   "execution_count": 17,
   "id": "experimental-brief",
   "metadata": {},
   "outputs": [],
   "source": [
    "fit <- lm(Murder ~ Population + Illiteracy + Income + Frost,data=states)"
   ]
  },
  {
   "cell_type": "code",
   "execution_count": 18,
   "id": "unavailable-liberal",
   "metadata": {},
   "outputs": [
    {
     "data": {
      "text/plain": [
       "\n",
       "Call:\n",
       "lm(formula = Murder ~ Population + Illiteracy + Income + Frost, \n",
       "    data = states)\n",
       "\n",
       "Residuals:\n",
       "    Min      1Q  Median      3Q     Max \n",
       "-4.7960 -1.6495 -0.0811  1.4815  7.6210 \n",
       "\n",
       "Coefficients:\n",
       "             Estimate Std. Error t value Pr(>|t|)    \n",
       "(Intercept) 1.235e+00  3.866e+00   0.319   0.7510    \n",
       "Population  2.237e-04  9.052e-05   2.471   0.0173 *  \n",
       "Illiteracy  4.143e+00  8.744e-01   4.738 2.19e-05 ***\n",
       "Income      6.442e-05  6.837e-04   0.094   0.9253    \n",
       "Frost       5.813e-04  1.005e-02   0.058   0.9541    \n",
       "---\n",
       "Signif. codes:  0 '***' 0.001 '**' 0.01 '*' 0.05 '.' 0.1 ' ' 1\n",
       "\n",
       "Residual standard error: 2.535 on 45 degrees of freedom\n",
       "Multiple R-squared:  0.567,\tAdjusted R-squared:  0.5285 \n",
       "F-statistic: 14.73 on 4 and 45 DF,  p-value: 9.133e-08\n"
      ]
     },
     "metadata": {},
     "output_type": "display_data"
    }
   ],
   "source": [
    "summary(fit)"
   ]
  },
  {
   "cell_type": "markdown",
   "id": "talented-button",
   "metadata": {},
   "source": [
    "For example, the regression coefficient for Illiteracy is $4.14$, suggesting that an increase of $1%$ in illiteracy is associated with a $4.14%$ increase in the murder rate, controlling for population, income, and temperature. The coefficient is significantly different from zero at the $p < .0001$ level. On the\n",
    "other hand, the coefficient for Frost isn’t significantly different from zero ($p = 0.954$) suggesting that Frost and Murder aren’t linearly related when controlling for the other predictor variables. Taken together, the predictor variables account for $57%$ of the variance in murder rates across states."
   ]
  },
  {
   "cell_type": "markdown",
   "id": "fewer-strand",
   "metadata": {},
   "source": [
    "# Multiple linear regression with interactions\n",
    "Some of the most interesting research findings are those involving interactions among predictor variables. Let’s say that you’re interested in the impact of automobile weight and horsepower on mileage. You could fit a regression model that includes both predictors, along with their interaction:"
   ]
  },
  {
   "cell_type": "code",
   "execution_count": 19,
   "id": "spread-drove",
   "metadata": {},
   "outputs": [],
   "source": [
    "fit <- lm(mpg ~ hp + wt + hp:wt, data=mtcars)"
   ]
  },
  {
   "cell_type": "code",
   "execution_count": 20,
   "id": "italian-flour",
   "metadata": {},
   "outputs": [
    {
     "data": {
      "text/plain": [
       "\n",
       "Call:\n",
       "lm(formula = mpg ~ hp + wt + hp:wt, data = mtcars)\n",
       "\n",
       "Residuals:\n",
       "    Min      1Q  Median      3Q     Max \n",
       "-3.0632 -1.6491 -0.7362  1.4211  4.5513 \n",
       "\n",
       "Coefficients:\n",
       "            Estimate Std. Error t value Pr(>|t|)    \n",
       "(Intercept) 49.80842    3.60516  13.816 5.01e-14 ***\n",
       "hp          -0.12010    0.02470  -4.863 4.04e-05 ***\n",
       "wt          -8.21662    1.26971  -6.471 5.20e-07 ***\n",
       "hp:wt        0.02785    0.00742   3.753 0.000811 ***\n",
       "---\n",
       "Signif. codes:  0 '***' 0.001 '**' 0.01 '*' 0.05 '.' 0.1 ' ' 1\n",
       "\n",
       "Residual standard error: 2.153 on 28 degrees of freedom\n",
       "Multiple R-squared:  0.8848,\tAdjusted R-squared:  0.8724 \n",
       "F-statistic: 71.66 on 3 and 28 DF,  p-value: 2.981e-13\n"
      ]
     },
     "metadata": {},
     "output_type": "display_data"
    }
   ],
   "source": [
    "summary(fit)"
   ]
  },
  {
   "cell_type": "code",
   "execution_count": 21,
   "id": "brave-update",
   "metadata": {},
   "outputs": [
    {
     "name": "stdout",
     "output_type": "stream",
     "text": [
      "package 'effects' successfully unpacked and MD5 sums checked\n",
      "\n",
      "The downloaded binary packages are in\n",
      "\tC:\\Users\\Nemo\\AppData\\Local\\Temp\\Rtmp0ClAyP\\downloaded_packages\n"
     ]
    }
   ],
   "source": [
    "install.packages(\"effects\")"
   ]
  },
  {
   "cell_type": "markdown",
   "id": "simple-swiss",
   "metadata": {},
   "source": [
    "The model for predicting mpg is $mpg = 49.81 – 0.12 × hp – 8.22 × wt + 0.03 × hp × wt$.\n",
    "\n",
    "To interpret the interaction, you can plug in various values of $wt$ and simplify the equation. For example, you can try the mean of $wt$ (3.2) and one standard deviation below and above the mean ($2.2$ and $4.2$, respectively).\n",
    "\n",
    "For $wt=2.2$, the equation simplifies to $mpg = 49.81 – 0.12 × hp – 8.22 × (2.2) + 0.03 × hp × (2.2) = 31.41 – 0.06 × hp$.\n",
    "For $wt=3.2$, this becomes $mpg = 23.37 – 0.03 × hp$.\n",
    "For $wt=4.2$ the equation becomes $mpg = 15.33 – 0.003 × hp$.\n",
    "\n",
    "You see that as weight increases $(2.2, 3.2, 4.2)$, the expected change in $mpg$ from a unit increase in hp decreases $(0.06, 0.03, 0.003)$."
   ]
  },
  {
   "cell_type": "code",
   "execution_count": 23,
   "id": "toxic-rapid",
   "metadata": {},
   "outputs": [
    {
     "data": {
      "image/png": "[encoded data removed]",
      "text/plain": [
       "plot without title"
      ]
     },
     "metadata": {},
     "output_type": "display_data"
    }
   ],
   "source": [
    "library(effects)\n",
    "plot(effect(\"hp:wt\", fit,, list(wt=c(2.2,3.2,4.2))), multiline=TRUE)"
   ]
  },
  {
   "cell_type": "markdown",
   "id": "cloudy-figure",
   "metadata": {},
   "source": [
    "# Regression Diagnostics"
   ]
  },
  {
   "cell_type": "markdown",
   "id": "above-mount",
   "metadata": {},
   "source": [
    "Your confidence in inferences about regression parameters depends on the degree to which you’ve met the statistical assumptions of the OLS model. Although\n",
    "the ```summary()``` function describes the model, it provides no information concerning the degree to which you’ve satisfied the statistical assumptions underlying\n",
    "the model.\n",
    "\n",
    "Let’s look at the output from the ```confint()``` function applied to the states multiple regression problem"
   ]
  },
  {
   "cell_type": "code",
   "execution_count": 24,
   "id": "adult-antarctica",
   "metadata": {},
   "outputs": [],
   "source": [
    "states <- as.data.frame(state.x77[,c(\"Murder\", \"Population\", \"Illiteracy\", \"Income\", \"Frost\")])"
   ]
  },
  {
   "cell_type": "code",
   "execution_count": 25,
   "id": "statistical-requirement",
   "metadata": {},
   "outputs": [],
   "source": [
    "fit <- lm(Murder ~ Population + Illiteracy + Income + Frost, data=states)"
   ]
  },
  {
   "cell_type": "code",
   "execution_count": 26,
   "id": "tracked-presence",
   "metadata": {},
   "outputs": [
    {
     "data": {
      "text/html": [
       "<table>\n",
       "<thead><tr><th></th><th scope=col>2.5 %</th><th scope=col>97.5 %</th></tr></thead>\n",
       "<tbody>\n",
       "\t<tr><th scope=row>(Intercept)</th><td>-6.552191e+00</td><td>9.0213182149 </td></tr>\n",
       "\t<tr><th scope=row>Population</th><td> 4.136397e-05</td><td>0.0004059867 </td></tr>\n",
       "\t<tr><th scope=row>Illiteracy</th><td> 2.381799e+00</td><td>5.9038743192 </td></tr>\n",
       "\t<tr><th scope=row>Income</th><td>-1.312611e-03</td><td>0.0014414600 </td></tr>\n",
       "\t<tr><th scope=row>Frost</th><td>-1.966781e-02</td><td>0.0208304170 </td></tr>\n",
       "</tbody>\n",
       "</table>\n"
      ],
      "text/latex": [
       "\\begin{tabular}{r|ll}\n",
       "  & 2.5 \\% & 97.5 \\%\\\\\n",
       "\\hline\n",
       "\t(Intercept) & -6.552191e+00 & 9.0213182149 \\\\\n",
       "\tPopulation &  4.136397e-05 & 0.0004059867 \\\\\n",
       "\tIlliteracy &  2.381799e+00 & 5.9038743192 \\\\\n",
       "\tIncome & -1.312611e-03 & 0.0014414600 \\\\\n",
       "\tFrost & -1.966781e-02 & 0.0208304170 \\\\\n",
       "\\end{tabular}\n"
      ],
      "text/markdown": [
       "\n",
       "| <!--/--> | 2.5 % | 97.5 % |\n",
       "|---|---|---|\n",
       "| (Intercept) | -6.552191e+00 | 9.0213182149  |\n",
       "| Population |  4.136397e-05 | 0.0004059867  |\n",
       "| Illiteracy |  2.381799e+00 | 5.9038743192  |\n",
       "| Income | -1.312611e-03 | 0.0014414600  |\n",
       "| Frost | -1.966781e-02 | 0.0208304170  |\n",
       "\n"
      ],
      "text/plain": [
       "            2.5 %         97.5 %      \n",
       "(Intercept) -6.552191e+00 9.0213182149\n",
       "Population   4.136397e-05 0.0004059867\n",
       "Illiteracy   2.381799e+00 5.9038743192\n",
       "Income      -1.312611e-03 0.0014414600\n",
       "Frost       -1.966781e-02 0.0208304170"
      ]
     },
     "metadata": {},
     "output_type": "display_data"
    }
   ],
   "source": [
    "confint(fit)"
   ]
  },
  {
   "cell_type": "markdown",
   "id": "constant-adrian",
   "metadata": {},
   "source": [
    "R’s base installation provides numerous methods for evaluating the statistical assumptions in a regression analysis. The most common approach is to apply the plot() function to the object returned by the lm()."
   ]
  },
  {
   "cell_type": "code",
   "execution_count": 27,
   "id": "awful-omaha",
   "metadata": {},
   "outputs": [
    {
     "data": {
      "image/png": "[encoded data removed]",
      "text/plain": [
       "Plot with title \"\""
      ]
     },
     "metadata": {},
     "output_type": "display_data"
    }
   ],
   "source": [
    "fit <- lm(weight ~ height, data=women)\n",
    "par(mfrow=c(2,2))\n",
    "plot(fit)"
   ]
  },
  {
   "cell_type": "markdown",
   "id": "cleared-advertiser",
   "metadata": {},
   "source": [
    "## Normality\n",
    "If the dependent variable is normally distributed for a fixed set of predictor values, then the residual values should be normally distributed with a mean of 0. The Normal Q-Q plot (upper right) is a probability plot of the standardized residuals against the values that would be expected under normality. If you’ve met the normality assumption, the points on this graph should fall on the straight 45-degree line. Because they don’t, you’ve clearly violated the normality assumption.\n",
    "\n",
    "## Independence\n",
    "You can’t tell if the dependent variable values are independent from these plots. You have to use your understanding of how the data was collected. There’s no a priori reason to believe that one woman’s weight influences another woman’s weight.\n",
    "\n",
    "## Linearity\n",
    "If the dependent variable is linearly related to the independent variables, there should be no systematic relationship between the residuals and the predicted (that is, fitted) values. In other words, the model should capture all the systematic variance present in the data, leaving nothing but random noise. In the Residuals vs. Fitted graph (upper left), you see clear evidence of a curved relationship, which suggests that you may want to add a quadratic term to the regression.\n",
    "\n",
    "## Homoscedasticity\n",
    "If you’ve met the constant variance assumption, the points in the Scale-Location graph (bottom left) should be a random band around a horizontal line. You seem to meet this assumption.\n",
    "\n",
    "## Residuals vs. Leverage graph\n",
    "Provides information about individual observations that you may wish to attend to.The graph identifies outliers, high-leverage points, and influential observations. Specifically:\n",
    "* An outlier is an observation that isn’t predicted well by the fitted regression model (that is, has a large positive or negative residual).\n",
    "* An observation with a high leverage value has an unusual combination of predictor values. That is, it’s an outlier in the predictor space. The dependent variable value isn’t used to calculate an observation’s leverage.\n",
    "* An influential observation is an observation that has a disproportionate impact on the determination of the model parameters. Influential observations are identified using a statistic called Cook’s distance, or Cook’s D."
   ]
  },
  {
   "cell_type": "markdown",
   "id": "animated-climb",
   "metadata": {},
   "source": [
    "# Using Libraries"
   ]
  },
  {
   "cell_type": "markdown",
   "id": "intense-stuart",
   "metadata": {},
   "source": [
    "## Normality\n",
    "It plots the studentized residuals (also called studentized deleted residuals or jackknifed residuals) against a t distribution with n – p – 1 degrees of freedom, where n is the sample size and p is the number of regression parameters (including the intercept)."
   ]
  },
  {
   "cell_type": "code",
   "execution_count": 28,
   "id": "rural-adjustment",
   "metadata": {},
   "outputs": [
    {
     "data": {
      "text/html": [
       "<dl class=dl-horizontal>\n",
       "\t<dt>Nevada</dt>\n",
       "\t\t<dd>28</dd>\n",
       "\t<dt>Rhode Island</dt>\n",
       "\t\t<dd>39</dd>\n",
       "</dl>\n"
      ],
      "text/latex": [
       "\\begin{description*}\n",
       "\\item[Nevada] 28\n",
       "\\item[Rhode Island] 39\n",
       "\\end{description*}\n"
      ],
      "text/markdown": [
       "Nevada\n",
       ":   28Rhode Island\n",
       ":   39\n",
       "\n"
      ],
      "text/plain": [
       "      Nevada Rhode Island \n",
       "          28           39 "
      ]
     },
     "metadata": {},
     "output_type": "display_data"
    },
    {
     "data": {
      "image/png": "[encoded data removed]",
      "text/plain": [
       "Plot with title \"Q-Q Plot\""
      ]
     },
     "metadata": {},
     "output_type": "display_data"
    }
   ],
   "source": [
    "library(car)\n",
    "states <- as.data.frame(state.x77[,c(\"Murder\", \"Population\",\"Illiteracy\", \"Income\", \"Frost\")])\n",
    "fit <- lm(Murder ~ Population + Illiteracy + Income + Frost, data=states)\n",
    "qqPlot(fit, labels=row.names(states), id.method=\"identify\",\n",
    "simulate=TRUE, main=\"Q-Q Plot\")"
   ]
  },
  {
   "cell_type": "markdown",
   "id": "satisfactory-broadway",
   "metadata": {},
   "source": [
    "## Independence of Errors\n",
    "The best way to assess whether the dependent variable values (and thus the residuals) are independent is from your knowledge of how the data were collected.\n",
    "For example, time series data often display autocorrelation—observations collected closer in time are more correlated with each other than with observations distant in time."
   ]
  },
  {
   "cell_type": "code",
   "execution_count": 29,
   "id": "equipped-wrist",
   "metadata": {},
   "outputs": [
    {
     "data": {
      "text/plain": [
       " lag Autocorrelation D-W Statistic p-value\n",
       "   1      -0.2006929      2.317691   0.246\n",
       " Alternative hypothesis: rho != 0"
      ]
     },
     "metadata": {},
     "output_type": "display_data"
    }
   ],
   "source": [
    "durbinWatsonTest(fit)"
   ]
  },
  {
   "cell_type": "markdown",
   "id": "completed-terry",
   "metadata": {},
   "source": [
    "The nonsignificant p-value suggests a lack of autocorrelation and, conversely, an independence of errors. The lag value (1 in this case) indicates that each observation is being compared with the one next to it in the dataset."
   ]
  },
  {
   "cell_type": "markdown",
   "id": "pregnant-degree",
   "metadata": {},
   "source": [
    "## Linearity\n",
    "You can look for evidence of nonlinearity in the relationship between the dependent variable and the independent variables by using component plus residual plots (also known as partial residual plots)."
   ]
  },
  {
   "cell_type": "code",
   "execution_count": 30,
   "id": "israeli-sustainability",
   "metadata": {},
   "outputs": [
    {
     "data": {
      "image/png": "[encoded data removed]",
      "text/plain": [
       "plot without title"
      ]
     },
     "metadata": {},
     "output_type": "display_data"
    }
   ],
   "source": [
    "crPlots(fit)"
   ]
  },
  {
   "cell_type": "markdown",
   "id": "hired-mother",
   "metadata": {},
   "source": [
    "## Homoscedasticity\n",
    "The car package also provides two useful functions for identifying non-constant error variance. The ncvTest() function produces a score test of the hypothesis of constant error variance against the alternative that the error variance changes with the level of the fitted values. A significant result suggests heteroscedasticity (nonconstant error variance)."
   ]
  },
  {
   "cell_type": "code",
   "execution_count": 31,
   "id": "connected-restoration",
   "metadata": {},
   "outputs": [
    {
     "data": {
      "text/plain": [
       "Non-constant Variance Score Test \n",
       "Variance formula: ~ fitted.values \n",
       "Chisquare = 1.746514, Df = 1, p = 0.18632"
      ]
     },
     "metadata": {},
     "output_type": "display_data"
    }
   ],
   "source": [
    "ncvTest(fit)"
   ]
  },
  {
   "cell_type": "code",
   "execution_count": 32,
   "id": "central-explosion",
   "metadata": {},
   "outputs": [
    {
     "data": {
      "text/plain": [
       "\n",
       "Suggested power transformation:  1.209626 "
      ]
     },
     "metadata": {},
     "output_type": "display_data"
    },
    {
     "data": {
      "image/png": "[encoded data removed]",
      "text/plain": [
       "Plot with title \"Spread-Level Plot for\n",
       " fit\""
      ]
     },
     "metadata": {},
     "output_type": "display_data"
    }
   ],
   "source": [
    "spreadLevelPlot(fit)"
   ]
  },
  {
   "cell_type": "markdown",
   "id": "accurate-lender",
   "metadata": {},
   "source": [
    "The score test is nonsignificant, suggesting that you’ve met the constant variance assumption. You can also see this in the spread-level plot. The\n",
    "points form a random horizontal band around a horizontal line of best fit. If you’d violated the assumption, you’d expect to see a nonhorizontal line."
   ]
  },
  {
   "cell_type": "markdown",
   "id": "rational-spirituality",
   "metadata": {},
   "source": [
    "## Global validation of linear model assumption"
   ]
  },
  {
   "cell_type": "code",
   "execution_count": 32,
   "id": "immune-search",
   "metadata": {},
   "outputs": [
    {
     "name": "stdout",
     "output_type": "stream",
     "text": [
      "package 'gvlma' successfully unpacked and MD5 sums checked\n",
      "\n",
      "The downloaded binary packages are in\n",
      "\tC:\\Users\\Nemo\\AppData\\Local\\Temp\\RtmpI9BHzm\\downloaded_packages\n"
     ]
    }
   ],
   "source": [
    "install.packages(\"gvlma\")"
   ]
  },
  {
   "cell_type": "code",
   "execution_count": 33,
   "id": "private-waters",
   "metadata": {},
   "outputs": [
    {
     "name": "stdout",
     "output_type": "stream",
     "text": [
      "\n",
      "Call:\n",
      "lm(formula = Murder ~ Population + Illiteracy + Income + Frost, \n",
      "    data = states)\n",
      "\n",
      "Residuals:\n",
      "    Min      1Q  Median      3Q     Max \n",
      "-4.7960 -1.6495 -0.0811  1.4815  7.6210 \n",
      "\n",
      "Coefficients:\n",
      "             Estimate Std. Error t value Pr(>|t|)    \n",
      "(Intercept) 1.235e+00  3.866e+00   0.319   0.7510    \n",
      "Population  2.237e-04  9.052e-05   2.471   0.0173 *  \n",
      "Illiteracy  4.143e+00  8.744e-01   4.738 2.19e-05 ***\n",
      "Income      6.442e-05  6.837e-04   0.094   0.9253    \n",
      "Frost       5.813e-04  1.005e-02   0.058   0.9541    \n",
      "---\n",
      "Signif. codes:  0 '***' 0.001 '**' 0.01 '*' 0.05 '.' 0.1 ' ' 1\n",
      "\n",
      "Residual standard error: 2.535 on 45 degrees of freedom\n",
      "Multiple R-squared:  0.567,\tAdjusted R-squared:  0.5285 \n",
      "F-statistic: 14.73 on 4 and 45 DF,  p-value: 9.133e-08\n",
      "\n",
      "\n",
      "ASSESSMENT OF THE LINEAR MODEL ASSUMPTIONS\n",
      "USING THE GLOBAL TEST ON 4 DEGREES-OF-FREEDOM:\n",
      "Level of Significance =  0.05 \n",
      "\n",
      "Call:\n",
      " gvlma(x = fit) \n",
      "\n",
      "                    Value p-value                Decision\n",
      "Global Stat        2.7728  0.5965 Assumptions acceptable.\n",
      "Skewness           1.5374  0.2150 Assumptions acceptable.\n",
      "Kurtosis           0.6376  0.4246 Assumptions acceptable.\n",
      "Link Function      0.1154  0.7341 Assumptions acceptable.\n",
      "Heteroscedasticity 0.4824  0.4873 Assumptions acceptable.\n"
     ]
    }
   ],
   "source": [
    "library(gvlma)\n",
    "gvmodel <- gvlma(fit)\n",
    "summary(gvmodel)"
   ]
  },
  {
   "cell_type": "markdown",
   "id": "substantial-instruction",
   "metadata": {},
   "source": [
    "# Unusual Observations\n",
    "## Outliers"
   ]
  },
  {
   "cell_type": "code",
   "execution_count": 34,
   "id": "banner-princeton",
   "metadata": {},
   "outputs": [
    {
     "data": {
      "text/plain": [
       "       rstudent unadjusted p-value Bonferroni p\n",
       "Nevada 3.542929         0.00095088     0.047544"
      ]
     },
     "metadata": {},
     "output_type": "display_data"
    }
   ],
   "source": [
    "outlierTest(fit)"
   ]
  },
  {
   "cell_type": "markdown",
   "id": "third-precipitation",
   "metadata": {},
   "source": [
    "## High-leverage points\n",
    "Observations that have high leverage are outliers with regard to the other predictors. In other words, they have an unusual combination of predictor values. The response value isn’t involved in determining leverage. Observations with high leverage are identified through the hat statistic. For a given dataset, the average hat value is $p/n$, where $p$ is the number of parameters estimated in the model (including the intercept) and $n$ is the sample size. Roughly speaking, an observation with a hat value greater than 2 or 3 times the average hat value should be examined."
   ]
  },
  {
   "cell_type": "code",
   "execution_count": 35,
   "id": "molecular-institute",
   "metadata": {},
   "outputs": [
    {
     "data": {
      "image/png": "[encoded data removed]",
      "text/plain": [
       "Plot with title \"Index Plot of Hat Values\""
      ]
     },
     "metadata": {},
     "output_type": "display_data"
    }
   ],
   "source": [
    "hat.plot <- function(fit) {\n",
    "                p <- length(coefficients(fit))\n",
    "                n <- length(fitted(fit))\n",
    "                plot(hatvalues(fit), main=\"Index Plot of Hat Values\")\n",
    "                abline(h=c(2,3)*p/n, col=\"red\", lty=2)\n",
    "                text(1:n, hatvalues(fit), names(hatvalues(fit)), pos=1, cex=0.8)\n",
    "                }\n",
    "hat.plot(fit)"
   ]
  },
  {
   "cell_type": "markdown",
   "id": "chronic-stress",
   "metadata": {},
   "source": [
    "# Influential observations\n",
    "Influential observations have a disproportionate impact on the values of the model parameters. Imagine finding that your model changes dramatically with the removal\n",
    "of a single observation. It’s this concern that leads you to examine your data for influential points.\n",
    "\n",
    "There are two methods for identifying influential observations: Cook’s distance (or D statistic) and added variable plots. Roughly speaking, Cook’s D values greater than $4/(n – k – 1)$, where n is the sample size and k is the number of predictor variables, indicate influential observations."
   ]
  },
  {
   "cell_type": "code",
   "execution_count": 36,
   "id": "three-reform",
   "metadata": {},
   "outputs": [
    {
     "data": {
      "image/png": "[encoded data removed]",
      "text/plain": [
       "Plot with title \"\""
      ]
     },
     "metadata": {},
     "output_type": "display_data"
    }
   ],
   "source": [
    "cutoff <- 4/(nrow(states)-length(fit$coefficients)-2)\n",
    "plot(fit, which=4, cook.levels=cutoff)\n",
    "abline(h=cutoff, lty=2, col=\"red\")"
   ]
  },
  {
   "cell_type": "code",
   "execution_count": 37,
   "id": "italic-buying",
   "metadata": {},
   "outputs": [
    {
     "data": {
      "text/html": [
       "<table>\n",
       "<thead><tr><th></th><th scope=col>StudRes</th><th scope=col>Hat</th><th scope=col>CookD</th></tr></thead>\n",
       "<tbody>\n",
       "\t<tr><th scope=row>Alaska</th><td> 1.7536917 </td><td>0.43247319 </td><td>0.448050997</td></tr>\n",
       "\t<tr><th scope=row>California</th><td>-0.2761492 </td><td>0.34087628 </td><td>0.008052956</td></tr>\n",
       "\t<tr><th scope=row>Nevada</th><td> 3.5429286 </td><td>0.09508977 </td><td>0.209915743</td></tr>\n",
       "\t<tr><th scope=row>Rhode Island</th><td>-2.0001631 </td><td>0.04562377 </td><td>0.035858963</td></tr>\n",
       "</tbody>\n",
       "</table>\n"
      ],
      "text/latex": [
       "\\begin{tabular}{r|lll}\n",
       "  & StudRes & Hat & CookD\\\\\n",
       "\\hline\n",
       "\tAlaska &  1.7536917  & 0.43247319  & 0.448050997\\\\\n",
       "\tCalifornia & -0.2761492  & 0.34087628  & 0.008052956\\\\\n",
       "\tNevada &  3.5429286  & 0.09508977  & 0.209915743\\\\\n",
       "\tRhode Island & -2.0001631  & 0.04562377  & 0.035858963\\\\\n",
       "\\end{tabular}\n"
      ],
      "text/markdown": [
       "\n",
       "| <!--/--> | StudRes | Hat | CookD |\n",
       "|---|---|---|---|\n",
       "| Alaska |  1.7536917  | 0.43247319  | 0.448050997 |\n",
       "| California | -0.2761492  | 0.34087628  | 0.008052956 |\n",
       "| Nevada |  3.5429286  | 0.09508977  | 0.209915743 |\n",
       "| Rhode Island | -2.0001631  | 0.04562377  | 0.035858963 |\n",
       "\n"
      ],
      "text/plain": [
       "             StudRes    Hat        CookD      \n",
       "Alaska        1.7536917 0.43247319 0.448050997\n",
       "California   -0.2761492 0.34087628 0.008052956\n",
       "Nevada        3.5429286 0.09508977 0.209915743\n",
       "Rhode Island -2.0001631 0.04562377 0.035858963"
      ]
     },
     "metadata": {},
     "output_type": "display_data"
    },
    {
     "data": {
      "image/png": "[encoded data removed]",
      "text/plain": [
       "Plot with title \"Influence Plot\""
      ]
     },
     "metadata": {},
     "output_type": "display_data"
    }
   ],
   "source": [
    "influencePlot(fit,  main=\"Influence Plot\", sub=\"Circle size is proportional to Cook's distance\")"
   ]
  },
  {
   "cell_type": "markdown",
   "id": "global-cardiff",
   "metadata": {},
   "source": [
    "# Corrective Measures\n",
    "* Deleting observations\n",
    "* Transforming variables\n",
    "* Adding or deleting variables\n",
    "* Using another regression approach"
   ]
  },
  {
   "cell_type": "markdown",
   "id": "heard-mercy",
   "metadata": {},
   "source": [
    "# Relative importance\n",
    "\n",
    "Which variables are most important in predicting the outcome?\n",
    "\n",
    "Relative importance can be thought of as the contribution each predictor makes to R-square, both alone and in combination with other predictors.\n",
    "\n",
    "A new method called relative weights shows significant promise. The method closely approximates the average increase in R-square obtained by adding a predictor variable across all possible submodels (Johnson, 2004; Johnson and Lebreton, 2004; LeBreton and Tonidandel, 2008)."
   ]
  },
  {
   "cell_type": "code",
   "execution_count": 38,
   "id": "metric-interface",
   "metadata": {},
   "outputs": [],
   "source": [
    "relweights <- function(fit,...){\n",
    "    R <- cor(fit$model)\n",
    "    nvar <- ncol(R)\n",
    "    rxx <- R[2:nvar, 2:nvar]\n",
    "    rxy <- R[2:nvar, 1]\n",
    "    svd <- eigen(rxx)\n",
    "    evec <- svd$vectors\n",
    "    ev <- svd$values\n",
    "    delta <- diag(sqrt(ev))\n",
    "    lambda <- evec %*% delta %*% t(evec)\n",
    "    lambdasq <- lambda ^ 2\n",
    "    beta <- solve(lambda) %*% rxy\n",
    "    rsquare <- colSums(beta ^ 2)\n",
    "    rawwgt <- lambdasq %*% beta ^ 2\n",
    "    import <- (rawwgt / rsquare) * 100\n",
    "    import <- as.data.frame(import)\n",
    "    row.names(import) <- names(fit$model[2:nvar])\n",
    "    names(import) <- \"Weights\"\n",
    "    import <- import[order(import),1, drop=FALSE]\n",
    "    dotchart(import$Weights, labels=row.names(import),\n",
    "        xlab=\"% of R-Square\", pch=19,\n",
    "        main=\"Relative Importance of Predictor Variables\",\n",
    "        sub=paste(\"Total R-Square=\", round(rsquare, digits=3)),\n",
    "        ...)\n",
    "return(import)\n",
    "}"
   ]
  },
  {
   "cell_type": "code",
   "execution_count": 39,
   "id": "choice-cliff",
   "metadata": {},
   "outputs": [
    {
     "data": {
      "text/html": [
       "<table>\n",
       "<thead><tr><th></th><th scope=col>Weights</th></tr></thead>\n",
       "<tbody>\n",
       "\t<tr><th scope=row>Income</th><td> 5.488962</td></tr>\n",
       "\t<tr><th scope=row>Population</th><td>14.723401</td></tr>\n",
       "\t<tr><th scope=row>Frost</th><td>20.787442</td></tr>\n",
       "\t<tr><th scope=row>Illiteracy</th><td>59.000195</td></tr>\n",
       "</tbody>\n",
       "</table>\n"
      ],
      "text/latex": [
       "\\begin{tabular}{r|l}\n",
       "  & Weights\\\\\n",
       "\\hline\n",
       "\tIncome &  5.488962\\\\\n",
       "\tPopulation & 14.723401\\\\\n",
       "\tFrost & 20.787442\\\\\n",
       "\tIlliteracy & 59.000195\\\\\n",
       "\\end{tabular}\n"
      ],
      "text/markdown": [
       "\n",
       "| <!--/--> | Weights |\n",
       "|---|---|\n",
       "| Income |  5.488962 |\n",
       "| Population | 14.723401 |\n",
       "| Frost | 20.787442 |\n",
       "| Illiteracy | 59.000195 |\n",
       "\n"
      ],
      "text/plain": [
       "           Weights  \n",
       "Income      5.488962\n",
       "Population 14.723401\n",
       "Frost      20.787442\n",
       "Illiteracy 59.000195"
      ]
     },
     "metadata": {},
     "output_type": "display_data"
    },
    {
     "data": {
      "image/png": "[encoded data removed]",
      "text/plain": [
       "Plot with title \"Relative Importance of Predictor Variables\""
      ]
     },
     "metadata": {},
     "output_type": "display_data"
    }
   ],
   "source": [
    "states <- as.data.frame(state.x77[,c(\"Murder\", \"Population\", \"Illiteracy\", \"Income\", \"Frost\")])\n",
    "fit <- lm(Murder ~ Population + Illiteracy + Income + Frost, data=states)\n",
    "relweights(fit, col=\"blue\")"
   ]
  },
  {
   "cell_type": "code",
   "execution_count": null,
   "id": "understood-multimedia",
   "metadata": {},
   "outputs": [],
   "source": []
  }
 ],
 "metadata": {
  "kernelspec": {
   "display_name": "R",
   "language": "R",
   "name": "ir"
  },
  "language_info": {
   "codemirror_mode": "r",
   "file_extension": ".r",
   "mimetype": "text/x-r-source",
   "name": "R",
   "pygments_lexer": "r",
   "version": "4.0.3"
  }
 },
 "nbformat": 4,
 "nbformat_minor": 5
}
